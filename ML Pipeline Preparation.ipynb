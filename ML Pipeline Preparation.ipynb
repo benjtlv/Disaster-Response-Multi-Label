{
 "cells": [
  {
   "cell_type": "markdown",
   "metadata": {},
   "source": [
    "# ML Pipeline Preparation\n",
    "Follow the instructions below to help you create your ML pipeline.\n",
    "### 1. Import libraries and load data from database.\n",
    "- Import Python libraries\n",
    "- Load dataset from database with [`read_sql_table`](https://pandas.pydata.org/pandas-docs/stable/generated/pandas.read_sql_table.html)\n",
    "- Define feature and target variables X and Y"
   ]
  },
  {
   "cell_type": "code",
   "execution_count": 27,
   "metadata": {},
   "outputs": [
    {
     "name": "stdout",
     "output_type": "stream",
     "text": [
      "Requirement already satisfied: pip in /opt/conda/lib/python3.8/site-packages (23.0)\n",
      "Collecting pip\n",
      "  Downloading pip-23.0.1-py3-none-any.whl (2.1 MB)\n",
      "\u001b[2K     \u001b[90m━━━━━━━━━━━━━━━━━━━━━━━━━━━━━━━━━━━━━━━━\u001b[0m \u001b[32m2.1/2.1 MB\u001b[0m \u001b[31m20.0 MB/s\u001b[0m eta \u001b[36m0:00:00\u001b[0m:00:01\u001b[0m\n",
      "\u001b[?25hInstalling collected packages: pip\n",
      "  Attempting uninstall: pip\n",
      "    Found existing installation: pip 23.0\n",
      "    Uninstalling pip-23.0:\n",
      "      Successfully uninstalled pip-23.0\n",
      "Successfully installed pip-23.0.1\n",
      "\u001b[33mWARNING: Running pip as the 'root' user can result in broken permissions and conflicting behaviour with the system package manager. It is recommended to use a virtual environment instead: https://pip.pypa.io/warnings/venv\u001b[0m\u001b[33m\n",
      "\u001b[0m"
     ]
    }
   ],
   "source": [
    "!pip install --upgrade pip"
   ]
  },
  {
   "cell_type": "code",
   "execution_count": 28,
   "metadata": {},
   "outputs": [
    {
     "name": "stdout",
     "output_type": "stream",
     "text": [
      "Requirement already satisfied: scikit-learn==1.2.1 in /opt/conda/lib/python3.8/site-packages (1.2.1)\n",
      "Requirement already satisfied: scipy>=1.3.2 in /opt/conda/lib/python3.8/site-packages (from scikit-learn==1.2.1) (1.7.1)\n",
      "Requirement already satisfied: joblib>=1.1.1 in /opt/conda/lib/python3.8/site-packages (from scikit-learn==1.2.1) (1.2.0)\n",
      "Requirement already satisfied: threadpoolctl>=2.0.0 in /opt/conda/lib/python3.8/site-packages (from scikit-learn==1.2.1) (2.2.0)\n",
      "Requirement already satisfied: numpy>=1.17.3 in /opt/conda/lib/python3.8/site-packages (from scikit-learn==1.2.1) (1.22.4)\n",
      "\u001b[33mWARNING: Running pip as the 'root' user can result in broken permissions and conflicting behaviour with the system package manager. It is recommended to use a virtual environment instead: https://pip.pypa.io/warnings/venv\u001b[0m\u001b[33m\n",
      "\u001b[0m"
     ]
    }
   ],
   "source": [
    "!pip install scikit-learn==1.2.1"
   ]
  },
  {
   "cell_type": "code",
   "execution_count": 29,
   "metadata": {},
   "outputs": [
    {
     "name": "stdout",
     "output_type": "stream",
     "text": [
      "\u001b[33mWARNING: Running pip as the 'root' user can result in broken permissions and conflicting behaviour with the system package manager. It is recommended to use a virtual environment instead: https://pip.pypa.io/warnings/venv\u001b[0m\u001b[33m\n",
      "\u001b[0m\u001b[33mWARNING: Running pip as the 'root' user can result in broken permissions and conflicting behaviour with the system package manager. It is recommended to use a virtual environment instead: https://pip.pypa.io/warnings/venv\u001b[0m\u001b[33m\n",
      "\u001b[0m\u001b[33mWARNING: Running pip as the 'root' user can result in broken permissions and conflicting behaviour with the system package manager. It is recommended to use a virtual environment instead: https://pip.pypa.io/warnings/venv\u001b[0m\u001b[33m\n",
      "\u001b[0m\u001b[33mWARNING: Running pip as the 'root' user can result in broken permissions and conflicting behaviour with the system package manager. It is recommended to use a virtual environment instead: https://pip.pypa.io/warnings/venv\u001b[0m\u001b[33m\n",
      "\u001b[0m\u001b[33mWARNING: Running pip as the 'root' user can result in broken permissions and conflicting behaviour with the system package manager. It is recommended to use a virtual environment instead: https://pip.pypa.io/warnings/venv\u001b[0m\u001b[33m\n",
      "\u001b[0m\u001b[33mWARNING: Running pip as the 'root' user can result in broken permissions and conflicting behaviour with the system package manager. It is recommended to use a virtual environment instead: https://pip.pypa.io/warnings/venv\u001b[0m\u001b[33m\n",
      "\u001b[0m\u001b[33mWARNING: Running pip as the 'root' user can result in broken permissions and conflicting behaviour with the system package manager. It is recommended to use a virtual environment instead: https://pip.pypa.io/warnings/venv\u001b[0m\u001b[33m\n",
      "\u001b[0m\u001b[33mWARNING: Running pip as the 'root' user can result in broken permissions and conflicting behaviour with the system package manager. It is recommended to use a virtual environment instead: https://pip.pypa.io/warnings/venv\u001b[0m\u001b[33m\n",
      "\u001b[0m\u001b[33mWARNING: Running pip as the 'root' user can result in broken permissions and conflicting behaviour with the system package manager. It is recommended to use a virtual environment instead: https://pip.pypa.io/warnings/venv\u001b[0m\u001b[33m\n",
      "\u001b[0m\u001b[33mWARNING: Running pip as the 'root' user can result in broken permissions and conflicting behaviour with the system package manager. It is recommended to use a virtual environment instead: https://pip.pypa.io/warnings/venv\u001b[0m\u001b[33m\n",
      "\u001b[0m\u001b[33mWARNING: Running pip as the 'root' user can result in broken permissions and conflicting behaviour with the system package manager. It is recommended to use a virtual environment instead: https://pip.pypa.io/warnings/venv\u001b[0m\u001b[33m\n",
      "\u001b[0m\u001b[33mWARNING: Running pip as the 'root' user can result in broken permissions and conflicting behaviour with the system package manager. It is recommended to use a virtual environment instead: https://pip.pypa.io/warnings/venv\u001b[0m\u001b[33m\n",
      "\u001b[0m\u001b[33mWARNING: Running pip as the 'root' user can result in broken permissions and conflicting behaviour with the system package manager. It is recommended to use a virtual environment instead: https://pip.pypa.io/warnings/venv\u001b[0m\u001b[33m\n",
      "\u001b[0m"
     ]
    }
   ],
   "source": [
    "!pip install p_tqdm --quiet\n",
    "!pip install transformers --quiet\n",
    "!pip install comet_ml --quiet\n",
    "!pip install gensim --quiet\n",
    "!pip install scikit-multilearn --quiet\n",
    "!pip install liac-arff --quiet\n",
    "!pip install keras --quiet\n",
    "!pip install tensorflow --quiet\n",
    "!pip install scikit-learn --upgrade --quiet\n",
    "!pip install nlpaug --quiet\n",
    "!pip install contractions --quiet\n",
    "!pip install pytorch-pretrained-bert --quiet\n",
    "!pip install nltk --quiet\n",
    "!pip install matplotlib --quiet\n",
    "!pip install seaborn --quiet\n",
    "!pip install sqlalchemy --quiet"
   ]
  },
  {
   "cell_type": "code",
   "execution_count": 32,
   "metadata": {},
   "outputs": [
    {
     "name": "stdout",
     "output_type": "stream",
     "text": [
      "1.2.1\n"
     ]
    }
   ],
   "source": [
    "import sklearn\n",
    "print(sklearn.__version__)"
   ]
  },
  {
   "cell_type": "code",
   "execution_count": 4,
   "metadata": {},
   "outputs": [
    {
     "name": "stdout",
     "output_type": "stream",
     "text": [
      "1.2.1\n"
     ]
    },
    {
     "name": "stderr",
     "output_type": "stream",
     "text": [
      "[nltk_data] Downloading package punkt to /root/nltk_data...\n",
      "[nltk_data]   Package punkt is already up-to-date!\n",
      "[nltk_data] Downloading package stopwords to /root/nltk_data...\n",
      "[nltk_data]   Package stopwords is already up-to-date!\n",
      "[nltk_data] Downloading package averaged_perceptron_tagger to\n",
      "[nltk_data]     /root/nltk_data...\n",
      "[nltk_data]   Package averaged_perceptron_tagger is already up-to-\n",
      "[nltk_data]       date!\n",
      "[nltk_data] Downloading package wordnet to /root/nltk_data...\n",
      "[nltk_data]   Package wordnet is already up-to-date!\n",
      "[nltk_data] Downloading package universal_tagset to /root/nltk_data...\n",
      "[nltk_data]   Package universal_tagset is already up-to-date!\n"
     ]
    }
   ],
   "source": [
    "# import libraries\n",
    "import os\n",
    "import ast\n",
    "import numpy as np\n",
    "import pandas as pd\n",
    "import nltk\n",
    "import string\n",
    "import contractions\n",
    "import itertools\n",
    "import random\n",
    "import sklearn\n",
    "import gensim\n",
    "print(sklearn.__version__)\n",
    "import matplotlib.pyplot as plt\n",
    "import seaborn as sb\n",
    "import multiprocessing as mp\n",
    "%matplotlib inline\n",
    "\n",
    "from tqdm import tqdm\n",
    "from collections import Counter\n",
    "from nltk.tokenize import word_tokenize, sent_tokenize\n",
    "from nltk.corpus import stopwords, wordnet\n",
    "from nltk.stem import WordNetLemmatizer\n",
    "from nltk.probability import FreqDist\n",
    "from sklearn.feature_extraction.text import CountVectorizer\n",
    "from sklearn.feature_extraction import DictVectorizer\n",
    "from sklearn.decomposition import LatentDirichletAllocation\n",
    "from nltk.util import ngrams\n",
    "\n",
    "\n",
    "nltk.download('punkt')\n",
    "nltk.download('stopwords')\n",
    "nltk.download('averaged_perceptron_tagger')\n",
    "nltk.download('wordnet')\n",
    "nltk.download('universal_tagset')\n",
    "\n",
    "\n",
    "from comet_ml import Experiment\n",
    "from sqlalchemy import create_engine\n",
    "from sklearn.model_selection import train_test_split\n",
    "from sklearn.pipeline import Pipeline, FeatureUnion\n",
    "from sklearn.feature_extraction.text import CountVectorizer, TfidfTransformer, TfidfVectorizer\n",
    "from sklearn.metrics import hamming_loss, accuracy_score, f1_score, classification_report, jaccard_score\n",
    "from sklearn.multioutput import ClassifierChain, MultiOutputClassifier\n",
    "from skmultilearn.adapt import MLkNN\n",
    "# from skmultilearn.ext import download_meka, Meka\n",
    "from sklearn.neighbors import NearestNeighbors\n",
    "from skmultilearn.problem_transform import BinaryRelevance, ClassifierChain\n",
    "from scipy.sparse import csr_matrix, lil_matrix\n",
    "from sklearn.multiclass import OneVsRestClassifier\n",
    "from sklearn.linear_model import LogisticRegression, RidgeClassifier\n",
    "from sklearn.svm import LinearSVC, SVC\n",
    "from sklearn.ensemble import RandomForestClassifier\n",
    "from nltk.tokenize import word_tokenize\n",
    "from sklearn.base import BaseEstimator, TransformerMixin"
   ]
  },
  {
   "cell_type": "code",
   "execution_count": 6,
   "metadata": {},
   "outputs": [],
   "source": [
    "COMET_API_KEY = \"TkfogaXqILmxF0ShTe3LkgJFN\"\n",
    "COMET_PROJECT_NAME = \"disaster_response_pipeline\"\n",
    "COMET_WORKSPACE = \"benjtlv\"\n",
    "COMET_ARTIFACT = \"disaster-response-data\""
   ]
  },
  {
   "cell_type": "code",
   "execution_count": 35,
   "metadata": {},
   "outputs": [],
   "source": [
    "# load data from database\n",
    "# engine = create_engine('sqlite:///DisasterResponse.db')\n",
    "# df = pd.read_sql('SELECT * FROM DisasterResponse', con=engine)\n",
    "# X = \n",
    "# Y = "
   ]
  },
  {
   "cell_type": "markdown",
   "metadata": {},
   "source": [
    "I prefer working with a Comet Artifact. If tomorrow we want to switch to a data lake, or a data warehouse, the mechanism will be the same."
   ]
  },
  {
   "cell_type": "code",
   "execution_count": 36,
   "metadata": {},
   "outputs": [],
   "source": [
    "def create_experiment():\n",
    "    return Experiment(api_key=COMET_API_KEY, project_name=COMET_PROJECT_NAME, workspace=COMET_WORKSPACE)"
   ]
  },
  {
   "cell_type": "code",
   "execution_count": 19,
   "metadata": {},
   "outputs": [
    {
     "name": "stderr",
     "output_type": "stream",
     "text": [
      "COMET WARNING: Comet has disabled auto-logging functionality as it has been imported after the following ML modules: sklearn. Metrics and hyperparameters can still be logged using Experiment.log_metrics() and Experiment.log_parameters()\n",
      "COMET WARNING: As you are running in a Jupyter environment, you will need to call `experiment.end()` when finished to ensure all metrics and code are logged before exiting.\n",
      "COMET INFO: Experiment is live on comet.com https://www.comet.com/benjtlv/disaster-response-pipeline/e8886536fdc742cf877692111bbef615\n",
      "\n"
     ]
    }
   ],
   "source": [
    "experiment = create_experiment()"
   ]
  },
  {
   "cell_type": "code",
   "execution_count": 20,
   "metadata": {},
   "outputs": [
    {
     "name": "stderr",
     "output_type": "stream",
     "text": [
      "COMET WARNING: Comet has disabled auto-logging functionality as it has been imported after the following ML modules: sklearn. Metrics and hyperparameters can still be logged using Experiment.log_metrics() and Experiment.log_parameters()\n",
      "COMET INFO: ---------------------------\n",
      "COMET INFO: Comet.ml Experiment Summary\n",
      "COMET INFO: ---------------------------\n",
      "COMET INFO:   Data:\n",
      "COMET INFO:     display_summary_level : 1\n",
      "COMET INFO:     url                   : https://www.comet.com/benjtlv/disaster-response-pipeline/e8886536fdc742cf877692111bbef615\n",
      "COMET INFO:   Uploads:\n",
      "COMET INFO:     environment details : 1\n",
      "COMET INFO:     filename            : 1\n",
      "COMET INFO:     installed packages  : 1\n",
      "COMET INFO:     notebook            : 1\n",
      "COMET INFO:     os packages         : 1\n",
      "COMET INFO:     source_code         : 1\n",
      "COMET INFO: Couldn't find a Git repository in '/root/Benjamin/DisasterResponse' nor in any parent directory. You can override where Comet is looking for a Git Patch by setting the configuration `COMET_GIT_DIRECTORY`\n",
      "COMET INFO: ---------------------------\n",
      "COMET WARNING: Comet has disabled auto-logging functionality as it has been imported after the following ML modules: sklearn. Metrics and hyperparameters can still be logged using Experiment.log_metrics() and Experiment.log_parameters()\n",
      "COMET WARNING: As you are running in a Jupyter environment, you will need to call `experiment.end()` when finished to ensure all metrics and code are logged before exiting.\n",
      "COMET INFO: Couldn't find a Git repository in '/root/Benjamin/DisasterResponse' nor in any parent directory. You can override where Comet is looking for a Git Patch by setting the configuration `COMET_GIT_DIRECTORY`\n",
      "COMET INFO: Experiment is live on comet.com https://www.comet.com/benjtlv/disaster-response-pipeline/fa79b12a89a04b61a817cba09222b877\n",
      "\n",
      "COMET INFO: Artifact 'benjtlv/disaster-response-data:5.0.0' download has been started asynchronously\n",
      "COMET INFO: Still downloading 1 file(s), remaining 18.92 MB/18.92 MB\n",
      "COMET INFO: Artifact 'benjtlv/disaster-response-data:5.0.0' has been successfully downloaded\n"
     ]
    },
    {
     "data": {
      "text/plain": [
       "Artifact(name='disaster-response-data', artifact_type='dataset', version=None, aliases=set(), version_tags=set())"
      ]
     },
     "execution_count": 20,
     "metadata": {},
     "output_type": "execute_result"
    }
   ],
   "source": [
    "experiment = create_experiment()\n",
    "experiment.add_tags(['training', 'bigram'])\n",
    "artifact = experiment.get_artifact(COMET_ARTIFACT, version_or_alias='5.0.0', workspace=COMET_WORKSPACE)\n",
    "artifact.download('./artifacts', overwrite_strategy='PRESERVE')"
   ]
  },
  {
   "cell_type": "markdown",
   "metadata": {},
   "source": [
    "To avoid Data Leakage, we will take our data of when before we started our EDA. We will remove bad words from our training data set so the model can learn what to give importance too, without being biased by high frequency unrelated words. We want to leave the test set untouched to see how the model behaves with unseen data."
   ]
  },
  {
   "cell_type": "code",
   "execution_count": 7,
   "metadata": {},
   "outputs": [
    {
     "name": "stderr",
     "output_type": "stream",
     "text": [
      "/opt/conda/lib/python3.8/site-packages/IPython/core/interactiveshell.py:3433: DtypeWarning: Columns (2) have mixed types.Specify dtype option on import or set low_memory=False.\n",
      "  exec(code_obj, self.user_global_ns, self.user_ns)\n"
     ]
    }
   ],
   "source": [
    "# df = pd.read_csv('./artifacts/disaster_preprocessed.csv')\n",
    "# df['message'] = df['message'].apply(ast.literal_eval)\n",
    "df = pd.read_csv('disaster_transformed.csv')"
   ]
  },
  {
   "cell_type": "code",
   "execution_count": 8,
   "metadata": {},
   "outputs": [],
   "source": [
    "df = df.drop(df[df['related'] == 2].index)\n",
    "df = df.drop('child_alone', axis=1)"
   ]
  },
  {
   "cell_type": "code",
   "execution_count": 9,
   "metadata": {},
   "outputs": [],
   "source": [
    "df_train, df_test = train_test_split(df, test_size=0.2)"
   ]
  },
  {
   "cell_type": "code",
   "execution_count": 10,
   "metadata": {},
   "outputs": [
    {
     "name": "stdout",
     "output_type": "stream",
     "text": [
      "20945\n",
      "5237\n"
     ]
    }
   ],
   "source": [
    "print(df_train.shape[0])\n",
    "print(df_test.shape[0])"
   ]
  },
  {
   "cell_type": "markdown",
   "metadata": {},
   "source": [
    "### 2. Build Models\n",
    "\n",
    "There are different algorithms that can be used in order for our ml model to handle multiple labels:\n",
    "1. Binary Relevance\n",
    "2. Label Powerset\n",
    "3. MLkNN\n",
    "4. Classifier Chain\n",
    "5. Multioutput Classifier\n",
    "\n",
    "We will not try label powerset as it only learns to predict a N-sized vector of 0 & 1s representing the assignment ot a label inside the N possible labels. It will not predict a vector that is different from those seens in the training dataset."
   ]
  },
  {
   "cell_type": "markdown",
   "metadata": {},
   "source": [
    "### 3. Build a machine learning pipeline\n",
    "This machine pipeline should take in the `message` column as input and output classification results on the other 36 categories in the dataset. You may find the [MultiOutputClassifier](http://scikit-learn.org/stable/modules/generated/sklearn.multioutput.MultiOutputClassifier.html) helpful for predicting multiple target variables."
   ]
  },
  {
   "cell_type": "markdown",
   "metadata": {},
   "source": [
    "We will try multiple ML algorithms, with multiple algorithms for multi-label classification, with multiple ways of processing our text. We will see which models generalize well."
   ]
  },
  {
   "cell_type": "code",
   "execution_count": 11,
   "metadata": {},
   "outputs": [],
   "source": [
    "category_colnames = ['related', 'request', 'offer', 'aid_related', 'medical_help', 'medical_products', \n",
    "                     'search_and_rescue', 'security', 'military', 'water', 'food', 'shelter', \n",
    "                     'clothing', 'money', 'missing_people', 'refugees', 'death', 'other_aid', 'infrastructure_related', \n",
    "                     'transport', 'buildings', 'electricity', 'tools', 'hospitals', 'shops', 'aid_centers', \n",
    "                     'other_infrastructure', 'weather_related', 'floods', 'storm', 'fire', 'earthquake', 'cold', \n",
    "                     'other_weather', 'direct_report']"
   ]
  },
  {
   "cell_type": "code",
   "execution_count": 12,
   "metadata": {},
   "outputs": [],
   "source": [
    "# df_train['message'] = df_train['message'].apply(lambda x: ' '.join([word for word in x]))\n",
    "# df_test['message'] = df_test['message'].apply(lambda x: ' '.join([word for word in x]))"
   ]
  },
  {
   "cell_type": "code",
   "execution_count": 13,
   "metadata": {},
   "outputs": [],
   "source": [
    "y_train = df_train.loc[:, category_colnames]\n",
    "y_test = df_test.loc[:, category_colnames]"
   ]
  },
  {
   "cell_type": "code",
   "execution_count": 14,
   "metadata": {},
   "outputs": [
    {
     "data": {
      "text/html": [
       "<div>\n",
       "<style scoped>\n",
       "    .dataframe tbody tr th:only-of-type {\n",
       "        vertical-align: middle;\n",
       "    }\n",
       "\n",
       "    .dataframe tbody tr th {\n",
       "        vertical-align: top;\n",
       "    }\n",
       "\n",
       "    .dataframe thead th {\n",
       "        text-align: right;\n",
       "    }\n",
       "</style>\n",
       "<table border=\"1\" class=\"dataframe\">\n",
       "  <thead>\n",
       "    <tr style=\"text-align: right;\">\n",
       "      <th></th>\n",
       "      <th>id</th>\n",
       "      <th>message</th>\n",
       "      <th>original</th>\n",
       "      <th>genre</th>\n",
       "      <th>related</th>\n",
       "      <th>request</th>\n",
       "      <th>offer</th>\n",
       "      <th>aid_related</th>\n",
       "      <th>medical_help</th>\n",
       "      <th>medical_products</th>\n",
       "      <th>...</th>\n",
       "      <th>aid_centers</th>\n",
       "      <th>other_infrastructure</th>\n",
       "      <th>weather_related</th>\n",
       "      <th>floods</th>\n",
       "      <th>storm</th>\n",
       "      <th>fire</th>\n",
       "      <th>earthquake</th>\n",
       "      <th>cold</th>\n",
       "      <th>other_weather</th>\n",
       "      <th>direct_report</th>\n",
       "    </tr>\n",
       "  </thead>\n",
       "  <tbody>\n",
       "    <tr>\n",
       "      <th>17668</th>\n",
       "      <td>20578</td>\n",
       "      <td>Previous experience has shown that the benefic...</td>\n",
       "      <td>NaN</td>\n",
       "      <td>news</td>\n",
       "      <td>0</td>\n",
       "      <td>0</td>\n",
       "      <td>0</td>\n",
       "      <td>0</td>\n",
       "      <td>0</td>\n",
       "      <td>0</td>\n",
       "      <td>...</td>\n",
       "      <td>0</td>\n",
       "      <td>0</td>\n",
       "      <td>0</td>\n",
       "      <td>0</td>\n",
       "      <td>0</td>\n",
       "      <td>0</td>\n",
       "      <td>0</td>\n",
       "      <td>0</td>\n",
       "      <td>0</td>\n",
       "      <td>0</td>\n",
       "    </tr>\n",
       "    <tr>\n",
       "      <th>9461</th>\n",
       "      <td>10565</td>\n",
       "      <td>i would like to know in what number can i get ...</td>\n",
       "      <td>mwen ta renmen kon nen ki nimewo ke mwen ka an...</td>\n",
       "      <td>direct</td>\n",
       "      <td>0</td>\n",
       "      <td>0</td>\n",
       "      <td>0</td>\n",
       "      <td>0</td>\n",
       "      <td>0</td>\n",
       "      <td>0</td>\n",
       "      <td>...</td>\n",
       "      <td>0</td>\n",
       "      <td>0</td>\n",
       "      <td>0</td>\n",
       "      <td>0</td>\n",
       "      <td>0</td>\n",
       "      <td>0</td>\n",
       "      <td>0</td>\n",
       "      <td>0</td>\n",
       "      <td>0</td>\n",
       "      <td>0</td>\n",
       "    </tr>\n",
       "    <tr>\n",
       "      <th>11737</th>\n",
       "      <td>13448</td>\n",
       "      <td>RT otay: CNN Breaking News -- Tsunami warning ...</td>\n",
       "      <td>NaN</td>\n",
       "      <td>social</td>\n",
       "      <td>1</td>\n",
       "      <td>0</td>\n",
       "      <td>0</td>\n",
       "      <td>0</td>\n",
       "      <td>0</td>\n",
       "      <td>0</td>\n",
       "      <td>...</td>\n",
       "      <td>0</td>\n",
       "      <td>0</td>\n",
       "      <td>1</td>\n",
       "      <td>1</td>\n",
       "      <td>0</td>\n",
       "      <td>0</td>\n",
       "      <td>1</td>\n",
       "      <td>0</td>\n",
       "      <td>0</td>\n",
       "      <td>0</td>\n",
       "    </tr>\n",
       "    <tr>\n",
       "      <th>25131</th>\n",
       "      <td>28845</td>\n",
       "      <td>* 16 debris clearing equipment, 3 recovery veh...</td>\n",
       "      <td>NaN</td>\n",
       "      <td>news</td>\n",
       "      <td>1</td>\n",
       "      <td>0</td>\n",
       "      <td>0</td>\n",
       "      <td>1</td>\n",
       "      <td>0</td>\n",
       "      <td>0</td>\n",
       "      <td>...</td>\n",
       "      <td>0</td>\n",
       "      <td>0</td>\n",
       "      <td>0</td>\n",
       "      <td>0</td>\n",
       "      <td>0</td>\n",
       "      <td>0</td>\n",
       "      <td>0</td>\n",
       "      <td>0</td>\n",
       "      <td>0</td>\n",
       "      <td>0</td>\n",
       "    </tr>\n",
       "    <tr>\n",
       "      <th>14356</th>\n",
       "      <td>16930</td>\n",
       "      <td>Under the approved plan, reconstruction in the...</td>\n",
       "      <td>NaN</td>\n",
       "      <td>news</td>\n",
       "      <td>1</td>\n",
       "      <td>0</td>\n",
       "      <td>0</td>\n",
       "      <td>1</td>\n",
       "      <td>0</td>\n",
       "      <td>0</td>\n",
       "      <td>...</td>\n",
       "      <td>0</td>\n",
       "      <td>0</td>\n",
       "      <td>1</td>\n",
       "      <td>0</td>\n",
       "      <td>0</td>\n",
       "      <td>0</td>\n",
       "      <td>1</td>\n",
       "      <td>0</td>\n",
       "      <td>0</td>\n",
       "      <td>0</td>\n",
       "    </tr>\n",
       "  </tbody>\n",
       "</table>\n",
       "<p>5 rows × 39 columns</p>\n",
       "</div>"
      ],
      "text/plain": [
       "          id                                            message  \\\n",
       "17668  20578  Previous experience has shown that the benefic...   \n",
       "9461   10565  i would like to know in what number can i get ...   \n",
       "11737  13448  RT otay: CNN Breaking News -- Tsunami warning ...   \n",
       "25131  28845  * 16 debris clearing equipment, 3 recovery veh...   \n",
       "14356  16930  Under the approved plan, reconstruction in the...   \n",
       "\n",
       "                                                original   genre  related  \\\n",
       "17668                                                NaN    news        0   \n",
       "9461   mwen ta renmen kon nen ki nimewo ke mwen ka an...  direct        0   \n",
       "11737                                                NaN  social        1   \n",
       "25131                                                NaN    news        1   \n",
       "14356                                                NaN    news        1   \n",
       "\n",
       "       request  offer  aid_related  medical_help  medical_products  ...  \\\n",
       "17668        0      0            0             0                 0  ...   \n",
       "9461         0      0            0             0                 0  ...   \n",
       "11737        0      0            0             0                 0  ...   \n",
       "25131        0      0            1             0                 0  ...   \n",
       "14356        0      0            1             0                 0  ...   \n",
       "\n",
       "       aid_centers  other_infrastructure  weather_related  floods  storm  \\\n",
       "17668            0                     0                0       0      0   \n",
       "9461             0                     0                0       0      0   \n",
       "11737            0                     0                1       1      0   \n",
       "25131            0                     0                0       0      0   \n",
       "14356            0                     0                1       0      0   \n",
       "\n",
       "       fire  earthquake  cold  other_weather  direct_report  \n",
       "17668     0           0     0              0              0  \n",
       "9461      0           0     0              0              0  \n",
       "11737     0           1     0              0              0  \n",
       "25131     0           0     0              0              0  \n",
       "14356     0           1     0              0              0  \n",
       "\n",
       "[5 rows x 39 columns]"
      ]
     },
     "execution_count": 14,
     "metadata": {},
     "output_type": "execute_result"
    }
   ],
   "source": [
    "df_train.head()"
   ]
  },
  {
   "cell_type": "code",
   "execution_count": 15,
   "metadata": {},
   "outputs": [],
   "source": [
    "def classification_metrics(y_test, y_pred):\n",
    "    print(\"Accuracy = \",accuracy_score(y_test ,y_pred))\n",
    "    print(\"f1 score (micro) = \",f1_score(y_test, y_pred, average=\"micro\"))\n",
    "    print(\"f1 score (macro) = \",f1_score(y_test, y_pred, average=\"micro\"))\n",
    "    print(\"jaccard similarity = \", jaccard_score(y_test, y_pred, average=\"samples\"))\n",
    "    print(\"Hamming loss = \", hamming_loss(y_test,y_pred))"
   ]
  },
  {
   "cell_type": "code",
   "execution_count": 16,
   "metadata": {},
   "outputs": [],
   "source": [
    "stop_words = stopwords.words('english')"
   ]
  },
  {
   "cell_type": "code",
   "execution_count": 13,
   "metadata": {},
   "outputs": [],
   "source": [
    "def simple_pipeline(ngram_range=(1,1), model=LogisticRegression, tokenizer=None, stop_words=None):\n",
    "    return Pipeline([\n",
    "        ('tfidf_vectorizer', TfidfVectorizer(tokenizer=tokenizer, stop_words=stop_words, ngram_range=ngram_range)),\n",
    "        ('model', MultiOutputClassifier(model()))\n",
    "    ])"
   ]
  },
  {
   "cell_type": "markdown",
   "metadata": {},
   "source": [
    "Tfidf Vectorizer - single terms - Logistic regression"
   ]
  },
  {
   "cell_type": "code",
   "execution_count": 48,
   "metadata": {},
   "outputs": [
    {
     "data": {
      "text/plain": [
       "23334    As the desert spreads, thousands of families o...\n",
       "3368     they want to find some information on what is ...\n",
       "17926    After-shocks continue to shake the area, and s...\n",
       "18624    Once the male heads of the families started to...\n",
       "24334    Since the mutiny, the whereabouts of Colonel Y...\n",
       "                               ...                        \n",
       "728      There is no food distribution in the area wher...\n",
       "8506     The project of construction's center support 9...\n",
       "4410     We sent a request for PAM food distribution. W...\n",
       "21363    The impact of water on all aspects of developm...\n",
       "20962    The United States has worked to strengthen dem...\n",
       "Name: message, Length: 20945, dtype: object"
      ]
     },
     "execution_count": 48,
     "metadata": {},
     "output_type": "execute_result"
    }
   ],
   "source": [
    "df_train['message']"
   ]
  },
  {
   "cell_type": "code",
   "execution_count": 23,
   "metadata": {},
   "outputs": [
    {
     "name": "stdout",
     "output_type": "stream",
     "text": [
      "Accuracy =  0.2789765132709566\n",
      "f1 score (micro) =  0.6536689876807713\n",
      "f1 score (macro) =  0.6536689876807713\n",
      "Hamming loss =  0.052914700346436076\n"
     ]
    }
   ],
   "source": [
    "pipeline = simple_pipeline()\n",
    "pipeline.fit(df_train['message'], y_train)\n",
    "classification_metrics(y_test, pipeline.predict(df_test['message']))"
   ]
  },
  {
   "cell_type": "markdown",
   "metadata": {},
   "source": [
    "Tfidf Vectorizer - single terms + bigrams - Logistic regression"
   ]
  },
  {
   "cell_type": "code",
   "execution_count": 33,
   "metadata": {},
   "outputs": [
    {
     "name": "stdout",
     "output_type": "stream",
     "text": [
      "Accuracy =  0.2480427725797212\n",
      "f1 score (micro) =  0.6382017638201765\n",
      "f1 score (macro) =  0.6382017638201765\n",
      "Hamming loss =  0.055058785018685726\n"
     ]
    }
   ],
   "source": [
    "pipeline = simple_pipeline(ngram_range=(1, 2))\n",
    "pipeline.fit(df_train['message'], y_train)\n",
    "classification_metrics(y_test, pipeline.predict(df_test['message']))"
   ]
  },
  {
   "cell_type": "markdown",
   "metadata": {},
   "source": [
    "Tfidf Vectorizer - single terms + bigrams + trigrams - Logistic regression"
   ]
  },
  {
   "cell_type": "code",
   "execution_count": 34,
   "metadata": {},
   "outputs": [
    {
     "name": "stdout",
     "output_type": "stream",
     "text": [
      "Accuracy =  0.2245560435363758\n",
      "f1 score (micro) =  0.6341118188251946\n",
      "f1 score (macro) =  0.6341118188251946\n",
      "Hamming loss =  0.05641179519354047\n"
     ]
    }
   ],
   "source": [
    "pipeline = simple_pipeline(ngram_range=(1, 3))\n",
    "pipeline.fit(df_train['message'], y_train)\n",
    "classification_metrics(y_test, pipeline.predict(df_test['message']))"
   ]
  },
  {
   "cell_type": "markdown",
   "metadata": {},
   "source": [
    "Tfidf Vectorizer - single terms + bigrams + trigrams - SVM with Linear kernel"
   ]
  },
  {
   "cell_type": "code",
   "execution_count": 35,
   "metadata": {},
   "outputs": [
    {
     "name": "stdout",
     "output_type": "stream",
     "text": [
      "Accuracy =  0.28031315638724463\n",
      "f1 score (micro) =  0.6952227243382828\n",
      "f1 score (macro) =  0.6952227243382828\n",
      "Hamming loss =  0.05151258899588096\n"
     ]
    }
   ],
   "source": [
    "pipeline = simple_pipeline(ngram_range=(1, 3), model=LinearSVC)\n",
    "pipeline.fit(df_train['message'], y_train)\n",
    "classification_metrics(y_test, pipeline.predict(df_test['message']))"
   ]
  },
  {
   "cell_type": "markdown",
   "metadata": {},
   "source": [
    "Tfidf Vectorizer - single terms + bigrams + trigrams - Random Forest"
   ]
  },
  {
   "cell_type": "code",
   "execution_count": 37,
   "metadata": {},
   "outputs": [],
   "source": [
    "# pipeline = simple_pipeline(ngram_range=(1, 3), model=RandomForestClassifier)\n",
    "# pipeline.fit(df_train['message'], y_train)\n",
    "# classification_metrics(y_test, pipeline.predict(df_test['message']))"
   ]
  },
  {
   "cell_type": "markdown",
   "metadata": {},
   "source": [
    "It seems like LinearSVC give us the best results here. Let's see if doing some preprocessing on our text improves the model"
   ]
  },
  {
   "cell_type": "code",
   "execution_count": 17,
   "metadata": {},
   "outputs": [],
   "source": [
    "english_stop_words = stopwords.words('english')\n",
    "disaster_stop_words = ['http', 'co', '000', 'bit', 'ly', 'u']\n",
    "stop_words = list(itertools.chain(english_stop_words, disaster_stop_words))"
   ]
  },
  {
   "cell_type": "code",
   "execution_count": 39,
   "metadata": {},
   "outputs": [],
   "source": [
    "def tokenize(text):\n",
    "    text = ' '.join([contractions.fix(word) for word in text.split()])\n",
    "    \n",
    "    tokens = word_tokenize(text)\n",
    "    lemmatizer = WordNetLemmatizer()\n",
    "\n",
    "    clean_tokens = []\n",
    "    for tok in tokens:\n",
    "        clean_tok = lemmatizer.lemmatize(tok).lower().strip()\n",
    "        clean_tokens.append(clean_tok)\n",
    "        \n",
    "    return clean_tokens"
   ]
  },
  {
   "cell_type": "code",
   "execution_count": 40,
   "metadata": {},
   "outputs": [
    {
     "name": "stderr",
     "output_type": "stream",
     "text": [
      "/usr/local/lib/python3.10/site-packages/sklearn/feature_extraction/text.py:528: UserWarning: The parameter 'token_pattern' will not be used since 'tokenizer' is not None'\n",
      "  warnings.warn(\n",
      "/usr/local/lib/python3.10/site-packages/sklearn/feature_extraction/text.py:409: UserWarning: Your stop_words may be inconsistent with your preprocessing. Tokenizing the stop words generated tokens ['could', 'doe', 'ha', 'might', 'must', 'need', 'shall', 'wa', 'would'] not in stop_words.\n",
      "  warnings.warn(\n"
     ]
    },
    {
     "name": "stdout",
     "output_type": "stream",
     "text": [
      "Accuracy =  0.28565972885239643\n",
      "f1 score (micro) =  0.6973097714412165\n",
      "f1 score (macro) =  0.6973097714412165\n",
      "Hamming loss =  0.052238195259008705\n"
     ]
    }
   ],
   "source": [
    "pipeline = simple_pipeline(tokenizer=tokenize, stop_words=stop_words, ngram_range=(1,3), model=LinearSVC)\n",
    "pipeline.fit(df_train['message'], y_train)\n",
    "classification_metrics(y_test, pipeline.predict(df_test['message']))"
   ]
  },
  {
   "cell_type": "markdown",
   "metadata": {},
   "source": [
    "We have some improvements! Let's try to use POS tags to see how things improve"
   ]
  },
  {
   "cell_type": "code",
   "execution_count": 41,
   "metadata": {},
   "outputs": [],
   "source": [
    "def tokenize_pos(tokens):\n",
    "    pos_tags = nltk.pos_tag(tokens, tagset='universal')\n",
    "    return [token+\"_POS-\"+tag for token, tag in pos_tags]"
   ]
  },
  {
   "cell_type": "code",
   "execution_count": 42,
   "metadata": {},
   "outputs": [],
   "source": [
    "# pipeline = Pipeline([\n",
    "#     ('tfidf_vectorizer', TfidfVectorizer(preprocessor=lambda x: x, tokenizer=tokenize_pos)),\n",
    "#     ('model', MultiOutputClassifier(LinearSVC()))\n",
    "# ])\n",
    "# pipeline.fit(df_train['message'], y_train)\n",
    "# classification_metrics(y_test, pipeline.predict(df_test['message']))"
   ]
  },
  {
   "cell_type": "markdown",
   "metadata": {},
   "source": [
    "It took an eternity to run and it made things worse. Let's try to use POS tag another way."
   ]
  },
  {
   "cell_type": "code",
   "execution_count": 18,
   "metadata": {},
   "outputs": [],
   "source": [
    "def classification_report_dataframe(y_test, y_pred, i, col):\n",
    "    classification_report_dict = classification_report(y_test[:, i], \n",
    "                                                       y_pred[:, i], \n",
    "                                                       target_names=[f'is not {col}', f'is {col}'], \n",
    "                                                       output_dict=True)\n",
    "    return pd.DataFrame.from_dict(classification_report_dict).transpose().iloc[:2, :]"
   ]
  },
  {
   "cell_type": "markdown",
   "metadata": {},
   "source": [
    "Let's reexecute our algorithm on the full dataset"
   ]
  },
  {
   "cell_type": "code",
   "execution_count": 28,
   "metadata": {},
   "outputs": [
    {
     "name": "stdout",
     "output_type": "stream",
     "text": [
      "Accuracy =  0.2860416268856215\n",
      "f1 score (micro) =  0.7003074931218644\n",
      "f1 score (macro) =  0.7003074931218644\n",
      "Hamming loss =  0.05051419842330669\n"
     ]
    }
   ],
   "source": [
    "pipeline = simple_pipeline(ngram_range=(1, 3), model=LinearSVC)\n",
    "pipeline.fit(df_train['message'], y_train)\n",
    "classification_metrics(y_test, pipeline.predict(df_test['message']))"
   ]
  },
  {
   "cell_type": "code",
   "execution_count": 29,
   "metadata": {},
   "outputs": [
    {
     "data": {
      "text/html": [
       "<div>\n",
       "<style scoped>\n",
       "    .dataframe tbody tr th:only-of-type {\n",
       "        vertical-align: middle;\n",
       "    }\n",
       "\n",
       "    .dataframe tbody tr th {\n",
       "        vertical-align: top;\n",
       "    }\n",
       "\n",
       "    .dataframe thead th {\n",
       "        text-align: right;\n",
       "    }\n",
       "</style>\n",
       "<table border=\"1\" class=\"dataframe\">\n",
       "  <thead>\n",
       "    <tr style=\"text-align: right;\">\n",
       "      <th></th>\n",
       "      <th>precision</th>\n",
       "      <th>recall</th>\n",
       "      <th>f1-score</th>\n",
       "      <th>support</th>\n",
       "    </tr>\n",
       "  </thead>\n",
       "  <tbody>\n",
       "    <tr>\n",
       "      <th>is related</th>\n",
       "      <td>0.851159</td>\n",
       "      <td>0.947186</td>\n",
       "      <td>0.896608</td>\n",
       "      <td>4033.0</td>\n",
       "    </tr>\n",
       "    <tr>\n",
       "      <th>is earthquake</th>\n",
       "      <td>0.868735</td>\n",
       "      <td>0.774468</td>\n",
       "      <td>0.818898</td>\n",
       "      <td>470.0</td>\n",
       "    </tr>\n",
       "    <tr>\n",
       "      <th>is food</th>\n",
       "      <td>0.779264</td>\n",
       "      <td>0.796581</td>\n",
       "      <td>0.787828</td>\n",
       "      <td>585.0</td>\n",
       "    </tr>\n",
       "    <tr>\n",
       "      <th>is weather_related</th>\n",
       "      <td>0.767378</td>\n",
       "      <td>0.774844</td>\n",
       "      <td>0.771093</td>\n",
       "      <td>1439.0</td>\n",
       "    </tr>\n",
       "    <tr>\n",
       "      <th>is water</th>\n",
       "      <td>0.744253</td>\n",
       "      <td>0.770833</td>\n",
       "      <td>0.757310</td>\n",
       "      <td>336.0</td>\n",
       "    </tr>\n",
       "    <tr>\n",
       "      <th>is aid_related</th>\n",
       "      <td>0.699126</td>\n",
       "      <td>0.795568</td>\n",
       "      <td>0.744235</td>\n",
       "      <td>2211.0</td>\n",
       "    </tr>\n",
       "    <tr>\n",
       "      <th>is request</th>\n",
       "      <td>0.761307</td>\n",
       "      <td>0.673333</td>\n",
       "      <td>0.714623</td>\n",
       "      <td>900.0</td>\n",
       "    </tr>\n",
       "    <tr>\n",
       "      <th>is storm</th>\n",
       "      <td>0.753425</td>\n",
       "      <td>0.653465</td>\n",
       "      <td>0.699894</td>\n",
       "      <td>505.0</td>\n",
       "    </tr>\n",
       "    <tr>\n",
       "      <th>is shelter</th>\n",
       "      <td>0.808023</td>\n",
       "      <td>0.591195</td>\n",
       "      <td>0.682809</td>\n",
       "      <td>477.0</td>\n",
       "    </tr>\n",
       "    <tr>\n",
       "      <th>is floods</th>\n",
       "      <td>0.832765</td>\n",
       "      <td>0.571429</td>\n",
       "      <td>0.677778</td>\n",
       "      <td>427.0</td>\n",
       "    </tr>\n",
       "    <tr>\n",
       "      <th>is direct_report</th>\n",
       "      <td>0.675468</td>\n",
       "      <td>0.594385</td>\n",
       "      <td>0.632338</td>\n",
       "      <td>1033.0</td>\n",
       "    </tr>\n",
       "    <tr>\n",
       "      <th>is death</th>\n",
       "      <td>0.788732</td>\n",
       "      <td>0.455285</td>\n",
       "      <td>0.577320</td>\n",
       "      <td>246.0</td>\n",
       "    </tr>\n",
       "    <tr>\n",
       "      <th>is clothing</th>\n",
       "      <td>0.785714</td>\n",
       "      <td>0.407407</td>\n",
       "      <td>0.536585</td>\n",
       "      <td>81.0</td>\n",
       "    </tr>\n",
       "    <tr>\n",
       "      <th>is buildings</th>\n",
       "      <td>0.690141</td>\n",
       "      <td>0.378378</td>\n",
       "      <td>0.488778</td>\n",
       "      <td>259.0</td>\n",
       "    </tr>\n",
       "    <tr>\n",
       "      <th>is medical_help</th>\n",
       "      <td>0.671171</td>\n",
       "      <td>0.349765</td>\n",
       "      <td>0.459877</td>\n",
       "      <td>426.0</td>\n",
       "    </tr>\n",
       "    <tr>\n",
       "      <th>is cold</th>\n",
       "      <td>0.707317</td>\n",
       "      <td>0.311828</td>\n",
       "      <td>0.432836</td>\n",
       "      <td>93.0</td>\n",
       "    </tr>\n",
       "    <tr>\n",
       "      <th>is medical_products</th>\n",
       "      <td>0.708333</td>\n",
       "      <td>0.301418</td>\n",
       "      <td>0.422886</td>\n",
       "      <td>282.0</td>\n",
       "    </tr>\n",
       "    <tr>\n",
       "      <th>is military</th>\n",
       "      <td>0.621951</td>\n",
       "      <td>0.281768</td>\n",
       "      <td>0.387833</td>\n",
       "      <td>181.0</td>\n",
       "    </tr>\n",
       "    <tr>\n",
       "      <th>is electricity</th>\n",
       "      <td>0.604167</td>\n",
       "      <td>0.266055</td>\n",
       "      <td>0.369427</td>\n",
       "      <td>109.0</td>\n",
       "    </tr>\n",
       "    <tr>\n",
       "      <th>is transport</th>\n",
       "      <td>0.760000</td>\n",
       "      <td>0.219231</td>\n",
       "      <td>0.340299</td>\n",
       "      <td>260.0</td>\n",
       "    </tr>\n",
       "    <tr>\n",
       "      <th>is other_aid</th>\n",
       "      <td>0.485955</td>\n",
       "      <td>0.248921</td>\n",
       "      <td>0.329210</td>\n",
       "      <td>695.0</td>\n",
       "    </tr>\n",
       "    <tr>\n",
       "      <th>is money</th>\n",
       "      <td>0.739130</td>\n",
       "      <td>0.141667</td>\n",
       "      <td>0.237762</td>\n",
       "      <td>120.0</td>\n",
       "    </tr>\n",
       "    <tr>\n",
       "      <th>is search_and_rescue</th>\n",
       "      <td>0.593750</td>\n",
       "      <td>0.141791</td>\n",
       "      <td>0.228916</td>\n",
       "      <td>134.0</td>\n",
       "    </tr>\n",
       "    <tr>\n",
       "      <th>is refugees</th>\n",
       "      <td>0.621622</td>\n",
       "      <td>0.126374</td>\n",
       "      <td>0.210046</td>\n",
       "      <td>182.0</td>\n",
       "    </tr>\n",
       "    <tr>\n",
       "      <th>is fire</th>\n",
       "      <td>0.777778</td>\n",
       "      <td>0.112903</td>\n",
       "      <td>0.197183</td>\n",
       "      <td>62.0</td>\n",
       "    </tr>\n",
       "    <tr>\n",
       "      <th>is other_weather</th>\n",
       "      <td>0.625000</td>\n",
       "      <td>0.112782</td>\n",
       "      <td>0.191083</td>\n",
       "      <td>266.0</td>\n",
       "    </tr>\n",
       "    <tr>\n",
       "      <th>is missing_people</th>\n",
       "      <td>0.750000</td>\n",
       "      <td>0.101695</td>\n",
       "      <td>0.179104</td>\n",
       "      <td>59.0</td>\n",
       "    </tr>\n",
       "    <tr>\n",
       "      <th>is infrastructure_related</th>\n",
       "      <td>0.500000</td>\n",
       "      <td>0.083333</td>\n",
       "      <td>0.142857</td>\n",
       "      <td>348.0</td>\n",
       "    </tr>\n",
       "    <tr>\n",
       "      <th>is hospitals</th>\n",
       "      <td>0.500000</td>\n",
       "      <td>0.039216</td>\n",
       "      <td>0.072727</td>\n",
       "      <td>51.0</td>\n",
       "    </tr>\n",
       "    <tr>\n",
       "      <th>is other_infrastructure</th>\n",
       "      <td>0.333333</td>\n",
       "      <td>0.039130</td>\n",
       "      <td>0.070039</td>\n",
       "      <td>230.0</td>\n",
       "    </tr>\n",
       "    <tr>\n",
       "      <th>is security</th>\n",
       "      <td>0.500000</td>\n",
       "      <td>0.009615</td>\n",
       "      <td>0.018868</td>\n",
       "      <td>104.0</td>\n",
       "    </tr>\n",
       "    <tr>\n",
       "      <th>is tools</th>\n",
       "      <td>0.000000</td>\n",
       "      <td>0.000000</td>\n",
       "      <td>0.000000</td>\n",
       "      <td>36.0</td>\n",
       "    </tr>\n",
       "    <tr>\n",
       "      <th>is shops</th>\n",
       "      <td>0.000000</td>\n",
       "      <td>0.000000</td>\n",
       "      <td>0.000000</td>\n",
       "      <td>21.0</td>\n",
       "    </tr>\n",
       "    <tr>\n",
       "      <th>is aid_centers</th>\n",
       "      <td>0.000000</td>\n",
       "      <td>0.000000</td>\n",
       "      <td>0.000000</td>\n",
       "      <td>85.0</td>\n",
       "    </tr>\n",
       "    <tr>\n",
       "      <th>is offer</th>\n",
       "      <td>0.000000</td>\n",
       "      <td>0.000000</td>\n",
       "      <td>0.000000</td>\n",
       "      <td>24.0</td>\n",
       "    </tr>\n",
       "  </tbody>\n",
       "</table>\n",
       "</div>"
      ],
      "text/plain": [
       "                           precision    recall  f1-score  support\n",
       "is related                  0.851159  0.947186  0.896608   4033.0\n",
       "is earthquake               0.868735  0.774468  0.818898    470.0\n",
       "is food                     0.779264  0.796581  0.787828    585.0\n",
       "is weather_related          0.767378  0.774844  0.771093   1439.0\n",
       "is water                    0.744253  0.770833  0.757310    336.0\n",
       "is aid_related              0.699126  0.795568  0.744235   2211.0\n",
       "is request                  0.761307  0.673333  0.714623    900.0\n",
       "is storm                    0.753425  0.653465  0.699894    505.0\n",
       "is shelter                  0.808023  0.591195  0.682809    477.0\n",
       "is floods                   0.832765  0.571429  0.677778    427.0\n",
       "is direct_report            0.675468  0.594385  0.632338   1033.0\n",
       "is death                    0.788732  0.455285  0.577320    246.0\n",
       "is clothing                 0.785714  0.407407  0.536585     81.0\n",
       "is buildings                0.690141  0.378378  0.488778    259.0\n",
       "is medical_help             0.671171  0.349765  0.459877    426.0\n",
       "is cold                     0.707317  0.311828  0.432836     93.0\n",
       "is medical_products         0.708333  0.301418  0.422886    282.0\n",
       "is military                 0.621951  0.281768  0.387833    181.0\n",
       "is electricity              0.604167  0.266055  0.369427    109.0\n",
       "is transport                0.760000  0.219231  0.340299    260.0\n",
       "is other_aid                0.485955  0.248921  0.329210    695.0\n",
       "is money                    0.739130  0.141667  0.237762    120.0\n",
       "is search_and_rescue        0.593750  0.141791  0.228916    134.0\n",
       "is refugees                 0.621622  0.126374  0.210046    182.0\n",
       "is fire                     0.777778  0.112903  0.197183     62.0\n",
       "is other_weather            0.625000  0.112782  0.191083    266.0\n",
       "is missing_people           0.750000  0.101695  0.179104     59.0\n",
       "is infrastructure_related   0.500000  0.083333  0.142857    348.0\n",
       "is hospitals                0.500000  0.039216  0.072727     51.0\n",
       "is other_infrastructure     0.333333  0.039130  0.070039    230.0\n",
       "is security                 0.500000  0.009615  0.018868    104.0\n",
       "is tools                    0.000000  0.000000  0.000000     36.0\n",
       "is shops                    0.000000  0.000000  0.000000     21.0\n",
       "is aid_centers              0.000000  0.000000  0.000000     85.0\n",
       "is offer                    0.000000  0.000000  0.000000     24.0"
      ]
     },
     "execution_count": 29,
     "metadata": {},
     "output_type": "execute_result"
    }
   ],
   "source": [
    "%%capture --no-display\n",
    "\n",
    "y_pred = pipeline.predict(df_test['message'])\n",
    "y_test = np.array(y_test)\n",
    "\n",
    "df_reports = []\n",
    "for i, col in enumerate(category_colnames):\n",
    "    df_reports.append(classification_report_dataframe(y_test, y_pred, i, col))\n",
    "report_df = pd.concat(df_reports)\n",
    "report_df[~report_df.index.str.startswith('is not')].sort_values(by='f1-score', ascending=False)"
   ]
  },
  {
   "cell_type": "markdown",
   "metadata": {},
   "source": [
    "Our data set is highly imbalanced. Certain classes are not representative at all. Because of this problem, our classifier tends to be weighed down by majority of classes and ignores the small ones. There are several approaches to handle this issue such as data level approach and algorithm level approach. \n",
    "The data level approach consists in balancing the class distribution through sampling, while the algorithm level approach is about adjusting weight or cost of various classes. The latter is better in terms of avoiding overfitting."
   ]
  },
  {
   "cell_type": "markdown",
   "metadata": {},
   "source": [
    "Because our Data is unbalanced, we can try to apply some over sampling data techniques.\n",
    "Let's apply some Text Augmentation techniques. Let's apply some EDA (Easy Data Augmentation) techniques."
   ]
  },
  {
   "cell_type": "markdown",
   "metadata": {},
   "source": [
    "First, we can plot our label distribution"
   ]
  },
  {
   "cell_type": "code",
   "execution_count": 51,
   "metadata": {},
   "outputs": [],
   "source": [
    "def plot_label_distributions(df_labels):\n",
    "    plt.figure(figsize=(5, 7))\n",
    "\n",
    "    title = 'labels_distribution'\n",
    "    base_color = sb.color_palette()[0]\n",
    "    class_counts = df_labels.sum().sort_values(ascending=False).to_frame().reset_index()\n",
    "    class_counts.columns = ['labels', 'count']\n",
    "    bar_plot = sb.barplot(data=class_counts, y='labels', x='count', color=base_color)\n",
    "    plt.title(title);"
   ]
  },
  {
   "cell_type": "code",
   "execution_count": 25,
   "metadata": {},
   "outputs": [
    {
     "data": {
      "image/png": "[encoded data removed]",
      "text/plain": [
       "<Figure size 500x700 with 1 Axes>"
      ]
     },
     "metadata": {},
     "output_type": "display_data"
    }
   ],
   "source": [
    "plot_label_distributions(y_train)"
   ]
  },
  {
   "cell_type": "code",
   "execution_count": 26,
   "metadata": {},
   "outputs": [
    {
     "name": "stderr",
     "output_type": "stream",
     "text": [
      "/usr/local/lib/python3.10/site-packages/tqdm/auto.py:22: TqdmWarning: IProgress not found. Please update jupyter and ipywidgets. See https://ipywidgets.readthedocs.io/en/stable/user_install.html\n",
      "  from .autonotebook import tqdm as notebook_tqdm\n"
     ]
    }
   ],
   "source": [
    "import nlpaug.augmenter.char as nac\n",
    "import nlpaug.augmenter.word as naw\n",
    "import nlpaug.augmenter.sentence as nas\n",
    "import nlpaug.flow as naf\n",
    "\n",
    "from nlpaug.util import Action\n",
    "from nlpaug.util.file.download import DownloadUtil\n",
    "# DownloadUtil.download_glove(model_name='glove.6B', dest_dir='./content')"
   ]
  },
  {
   "cell_type": "code",
   "execution_count": 27,
   "metadata": {},
   "outputs": [],
   "source": [
    "text = 'climate change puts the squeeze on olives production'"
   ]
  },
  {
   "cell_type": "markdown",
   "metadata": {},
   "source": [
    "Initialize our Word Augmentation Objects"
   ]
  },
  {
   "cell_type": "code",
   "execution_count": 28,
   "metadata": {},
   "outputs": [],
   "source": [
    "bert_aug_sub = naw.ContextualWordEmbsAug(model_path='bert-base-uncased', action=\"substitute\", stopwords=stop_words, aug_p=.1)\n",
    "\n",
    "bert_aug_insert = naw.ContextualWordEmbsAug(model_path='bert-base-uncased', action=\"substitute\", stopwords=stop_words, aug_p=.1)\n",
    "\n",
    "syn_aug = naw.SynonymAug()\n",
    "\n",
    "antonym_aug = naw.AntonymAug()\n",
    "\n",
    "random_swap_aug = naw.random.RandomWordAug(action='swap', stopwords=stop_words, aug_p=.1)\n",
    "\n",
    "random_delete_aug = naw.random.RandomWordAug(action='delete', stopwords=stop_words, aug_p=.1)"
   ]
  },
  {
   "cell_type": "code",
   "execution_count": 44,
   "metadata": {},
   "outputs": [],
   "source": [
    "# sentence = 'climate change puts the squeeze on wine production'\n",
    "# aug = naw.random.RandomWordAug(action='swap', aug_p=0.3)\n",
    "# augmented_text = aug.augment(text, n=1)\n",
    "# print('Original text :', text)\n",
    "# print('Augmented text :', augmented_text)"
   ]
  },
  {
   "cell_type": "markdown",
   "metadata": {},
   "source": [
    "Because we're in a multi-label setting, we want to identify the real misrepresented samples. There are possiblities that samples which contain minority labels can also contain majority labels. We will use a mix of techniques from the MLSMOTE paper combined with Text Data Augmentation. It's going to be fun!"
   ]
  },
  {
   "cell_type": "markdown",
   "metadata": {},
   "source": [
    "Let's write a function which calculate the imbalance ratio"
   ]
  },
  {
   "cell_type": "code",
   "execution_count": 29,
   "metadata": {},
   "outputs": [],
   "source": [
    "def get_tail_label(df: pd.DataFrame, ql=[0.05, 1.]) -> list:\n",
    "    \"\"\"\n",
    "    Find the underrepresented targets.\n",
    "    Underrepresented targets are those which are observed less than the median occurance.\n",
    "    Targets beyond a quantile limit are filtered.\n",
    "    \"\"\"\n",
    "    irlbl = df.sum(axis=0)\n",
    "    irlbl = irlbl[(irlbl > irlbl.quantile(ql[0])) & ((irlbl < irlbl.quantile(ql[1])))]  # Filtering\n",
    "    irlbl = irlbl.max() / irlbl\n",
    "    threshold_irlbl = irlbl.median()\n",
    "    tail_label = irlbl[irlbl > threshold_irlbl].index.tolist()\n",
    "    return tail_label"
   ]
  },
  {
   "cell_type": "code",
   "execution_count": 30,
   "metadata": {},
   "outputs": [],
   "source": [
    "def get_minority_samples(X: pd.DataFrame, y: pd.DataFrame, ql=[0.05, 1.]):\n",
    "    \"\"\"\n",
    "    return\n",
    "    X_sub: pandas.DataFrame, the feature vector minority dataframe\n",
    "    y_sub: pandas.DataFrame, the target vector minority dataframe\n",
    "    \"\"\"\n",
    "    tail_labels = get_tail_label(y, ql=ql)\n",
    "    index = y[y[tail_labels].apply(lambda x: (x == 1).any(), axis=1)].index.tolist()\n",
    "    \n",
    "    X_sub = X[X.index.isin(index)].reset_index(drop = True)\n",
    "    y_sub = y[y.index.isin(index)].reset_index(drop = True)\n",
    "    return X_sub, y_sub"
   ]
  },
  {
   "cell_type": "code",
   "execution_count": 35,
   "metadata": {},
   "outputs": [],
   "source": [
    "df_train_minority, _ = get_minority_samples(df_train, y_train, ql=[0.25, 0.75])"
   ]
  },
  {
   "cell_type": "code",
   "execution_count": 36,
   "metadata": {},
   "outputs": [
    {
     "data": {
      "text/plain": [
       "(4050, 39)"
      ]
     },
     "execution_count": 36,
     "metadata": {},
     "output_type": "execute_result"
    }
   ],
   "source": [
    "df_train_minority.shape"
   ]
  },
  {
   "cell_type": "markdown",
   "metadata": {},
   "source": [
    "Now we know exactly which samples we need to augment. We need to decide what percent of words to be altered in a sentence, but also the number of augmented sentences per sample. Let's call the first alpha, and the second Naug. According to the litterature, when having more than 5000 data points, the best performance has been obtained wiht alpha=0.1, and Naug=4."
   ]
  },
  {
   "cell_type": "markdown",
   "metadata": {},
   "source": [
    "Regarding the operations that we will be performing, we will opt for a mix of Synonym Replacement, Random Insertion, Random Swap & Random Deletion. All fours have shown to work equally well."
   ]
  },
  {
   "cell_type": "code",
   "execution_count": 32,
   "metadata": {},
   "outputs": [
    {
     "data": {
      "text/html": [
       "<div>\n",
       "<style scoped>\n",
       "    .dataframe tbody tr th:only-of-type {\n",
       "        vertical-align: middle;\n",
       "    }\n",
       "\n",
       "    .dataframe tbody tr th {\n",
       "        vertical-align: top;\n",
       "    }\n",
       "\n",
       "    .dataframe thead th {\n",
       "        text-align: right;\n",
       "    }\n",
       "</style>\n",
       "<table border=\"1\" class=\"dataframe\">\n",
       "  <thead>\n",
       "    <tr style=\"text-align: right;\">\n",
       "      <th></th>\n",
       "      <th>id</th>\n",
       "      <th>message</th>\n",
       "      <th>original</th>\n",
       "      <th>genre</th>\n",
       "      <th>related</th>\n",
       "      <th>request</th>\n",
       "      <th>offer</th>\n",
       "      <th>aid_related</th>\n",
       "      <th>medical_help</th>\n",
       "      <th>medical_products</th>\n",
       "      <th>...</th>\n",
       "      <th>aid_centers</th>\n",
       "      <th>other_infrastructure</th>\n",
       "      <th>weather_related</th>\n",
       "      <th>floods</th>\n",
       "      <th>storm</th>\n",
       "      <th>fire</th>\n",
       "      <th>earthquake</th>\n",
       "      <th>cold</th>\n",
       "      <th>other_weather</th>\n",
       "      <th>direct_report</th>\n",
       "    </tr>\n",
       "  </thead>\n",
       "  <tbody>\n",
       "    <tr>\n",
       "      <th>0</th>\n",
       "      <td>7527</td>\n",
       "      <td>a</td>\n",
       "      <td>On a jamais recu aucune aide sur le plan inter...</td>\n",
       "      <td>direct</td>\n",
       "      <td>1</td>\n",
       "      <td>1</td>\n",
       "      <td>0</td>\n",
       "      <td>1</td>\n",
       "      <td>0</td>\n",
       "      <td>0</td>\n",
       "      <td>...</td>\n",
       "      <td>0</td>\n",
       "      <td>0</td>\n",
       "      <td>0</td>\n",
       "      <td>0</td>\n",
       "      <td>0</td>\n",
       "      <td>0</td>\n",
       "      <td>0</td>\n",
       "      <td>0</td>\n",
       "      <td>0</td>\n",
       "      <td>1</td>\n",
       "    </tr>\n",
       "    <tr>\n",
       "      <th>1</th>\n",
       "      <td>7527</td>\n",
       "      <td>b</td>\n",
       "      <td>On a jamais recu aucune aide sur le plan inter...</td>\n",
       "      <td>direct</td>\n",
       "      <td>1</td>\n",
       "      <td>1</td>\n",
       "      <td>0</td>\n",
       "      <td>1</td>\n",
       "      <td>0</td>\n",
       "      <td>0</td>\n",
       "      <td>...</td>\n",
       "      <td>0</td>\n",
       "      <td>0</td>\n",
       "      <td>0</td>\n",
       "      <td>0</td>\n",
       "      <td>0</td>\n",
       "      <td>0</td>\n",
       "      <td>0</td>\n",
       "      <td>0</td>\n",
       "      <td>0</td>\n",
       "      <td>1</td>\n",
       "    </tr>\n",
       "  </tbody>\n",
       "</table>\n",
       "<p>2 rows × 39 columns</p>\n",
       "</div>"
      ],
      "text/plain": [
       "     id message                                           original   genre  \\\n",
       "0  7527       a  On a jamais recu aucune aide sur le plan inter...  direct   \n",
       "1  7527       b  On a jamais recu aucune aide sur le plan inter...  direct   \n",
       "\n",
       "   related  request  offer  aid_related  medical_help  medical_products  ...  \\\n",
       "0        1        1      0            1             0                 0  ...   \n",
       "1        1        1      0            1             0                 0  ...   \n",
       "\n",
       "   aid_centers  other_infrastructure  weather_related  floods  storm  fire  \\\n",
       "0            0                     0                0       0      0     0   \n",
       "1            0                     0                0       0      0     0   \n",
       "\n",
       "   earthquake  cold  other_weather  direct_report  \n",
       "0           0     0              0              1  \n",
       "1           0     0              0              1  \n",
       "\n",
       "[2 rows x 39 columns]"
      ]
     },
     "execution_count": 32,
     "metadata": {},
     "output_type": "execute_result"
    }
   ],
   "source": [
    "row = df_train_minority.iloc[[1]]\n",
    "augmented_df = pd.concat([row]*8).reset_index(drop=True)\n",
    "row_indexer = augmented_df.iloc[0:2].index\n",
    "augmented_df.loc[row_indexer, 'message'] = ['a', 'b']\n",
    "augmented_df.loc[row_indexer, :]"
   ]
  },
  {
   "cell_type": "code",
   "execution_count": 37,
   "metadata": {},
   "outputs": [],
   "source": [
    "def process_data_point(i, df_minority, n_aug, augmentations, n_aug_per_method):\n",
    "    message = df_minority.iloc[i]['message']\n",
    "\n",
    "    copy_row = df_minority.iloc[[i]]\n",
    "    augmented_sub_df = pd.concat([copy_row] * n_aug).reset_index(drop=True)\n",
    "\n",
    "    slice_idx = 0\n",
    "    for aug in augmentations:\n",
    "        row_indexer = augmented_sub_df.iloc[slice_idx:slice_idx+n_aug_per_method].index\n",
    "        augmented_sub_df.loc[row_indexer, 'message'] = aug.augment(message, n=n_aug_per_method)\n",
    "        slice_idx += n_aug_per_method\n",
    "\n",
    "    return augmented_sub_df"
   ]
  },
  {
   "cell_type": "code",
   "execution_count": 39,
   "metadata": {},
   "outputs": [],
   "source": [
    "from p_tqdm import p_map\n",
    "import math\n",
    "\n",
    "def augment_minority_samples(df_minority, alpha=0.1, n_aug=4, augmentations=[bert_aug_sub, bert_aug_insert, random_swap_aug, random_delete_aug]):\n",
    "    n_aug_per_method = math.ceil(len(augmentations) // n_aug)\n",
    "    for i in range(len(augmentations)):\n",
    "        augmentations[i].aug_p = alpha\n",
    "    \n",
    "    aug_df_l = []\n",
    "#     aug_df_l = p_map(process_data_point, [(i, df_minority, n_aug, augmentations, n_aug_per_method) for i in range(df_minority.shape[0])], **{'num_cpus': 8})\n",
    "    for i in tqdm(range(df_minority.shape[0])):\n",
    "        aug_df_l.append(process_data_point(i, df_minority, n_aug, augmentations, n_aug_per_method))\n",
    "    \n",
    "    return pd.concat(aug_df_l).reset_index(drop=True)"
   ]
  },
  {
   "cell_type": "code",
   "execution_count": 40,
   "metadata": {},
   "outputs": [
    {
     "name": "stderr",
     "output_type": "stream",
     "text": [
      "100%|██████████| 4050/4050 [00:34<00:00, 116.78it/s]\n"
     ]
    }
   ],
   "source": [
    "os.environ['TOKENIZERS_PARALLELISM'] = 'True'\n",
    "df_minority_augmented = augment_minority_samples(df_train_minority, augmentations=[syn_aug, antonym_aug, random_swap_aug, random_delete_aug])"
   ]
  },
  {
   "cell_type": "code",
   "execution_count": 42,
   "metadata": {},
   "outputs": [],
   "source": [
    "df_train_augmented = pd.concat([df_train, df_minority_augmented]).reset_index(drop=True)\n",
    "y_train_augmented = df_train_augmented.loc[:, category_colnames]"
   ]
  },
  {
   "cell_type": "code",
   "execution_count": 51,
   "metadata": {},
   "outputs": [
    {
     "data": {
      "image/png": "[encoded data removed]",
      "text/plain": [
       "<Figure size 500x700 with 1 Axes>"
      ]
     },
     "metadata": {},
     "output_type": "display_data"
    }
   ],
   "source": [
    "plt.figure(figsize=(5, 7))\n",
    "\n",
    "title = 'labels_distribution'\n",
    "class_counts = y_train.sum().sort_values(ascending=False).to_frame().reset_index()\n",
    "class_counts_aug = y_train_augmented.sum().sort_values(ascending=False).to_frame().reset_index()\n",
    "class_counts.columns = ['labels', 'count']\n",
    "class_counts_aug.columns = ['labels', 'count']\n",
    "sb.barplot(data=class_counts_aug, y='labels', x='count', color=sb.color_palette()[1], label='original')\n",
    "sb.barplot(data=class_counts, y='labels', x='count', color=sb.color_palette()[0], label='augmented')\n",
    "plt.legend()\n",
    "plt.title(title);"
   ]
  },
  {
   "cell_type": "markdown",
   "metadata": {},
   "source": [
    "Our data is still imbalanced, but we have more data for each label. Let's see if it improves our results"
   ]
  },
  {
   "cell_type": "code",
   "execution_count": 52,
   "metadata": {},
   "outputs": [
    {
     "name": "stdout",
     "output_type": "stream",
     "text": [
      "Accuracy =  0.2581630704601871\n",
      "f1 score (micro) =  0.708805686622955\n",
      "f1 score (macro) =  0.708805686622955\n",
      "Hamming loss =  0.05185084153959464\n"
     ]
    }
   ],
   "source": [
    "pipeline = simple_pipeline(ngram_range=(1, 3), model=LinearSVC)\n",
    "pipeline.fit(df_train_augmented['message'], y_train_augmented)\n",
    "classification_metrics(y_test, pipeline.predict(df_test['message']))"
   ]
  },
  {
   "cell_type": "markdown",
   "metadata": {},
   "source": [
    "Let's put related and request aside and train a model only for the rest of the categories, as most messages are most likely to be related or be a request"
   ]
  },
  {
   "cell_type": "code",
   "execution_count": 68,
   "metadata": {},
   "outputs": [
    {
     "data": {
      "image/png": "[encoded data removed]",
      "text/plain": [
       "<Figure size 500x700 with 1 Axes>"
      ]
     },
     "metadata": {},
     "output_type": "display_data"
    }
   ],
   "source": [
    "df_train_other_classes = df_train.drop(['related', 'request'], axis=1)\n",
    "y_train_other_classes = y_train.iloc[:, 2:]\n",
    "y_test_other_classes = y_test[:, 2:]\n",
    "plot_label_distributions(y_train_other_classes)"
   ]
  },
  {
   "cell_type": "markdown",
   "metadata": {},
   "source": [
    "Let's train a model for this data"
   ]
  },
  {
   "cell_type": "code",
   "execution_count": 69,
   "metadata": {},
   "outputs": [
    {
     "name": "stdout",
     "output_type": "stream",
     "text": [
      "Accuracy =  0.4038571701355738\n",
      "f1 score (micro) =  0.6313153205220825\n",
      "f1 score (macro) =  0.6313153205220825\n",
      "Hamming loss =  0.04429438552027821\n"
     ]
    }
   ],
   "source": [
    "pipeline = simple_pipeline(ngram_range=(1, 3), model=LinearSVC)\n",
    "pipeline.fit(df_train_other_classes['message'], y_train_other_classes)\n",
    "classification_metrics(y_test_other_classes, pipeline.predict(df_test['message']))"
   ]
  },
  {
   "cell_type": "code",
   "execution_count": 72,
   "metadata": {},
   "outputs": [],
   "source": [
    "other_classes = category_colnames[2:]"
   ]
  },
  {
   "cell_type": "code",
   "execution_count": 73,
   "metadata": {},
   "outputs": [
    {
     "data": {
      "text/html": [
       "<div>\n",
       "<style scoped>\n",
       "    .dataframe tbody tr th:only-of-type {\n",
       "        vertical-align: middle;\n",
       "    }\n",
       "\n",
       "    .dataframe tbody tr th {\n",
       "        vertical-align: top;\n",
       "    }\n",
       "\n",
       "    .dataframe thead th {\n",
       "        text-align: right;\n",
       "    }\n",
       "</style>\n",
       "<table border=\"1\" class=\"dataframe\">\n",
       "  <thead>\n",
       "    <tr style=\"text-align: right;\">\n",
       "      <th></th>\n",
       "      <th>precision</th>\n",
       "      <th>recall</th>\n",
       "      <th>f1-score</th>\n",
       "      <th>support</th>\n",
       "    </tr>\n",
       "  </thead>\n",
       "  <tbody>\n",
       "    <tr>\n",
       "      <th>is earthquake</th>\n",
       "      <td>0.869359</td>\n",
       "      <td>0.783726</td>\n",
       "      <td>0.824324</td>\n",
       "      <td>467.0</td>\n",
       "    </tr>\n",
       "    <tr>\n",
       "      <th>is food</th>\n",
       "      <td>0.814433</td>\n",
       "      <td>0.797980</td>\n",
       "      <td>0.806122</td>\n",
       "      <td>594.0</td>\n",
       "    </tr>\n",
       "    <tr>\n",
       "      <th>is weather_related</th>\n",
       "      <td>0.778933</td>\n",
       "      <td>0.777855</td>\n",
       "      <td>0.778393</td>\n",
       "      <td>1445.0</td>\n",
       "    </tr>\n",
       "    <tr>\n",
       "      <th>is aid_related</th>\n",
       "      <td>0.698929</td>\n",
       "      <td>0.815261</td>\n",
       "      <td>0.752626</td>\n",
       "      <td>2241.0</td>\n",
       "    </tr>\n",
       "    <tr>\n",
       "      <th>is water</th>\n",
       "      <td>0.733333</td>\n",
       "      <td>0.711765</td>\n",
       "      <td>0.722388</td>\n",
       "      <td>340.0</td>\n",
       "    </tr>\n",
       "    <tr>\n",
       "      <th>is floods</th>\n",
       "      <td>0.871186</td>\n",
       "      <td>0.614833</td>\n",
       "      <td>0.720898</td>\n",
       "      <td>418.0</td>\n",
       "    </tr>\n",
       "    <tr>\n",
       "      <th>is storm</th>\n",
       "      <td>0.735808</td>\n",
       "      <td>0.666008</td>\n",
       "      <td>0.699170</td>\n",
       "      <td>506.0</td>\n",
       "    </tr>\n",
       "    <tr>\n",
       "      <th>is shelter</th>\n",
       "      <td>0.756684</td>\n",
       "      <td>0.603412</td>\n",
       "      <td>0.671412</td>\n",
       "      <td>469.0</td>\n",
       "    </tr>\n",
       "    <tr>\n",
       "      <th>is direct_report</th>\n",
       "      <td>0.687432</td>\n",
       "      <td>0.613659</td>\n",
       "      <td>0.648454</td>\n",
       "      <td>1025.0</td>\n",
       "    </tr>\n",
       "    <tr>\n",
       "      <th>is death</th>\n",
       "      <td>0.786207</td>\n",
       "      <td>0.440154</td>\n",
       "      <td>0.564356</td>\n",
       "      <td>259.0</td>\n",
       "    </tr>\n",
       "    <tr>\n",
       "      <th>is clothing</th>\n",
       "      <td>0.770833</td>\n",
       "      <td>0.393617</td>\n",
       "      <td>0.521127</td>\n",
       "      <td>94.0</td>\n",
       "    </tr>\n",
       "    <tr>\n",
       "      <th>is cold</th>\n",
       "      <td>0.795918</td>\n",
       "      <td>0.354545</td>\n",
       "      <td>0.490566</td>\n",
       "      <td>110.0</td>\n",
       "    </tr>\n",
       "    <tr>\n",
       "      <th>is buildings</th>\n",
       "      <td>0.671053</td>\n",
       "      <td>0.380597</td>\n",
       "      <td>0.485714</td>\n",
       "      <td>268.0</td>\n",
       "    </tr>\n",
       "    <tr>\n",
       "      <th>is medical_products</th>\n",
       "      <td>0.651515</td>\n",
       "      <td>0.341270</td>\n",
       "      <td>0.447917</td>\n",
       "      <td>252.0</td>\n",
       "    </tr>\n",
       "    <tr>\n",
       "      <th>is electricity</th>\n",
       "      <td>0.660000</td>\n",
       "      <td>0.336735</td>\n",
       "      <td>0.445946</td>\n",
       "      <td>98.0</td>\n",
       "    </tr>\n",
       "    <tr>\n",
       "      <th>is medical_help</th>\n",
       "      <td>0.606557</td>\n",
       "      <td>0.339450</td>\n",
       "      <td>0.435294</td>\n",
       "      <td>436.0</td>\n",
       "    </tr>\n",
       "    <tr>\n",
       "      <th>is transport</th>\n",
       "      <td>0.786667</td>\n",
       "      <td>0.257642</td>\n",
       "      <td>0.388158</td>\n",
       "      <td>229.0</td>\n",
       "    </tr>\n",
       "    <tr>\n",
       "      <th>is other_aid</th>\n",
       "      <td>0.587156</td>\n",
       "      <td>0.271570</td>\n",
       "      <td>0.371373</td>\n",
       "      <td>707.0</td>\n",
       "    </tr>\n",
       "    <tr>\n",
       "      <th>is military</th>\n",
       "      <td>0.610390</td>\n",
       "      <td>0.265537</td>\n",
       "      <td>0.370079</td>\n",
       "      <td>177.0</td>\n",
       "    </tr>\n",
       "    <tr>\n",
       "      <th>is refugees</th>\n",
       "      <td>0.666667</td>\n",
       "      <td>0.202247</td>\n",
       "      <td>0.310345</td>\n",
       "      <td>178.0</td>\n",
       "    </tr>\n",
       "    <tr>\n",
       "      <th>is money</th>\n",
       "      <td>0.625000</td>\n",
       "      <td>0.170940</td>\n",
       "      <td>0.268456</td>\n",
       "      <td>117.0</td>\n",
       "    </tr>\n",
       "    <tr>\n",
       "      <th>is fire</th>\n",
       "      <td>0.777778</td>\n",
       "      <td>0.134615</td>\n",
       "      <td>0.229508</td>\n",
       "      <td>52.0</td>\n",
       "    </tr>\n",
       "    <tr>\n",
       "      <th>is search_and_rescue</th>\n",
       "      <td>0.566667</td>\n",
       "      <td>0.140496</td>\n",
       "      <td>0.225166</td>\n",
       "      <td>121.0</td>\n",
       "    </tr>\n",
       "    <tr>\n",
       "      <th>is other_weather</th>\n",
       "      <td>0.571429</td>\n",
       "      <td>0.120301</td>\n",
       "      <td>0.198758</td>\n",
       "      <td>266.0</td>\n",
       "    </tr>\n",
       "    <tr>\n",
       "      <th>is missing_people</th>\n",
       "      <td>0.714286</td>\n",
       "      <td>0.090909</td>\n",
       "      <td>0.161290</td>\n",
       "      <td>55.0</td>\n",
       "    </tr>\n",
       "    <tr>\n",
       "      <th>is infrastructure_related</th>\n",
       "      <td>0.439394</td>\n",
       "      <td>0.088685</td>\n",
       "      <td>0.147583</td>\n",
       "      <td>327.0</td>\n",
       "    </tr>\n",
       "    <tr>\n",
       "      <th>is offer</th>\n",
       "      <td>1.000000</td>\n",
       "      <td>0.041667</td>\n",
       "      <td>0.080000</td>\n",
       "      <td>24.0</td>\n",
       "    </tr>\n",
       "    <tr>\n",
       "      <th>is other_infrastructure</th>\n",
       "      <td>0.281250</td>\n",
       "      <td>0.041284</td>\n",
       "      <td>0.072000</td>\n",
       "      <td>218.0</td>\n",
       "    </tr>\n",
       "    <tr>\n",
       "      <th>is aid_centers</th>\n",
       "      <td>1.000000</td>\n",
       "      <td>0.017857</td>\n",
       "      <td>0.035088</td>\n",
       "      <td>56.0</td>\n",
       "    </tr>\n",
       "    <tr>\n",
       "      <th>is hospitals</th>\n",
       "      <td>1.000000</td>\n",
       "      <td>0.015625</td>\n",
       "      <td>0.030769</td>\n",
       "      <td>64.0</td>\n",
       "    </tr>\n",
       "    <tr>\n",
       "      <th>is shops</th>\n",
       "      <td>0.000000</td>\n",
       "      <td>0.000000</td>\n",
       "      <td>0.000000</td>\n",
       "      <td>23.0</td>\n",
       "    </tr>\n",
       "    <tr>\n",
       "      <th>is tools</th>\n",
       "      <td>0.000000</td>\n",
       "      <td>0.000000</td>\n",
       "      <td>0.000000</td>\n",
       "      <td>26.0</td>\n",
       "    </tr>\n",
       "    <tr>\n",
       "      <th>is security</th>\n",
       "      <td>0.000000</td>\n",
       "      <td>0.000000</td>\n",
       "      <td>0.000000</td>\n",
       "      <td>80.0</td>\n",
       "    </tr>\n",
       "  </tbody>\n",
       "</table>\n",
       "</div>"
      ],
      "text/plain": [
       "                           precision    recall  f1-score  support\n",
       "is earthquake               0.869359  0.783726  0.824324    467.0\n",
       "is food                     0.814433  0.797980  0.806122    594.0\n",
       "is weather_related          0.778933  0.777855  0.778393   1445.0\n",
       "is aid_related              0.698929  0.815261  0.752626   2241.0\n",
       "is water                    0.733333  0.711765  0.722388    340.0\n",
       "is floods                   0.871186  0.614833  0.720898    418.0\n",
       "is storm                    0.735808  0.666008  0.699170    506.0\n",
       "is shelter                  0.756684  0.603412  0.671412    469.0\n",
       "is direct_report            0.687432  0.613659  0.648454   1025.0\n",
       "is death                    0.786207  0.440154  0.564356    259.0\n",
       "is clothing                 0.770833  0.393617  0.521127     94.0\n",
       "is cold                     0.795918  0.354545  0.490566    110.0\n",
       "is buildings                0.671053  0.380597  0.485714    268.0\n",
       "is medical_products         0.651515  0.341270  0.447917    252.0\n",
       "is electricity              0.660000  0.336735  0.445946     98.0\n",
       "is medical_help             0.606557  0.339450  0.435294    436.0\n",
       "is transport                0.786667  0.257642  0.388158    229.0\n",
       "is other_aid                0.587156  0.271570  0.371373    707.0\n",
       "is military                 0.610390  0.265537  0.370079    177.0\n",
       "is refugees                 0.666667  0.202247  0.310345    178.0\n",
       "is money                    0.625000  0.170940  0.268456    117.0\n",
       "is fire                     0.777778  0.134615  0.229508     52.0\n",
       "is search_and_rescue        0.566667  0.140496  0.225166    121.0\n",
       "is other_weather            0.571429  0.120301  0.198758    266.0\n",
       "is missing_people           0.714286  0.090909  0.161290     55.0\n",
       "is infrastructure_related   0.439394  0.088685  0.147583    327.0\n",
       "is offer                    1.000000  0.041667  0.080000     24.0\n",
       "is other_infrastructure     0.281250  0.041284  0.072000    218.0\n",
       "is aid_centers              1.000000  0.017857  0.035088     56.0\n",
       "is hospitals                1.000000  0.015625  0.030769     64.0\n",
       "is shops                    0.000000  0.000000  0.000000     23.0\n",
       "is tools                    0.000000  0.000000  0.000000     26.0\n",
       "is security                 0.000000  0.000000  0.000000     80.0"
      ]
     },
     "execution_count": 73,
     "metadata": {},
     "output_type": "execute_result"
    }
   ],
   "source": [
    "%%capture --no-display\n",
    "\n",
    "y_pred = pipeline.predict(df_test['message'])\n",
    "\n",
    "df_reports = []\n",
    "for i, col in enumerate(other_classes):\n",
    "    df_reports.append(classification_report_dataframe(y_test_other_classes, y_pred, i, col))\n",
    "report_df = pd.concat(df_reports)\n",
    "report_df[~report_df.index.str.startswith('is not')].sort_values(by='f1-score', ascending=False)"
   ]
  },
  {
   "cell_type": "markdown",
   "metadata": {},
   "source": [
    "Let's apply data augmentation only for those classes. Since we eliminated related and request, this should rebalance the data."
   ]
  },
  {
   "cell_type": "code",
   "execution_count": 74,
   "metadata": {},
   "outputs": [],
   "source": [
    "df_train_minority, _ = get_minority_samples(df_train_other_classes, y_train_other_classes)"
   ]
  },
  {
   "cell_type": "code",
   "execution_count": 77,
   "metadata": {},
   "outputs": [
    {
     "name": "stderr",
     "output_type": "stream",
     "text": [
      "100%|██████████| 4780/4780 [00:41<00:00, 115.98it/s]\n"
     ]
    }
   ],
   "source": [
    "df_minority_augmented = augment_minority_samples(df_train_minority, augmentations=[syn_aug, antonym_aug, random_swap_aug, random_delete_aug])"
   ]
  },
  {
   "cell_type": "code",
   "execution_count": 78,
   "metadata": {},
   "outputs": [],
   "source": [
    "df_train_augmented = pd.concat([df_train_other_classes, df_minority_augmented]).reset_index(drop=True)\n",
    "y_train_augmented = df_train_augmented.loc[:, other_classes]"
   ]
  },
  {
   "cell_type": "code",
   "execution_count": 79,
   "metadata": {},
   "outputs": [
    {
     "data": {
      "image/png": "[encoded data removed]",
      "text/plain": [
       "<Figure size 500x700 with 1 Axes>"
      ]
     },
     "metadata": {},
     "output_type": "display_data"
    }
   ],
   "source": [
    "plt.figure(figsize=(5, 7))\n",
    "\n",
    "title = 'labels_distribution'\n",
    "class_counts = y_train_other_classes.sum().sort_values(ascending=False).to_frame().reset_index()\n",
    "class_counts_aug = y_train_augmented.sum().sort_values(ascending=False).to_frame().reset_index()\n",
    "class_counts.columns = ['labels', 'count']\n",
    "class_counts_aug.columns = ['labels', 'count']\n",
    "sb.barplot(data=class_counts_aug, y='labels', x='count', color=sb.color_palette()[1], label='original')\n",
    "sb.barplot(data=class_counts, y='labels', x='count', color=sb.color_palette()[0], label='augmented')\n",
    "plt.legend()\n",
    "plt.title(title);"
   ]
  },
  {
   "cell_type": "code",
   "execution_count": 26,
   "metadata": {},
   "outputs": [
    {
     "ename": "NameError",
     "evalue": "name 'df_train_augmented' is not defined",
     "output_type": "error",
     "traceback": [
      "\u001b[0;31m---------------------------------------------------------------------------\u001b[0m",
      "\u001b[0;31mNameError\u001b[0m                                 Traceback (most recent call last)",
      "Cell \u001b[0;32mIn[26], line 2\u001b[0m\n\u001b[1;32m      1\u001b[0m pipeline \u001b[38;5;241m=\u001b[39m simple_pipeline(ngram_range\u001b[38;5;241m=\u001b[39m(\u001b[38;5;241m1\u001b[39m, \u001b[38;5;241m3\u001b[39m), model\u001b[38;5;241m=\u001b[39mLinearSVC)\n\u001b[0;32m----> 2\u001b[0m pipeline\u001b[38;5;241m.\u001b[39mfit(\u001b[43mdf_train_augmented\u001b[49m[\u001b[38;5;124m'\u001b[39m\u001b[38;5;124mmessage\u001b[39m\u001b[38;5;124m'\u001b[39m], y_train_augmented)\n\u001b[1;32m      3\u001b[0m classification_metrics(y_test_other_classes, pipeline\u001b[38;5;241m.\u001b[39mpredict(df_test[\u001b[38;5;124m'\u001b[39m\u001b[38;5;124mmessage\u001b[39m\u001b[38;5;124m'\u001b[39m]))\n",
      "\u001b[0;31mNameError\u001b[0m: name 'df_train_augmented' is not defined"
     ]
    }
   ],
   "source": [
    "pipeline = simple_pipeline(ngram_range=(1, 3), model=LinearSVC)\n",
    "pipeline.fit(df_train_augmented['message'], y_train_augmented)\n",
    "classification_metrics(y_test_other_classes, pipeline.predict(df_test['message']))"
   ]
  },
  {
   "cell_type": "markdown",
   "metadata": {},
   "source": [
    "This simple data augmentation technique didn't seem to help a lot. Maybe we should try using algorithms which assign different weights according to labels. We will use the scikit-multilearn library to test multiple techniques which can take into account the long tail classes distribution"
   ]
  },
  {
   "cell_type": "markdown",
   "metadata": {},
   "source": [
    "## SCIKIT-MULTILEARN"
   ]
  },
  {
   "cell_type": "markdown",
   "metadata": {},
   "source": [
    "Let's rerun our baseline model"
   ]
  },
  {
   "cell_type": "code",
   "execution_count": 52,
   "metadata": {},
   "outputs": [
    {
     "name": "stdout",
     "output_type": "stream",
     "text": [
      "Accuracy =  0.2887149131181974\n",
      "f1 score (micro) =  0.7108576414859137\n",
      "f1 score (macro) =  0.7108576414859137\n",
      "jaccard similarity =  0.460120243006297\n",
      "Hamming loss =  0.05061785646089637\n"
     ]
    },
    {
     "name": "stderr",
     "output_type": "stream",
     "text": [
      "/opt/conda/lib/python3.8/site-packages/sklearn/metrics/_classification.py:1344: UndefinedMetricWarning: Jaccard is ill-defined and being set to 0.0 in samples with no true or predicted labels. Use `zero_division` parameter to control this behavior.\n",
      "  _warn_prf(average, modifier, msg_start, len(result))\n"
     ]
    }
   ],
   "source": [
    "pipeline = simple_pipeline(stop_words=stop_words, ngram_range=(1, 3), model=LinearSVC)\n",
    "pipeline.fit(df_train['message'], y_train)\n",
    "classification_metrics(y_test, pipeline.predict(df_test['message']))"
   ]
  },
  {
   "cell_type": "markdown",
   "metadata": {},
   "source": [
    "Number of unique label combination"
   ]
  },
  {
   "cell_type": "code",
   "execution_count": 53,
   "metadata": {},
   "outputs": [
    {
     "data": {
      "text/plain": [
       "(3401, 35)"
      ]
     },
     "execution_count": 53,
     "metadata": {},
     "output_type": "execute_result"
    }
   ],
   "source": [
    "np.unique(y_train, axis=0).shape"
   ]
  },
  {
   "cell_type": "markdown",
   "metadata": {},
   "source": [
    "As we can see, we have arround 3400 different label combinations. This means that algorithms like ... , ... , ... will not perform well or take too much time to train"
   ]
  },
  {
   "cell_type": "markdown",
   "metadata": {},
   "source": [
    "Labels coocurence matrix"
   ]
  },
  {
   "cell_type": "code",
   "execution_count": 19,
   "metadata": {},
   "outputs": [],
   "source": [
    "from skmultilearn.cluster import LabelCooccurrenceGraphBuilder\n",
    "\n",
    "graph_builder = LabelCooccurrenceGraphBuilder(weighted=True, include_self_edges=False)\n",
    "edge_map = graph_builder.transform(np.array(y_train))"
   ]
  },
  {
   "cell_type": "code",
   "execution_count": 20,
   "metadata": {},
   "outputs": [],
   "source": [
    "n_classes = len(category_colnames)\n",
    "coocurence_matrix = np.zeros((n_classes, n_classes))\n",
    "for i in range(n_classes):\n",
    "    for j in range(n_classes):\n",
    "        p_i_j = np.sum((y_train[category_colnames[i]] == 1) & (y_train[category_colnames[j]] == 1)) / np.sum(y_train[category_colnames[i]] == 1)\n",
    "        coocurence_matrix[i, j] = p_i_j"
   ]
  },
  {
   "cell_type": "code",
   "execution_count": 21,
   "metadata": {},
   "outputs": [
    {
     "data": {
      "image/png": "[encoded data removed]",
      "text/plain": [
       "<Figure size 864x720 with 2 Axes>"
      ]
     },
     "metadata": {
      "needs_background": "light"
     },
     "output_type": "display_data"
    }
   ],
   "source": [
    "plt.figure(figsize=(12, 10))\n",
    "sb.heatmap(data=coocurence_matrix, xticklabels=category_colnames, yticklabels=category_colnames);"
   ]
  },
  {
   "cell_type": "markdown",
   "metadata": {},
   "source": [
    "This heatmap represents the probabilities p(i|j) i.e. the probability of an instance containing the label i under the condition of containing label j. \n",
    "For example we can see that when the probabilities of having labels like storm, floods, cold, fire, earthquake are very high when we also have label weather_related in the instance.\n",
    "Also, when we have label infrastructure related, the probabilities of hospitals, shops, aid_centers are high.\n",
    "A model taking account label cooccurences might give better results"
   ]
  },
  {
   "cell_type": "markdown",
   "metadata": {},
   "source": [
    "#### Stochastic Block Model"
   ]
  },
  {
   "cell_type": "code",
   "execution_count": 20,
   "metadata": {},
   "outputs": [],
   "source": [
    "# !conda create --name gt -c conda-forge graph-tool -y"
   ]
  },
  {
   "cell_type": "code",
   "execution_count": 21,
   "metadata": {},
   "outputs": [],
   "source": [
    "# !conda init bash"
   ]
  },
  {
   "cell_type": "code",
   "execution_count": 22,
   "metadata": {},
   "outputs": [],
   "source": [
    "# !conda activate gt"
   ]
  },
  {
   "cell_type": "code",
   "execution_count": 23,
   "metadata": {},
   "outputs": [],
   "source": [
    "# from skmultilearn.cluster.graphtool import GraphToolLabelGraphClusterer, StochasticBlockModel"
   ]
  },
  {
   "cell_type": "code",
   "execution_count": 23,
   "metadata": {},
   "outputs": [
    {
     "name": "stdout",
     "output_type": "stream",
     "text": [
      "[LibLinear]....*\n",
      "optimization finished, #iter = 45\n",
      "Objective value = -3988.099446\n",
      "nSV = 17309\n",
      "[LibLinear]....*\n",
      "optimization finished, #iter = 44\n",
      "Objective value = -2561.728811\n",
      "nSV = 16319\n",
      "[LibLinear]....*\n",
      "optimization finished, #iter = 42\n",
      "Objective value = -129.558083\n",
      "nSV = 5346\n",
      "[LibLinear]....*\n",
      "optimization finished, #iter = 46\n",
      "Objective value = -5080.794252\n",
      "nSV = 19629\n",
      "[LibLinear]....*\n",
      "optimization finished, #iter = 42\n",
      "Objective value = -1762.497491\n",
      "nSV = 15961\n",
      "[LibLinear]....*\n",
      "optimization finished, #iter = 42\n",
      "Objective value = -1137.524865\n",
      "nSV = 13226\n",
      "[LibLinear]....*\n",
      "optimization finished, #iter = 41\n",
      "Objective value = -728.161397\n",
      "nSV = 12789\n",
      "[LibLinear]...*.\n",
      "optimization finished, #iter = 40\n",
      "Objective value = -535.963410\n",
      "nSV = 12324\n",
      "[LibLinear]....*\n",
      "optimization finished, #iter = 43\n",
      "Objective value = -730.179689\n",
      "nSV = 11305\n",
      "[LibLinear]...*\n",
      "optimization finished, #iter = 38\n",
      "Objective value = -945.159130\n",
      "nSV = 9984\n",
      "[LibLinear]...*\n",
      "optimization finished, #iter = 39\n",
      "Objective value = -1504.700635\n",
      "nSV = 14063\n",
      "[LibLinear]...*.\n",
      "optimization finished, #iter = 40\n",
      "Objective value = -1504.496257\n",
      "nSV = 13594\n",
      "[LibLinear]...*\n",
      "optimization finished, #iter = 34\n",
      "Objective value = -335.289594\n",
      "nSV = 8219\n",
      "[LibLinear]...*\n",
      "optimization finished, #iter = 39\n",
      "Objective value = -550.387557\n",
      "nSV = 9354\n",
      "[LibLinear]...*\n",
      "optimization finished, #iter = 39\n",
      "Objective value = -314.477843\n",
      "nSV = 8882\n",
      "[LibLinear]....*\n",
      "optimization finished, #iter = 42\n",
      "Objective value = -823.346687\n",
      "nSV = 12267\n",
      "[LibLinear]...*.\n",
      "optimization finished, #iter = 40\n",
      "Objective value = -911.106597\n",
      "nSV = 11556\n",
      "[LibLinear]....*\n",
      "optimization finished, #iter = 45\n",
      "Objective value = -3017.422697\n",
      "nSV = 18299\n",
      "[LibLinear]....*\n",
      "optimization finished, #iter = 42\n",
      "Objective value = -1656.172852\n",
      "nSV = 15639\n",
      "[LibLinear]...*.\n",
      "optimization finished, #iter = 40\n",
      "Objective value = -1155.677149\n",
      "nSV = 14941\n",
      "[LibLinear]...*.\n",
      "optimization finished, #iter = 40\n",
      "Objective value = -1088.959542\n",
      "nSV = 12424\n",
      "[LibLinear]...*\n",
      "optimization finished, #iter = 36\n",
      "Objective value = -465.580203\n",
      "nSV = 9592\n",
      "[LibLinear]...*.\n",
      "optimization finished, #iter = 40\n",
      "Objective value = -185.211005\n",
      "nSV = 7453\n",
      "[LibLinear]...*\n",
      "optimization finished, #iter = 37\n",
      "Objective value = -284.791129\n",
      "nSV = 7737\n",
      "[LibLinear]...*\n",
      "optimization finished, #iter = 32\n",
      "Objective value = -131.805146\n",
      "nSV = 6390\n",
      "[LibLinear]....*\n",
      "optimization finished, #iter = 43\n",
      "Objective value = -339.818929\n",
      "nSV = 8133\n",
      "[LibLinear]....*\n",
      "optimization finished, #iter = 44\n",
      "Objective value = -1166.514016\n",
      "nSV = 13994\n",
      "[LibLinear]....*\n",
      "optimization finished, #iter = 44\n",
      "Objective value = -3617.734025\n",
      "nSV = 19159\n",
      "[LibLinear]...*.\n",
      "optimization finished, #iter = 40\n",
      "Objective value = -1492.392375\n",
      "nSV = 15863\n",
      "[LibLinear]....*\n",
      "optimization finished, #iter = 43\n",
      "Objective value = -1552.343088\n",
      "nSV = 15034\n",
      "[LibLinear]...*\n",
      "optimization finished, #iter = 36\n",
      "Objective value = -277.907602\n",
      "nSV = 9009\n",
      "[LibLinear]....*\n",
      "optimization finished, #iter = 44\n",
      "Objective value = -1314.452053\n",
      "nSV = 15599\n",
      "[LibLinear]....*\n",
      "optimization finished, #iter = 43\n",
      "Objective value = -470.888276\n",
      "nSV = 9951\n",
      "[LibLinear]....*\n",
      "optimization finished, #iter = 42\n",
      "Objective value = -1320.531293\n",
      "nSV = 15264\n",
      "[LibLinear]....*\n",
      "optimization finished, #iter = 46\n",
      "Objective value = -3320.172710\n",
      "nSV = 18342\n",
      "Accuracy =  0.284514034752721\n",
      "f1 score (micro) =  0.7038948850305021\n",
      "f1 score (macro) =  0.7038948850305021\n",
      "jaccard similarity =  0.46009022849116643\n",
      "Hamming loss =  0.05163806977822635\n"
     ]
    },
    {
     "name": "stderr",
     "output_type": "stream",
     "text": [
      "/opt/conda/lib/python3.8/site-packages/sklearn/metrics/_classification.py:1344: UndefinedMetricWarning: Jaccard is ill-defined and being set to 0.0 in samples with no true or predicted labels. Use `zero_division` parameter to control this behavior.\n",
      "  _warn_prf(average, modifier, msg_start, len(result))\n"
     ]
    }
   ],
   "source": [
    "pipeline =  Pipeline([\n",
    "    ('tfidf_vectorizer', TfidfVectorizer(stop_words=stop_words, ngram_range=(1,3))),\n",
    "    ('model', MultiOutputClassifier(LinearSVC(verbose=1)))\n",
    "])\n",
    "pipeline.fit(df_train['message'], y_train)\n",
    "classification_metrics(y_test, pipeline.predict(df_test['message']))"
   ]
  },
  {
   "cell_type": "code",
   "execution_count": null,
   "metadata": {},
   "outputs": [],
   "source": [
    "pipeline =  Pipeline([\n",
    "    ('tfidf_vectorizer', TfidfVectorizer(stop_words=stop_words, ngram_range=(1,3))),\n",
    "    ('model', BinaryRelevance(LinearSVC(verbose=1)))\n",
    "])\n",
    "pipeline.fit(df_train['message'], y_train.iloc[:, :2])\n",
    "classification_metrics(y_test.iloc[:, :2], pipeline.predict(df_test['message']))"
   ]
  },
  {
   "cell_type": "code",
   "execution_count": 24,
   "metadata": {},
   "outputs": [
    {
     "name": "stdout",
     "output_type": "stream",
     "text": [
      "emotions:train - exists, not redownloading\n",
      "emotions:test - exists, not redownloading\n"
     ]
    },
    {
     "ename": "TypeError",
     "evalue": "__init__() takes 1 positional argument but 2 were given",
     "output_type": "error",
     "traceback": [
      "\u001b[0;31m---------------------------------------------------------------------------\u001b[0m",
      "\u001b[0;31mTypeError\u001b[0m                                 Traceback (most recent call last)",
      "Cell \u001b[0;32mIn[24], line 10\u001b[0m\n\u001b[1;32m      7\u001b[0m classifier \u001b[38;5;241m=\u001b[39m MLkNN(k\u001b[38;5;241m=\u001b[39m\u001b[38;5;241m3\u001b[39m)\n\u001b[1;32m      9\u001b[0m \u001b[38;5;66;03m# train\u001b[39;00m\n\u001b[0;32m---> 10\u001b[0m \u001b[43mclassifier\u001b[49m\u001b[38;5;241;43m.\u001b[39;49m\u001b[43mfit\u001b[49m\u001b[43m(\u001b[49m\u001b[43mX_train\u001b[49m\u001b[43m,\u001b[49m\u001b[43m \u001b[49m\u001b[43my_train\u001b[49m\u001b[43m)\u001b[49m\n\u001b[1;32m     12\u001b[0m \u001b[38;5;66;03m# predict\u001b[39;00m\n\u001b[1;32m     13\u001b[0m predictions \u001b[38;5;241m=\u001b[39m classifier\u001b[38;5;241m.\u001b[39mpredict(X_test)\n",
      "File \u001b[0;32m/opt/conda/lib/python3.8/site-packages/skmultilearn/adapt/mlknn.py:218\u001b[0m, in \u001b[0;36mMLkNN.fit\u001b[0;34m(self, X, y)\u001b[0m\n\u001b[1;32m    216\u001b[0m \u001b[38;5;28mself\u001b[39m\u001b[38;5;241m.\u001b[39m_prior_prob_true, \u001b[38;5;28mself\u001b[39m\u001b[38;5;241m.\u001b[39m_prior_prob_false \u001b[38;5;241m=\u001b[39m \u001b[38;5;28mself\u001b[39m\u001b[38;5;241m.\u001b[39m_compute_prior(\u001b[38;5;28mself\u001b[39m\u001b[38;5;241m.\u001b[39m_label_cache)\n\u001b[1;32m    217\u001b[0m \u001b[38;5;66;03m# Computing the posterior probabilities\u001b[39;00m\n\u001b[0;32m--> 218\u001b[0m \u001b[38;5;28mself\u001b[39m\u001b[38;5;241m.\u001b[39m_cond_prob_true, \u001b[38;5;28mself\u001b[39m\u001b[38;5;241m.\u001b[39m_cond_prob_false \u001b[38;5;241m=\u001b[39m \u001b[38;5;28;43mself\u001b[39;49m\u001b[38;5;241;43m.\u001b[39;49m\u001b[43m_compute_cond\u001b[49m\u001b[43m(\u001b[49m\u001b[43mX\u001b[49m\u001b[43m,\u001b[49m\u001b[43m \u001b[49m\u001b[38;5;28;43mself\u001b[39;49m\u001b[38;5;241;43m.\u001b[39;49m\u001b[43m_label_cache\u001b[49m\u001b[43m)\u001b[49m\n\u001b[1;32m    219\u001b[0m \u001b[38;5;28;01mreturn\u001b[39;00m \u001b[38;5;28mself\u001b[39m\n",
      "File \u001b[0;32m/opt/conda/lib/python3.8/site-packages/skmultilearn/adapt/mlknn.py:165\u001b[0m, in \u001b[0;36mMLkNN._compute_cond\u001b[0;34m(self, X, y)\u001b[0m\n\u001b[1;32m    146\u001b[0m \u001b[38;5;28;01mdef\u001b[39;00m \u001b[38;5;21m_compute_cond\u001b[39m(\u001b[38;5;28mself\u001b[39m, X, y):\n\u001b[1;32m    147\u001b[0m     \u001b[38;5;124;03m\"\"\"Helper function to compute for the posterior probabilities\u001b[39;00m\n\u001b[1;32m    148\u001b[0m \n\u001b[1;32m    149\u001b[0m \u001b[38;5;124;03m    Parameters\u001b[39;00m\n\u001b[0;32m   (...)\u001b[0m\n\u001b[1;32m    162\u001b[0m \u001b[38;5;124;03m        the posterior probability given false\u001b[39;00m\n\u001b[1;32m    163\u001b[0m \u001b[38;5;124;03m    \"\"\"\u001b[39;00m\n\u001b[0;32m--> 165\u001b[0m     \u001b[38;5;28mself\u001b[39m\u001b[38;5;241m.\u001b[39mknn_ \u001b[38;5;241m=\u001b[39m \u001b[43mNearestNeighbors\u001b[49m\u001b[43m(\u001b[49m\u001b[38;5;28;43mself\u001b[39;49m\u001b[38;5;241;43m.\u001b[39;49m\u001b[43mk\u001b[49m\u001b[43m)\u001b[49m\u001b[38;5;241m.\u001b[39mfit(X)\n\u001b[1;32m    166\u001b[0m     c \u001b[38;5;241m=\u001b[39m sparse\u001b[38;5;241m.\u001b[39mlil_matrix((\u001b[38;5;28mself\u001b[39m\u001b[38;5;241m.\u001b[39m_num_labels, \u001b[38;5;28mself\u001b[39m\u001b[38;5;241m.\u001b[39mk \u001b[38;5;241m+\u001b[39m \u001b[38;5;241m1\u001b[39m), dtype\u001b[38;5;241m=\u001b[39m\u001b[38;5;124m'\u001b[39m\u001b[38;5;124mi8\u001b[39m\u001b[38;5;124m'\u001b[39m)\n\u001b[1;32m    167\u001b[0m     cn \u001b[38;5;241m=\u001b[39m sparse\u001b[38;5;241m.\u001b[39mlil_matrix((\u001b[38;5;28mself\u001b[39m\u001b[38;5;241m.\u001b[39m_num_labels, \u001b[38;5;28mself\u001b[39m\u001b[38;5;241m.\u001b[39mk \u001b[38;5;241m+\u001b[39m \u001b[38;5;241m1\u001b[39m), dtype\u001b[38;5;241m=\u001b[39m\u001b[38;5;124m'\u001b[39m\u001b[38;5;124mi8\u001b[39m\u001b[38;5;124m'\u001b[39m)\n",
      "\u001b[0;31mTypeError\u001b[0m: __init__() takes 1 positional argument but 2 were given"
     ]
    }
   ],
   "source": [
    "from skmultilearn.dataset import load_dataset\n",
    "\n",
    "X_train, y_train, feature_names, label_names = load_dataset('emotions', 'train')\n",
    "X_test, y_test, _, _ =load_dataset('emotions', 'test')\n",
    "\n",
    "from skmultilearn.adapt import MLkNN\n",
    "classifier = MLkNN(k=3)\n",
    "\n",
    "# train\n",
    "classifier.fit(X_train, y_train)\n",
    "\n",
    "# predict\n",
    "predictions = classifier.predict(X_test)"
   ]
  },
  {
   "cell_type": "code",
   "execution_count": null,
   "metadata": {},
   "outputs": [],
   "source": [
    "# pipeline =  Pipeline([\n",
    "#     ('tfidf_vectorizer', TfidfVectorizer(stop_words=stop_words, ngram_range=(1,3))),\n",
    "#     ('model', ClassifierChain(LinearSVC(verbose=1), verbose=True))\n",
    "# ])\n",
    "# pipeline.fit(df_train['message'], y_train)\n",
    "# classification_metrics(y_test, pipeline.predict(df_test['message']))"
   ]
  },
  {
   "cell_type": "code",
   "execution_count": 3,
   "metadata": {},
   "outputs": [],
   "source": [
    "# from scipy.sparse import csr_matrix, lil_matrix\n",
    "\n",
    "# pipeline =  Pipeline([\n",
    "#     ('tfidf_vectorizer', TfidfVectorizer(stop_words=stop_words, ngram_range=(1,3))),\n",
    "#     ('model', MLkNN(k=3))\n",
    "# ])\n",
    "# X_train = lil_matrix(df_train['message']).toarray()\n",
    "# y_tain = lil_matrix(y_train).toarray()\n",
    "# pipeline.fit(X_train, y_tain)\n",
    "\n",
    "# X_test = lil_matrix(df_test['message']).toarray()\n",
    "# classification_metrics(y_test, pipeline.predict(X_test))"
   ]
  },
  {
   "cell_type": "markdown",
   "metadata": {},
   "source": [
    "### 4. Train pipeline\n",
    "- Split data into train and test sets\n",
    "- Train pipeline"
   ]
  },
  {
   "cell_type": "code",
   "execution_count": null,
   "metadata": {},
   "outputs": [],
   "source": []
  },
  {
   "cell_type": "markdown",
   "metadata": {},
   "source": [
    "### 5. Test your model\n",
    "Report the f1 score, precision and recall for each output category of the dataset. You can do this by iterating through the columns and calling sklearn's `classification_report` on each."
   ]
  },
  {
   "cell_type": "code",
   "execution_count": null,
   "metadata": {},
   "outputs": [],
   "source": []
  },
  {
   "cell_type": "markdown",
   "metadata": {},
   "source": [
    "### 6. Improve your model\n",
    "Use grid search to find better parameters. "
   ]
  },
  {
   "cell_type": "code",
   "execution_count": null,
   "metadata": {},
   "outputs": [],
   "source": [
    "parameters = \n",
    "\n",
    "cv = "
   ]
  },
  {
   "cell_type": "markdown",
   "metadata": {},
   "source": [
    "### 7. Test your model\n",
    "Show the accuracy, precision, and recall of the tuned model.  \n",
    "\n",
    "Since this project focuses on code quality, process, and  pipelines, there is no minimum performance metric needed to pass. However, make sure to fine tune your models for accuracy, precision and recall to make your project stand out - especially for your portfolio!"
   ]
  },
  {
   "cell_type": "code",
   "execution_count": null,
   "metadata": {},
   "outputs": [],
   "source": []
  },
  {
   "cell_type": "markdown",
   "metadata": {},
   "source": [
    "### 8. Try improving your model further. Here are a few ideas:\n",
    "* try other machine learning algorithms\n",
    "* add other features besides the TF-IDF"
   ]
  },
  {
   "cell_type": "code",
   "execution_count": null,
   "metadata": {},
   "outputs": [],
   "source": []
  },
  {
   "cell_type": "markdown",
   "metadata": {},
   "source": [
    "### 9. Export your model as a pickle file"
   ]
  },
  {
   "cell_type": "code",
   "execution_count": null,
   "metadata": {},
   "outputs": [],
   "source": []
  },
  {
   "cell_type": "markdown",
   "metadata": {},
   "source": [
    "### 10. Use this notebook to complete `train.py`\n",
    "Use the template file attached in the Resources folder to write a script that runs the steps above to create a database and export a model based on a new dataset specified by the user."
   ]
  },
  {
   "cell_type": "code",
   "execution_count": null,
   "metadata": {},
   "outputs": [],
   "source": []
  }
 ],
 "metadata": {
  "instance_type": "ml.t3.medium",
  "kernelspec": {
   "display_name": "Python 3 (Data Science 2.0)",
   "language": "python",
   "name": "python3__SAGEMAKER_INTERNAL__arn:aws:sagemaker:us-east-1:081325390199:image/sagemaker-data-science-38"
  },
  "language_info": {
   "codemirror_mode": {
    "name": "ipython",
    "version": 3
   },
   "file_extension": ".py",
   "mimetype": "text/x-python",
   "name": "python",
   "nbconvert_exporter": "python",
   "pygments_lexer": "ipython3",
   "version": "3.8.13"
  }
 },
 "nbformat": 4,
 "nbformat_minor": 4
}
