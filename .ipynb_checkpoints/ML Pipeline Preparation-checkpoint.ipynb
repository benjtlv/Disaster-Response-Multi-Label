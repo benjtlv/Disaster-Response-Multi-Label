{
 "cells": [
  {
   "cell_type": "markdown",
   "metadata": {},
   "source": [
    "# ML Pipeline Preparation\n",
    "Follow the instructions below to help you create your ML pipeline.\n",
    "### 1. Import libraries and load data from database.\n",
    "- Import Python libraries\n",
    "- Load dataset from database with [`read_sql_table`](https://pandas.pydata.org/pandas-docs/stable/generated/pandas.read_sql_table.html)\n",
    "- Define feature and target variables X and Y"
   ]
  },
  {
   "cell_type": "code",
   "execution_count": 2,
   "metadata": {},
   "outputs": [
    {
     "name": "stdout",
     "output_type": "stream",
     "text": [
      "\u001b[33mWARNING: Running pip as the 'root' user can result in broken permissions and conflicting behaviour with the system package manager. It is recommended to use a virtual environment instead: https://pip.pypa.io/warnings/venv\u001b[0m\u001b[33m\n",
      "\u001b[0m"
     ]
    }
   ],
   "source": [
    "!pip install --upgrade pip --quiet"
   ]
  },
  {
   "cell_type": "code",
   "execution_count": 3,
   "metadata": {},
   "outputs": [
    {
     "name": "stdout",
     "output_type": "stream",
     "text": [
      "\u001b[33mWARNING: Running pip as the 'root' user can result in broken permissions and conflicting behaviour with the system package manager. It is recommended to use a virtual environment instead: https://pip.pypa.io/warnings/venv\u001b[0m\u001b[33m\n",
      "\u001b[0m"
     ]
    }
   ],
   "source": [
    "!pip install scikit-learn==1.2.1 --quiet"
   ]
  },
  {
   "cell_type": "code",
   "execution_count": 4,
   "metadata": {},
   "outputs": [
    {
     "name": "stdout",
     "output_type": "stream",
     "text": [
      "\u001b[33mWARNING: Running pip as the 'root' user can result in broken permissions and conflicting behaviour with the system package manager. It is recommended to use a virtual environment instead: https://pip.pypa.io/warnings/venv\u001b[0m\u001b[33m\n",
      "\u001b[0m\u001b[33mWARNING: Running pip as the 'root' user can result in broken permissions and conflicting behaviour with the system package manager. It is recommended to use a virtual environment instead: https://pip.pypa.io/warnings/venv\u001b[0m\u001b[33m\n",
      "\u001b[0m\u001b[33mWARNING: Running pip as the 'root' user can result in broken permissions and conflicting behaviour with the system package manager. It is recommended to use a virtual environment instead: https://pip.pypa.io/warnings/venv\u001b[0m\u001b[33m\n",
      "\u001b[0m\u001b[33mWARNING: Running pip as the 'root' user can result in broken permissions and conflicting behaviour with the system package manager. It is recommended to use a virtual environment instead: https://pip.pypa.io/warnings/venv\u001b[0m\u001b[33m\n",
      "\u001b[0m\u001b[33mWARNING: Running pip as the 'root' user can result in broken permissions and conflicting behaviour with the system package manager. It is recommended to use a virtual environment instead: https://pip.pypa.io/warnings/venv\u001b[0m\u001b[33m\n",
      "\u001b[0m\u001b[33mWARNING: Running pip as the 'root' user can result in broken permissions and conflicting behaviour with the system package manager. It is recommended to use a virtual environment instead: https://pip.pypa.io/warnings/venv\u001b[0m\u001b[33m\n",
      "\u001b[0m\u001b[33mWARNING: Running pip as the 'root' user can result in broken permissions and conflicting behaviour with the system package manager. It is recommended to use a virtual environment instead: https://pip.pypa.io/warnings/venv\u001b[0m\u001b[33m\n",
      "\u001b[0m\u001b[33mWARNING: Running pip as the 'root' user can result in broken permissions and conflicting behaviour with the system package manager. It is recommended to use a virtual environment instead: https://pip.pypa.io/warnings/venv\u001b[0m\u001b[33m\n",
      "\u001b[0m\u001b[33mWARNING: Running pip as the 'root' user can result in broken permissions and conflicting behaviour with the system package manager. It is recommended to use a virtual environment instead: https://pip.pypa.io/warnings/venv\u001b[0m\u001b[33m\n",
      "\u001b[0m\u001b[33mWARNING: Running pip as the 'root' user can result in broken permissions and conflicting behaviour with the system package manager. It is recommended to use a virtual environment instead: https://pip.pypa.io/warnings/venv\u001b[0m\u001b[33m\n",
      "\u001b[0m\u001b[33mWARNING: Running pip as the 'root' user can result in broken permissions and conflicting behaviour with the system package manager. It is recommended to use a virtual environment instead: https://pip.pypa.io/warnings/venv\u001b[0m\u001b[33m\n",
      "\u001b[0m\u001b[33mWARNING: Running pip as the 'root' user can result in broken permissions and conflicting behaviour with the system package manager. It is recommended to use a virtual environment instead: https://pip.pypa.io/warnings/venv\u001b[0m\u001b[33m\n",
      "\u001b[0m\u001b[33mWARNING: Running pip as the 'root' user can result in broken permissions and conflicting behaviour with the system package manager. It is recommended to use a virtual environment instead: https://pip.pypa.io/warnings/venv\u001b[0m\u001b[33m\n",
      "\u001b[0m\u001b[33mWARNING: Running pip as the 'root' user can result in broken permissions and conflicting behaviour with the system package manager. It is recommended to use a virtual environment instead: https://pip.pypa.io/warnings/venv\u001b[0m\u001b[33m\n",
      "\u001b[0m\u001b[33mWARNING: Running pip as the 'root' user can result in broken permissions and conflicting behaviour with the system package manager. It is recommended to use a virtual environment instead: https://pip.pypa.io/warnings/venv\u001b[0m\u001b[33m\n",
      "\u001b[0m\u001b[33mWARNING: Running pip as the 'root' user can result in broken permissions and conflicting behaviour with the system package manager. It is recommended to use a virtual environment instead: https://pip.pypa.io/warnings/venv\u001b[0m\u001b[33m\n",
      "\u001b[0m\u001b[33mWARNING: Running pip as the 'root' user can result in broken permissions and conflicting behaviour with the system package manager. It is recommended to use a virtual environment instead: https://pip.pypa.io/warnings/venv\u001b[0m\u001b[33m\n",
      "\u001b[0m\u001b[33mWARNING: Running pip as the 'root' user can result in broken permissions and conflicting behaviour with the system package manager. It is recommended to use a virtual environment instead: https://pip.pypa.io/warnings/venv\u001b[0m\u001b[33m\n",
      "\u001b[0m"
     ]
    }
   ],
   "source": [
    "!pip install p_tqdm --quiet\n",
    "!pip install transformers --quiet\n",
    "!pip install comet_ml --quiet\n",
    "!pip install gensim --quiet\n",
    "!pip install scikit-multilearn --quiet\n",
    "!pip install liac-arff --quiet\n",
    "!pip install keras --quiet\n",
    "!pip install tensorflow --quiet\n",
    "!pip install scikit-learn --upgrade --quiet\n",
    "!pip install nlpaug --quiet\n",
    "!pip install contractions --quiet\n",
    "!pip install pytorch-pretrained-bert --quiet\n",
    "!pip install nltk --quiet\n",
    "!pip install matplotlib --quiet\n",
    "!pip install seaborn --quiet\n",
    "!pip install sqlalchemy --quiet\n",
    "!pip install spacy --quiet\n",
    "!pip install xgboost --quiet\n",
    "!pip install python-louvain --quiet\n",
    "!pip install networkx --quiet"
   ]
  },
  {
   "cell_type": "code",
   "execution_count": 5,
   "metadata": {},
   "outputs": [
    {
     "name": "stdout",
     "output_type": "stream",
     "text": [
      "1.2.2\n"
     ]
    }
   ],
   "source": [
    "import sklearn\n",
    "print(sklearn.__version__)"
   ]
  },
  {
   "cell_type": "code",
   "execution_count": 13,
   "metadata": {},
   "outputs": [
    {
     "name": "stdout",
     "output_type": "stream",
     "text": [
      "1.2.2\n"
     ]
    },
    {
     "name": "stderr",
     "output_type": "stream",
     "text": [
      "[nltk_data] Downloading package punkt to /root/nltk_data...\n",
      "[nltk_data]   Package punkt is already up-to-date!\n",
      "[nltk_data] Downloading package stopwords to /root/nltk_data...\n",
      "[nltk_data]   Package stopwords is already up-to-date!\n",
      "[nltk_data] Downloading package averaged_perceptron_tagger to\n",
      "[nltk_data]     /root/nltk_data...\n",
      "[nltk_data]   Package averaged_perceptron_tagger is already up-to-\n",
      "[nltk_data]       date!\n",
      "[nltk_data] Downloading package wordnet to /root/nltk_data...\n",
      "[nltk_data]   Package wordnet is already up-to-date!\n",
      "[nltk_data] Downloading package universal_tagset to /root/nltk_data...\n",
      "[nltk_data]   Package universal_tagset is already up-to-date!\n",
      "[nltk_data] Downloading package omw-1.4 to /root/nltk_data...\n",
      "[nltk_data]   Package omw-1.4 is already up-to-date!\n"
     ]
    }
   ],
   "source": [
    "# import libraries\n",
    "import os\n",
    "import ast\n",
    "import numpy as np\n",
    "import pandas as pd\n",
    "import nltk\n",
    "import string\n",
    "import contractions\n",
    "import itertools\n",
    "import random\n",
    "import sklearn\n",
    "import gensim\n",
    "print(sklearn.__version__)\n",
    "import matplotlib.pyplot as plt\n",
    "import seaborn as sb\n",
    "import multiprocessing as mp\n",
    "%matplotlib inline\n",
    "\n",
    "import gensim\n",
    "from gensim.models import word2vec\n",
    "from gensim.models.word2vec import Word2Vec\n",
    "import numpy as np\n",
    "import pandas as pd\n",
    "# import spacy\n",
    "import string\n",
    "\n",
    "from tqdm import tqdm\n",
    "from collections import Counter\n",
    "from nltk.tokenize import word_tokenize, sent_tokenize\n",
    "from nltk.corpus import stopwords, wordnet\n",
    "from nltk.stem import WordNetLemmatizer\n",
    "from nltk.probability import FreqDist\n",
    "from sklearn.feature_extraction.text import CountVectorizer\n",
    "from sklearn.feature_extraction import DictVectorizer\n",
    "from sklearn.decomposition import LatentDirichletAllocation\n",
    "from nltk.util import ngrams\n",
    "from xgboost import XGBClassifier\n",
    "from sklearn.model_selection import GridSearchCV\n",
    "\n",
    "\n",
    "nltk.download('punkt')\n",
    "nltk.download('stopwords')\n",
    "nltk.download('averaged_perceptron_tagger')\n",
    "nltk.download('wordnet')\n",
    "nltk.download('universal_tagset')\n",
    "nltk.download('omw-1.4')\n",
    "\n",
    "\n",
    "from comet_ml import Experiment, Artifact\n",
    "from sqlalchemy import create_engine\n",
    "from sklearn.model_selection import train_test_split\n",
    "from sklearn.pipeline import Pipeline, FeatureUnion\n",
    "from sklearn.feature_extraction.text import CountVectorizer, TfidfTransformer, TfidfVectorizer\n",
    "from sklearn.metrics import hamming_loss, accuracy_score, f1_score, classification_report, jaccard_score\n",
    "from sklearn.multioutput import ClassifierChain, MultiOutputClassifier\n",
    "from skmultilearn.adapt import MLkNN\n",
    "# from skmultilearn.ext import download_meka, Meka\n",
    "from sklearn.neighbors import NearestNeighbors\n",
    "from skmultilearn.problem_transform import BinaryRelevance, ClassifierChain, LabelPowerset\n",
    "from scipy.sparse import csr_matrix, lil_matrix\n",
    "from sklearn.multiclass import OneVsRestClassifier\n",
    "from sklearn.linear_model import LogisticRegression, RidgeClassifier\n",
    "from sklearn.svm import LinearSVC, SVC\n",
    "from sklearn.ensemble import RandomForestClassifier\n",
    "from nltk.tokenize import word_tokenize\n",
    "from sklearn.base import BaseEstimator, TransformerMixin"
   ]
  },
  {
   "cell_type": "code",
   "execution_count": 4,
   "metadata": {},
   "outputs": [],
   "source": [
    "COMET_API_KEY = \"TkfogaXqILmxF0ShTe3LkgJFN\"\n",
    "COMET_PROJECT_NAME = \"disaster_response_pipeline\"\n",
    "COMET_WORKSPACE = \"benjtlv\"\n",
    "COMET_ARTIFACT = \"disaster-response-data\""
   ]
  },
  {
   "cell_type": "code",
   "execution_count": 41,
   "metadata": {},
   "outputs": [],
   "source": [
    "# load data from database\n",
    "# engine = create_engine('sqlite:///DisasterResponse.db')\n",
    "# df = pd.read_sql('SELECT * FROM DisasterResponse', con=engine)\n",
    "# X = \n",
    "# Y = "
   ]
  },
  {
   "cell_type": "markdown",
   "metadata": {},
   "source": [
    "I prefer working with a Comet Artifact. If tomorrow we want to switch to a data lake, or a data warehouse, the mechanism will be the same."
   ]
  },
  {
   "cell_type": "code",
   "execution_count": 5,
   "metadata": {},
   "outputs": [],
   "source": [
    "def create_experiment():\n",
    "    return Experiment(api_key=COMET_API_KEY, project_name=COMET_PROJECT_NAME, workspace=COMET_WORKSPACE)"
   ]
  },
  {
   "cell_type": "markdown",
   "metadata": {},
   "source": [
    "To avoid Data Leakage, we will take our data of when before we started our EDA. We will remove bad words from our training data set so the model can learn what to give importance too, without being biased by high frequency unrelated words. We want to leave the test set untouched to see how the model behaves with unseen data."
   ]
  },
  {
   "cell_type": "code",
   "execution_count": 23,
   "metadata": {},
   "outputs": [
    {
     "name": "stderr",
     "output_type": "stream",
     "text": [
      "/tmp/ipykernel_8481/3254804130.py:3: DtypeWarning: Columns (2) have mixed types. Specify dtype option on import or set low_memory=False.\n",
      "  df = pd.read_csv('disaster_transformed.csv')\n"
     ]
    }
   ],
   "source": [
    "# df = pd.read_csv('./artifacts/disaster_preprocessed.csv')\n",
    "# df['message'] = df['message'].apply(ast.literal_eval)\n",
    "df = pd.read_csv('disaster_transformed.csv')"
   ]
  },
  {
   "cell_type": "code",
   "execution_count": 24,
   "metadata": {},
   "outputs": [],
   "source": [
    "# df = df.drop(df[df['related'] == 2].index)\n",
    "# df = df.drop('child_alone', axis=1)"
   ]
  },
  {
   "cell_type": "code",
   "execution_count": 25,
   "metadata": {},
   "outputs": [],
   "source": [
    "df_train, df_test = train_test_split(df, test_size=0.2)"
   ]
  },
  {
   "cell_type": "code",
   "execution_count": 26,
   "metadata": {},
   "outputs": [
    {
     "name": "stdout",
     "output_type": "stream",
     "text": [
      "20945\n",
      "5237\n"
     ]
    }
   ],
   "source": [
    "print(df_train.shape[0])\n",
    "print(df_test.shape[0])"
   ]
  },
  {
   "cell_type": "markdown",
   "metadata": {},
   "source": [
    "### 2. Build Models\n",
    "\n",
    "There are different algorithms that can be used in order for our ml model to handle multiple labels:\n",
    "1. Binary Relevance\n",
    "2. Label Powerset\n",
    "3. MLkNN\n",
    "4. Classifier Chain\n",
    "5. Multioutput Classifier\n",
    "\n",
    "We will not try label powerset as it only learns to predict a N-sized vector of 0 & 1s representing the assignment ot a label inside the N possible labels. It will not predict a vector that is different from those seens in the training dataset."
   ]
  },
  {
   "cell_type": "markdown",
   "metadata": {},
   "source": [
    "### 3. Build a machine learning pipeline\n",
    "This machine pipeline should take in the `message` column as input and output classification results on the other 36 categories in the dataset. You may find the [MultiOutputClassifier](http://scikit-learn.org/stable/modules/generated/sklearn.multioutput.MultiOutputClassifier.html) helpful for predicting multiple target variables."
   ]
  },
  {
   "cell_type": "markdown",
   "metadata": {},
   "source": [
    "We will try multiple ML algorithms, with multiple algorithms for multi-label classification, with multiple ways of processing our text. We will see which models generalize well."
   ]
  },
  {
   "cell_type": "code",
   "execution_count": 28,
   "metadata": {},
   "outputs": [],
   "source": [
    "category_colnames = ['related', 'request', 'offer', 'aid_related', 'medical_help', 'medical_products', \n",
    "                     'search_and_rescue', 'security', 'military', 'water', 'food', 'shelter', \n",
    "                     'clothing', 'money', 'missing_people', 'refugees', 'death', 'other_aid', 'infrastructure_related', \n",
    "                     'transport', 'buildings', 'electricity', 'tools', 'hospitals', 'shops', 'aid_centers', \n",
    "                     'other_infrastructure', 'weather_related', 'floods', 'storm', 'fire', 'earthquake', 'cold', \n",
    "                     'other_weather', 'direct_report']"
   ]
  },
  {
   "cell_type": "code",
   "execution_count": 29,
   "metadata": {},
   "outputs": [],
   "source": [
    "# df_train['message'] = df_train['message'].apply(lambda x: ' '.join([word for word in x]))\n",
    "# df_test['message'] = df_test['message'].apply(lambda x: ' '.join([word for word in x]))"
   ]
  },
  {
   "cell_type": "code",
   "execution_count": 30,
   "metadata": {},
   "outputs": [],
   "source": [
    "y_train = df_train.loc[:, category_colnames]\n",
    "y_test = df_test.loc[:, category_colnames]"
   ]
  },
  {
   "cell_type": "code",
   "execution_count": 50,
   "metadata": {},
   "outputs": [
    {
     "data": {
      "text/html": [
       "<div>\n",
       "<style scoped>\n",
       "    .dataframe tbody tr th:only-of-type {\n",
       "        vertical-align: middle;\n",
       "    }\n",
       "\n",
       "    .dataframe tbody tr th {\n",
       "        vertical-align: top;\n",
       "    }\n",
       "\n",
       "    .dataframe thead th {\n",
       "        text-align: right;\n",
       "    }\n",
       "</style>\n",
       "<table border=\"1\" class=\"dataframe\">\n",
       "  <thead>\n",
       "    <tr style=\"text-align: right;\">\n",
       "      <th></th>\n",
       "      <th>id</th>\n",
       "      <th>message</th>\n",
       "      <th>original</th>\n",
       "      <th>genre</th>\n",
       "      <th>related</th>\n",
       "      <th>request</th>\n",
       "      <th>offer</th>\n",
       "      <th>aid_related</th>\n",
       "      <th>medical_help</th>\n",
       "      <th>medical_products</th>\n",
       "      <th>...</th>\n",
       "      <th>aid_centers</th>\n",
       "      <th>other_infrastructure</th>\n",
       "      <th>weather_related</th>\n",
       "      <th>floods</th>\n",
       "      <th>storm</th>\n",
       "      <th>fire</th>\n",
       "      <th>earthquake</th>\n",
       "      <th>cold</th>\n",
       "      <th>other_weather</th>\n",
       "      <th>direct_report</th>\n",
       "    </tr>\n",
       "  </thead>\n",
       "  <tbody>\n",
       "    <tr>\n",
       "      <th>2631</th>\n",
       "      <td>3051</td>\n",
       "      <td>There is a lot of damage affecting us in Zone ...</td>\n",
       "      <td>Il ya eaucoup de dega qui nous a affects dans ...</td>\n",
       "      <td>direct</td>\n",
       "      <td>1</td>\n",
       "      <td>1</td>\n",
       "      <td>0</td>\n",
       "      <td>1</td>\n",
       "      <td>0</td>\n",
       "      <td>0</td>\n",
       "      <td>...</td>\n",
       "      <td>0</td>\n",
       "      <td>1</td>\n",
       "      <td>0</td>\n",
       "      <td>0</td>\n",
       "      <td>0</td>\n",
       "      <td>0</td>\n",
       "      <td>0</td>\n",
       "      <td>0</td>\n",
       "      <td>0</td>\n",
       "      <td>1</td>\n",
       "    </tr>\n",
       "    <tr>\n",
       "      <th>20632</th>\n",
       "      <td>24077</td>\n",
       "      <td>Television footage showed uprooted trees lying...</td>\n",
       "      <td>NaN</td>\n",
       "      <td>news</td>\n",
       "      <td>1</td>\n",
       "      <td>0</td>\n",
       "      <td>0</td>\n",
       "      <td>0</td>\n",
       "      <td>0</td>\n",
       "      <td>0</td>\n",
       "      <td>...</td>\n",
       "      <td>0</td>\n",
       "      <td>1</td>\n",
       "      <td>1</td>\n",
       "      <td>0</td>\n",
       "      <td>1</td>\n",
       "      <td>0</td>\n",
       "      <td>0</td>\n",
       "      <td>0</td>\n",
       "      <td>0</td>\n",
       "      <td>0</td>\n",
       "    </tr>\n",
       "    <tr>\n",
       "      <th>21345</th>\n",
       "      <td>24844</td>\n",
       "      <td>In Mogadishu, Merca, and Jowhar, the rains pos...</td>\n",
       "      <td>NaN</td>\n",
       "      <td>news</td>\n",
       "      <td>1</td>\n",
       "      <td>0</td>\n",
       "      <td>0</td>\n",
       "      <td>1</td>\n",
       "      <td>1</td>\n",
       "      <td>0</td>\n",
       "      <td>...</td>\n",
       "      <td>0</td>\n",
       "      <td>0</td>\n",
       "      <td>1</td>\n",
       "      <td>1</td>\n",
       "      <td>1</td>\n",
       "      <td>0</td>\n",
       "      <td>0</td>\n",
       "      <td>0</td>\n",
       "      <td>0</td>\n",
       "      <td>0</td>\n",
       "    </tr>\n",
       "    <tr>\n",
       "      <th>12695</th>\n",
       "      <td>15239</td>\n",
       "      <td>y1headlines #nysandy from jackson heights, que...</td>\n",
       "      <td>NaN</td>\n",
       "      <td>social</td>\n",
       "      <td>1</td>\n",
       "      <td>0</td>\n",
       "      <td>0</td>\n",
       "      <td>0</td>\n",
       "      <td>0</td>\n",
       "      <td>0</td>\n",
       "      <td>...</td>\n",
       "      <td>0</td>\n",
       "      <td>0</td>\n",
       "      <td>1</td>\n",
       "      <td>0</td>\n",
       "      <td>1</td>\n",
       "      <td>0</td>\n",
       "      <td>0</td>\n",
       "      <td>0</td>\n",
       "      <td>0</td>\n",
       "      <td>1</td>\n",
       "    </tr>\n",
       "    <tr>\n",
       "      <th>1646</th>\n",
       "      <td>1921</td>\n",
       "      <td>I reside in carrfour Feille. I need food and w...</td>\n",
       "      <td>nou bezwen manje ak dlo nan zon kafou fy avni ...</td>\n",
       "      <td>direct</td>\n",
       "      <td>1</td>\n",
       "      <td>1</td>\n",
       "      <td>0</td>\n",
       "      <td>1</td>\n",
       "      <td>0</td>\n",
       "      <td>0</td>\n",
       "      <td>...</td>\n",
       "      <td>0</td>\n",
       "      <td>0</td>\n",
       "      <td>0</td>\n",
       "      <td>0</td>\n",
       "      <td>0</td>\n",
       "      <td>0</td>\n",
       "      <td>0</td>\n",
       "      <td>0</td>\n",
       "      <td>0</td>\n",
       "      <td>1</td>\n",
       "    </tr>\n",
       "  </tbody>\n",
       "</table>\n",
       "<p>5 rows × 39 columns</p>\n",
       "</div>"
      ],
      "text/plain": [
       "          id                                            message  \\\n",
       "2631    3051  There is a lot of damage affecting us in Zone ...   \n",
       "20632  24077  Television footage showed uprooted trees lying...   \n",
       "21345  24844  In Mogadishu, Merca, and Jowhar, the rains pos...   \n",
       "12695  15239  y1headlines #nysandy from jackson heights, que...   \n",
       "1646    1921  I reside in carrfour Feille. I need food and w...   \n",
       "\n",
       "                                                original   genre  related  \\\n",
       "2631   Il ya eaucoup de dega qui nous a affects dans ...  direct        1   \n",
       "20632                                                NaN    news        1   \n",
       "21345                                                NaN    news        1   \n",
       "12695                                                NaN  social        1   \n",
       "1646   nou bezwen manje ak dlo nan zon kafou fy avni ...  direct        1   \n",
       "\n",
       "       request  offer  aid_related  medical_help  medical_products  ...  \\\n",
       "2631         1      0            1             0                 0  ...   \n",
       "20632        0      0            0             0                 0  ...   \n",
       "21345        0      0            1             1                 0  ...   \n",
       "12695        0      0            0             0                 0  ...   \n",
       "1646         1      0            1             0                 0  ...   \n",
       "\n",
       "       aid_centers  other_infrastructure  weather_related  floods  storm  \\\n",
       "2631             0                     1                0       0      0   \n",
       "20632            0                     1                1       0      1   \n",
       "21345            0                     0                1       1      1   \n",
       "12695            0                     0                1       0      1   \n",
       "1646             0                     0                0       0      0   \n",
       "\n",
       "       fire  earthquake  cold  other_weather  direct_report  \n",
       "2631      0           0     0              0              1  \n",
       "20632     0           0     0              0              0  \n",
       "21345     0           0     0              0              0  \n",
       "12695     0           0     0              0              1  \n",
       "1646      0           0     0              0              1  \n",
       "\n",
       "[5 rows x 39 columns]"
      ]
     },
     "execution_count": 50,
     "metadata": {},
     "output_type": "execute_result"
    }
   ],
   "source": [
    "df_train.head()"
   ]
  },
  {
   "cell_type": "code",
   "execution_count": 7,
   "metadata": {},
   "outputs": [],
   "source": [
    "def classification_metrics(y_test, y_pred):\n",
    "    acc = accuracy_score(y_test ,y_pred)\n",
    "    f1 = f1_score(y_test, y_pred, average=\"micro\")\n",
    "    jaccard = jaccard_score(y_test, y_pred, average=\"samples\")\n",
    "    hamming = hamming_loss(y_test,y_pred)\n",
    "    return acc, f1, jaccard, hamming\n",
    "    \n",
    "def classification_report_dataframe(y_test, y_pred, i, col):\n",
    "    classification_report_dict = classification_report(y_test[:, i], \n",
    "                                                       y_pred[:, i], \n",
    "                                                       target_names=[f'is not {col}', f'is {col}'], \n",
    "                                                       output_dict=True)\n",
    "    return pd.DataFrame.from_dict(classification_report_dict).transpose().iloc[:2, :]"
   ]
  },
  {
   "cell_type": "code",
   "execution_count": 8,
   "metadata": {},
   "outputs": [],
   "source": [
    "english_stop_words = stopwords.words('english')\n",
    "disaster_stop_words = ['http', 'co', '000', 'bit', 'ly', 'u']\n",
    "stop_words = list(itertools.chain(english_stop_words, disaster_stop_words))"
   ]
  },
  {
   "cell_type": "code",
   "execution_count": 9,
   "metadata": {},
   "outputs": [],
   "source": [
    "def tokenize(text):\n",
    "    text = ' '.join([contractions.fix(word) for word in text.split()])\n",
    "    \n",
    "    tokens = word_tokenize(text)\n",
    "    lemmatizer = WordNetLemmatizer()\n",
    "\n",
    "    clean_tokens = []\n",
    "    for tok in tokens:\n",
    "        clean_tok = lemmatizer.lemmatize(tok).lower().strip()\n",
    "        clean_tokens.append(clean_tok)\n",
    "        \n",
    "    return clean_tokens"
   ]
  },
  {
   "cell_type": "code",
   "execution_count": 10,
   "metadata": {},
   "outputs": [],
   "source": [
    "def simple_pipeline(ngram_range=(1,1), model=LogisticRegression, tokenizer=None, stop_words=None):\n",
    "    return Pipeline([\n",
    "        ('tfidf_vectorizer', TfidfVectorizer(tokenizer=tokenizer, stop_words=stop_words, ngram_range=ngram_range)),\n",
    "        ('model', MultiOutputClassifier(model()))\n",
    "    ])"
   ]
  },
  {
   "cell_type": "code",
   "execution_count": 11,
   "metadata": {},
   "outputs": [],
   "source": [
    "def run_pipeline(pipeline, experiment_name):\n",
    "    experiment = create_experiment()\n",
    "    experiment.add_tags(['training'])\n",
    "    experiment.set_name(experiment_name)\n",
    "    experiment.get_artifact(COMET_ARTIFACT, version_or_alias='2.0.0', workspace=COMET_WORKSPACE)\n",
    "    \n",
    "    global y_test\n",
    "    \n",
    "    pipeline.fit(df_train['message'], y_train)\n",
    "    acc, f1, jaccard, hamming = classification_metrics(y_test, pipeline.predict(df_test['message']))\n",
    "    \n",
    "    experiment.log_metrics({\n",
    "        'accuracy': acc,\n",
    "        'f1': f1,\n",
    "        'jaccard': jaccard,\n",
    "        'hamming': hamming\n",
    "    })\n",
    "    \n",
    "    y_pred = pipeline.predict(df_test['message'])\n",
    "    y_test = np.array(y_test)\n",
    "\n",
    "    df_reports = []\n",
    "    for i, col in enumerate(category_colnames):\n",
    "        df_reports.append(classification_report_dataframe(y_test, y_pred, i, col))\n",
    "    report_df = pd.concat(df_reports)\n",
    "    report_df = report_df[~report_df.index.str.startswith('is not')].sort_values(by='f1-score', ascending=False)\n",
    "    \n",
    "    experiment.log_table(experiment_name + '_category_report.csv', report_df)\n",
    "    \n",
    "    experiment.end()"
   ]
  },
  {
   "cell_type": "markdown",
   "metadata": {},
   "source": [
    "Tfidf Vectorizer - single terms - Logistic regression"
   ]
  },
  {
   "cell_type": "code",
   "execution_count": 55,
   "metadata": {},
   "outputs": [
    {
     "data": {
      "text/plain": [
       "2631     There is a lot of damage affecting us in Zone ...\n",
       "20632    Television footage showed uprooted trees lying...\n",
       "21345    In Mogadishu, Merca, and Jowhar, the rains pos...\n",
       "12695    y1headlines #nysandy from jackson heights, que...\n",
       "1646     I reside in carrfour Feille. I need food and w...\n",
       "                               ...                        \n",
       "12388    I just want this storm to hit so we have some ...\n",
       "23026    So far the society has distributed food, house...\n",
       "5594     I would like to have information about what is...\n",
       "22829    In some areas there were open sky mines which ...\n",
       "4906       Excuse me for bothering you, but I had to ask. \n",
       "Name: message, Length: 20945, dtype: object"
      ]
     },
     "execution_count": 55,
     "metadata": {},
     "output_type": "execute_result"
    }
   ],
   "source": [
    "df_train['message']"
   ]
  },
  {
   "cell_type": "code",
   "execution_count": 56,
   "metadata": {},
   "outputs": [
    {
     "name": "stderr",
     "output_type": "stream",
     "text": [
      "/usr/local/lib/python3.10/site-packages/sklearn/metrics/_classification.py:1344: UndefinedMetricWarning: Jaccard is ill-defined and being set to 0.0 in samples with no true or predicted labels. Use `zero_division` parameter to control this behavior.\n",
      "  _warn_prf(average, modifier, msg_start, len(result))\n"
     ]
    },
    {
     "data": {
      "text/plain": [
       "(0.2749665839220928,\n",
       " 0.6540871391836587,\n",
       " 0.4377964943609283,\n",
       " 0.05210725879047437)"
      ]
     },
     "execution_count": 56,
     "metadata": {},
     "output_type": "execute_result"
    }
   ],
   "source": [
    "pipeline = simple_pipeline()\n",
    "pipeline.fit(df_train['message'], y_train)\n",
    "classification_metrics(y_test, pipeline.predict(df_test['message']))"
   ]
  },
  {
   "cell_type": "code",
   "execution_count": 27,
   "metadata": {},
   "outputs": [
    {
     "name": "stderr",
     "output_type": "stream",
     "text": [
      "COMET WARNING: Comet has disabled auto-logging functionality as it has been imported after the following ML modules: xgboost, sklearn. Metrics and hyperparameters can still be logged using Experiment.log_metrics() and Experiment.log_parameters()\n",
      "COMET INFO: ---------------------------------------------------------------------------------------\n",
      "COMET INFO: Comet.ml Experiment Summary\n",
      "COMET INFO: ---------------------------------------------------------------------------------------\n",
      "COMET INFO:   Data:\n",
      "COMET INFO:     display_summary_level : 1\n",
      "COMET INFO:     url                   : https://www.comet.com/benjtlv/disaster-response-pipeline/f33eb5c3863c49818cba1f9715b97063\n",
      "COMET INFO:   Downloads:\n",
      "COMET INFO:     artifacts : 1\n",
      "COMET INFO:   Others:\n",
      "COMET INFO:     Name : Logistic Regression - unigrams\n",
      "COMET INFO:   Parameters:\n",
      "COMET INFO:     estimator                           : LogisticRegression()\n",
      "COMET INFO:     estimator__C                        : 1.0\n",
      "COMET INFO:     estimator__class_weight             : 1\n",
      "COMET INFO:     estimator__dual                     : False\n",
      "COMET INFO:     estimator__fit_intercept            : True\n",
      "COMET INFO:     estimator__intercept_scaling        : 1\n",
      "COMET INFO:     estimator__l1_ratio                 : 1\n",
      "COMET INFO:     estimator__max_iter                 : 100\n",
      "COMET INFO:     estimator__multi_class              : auto\n",
      "COMET INFO:     estimator__n_jobs                   : 1\n",
      "COMET INFO:     estimator__penalty                  : l2\n",
      "COMET INFO:     estimator__random_state             : 1\n",
      "COMET INFO:     estimator__solver                   : lbfgs\n",
      "COMET INFO:     estimator__tol                      : 0.0001\n",
      "COMET INFO:     estimator__verbose                  : 0\n",
      "COMET INFO:     estimator__warm_start               : False\n",
      "COMET INFO:     memory                              : 1\n",
      "COMET INFO:     model__estimator                    : LogisticRegression()\n",
      "COMET INFO:     model__estimator__C                 : 1.0\n",
      "COMET INFO:     model__estimator__class_weight      : 1\n",
      "COMET INFO:     model__estimator__dual              : False\n",
      "COMET INFO:     model__estimator__fit_intercept     : True\n",
      "COMET INFO:     model__estimator__intercept_scaling : 1\n",
      "COMET INFO:     model__estimator__l1_ratio          : 1\n",
      "COMET INFO:     model__estimator__max_iter          : 100\n",
      "COMET INFO:     model__estimator__multi_class       : auto\n",
      "COMET INFO:     model__estimator__n_jobs            : 1\n",
      "COMET INFO:     model__estimator__penalty           : l2\n",
      "COMET INFO:     model__estimator__random_state      : 1\n",
      "COMET INFO:     model__estimator__solver            : lbfgs\n",
      "COMET INFO:     model__estimator__tol               : 0.0001\n",
      "COMET INFO:     model__estimator__verbose           : 0\n",
      "COMET INFO:     model__estimator__warm_start        : False\n",
      "COMET INFO:     model__n_jobs                       : 1\n",
      "COMET INFO:     model_estimator                     : LogisticRegression()\n",
      "COMET INFO:     model_estimator__C                  : 1.0\n",
      "COMET INFO:     model_estimator__class_weight       : 1\n",
      "COMET INFO:     model_estimator__dual               : False\n",
      "COMET INFO:     model_estimator__fit_intercept      : True\n",
      "COMET INFO:     model_estimator__intercept_scaling  : 1\n",
      "COMET INFO:     model_estimator__l1_ratio           : 1\n",
      "COMET INFO:     model_estimator__max_iter           : 100\n",
      "COMET INFO:     model_estimator__multi_class        : auto\n",
      "COMET INFO:     model_estimator__n_jobs             : 1\n",
      "COMET INFO:     model_estimator__penalty            : l2\n",
      "COMET INFO:     model_estimator__random_state       : 1\n",
      "COMET INFO:     model_estimator__solver             : lbfgs\n",
      "COMET INFO:     model_estimator__tol                : 0.0001\n",
      "COMET INFO:     model_estimator__verbose            : 0\n",
      "COMET INFO:     model_estimator__warm_start         : False\n",
      "COMET INFO:     model_n_jobs                        : 1\n",
      "COMET INFO:     n_jobs                              : 1\n",
      "COMET INFO:     tfidf_vectorizer__analyzer          : word\n",
      "COMET INFO:     tfidf_vectorizer__binary            : False\n",
      "COMET INFO:     tfidf_vectorizer__decode_error      : strict\n",
      "COMET INFO:     tfidf_vectorizer__dtype             : <class 'numpy.float64'>\n",
      "COMET INFO:     tfidf_vectorizer__encoding          : utf-8\n",
      "COMET INFO:     tfidf_vectorizer__input             : content\n",
      "COMET INFO:     tfidf_vectorizer__lowercase         : True\n",
      "COMET INFO:     tfidf_vectorizer__max_df            : 1.0\n",
      "COMET INFO:     tfidf_vectorizer__max_features      : 1\n",
      "COMET INFO:     tfidf_vectorizer__min_df            : 1\n",
      "COMET INFO:     tfidf_vectorizer__ngram_range       : (1, 1)\n",
      "COMET INFO:     tfidf_vectorizer__norm              : l2\n",
      "COMET INFO:     tfidf_vectorizer__preprocessor      : 1\n",
      "COMET INFO:     tfidf_vectorizer__smooth_idf        : True\n",
      "COMET INFO:     tfidf_vectorizer__stop_words        : 1\n",
      "COMET INFO:     tfidf_vectorizer__strip_accents     : 1\n",
      "COMET INFO:     tfidf_vectorizer__sublinear_tf      : False\n",
      "COMET INFO:     tfidf_vectorizer__token_pattern     : (?u)\\b\\w\\w+\\b\n",
      "COMET INFO:     tfidf_vectorizer__tokenizer         : 1\n",
      "COMET INFO:     tfidf_vectorizer__use_idf           : True\n",
      "COMET INFO:     tfidf_vectorizer__vocabulary        : 1\n",
      "COMET INFO:     tfidf_vectorizer_analyzer           : word\n",
      "COMET INFO:     tfidf_vectorizer_binary             : False\n",
      "COMET INFO:     tfidf_vectorizer_decode_error       : strict\n",
      "COMET INFO:     tfidf_vectorizer_dtype              : <class 'numpy.float64'>\n",
      "COMET INFO:     tfidf_vectorizer_encoding           : utf-8\n",
      "COMET INFO:     tfidf_vectorizer_input              : content\n",
      "COMET INFO:     tfidf_vectorizer_lowercase          : True\n",
      "COMET INFO:     tfidf_vectorizer_max_df             : 1.0\n",
      "COMET INFO:     tfidf_vectorizer_max_features       : 1\n",
      "COMET INFO:     tfidf_vectorizer_min_df             : 1\n",
      "COMET INFO:     tfidf_vectorizer_ngram_range        : (1, 1)\n",
      "COMET INFO:     tfidf_vectorizer_norm               : l2\n",
      "COMET INFO:     tfidf_vectorizer_preprocessor       : 1\n",
      "COMET INFO:     tfidf_vectorizer_smooth_idf         : True\n",
      "COMET INFO:     tfidf_vectorizer_stop_words         : 1\n",
      "COMET INFO:     tfidf_vectorizer_strip_accents      : 1\n",
      "COMET INFO:     tfidf_vectorizer_sublinear_tf       : False\n",
      "COMET INFO:     tfidf_vectorizer_token_pattern      : (?u)\\b\\w\\w+\\b\n",
      "COMET INFO:     tfidf_vectorizer_tokenizer          : 1\n",
      "COMET INFO:     tfidf_vectorizer_use_idf            : True\n",
      "COMET INFO:     tfidf_vectorizer_vocabulary         : 1\n",
      "COMET INFO:     verbose                             : False\n",
      "COMET INFO:   Uploads:\n",
      "COMET INFO:     conda-environment-definition : 1\n",
      "COMET INFO:     conda-info                   : 1\n",
      "COMET INFO:     conda-specification          : 1\n",
      "COMET INFO:     environment details          : 1\n",
      "COMET INFO:     filename                     : 1\n",
      "COMET INFO:     git metadata                 : 1\n",
      "COMET INFO:     git-patch (uncompressed)     : 1 (26.62 MB)\n",
      "COMET INFO:     installed packages           : 1\n",
      "COMET INFO:     notebook                     : 1\n",
      "COMET INFO:     source_code                  : 1\n",
      "COMET INFO: \n",
      "COMET WARNING: Comet has disabled auto-logging functionality as it has been imported after the following ML modules: xgboost, sklearn. Metrics and hyperparameters can still be logged using Experiment.log_metrics() and Experiment.log_parameters()\n",
      "COMET WARNING: As you are running in a Jupyter environment, you will need to call `experiment.end()` when finished to ensure all metrics and code are logged before exiting.\n",
      "COMET INFO: Experiment is live on comet.com https://www.comet.com/benjtlv/disaster-response-pipeline/571dd231657a412ab61303609d0681e9\n",
      "\n",
      "COMET INFO: ---------------------------------------------------------------------------------------\n",
      "COMET INFO: Comet.ml Experiment Summary\n",
      "COMET INFO: ---------------------------------------------------------------------------------------\n",
      "COMET INFO:   Data:\n",
      "COMET INFO:     display_summary_level : 1\n",
      "COMET INFO:     url                   : https://www.comet.com/benjtlv/disaster-response-pipeline/571dd231657a412ab61303609d0681e9\n",
      "COMET INFO:   Downloads:\n",
      "COMET INFO:     artifacts : 1\n",
      "COMET INFO:   Metrics:\n",
      "COMET INFO:     accuracy : 0.2782127172045064\n",
      "COMET INFO:     f1       : 0.653708328808774\n",
      "COMET INFO:     hamming  : 0.05219454976949726\n",
      "COMET INFO:     jaccard  : 0.4377058896584838\n",
      "COMET INFO:   Others:\n",
      "COMET INFO:     Name : Logistic Regression - unigrams\n",
      "COMET INFO:   Parameters:\n",
      "COMET INFO:     estimator                           : LogisticRegression()\n",
      "COMET INFO:     estimator__C                        : 1.0\n",
      "COMET INFO:     estimator__class_weight             : 1\n",
      "COMET INFO:     estimator__dual                     : False\n",
      "COMET INFO:     estimator__fit_intercept            : True\n",
      "COMET INFO:     estimator__intercept_scaling        : 1\n",
      "COMET INFO:     estimator__l1_ratio                 : 1\n",
      "COMET INFO:     estimator__max_iter                 : 100\n",
      "COMET INFO:     estimator__multi_class              : auto\n",
      "COMET INFO:     estimator__n_jobs                   : 1\n",
      "COMET INFO:     estimator__penalty                  : l2\n",
      "COMET INFO:     estimator__random_state             : 1\n",
      "COMET INFO:     estimator__solver                   : lbfgs\n",
      "COMET INFO:     estimator__tol                      : 0.0001\n",
      "COMET INFO:     estimator__verbose                  : 0\n",
      "COMET INFO:     estimator__warm_start               : False\n",
      "COMET INFO:     memory                              : 1\n",
      "COMET INFO:     model__estimator                    : LogisticRegression()\n",
      "COMET INFO:     model__estimator__C                 : 1.0\n",
      "COMET INFO:     model__estimator__class_weight      : 1\n",
      "COMET INFO:     model__estimator__dual              : False\n",
      "COMET INFO:     model__estimator__fit_intercept     : True\n",
      "COMET INFO:     model__estimator__intercept_scaling : 1\n",
      "COMET INFO:     model__estimator__l1_ratio          : 1\n",
      "COMET INFO:     model__estimator__max_iter          : 100\n",
      "COMET INFO:     model__estimator__multi_class       : auto\n",
      "COMET INFO:     model__estimator__n_jobs            : 1\n",
      "COMET INFO:     model__estimator__penalty           : l2\n",
      "COMET INFO:     model__estimator__random_state      : 1\n",
      "COMET INFO:     model__estimator__solver            : lbfgs\n",
      "COMET INFO:     model__estimator__tol               : 0.0001\n",
      "COMET INFO:     model__estimator__verbose           : 0\n",
      "COMET INFO:     model__estimator__warm_start        : False\n",
      "COMET INFO:     model__n_jobs                       : 1\n",
      "COMET INFO:     model_estimator                     : LogisticRegression()\n",
      "COMET INFO:     model_estimator__C                  : 1.0\n",
      "COMET INFO:     model_estimator__class_weight       : 1\n",
      "COMET INFO:     model_estimator__dual               : False\n",
      "COMET INFO:     model_estimator__fit_intercept      : True\n",
      "COMET INFO:     model_estimator__intercept_scaling  : 1\n",
      "COMET INFO:     model_estimator__l1_ratio           : 1\n",
      "COMET INFO:     model_estimator__max_iter           : 100\n",
      "COMET INFO:     model_estimator__multi_class        : auto\n",
      "COMET INFO:     model_estimator__n_jobs             : 1\n",
      "COMET INFO:     model_estimator__penalty            : l2\n",
      "COMET INFO:     model_estimator__random_state       : 1\n",
      "COMET INFO:     model_estimator__solver             : lbfgs\n",
      "COMET INFO:     model_estimator__tol                : 0.0001\n",
      "COMET INFO:     model_estimator__verbose            : 0\n",
      "COMET INFO:     model_estimator__warm_start         : False\n",
      "COMET INFO:     model_n_jobs                        : 1\n",
      "COMET INFO:     n_jobs                              : 1\n",
      "COMET INFO:     tfidf_vectorizer__analyzer          : word\n",
      "COMET INFO:     tfidf_vectorizer__binary            : False\n",
      "COMET INFO:     tfidf_vectorizer__decode_error      : strict\n",
      "COMET INFO:     tfidf_vectorizer__dtype             : <class 'numpy.float64'>\n",
      "COMET INFO:     tfidf_vectorizer__encoding          : utf-8\n",
      "COMET INFO:     tfidf_vectorizer__input             : content\n",
      "COMET INFO:     tfidf_vectorizer__lowercase         : True\n",
      "COMET INFO:     tfidf_vectorizer__max_df            : 1.0\n",
      "COMET INFO:     tfidf_vectorizer__max_features      : 1\n",
      "COMET INFO:     tfidf_vectorizer__min_df            : 1\n",
      "COMET INFO:     tfidf_vectorizer__ngram_range       : (1, 1)\n",
      "COMET INFO:     tfidf_vectorizer__norm              : l2\n",
      "COMET INFO:     tfidf_vectorizer__preprocessor      : 1\n",
      "COMET INFO:     tfidf_vectorizer__smooth_idf        : True\n",
      "COMET INFO:     tfidf_vectorizer__stop_words        : 1\n",
      "COMET INFO:     tfidf_vectorizer__strip_accents     : 1\n",
      "COMET INFO:     tfidf_vectorizer__sublinear_tf      : False\n",
      "COMET INFO:     tfidf_vectorizer__token_pattern     : (?u)\\b\\w\\w+\\b\n",
      "COMET INFO:     tfidf_vectorizer__tokenizer         : 1\n",
      "COMET INFO:     tfidf_vectorizer__use_idf           : True\n",
      "COMET INFO:     tfidf_vectorizer__vocabulary        : 1\n",
      "COMET INFO:     tfidf_vectorizer_analyzer           : word\n",
      "COMET INFO:     tfidf_vectorizer_binary             : False\n",
      "COMET INFO:     tfidf_vectorizer_decode_error       : strict\n",
      "COMET INFO:     tfidf_vectorizer_dtype              : <class 'numpy.float64'>\n",
      "COMET INFO:     tfidf_vectorizer_encoding           : utf-8\n",
      "COMET INFO:     tfidf_vectorizer_input              : content\n",
      "COMET INFO:     tfidf_vectorizer_lowercase          : True\n",
      "COMET INFO:     tfidf_vectorizer_max_df             : 1.0\n",
      "COMET INFO:     tfidf_vectorizer_max_features       : 1\n",
      "COMET INFO:     tfidf_vectorizer_min_df             : 1\n",
      "COMET INFO:     tfidf_vectorizer_ngram_range        : (1, 1)\n",
      "COMET INFO:     tfidf_vectorizer_norm               : l2\n",
      "COMET INFO:     tfidf_vectorizer_preprocessor       : 1\n",
      "COMET INFO:     tfidf_vectorizer_smooth_idf         : True\n",
      "COMET INFO:     tfidf_vectorizer_stop_words         : 1\n",
      "COMET INFO:     tfidf_vectorizer_strip_accents      : 1\n",
      "COMET INFO:     tfidf_vectorizer_sublinear_tf       : False\n",
      "COMET INFO:     tfidf_vectorizer_token_pattern      : (?u)\\b\\w\\w+\\b\n",
      "COMET INFO:     tfidf_vectorizer_tokenizer          : 1\n",
      "COMET INFO:     tfidf_vectorizer_use_idf            : True\n",
      "COMET INFO:     tfidf_vectorizer_vocabulary         : 1\n",
      "COMET INFO:     verbose                             : False\n",
      "COMET INFO:   Uploads:\n",
      "COMET INFO:     conda-environment-definition : 1\n",
      "COMET INFO:     conda-info                   : 1\n",
      "COMET INFO:     conda-specification          : 1\n",
      "COMET INFO:     dataframe                    : 1 (2.24 KB)\n",
      "COMET INFO:     environment details          : 1\n",
      "COMET INFO:     filename                     : 1\n",
      "COMET INFO:     git metadata                 : 1\n",
      "COMET INFO:     git-patch (uncompressed)     : 1 (26.62 MB)\n",
      "COMET INFO:     installed packages           : 1\n",
      "COMET INFO:     notebook                     : 1\n",
      "COMET INFO:     source_code                  : 1\n",
      "COMET INFO: \n",
      "COMET WARNING: Comet has disabled auto-logging functionality as it has been imported after the following ML modules: xgboost, sklearn. Metrics and hyperparameters can still be logged using Experiment.log_metrics() and Experiment.log_parameters()\n",
      "COMET INFO: Uploading metrics, params, and assets to Comet before program termination (may take several seconds)\n",
      "COMET INFO: The Python SDK has 3600 seconds to finish uploading collected data\n",
      "COMET INFO: Waiting for completion of the file uploads (may take several seconds)\n",
      "COMET INFO: The Python SDK has 10800 seconds to finish uploading collected data\n",
      "COMET INFO: Still uploading 2 file(s), remaining 14.85 MB/18.96 MB\n",
      "COMET INFO: Still uploading 1 file(s), remaining 10.43 MB/18.96 MB, Throughput 299.84 KB/s, ETA ~36s\n",
      "COMET INFO: Still uploading 1 file(s), remaining 5.79 MB/18.96 MB, Throughput 314.98 KB/s, ETA ~19s\n",
      "COMET INFO: Still uploading 1 file(s), remaining 2.04 MB/18.96 MB, Throughput 254.73 KB/s, ETA ~9s\n"
     ]
    }
   ],
   "source": [
    "%%capture --no-display\n",
    "\n",
    "run_pipeline(pipeline, 'Logistic Regression - unigrams')"
   ]
  },
  {
   "cell_type": "markdown",
   "metadata": {},
   "source": [
    "Tfidf Vectorizer - single terms + bigrams - Logistic regression"
   ]
  },
  {
   "cell_type": "code",
   "execution_count": 28,
   "metadata": {},
   "outputs": [
    {
     "name": "stderr",
     "output_type": "stream",
     "text": [
      "/Users/benjamin/opt/anaconda3/lib/python3.9/site-packages/sklearn/metrics/_classification.py:1344: UndefinedMetricWarning: Jaccard is ill-defined and being set to 0.0 in samples with no true or predicted labels. Use `zero_division` parameter to control this behavior.\n",
      "  _warn_prf(average, modifier, msg_start, len(result))\n"
     ]
    },
    {
     "data": {
      "text/plain": [
       "(0.250334160779072,\n",
       " 0.6397005378688764,\n",
       " 0.4358632169360977,\n",
       " 0.05408767287705611)"
      ]
     },
     "execution_count": 28,
     "metadata": {},
     "output_type": "execute_result"
    }
   ],
   "source": [
    "pipeline = simple_pipeline(ngram_range=(1, 2))\n",
    "pipeline.fit(df_train['message'], y_train)\n",
    "classification_metrics(y_test, pipeline.predict(df_test['message']))"
   ]
  },
  {
   "cell_type": "code",
   "execution_count": 29,
   "metadata": {},
   "outputs": [
    {
     "name": "stderr",
     "output_type": "stream",
     "text": [
      "COMET WARNING: Comet has disabled auto-logging functionality as it has been imported after the following ML modules: xgboost, sklearn. Metrics and hyperparameters can still be logged using Experiment.log_metrics() and Experiment.log_parameters()\n",
      "COMET WARNING: As you are running in a Jupyter environment, you will need to call `experiment.end()` when finished to ensure all metrics and code are logged before exiting.\n",
      "COMET INFO: Experiment is live on comet.com https://www.comet.com/benjtlv/disaster-response-pipeline/e22acec8d2ea43d5a657b527f39a8147\n",
      "\n",
      "COMET INFO: ---------------------------------------------------------------------------------------\n",
      "COMET INFO: Comet.ml Experiment Summary\n",
      "COMET INFO: ---------------------------------------------------------------------------------------\n",
      "COMET INFO:   Data:\n",
      "COMET INFO:     display_summary_level : 1\n",
      "COMET INFO:     url                   : https://www.comet.com/benjtlv/disaster-response-pipeline/e22acec8d2ea43d5a657b527f39a8147\n",
      "COMET INFO:   Downloads:\n",
      "COMET INFO:     artifacts : 1\n",
      "COMET INFO:   Metrics:\n",
      "COMET INFO:     accuracy : 0.250334160779072\n",
      "COMET INFO:     f1       : 0.6397005378688764\n",
      "COMET INFO:     hamming  : 0.05408767287705611\n",
      "COMET INFO:     jaccard  : 0.4358632169360977\n",
      "COMET INFO:   Others:\n",
      "COMET INFO:     Name : Logistic Regression - unigrams + bigrams\n",
      "COMET INFO:   Parameters:\n",
      "COMET INFO:     estimator                           : LogisticRegression()\n",
      "COMET INFO:     estimator__C                        : 1.0\n",
      "COMET INFO:     estimator__class_weight             : 1\n",
      "COMET INFO:     estimator__dual                     : False\n",
      "COMET INFO:     estimator__fit_intercept            : True\n",
      "COMET INFO:     estimator__intercept_scaling        : 1\n",
      "COMET INFO:     estimator__l1_ratio                 : 1\n",
      "COMET INFO:     estimator__max_iter                 : 100\n",
      "COMET INFO:     estimator__multi_class              : auto\n",
      "COMET INFO:     estimator__n_jobs                   : 1\n",
      "COMET INFO:     estimator__penalty                  : l2\n",
      "COMET INFO:     estimator__random_state             : 1\n",
      "COMET INFO:     estimator__solver                   : lbfgs\n",
      "COMET INFO:     estimator__tol                      : 0.0001\n",
      "COMET INFO:     estimator__verbose                  : 0\n",
      "COMET INFO:     estimator__warm_start               : False\n",
      "COMET INFO:     memory                              : 1\n",
      "COMET INFO:     model__estimator                    : LogisticRegression()\n",
      "COMET INFO:     model__estimator__C                 : 1.0\n",
      "COMET INFO:     model__estimator__class_weight      : 1\n",
      "COMET INFO:     model__estimator__dual              : False\n",
      "COMET INFO:     model__estimator__fit_intercept     : True\n",
      "COMET INFO:     model__estimator__intercept_scaling : 1\n",
      "COMET INFO:     model__estimator__l1_ratio          : 1\n",
      "COMET INFO:     model__estimator__max_iter          : 100\n",
      "COMET INFO:     model__estimator__multi_class       : auto\n",
      "COMET INFO:     model__estimator__n_jobs            : 1\n",
      "COMET INFO:     model__estimator__penalty           : l2\n",
      "COMET INFO:     model__estimator__random_state      : 1\n",
      "COMET INFO:     model__estimator__solver            : lbfgs\n",
      "COMET INFO:     model__estimator__tol               : 0.0001\n",
      "COMET INFO:     model__estimator__verbose           : 0\n",
      "COMET INFO:     model__estimator__warm_start        : False\n",
      "COMET INFO:     model__n_jobs                       : 1\n",
      "COMET INFO:     model_estimator                     : LogisticRegression()\n",
      "COMET INFO:     model_estimator__C                  : 1.0\n",
      "COMET INFO:     model_estimator__class_weight       : 1\n",
      "COMET INFO:     model_estimator__dual               : False\n",
      "COMET INFO:     model_estimator__fit_intercept      : True\n",
      "COMET INFO:     model_estimator__intercept_scaling  : 1\n",
      "COMET INFO:     model_estimator__l1_ratio           : 1\n",
      "COMET INFO:     model_estimator__max_iter           : 100\n",
      "COMET INFO:     model_estimator__multi_class        : auto\n",
      "COMET INFO:     model_estimator__n_jobs             : 1\n",
      "COMET INFO:     model_estimator__penalty            : l2\n",
      "COMET INFO:     model_estimator__random_state       : 1\n",
      "COMET INFO:     model_estimator__solver             : lbfgs\n",
      "COMET INFO:     model_estimator__tol                : 0.0001\n",
      "COMET INFO:     model_estimator__verbose            : 0\n",
      "COMET INFO:     model_estimator__warm_start         : False\n",
      "COMET INFO:     model_n_jobs                        : 1\n",
      "COMET INFO:     n_jobs                              : 1\n",
      "COMET INFO:     tfidf_vectorizer__analyzer          : word\n",
      "COMET INFO:     tfidf_vectorizer__binary            : False\n",
      "COMET INFO:     tfidf_vectorizer__decode_error      : strict\n",
      "COMET INFO:     tfidf_vectorizer__dtype             : <class 'numpy.float64'>\n",
      "COMET INFO:     tfidf_vectorizer__encoding          : utf-8\n",
      "COMET INFO:     tfidf_vectorizer__input             : content\n",
      "COMET INFO:     tfidf_vectorizer__lowercase         : True\n",
      "COMET INFO:     tfidf_vectorizer__max_df            : 1.0\n",
      "COMET INFO:     tfidf_vectorizer__max_features      : 1\n",
      "COMET INFO:     tfidf_vectorizer__min_df            : 1\n",
      "COMET INFO:     tfidf_vectorizer__ngram_range       : (1, 2)\n",
      "COMET INFO:     tfidf_vectorizer__norm              : l2\n",
      "COMET INFO:     tfidf_vectorizer__preprocessor      : 1\n",
      "COMET INFO:     tfidf_vectorizer__smooth_idf        : True\n",
      "COMET INFO:     tfidf_vectorizer__stop_words        : 1\n",
      "COMET INFO:     tfidf_vectorizer__strip_accents     : 1\n",
      "COMET INFO:     tfidf_vectorizer__sublinear_tf      : False\n",
      "COMET INFO:     tfidf_vectorizer__token_pattern     : (?u)\\b\\w\\w+\\b\n",
      "COMET INFO:     tfidf_vectorizer__tokenizer         : 1\n",
      "COMET INFO:     tfidf_vectorizer__use_idf           : True\n",
      "COMET INFO:     tfidf_vectorizer__vocabulary        : 1\n",
      "COMET INFO:     tfidf_vectorizer_analyzer           : word\n",
      "COMET INFO:     tfidf_vectorizer_binary             : False\n",
      "COMET INFO:     tfidf_vectorizer_decode_error       : strict\n",
      "COMET INFO:     tfidf_vectorizer_dtype              : <class 'numpy.float64'>\n",
      "COMET INFO:     tfidf_vectorizer_encoding           : utf-8\n",
      "COMET INFO:     tfidf_vectorizer_input              : content\n",
      "COMET INFO:     tfidf_vectorizer_lowercase          : True\n",
      "COMET INFO:     tfidf_vectorizer_max_df             : 1.0\n",
      "COMET INFO:     tfidf_vectorizer_max_features       : 1\n",
      "COMET INFO:     tfidf_vectorizer_min_df             : 1\n",
      "COMET INFO:     tfidf_vectorizer_ngram_range        : (1, 2)\n",
      "COMET INFO:     tfidf_vectorizer_norm               : l2\n",
      "COMET INFO:     tfidf_vectorizer_preprocessor       : 1\n",
      "COMET INFO:     tfidf_vectorizer_smooth_idf         : True\n",
      "COMET INFO:     tfidf_vectorizer_stop_words         : 1\n",
      "COMET INFO:     tfidf_vectorizer_strip_accents      : 1\n",
      "COMET INFO:     tfidf_vectorizer_sublinear_tf       : False\n",
      "COMET INFO:     tfidf_vectorizer_token_pattern      : (?u)\\b\\w\\w+\\b\n",
      "COMET INFO:     tfidf_vectorizer_tokenizer          : 1\n",
      "COMET INFO:     tfidf_vectorizer_use_idf            : True\n",
      "COMET INFO:     tfidf_vectorizer_vocabulary         : 1\n",
      "COMET INFO:     verbose                             : False\n",
      "COMET INFO:   Uploads:\n",
      "COMET INFO:     conda-environment-definition : 1\n",
      "COMET INFO:     conda-info                   : 1\n",
      "COMET INFO:     conda-specification          : 1\n",
      "COMET INFO:     dataframe                    : 1 (2.16 KB)\n",
      "COMET INFO:     environment details          : 1\n",
      "COMET INFO:     filename                     : 1\n",
      "COMET INFO:     git metadata                 : 1\n",
      "COMET INFO:     git-patch (uncompressed)     : 1 (26.62 MB)\n",
      "COMET INFO:     installed packages           : 1\n",
      "COMET INFO:     notebook                     : 1\n",
      "COMET INFO:     source_code                  : 1\n",
      "COMET INFO: \n",
      "COMET WARNING: Comet has disabled auto-logging functionality as it has been imported after the following ML modules: xgboost, sklearn. Metrics and hyperparameters can still be logged using Experiment.log_metrics() and Experiment.log_parameters()\n",
      "COMET INFO: Uploading 1 metrics, params and output messages\n",
      "COMET INFO: Waiting for completion of the file uploads (may take several seconds)\n",
      "COMET INFO: The Python SDK has 10800 seconds to finish uploading collected data\n",
      "COMET INFO: Still uploading 1 file(s), remaining 6.67 MB/18.96 MB\n",
      "COMET INFO: Still uploading 1 file(s), remaining 3.31 MB/18.96 MB, Throughput 228.90 KB/s, ETA ~15s\n"
     ]
    }
   ],
   "source": [
    "%%capture --no-display\n",
    "run_pipeline(pipeline, 'Logistic Regression - unigrams + bigrams')"
   ]
  },
  {
   "cell_type": "markdown",
   "metadata": {},
   "source": [
    "Tfidf Vectorizer - single terms + bigrams + trigrams - Logistic regression"
   ]
  },
  {
   "cell_type": "code",
   "execution_count": 30,
   "metadata": {},
   "outputs": [
    {
     "name": "stderr",
     "output_type": "stream",
     "text": [
      "/Users/benjamin/opt/anaconda3/lib/python3.9/site-packages/sklearn/metrics/_classification.py:1344: UndefinedMetricWarning: Jaccard is ill-defined and being set to 0.0 in samples with no true or predicted labels. Use `zero_division` parameter to control this behavior.\n",
      "  _warn_prf(average, modifier, msg_start, len(result))\n"
     ]
    },
    {
     "data": {
      "text/plain": [
       "(0.2278021768187894,\n",
       " 0.6368979357798165,\n",
       " 0.43113961018295555,\n",
       " 0.05527701246624294)"
      ]
     },
     "execution_count": 30,
     "metadata": {},
     "output_type": "execute_result"
    }
   ],
   "source": [
    "pipeline = simple_pipeline(ngram_range=(1, 3))\n",
    "pipeline.fit(df_train['message'], y_train)\n",
    "classification_metrics(y_test, pipeline.predict(df_test['message']))"
   ]
  },
  {
   "cell_type": "code",
   "execution_count": 31,
   "metadata": {},
   "outputs": [
    {
     "name": "stderr",
     "output_type": "stream",
     "text": [
      "COMET WARNING: Comet has disabled auto-logging functionality as it has been imported after the following ML modules: xgboost, sklearn. Metrics and hyperparameters can still be logged using Experiment.log_metrics() and Experiment.log_parameters()\n",
      "COMET WARNING: As you are running in a Jupyter environment, you will need to call `experiment.end()` when finished to ensure all metrics and code are logged before exiting.\n",
      "COMET INFO: Experiment is live on comet.com https://www.comet.com/benjtlv/disaster-response-pipeline/fb1a8af435bb4a12b5b2959cbd7c1e06\n",
      "\n",
      "COMET INFO: ---------------------------------------------------------------------------------------\n",
      "COMET INFO: Comet.ml Experiment Summary\n",
      "COMET INFO: ---------------------------------------------------------------------------------------\n",
      "COMET INFO:   Data:\n",
      "COMET INFO:     display_summary_level : 1\n",
      "COMET INFO:     url                   : https://www.comet.com/benjtlv/disaster-response-pipeline/fb1a8af435bb4a12b5b2959cbd7c1e06\n",
      "COMET INFO:   Downloads:\n",
      "COMET INFO:     artifacts : 1\n",
      "COMET INFO:   Metrics:\n",
      "COMET INFO:     accuracy : 0.2278021768187894\n",
      "COMET INFO:     f1       : 0.6368979357798165\n",
      "COMET INFO:     hamming  : 0.05527701246624294\n",
      "COMET INFO:     jaccard  : 0.43113961018295555\n",
      "COMET INFO:   Others:\n",
      "COMET INFO:     Name : Logistic Regression - unigrams + bigrams + trigrams\n",
      "COMET INFO:   Parameters:\n",
      "COMET INFO:     estimator                           : LogisticRegression()\n",
      "COMET INFO:     estimator__C                        : 1.0\n",
      "COMET INFO:     estimator__class_weight             : 1\n",
      "COMET INFO:     estimator__dual                     : False\n",
      "COMET INFO:     estimator__fit_intercept            : True\n",
      "COMET INFO:     estimator__intercept_scaling        : 1\n",
      "COMET INFO:     estimator__l1_ratio                 : 1\n",
      "COMET INFO:     estimator__max_iter                 : 100\n",
      "COMET INFO:     estimator__multi_class              : auto\n",
      "COMET INFO:     estimator__n_jobs                   : 1\n",
      "COMET INFO:     estimator__penalty                  : l2\n",
      "COMET INFO:     estimator__random_state             : 1\n",
      "COMET INFO:     estimator__solver                   : lbfgs\n",
      "COMET INFO:     estimator__tol                      : 0.0001\n",
      "COMET INFO:     estimator__verbose                  : 0\n",
      "COMET INFO:     estimator__warm_start               : False\n",
      "COMET INFO:     memory                              : 1\n",
      "COMET INFO:     model__estimator                    : LogisticRegression()\n",
      "COMET INFO:     model__estimator__C                 : 1.0\n",
      "COMET INFO:     model__estimator__class_weight      : 1\n",
      "COMET INFO:     model__estimator__dual              : False\n",
      "COMET INFO:     model__estimator__fit_intercept     : True\n",
      "COMET INFO:     model__estimator__intercept_scaling : 1\n",
      "COMET INFO:     model__estimator__l1_ratio          : 1\n",
      "COMET INFO:     model__estimator__max_iter          : 100\n",
      "COMET INFO:     model__estimator__multi_class       : auto\n",
      "COMET INFO:     model__estimator__n_jobs            : 1\n",
      "COMET INFO:     model__estimator__penalty           : l2\n",
      "COMET INFO:     model__estimator__random_state      : 1\n",
      "COMET INFO:     model__estimator__solver            : lbfgs\n",
      "COMET INFO:     model__estimator__tol               : 0.0001\n",
      "COMET INFO:     model__estimator__verbose           : 0\n",
      "COMET INFO:     model__estimator__warm_start        : False\n",
      "COMET INFO:     model__n_jobs                       : 1\n",
      "COMET INFO:     model_estimator                     : LogisticRegression()\n",
      "COMET INFO:     model_estimator__C                  : 1.0\n",
      "COMET INFO:     model_estimator__class_weight       : 1\n",
      "COMET INFO:     model_estimator__dual               : False\n",
      "COMET INFO:     model_estimator__fit_intercept      : True\n",
      "COMET INFO:     model_estimator__intercept_scaling  : 1\n",
      "COMET INFO:     model_estimator__l1_ratio           : 1\n",
      "COMET INFO:     model_estimator__max_iter           : 100\n",
      "COMET INFO:     model_estimator__multi_class        : auto\n",
      "COMET INFO:     model_estimator__n_jobs             : 1\n",
      "COMET INFO:     model_estimator__penalty            : l2\n",
      "COMET INFO:     model_estimator__random_state       : 1\n",
      "COMET INFO:     model_estimator__solver             : lbfgs\n",
      "COMET INFO:     model_estimator__tol                : 0.0001\n",
      "COMET INFO:     model_estimator__verbose            : 0\n",
      "COMET INFO:     model_estimator__warm_start         : False\n",
      "COMET INFO:     model_n_jobs                        : 1\n",
      "COMET INFO:     n_jobs                              : 1\n",
      "COMET INFO:     tfidf_vectorizer__analyzer          : word\n",
      "COMET INFO:     tfidf_vectorizer__binary            : False\n",
      "COMET INFO:     tfidf_vectorizer__decode_error      : strict\n",
      "COMET INFO:     tfidf_vectorizer__dtype             : <class 'numpy.float64'>\n",
      "COMET INFO:     tfidf_vectorizer__encoding          : utf-8\n",
      "COMET INFO:     tfidf_vectorizer__input             : content\n",
      "COMET INFO:     tfidf_vectorizer__lowercase         : True\n",
      "COMET INFO:     tfidf_vectorizer__max_df            : 1.0\n",
      "COMET INFO:     tfidf_vectorizer__max_features      : 1\n",
      "COMET INFO:     tfidf_vectorizer__min_df            : 1\n",
      "COMET INFO:     tfidf_vectorizer__ngram_range       : (1, 3)\n",
      "COMET INFO:     tfidf_vectorizer__norm              : l2\n",
      "COMET INFO:     tfidf_vectorizer__preprocessor      : 1\n",
      "COMET INFO:     tfidf_vectorizer__smooth_idf        : True\n",
      "COMET INFO:     tfidf_vectorizer__stop_words        : 1\n",
      "COMET INFO:     tfidf_vectorizer__strip_accents     : 1\n",
      "COMET INFO:     tfidf_vectorizer__sublinear_tf      : False\n",
      "COMET INFO:     tfidf_vectorizer__token_pattern     : (?u)\\b\\w\\w+\\b\n",
      "COMET INFO:     tfidf_vectorizer__tokenizer         : 1\n",
      "COMET INFO:     tfidf_vectorizer__use_idf           : True\n",
      "COMET INFO:     tfidf_vectorizer__vocabulary        : 1\n",
      "COMET INFO:     tfidf_vectorizer_analyzer           : word\n",
      "COMET INFO:     tfidf_vectorizer_binary             : False\n",
      "COMET INFO:     tfidf_vectorizer_decode_error       : strict\n",
      "COMET INFO:     tfidf_vectorizer_dtype              : <class 'numpy.float64'>\n",
      "COMET INFO:     tfidf_vectorizer_encoding           : utf-8\n",
      "COMET INFO:     tfidf_vectorizer_input              : content\n",
      "COMET INFO:     tfidf_vectorizer_lowercase          : True\n",
      "COMET INFO:     tfidf_vectorizer_max_df             : 1.0\n",
      "COMET INFO:     tfidf_vectorizer_max_features       : 1\n",
      "COMET INFO:     tfidf_vectorizer_min_df             : 1\n",
      "COMET INFO:     tfidf_vectorizer_ngram_range        : (1, 3)\n",
      "COMET INFO:     tfidf_vectorizer_norm               : l2\n",
      "COMET INFO:     tfidf_vectorizer_preprocessor       : 1\n",
      "COMET INFO:     tfidf_vectorizer_smooth_idf         : True\n",
      "COMET INFO:     tfidf_vectorizer_stop_words         : 1\n",
      "COMET INFO:     tfidf_vectorizer_strip_accents      : 1\n",
      "COMET INFO:     tfidf_vectorizer_sublinear_tf       : False\n",
      "COMET INFO:     tfidf_vectorizer_token_pattern      : (?u)\\b\\w\\w+\\b\n",
      "COMET INFO:     tfidf_vectorizer_tokenizer          : 1\n",
      "COMET INFO:     tfidf_vectorizer_use_idf            : True\n",
      "COMET INFO:     tfidf_vectorizer_vocabulary         : 1\n",
      "COMET INFO:     verbose                             : False\n",
      "COMET INFO:   Uploads:\n",
      "COMET INFO:     conda-environment-definition : 1\n",
      "COMET INFO:     conda-info                   : 1\n",
      "COMET INFO:     conda-specification          : 1\n",
      "COMET INFO:     dataframe                    : 1 (1.96 KB)\n",
      "COMET INFO:     environment details          : 1\n",
      "COMET INFO:     filename                     : 1\n",
      "COMET INFO:     git metadata                 : 1\n",
      "COMET INFO:     git-patch (uncompressed)     : 1 (26.58 MB)\n",
      "COMET INFO:     installed packages           : 1\n",
      "COMET INFO:     notebook                     : 1\n",
      "COMET INFO:     source_code                  : 1\n",
      "COMET INFO: \n",
      "COMET WARNING: Comet has disabled auto-logging functionality as it has been imported after the following ML modules: xgboost, sklearn. Metrics and hyperparameters can still be logged using Experiment.log_metrics() and Experiment.log_parameters()\n",
      "COMET INFO: Uploading 1 metrics, params and output messages\n"
     ]
    }
   ],
   "source": [
    "%%capture --no-display\n",
    "\n",
    "run_pipeline(pipeline, 'Logistic Regression - unigrams + bigrams + trigrams')"
   ]
  },
  {
   "cell_type": "markdown",
   "metadata": {},
   "source": [
    "Tfidf Vectorizer - single terms + bigrams + trigrams - SVM with Linear kernel"
   ]
  },
  {
   "cell_type": "code",
   "execution_count": 32,
   "metadata": {},
   "outputs": [
    {
     "name": "stderr",
     "output_type": "stream",
     "text": [
      "/Users/benjamin/opt/anaconda3/lib/python3.9/site-packages/sklearn/metrics/_classification.py:1344: UndefinedMetricWarning: Jaccard is ill-defined and being set to 0.0 in samples with no true or predicted labels. Use `zero_division` parameter to control this behavior.\n",
      "  _warn_prf(average, modifier, msg_start, len(result))\n"
     ]
    },
    {
     "data": {
      "text/plain": [
       "(0.27095665457322893,\n",
       " 0.6952121448034254,\n",
       " 0.4539137319852031,\n",
       " 0.05126162743119016)"
      ]
     },
     "execution_count": 32,
     "metadata": {},
     "output_type": "execute_result"
    }
   ],
   "source": [
    "pipeline = simple_pipeline(ngram_range=(1, 3), model=LinearSVC)\n",
    "pipeline.fit(df_train['message'], y_train)\n",
    "classification_metrics(y_test, pipeline.predict(df_test['message']))"
   ]
  },
  {
   "cell_type": "code",
   "execution_count": 33,
   "metadata": {},
   "outputs": [
    {
     "name": "stderr",
     "output_type": "stream",
     "text": [
      "COMET WARNING: Comet has disabled auto-logging functionality as it has been imported after the following ML modules: xgboost, sklearn. Metrics and hyperparameters can still be logged using Experiment.log_metrics() and Experiment.log_parameters()\n",
      "COMET WARNING: As you are running in a Jupyter environment, you will need to call `experiment.end()` when finished to ensure all metrics and code are logged before exiting.\n",
      "COMET INFO: Experiment is live on comet.com https://www.comet.com/benjtlv/disaster-response-pipeline/017c8ab9b90f490998146e591a161922\n",
      "\n",
      "COMET INFO: ---------------------------------------------------------------------------------------\n",
      "COMET INFO: Comet.ml Experiment Summary\n",
      "COMET INFO: ---------------------------------------------------------------------------------------\n",
      "COMET INFO:   Data:\n",
      "COMET INFO:     display_summary_level : 1\n",
      "COMET INFO:     url                   : https://www.comet.com/benjtlv/disaster-response-pipeline/017c8ab9b90f490998146e591a161922\n",
      "COMET INFO:   Downloads:\n",
      "COMET INFO:     artifacts : 1\n",
      "COMET INFO:   Metrics:\n",
      "COMET INFO:     accuracy : 0.27095665457322893\n",
      "COMET INFO:     f1       : 0.6952121448034254\n",
      "COMET INFO:     hamming  : 0.05126162743119016\n",
      "COMET INFO:     jaccard  : 0.4539137319852031\n",
      "COMET INFO:   Others:\n",
      "COMET INFO:     Name : Linear SVC - unigrams + bigrams + trigrams\n",
      "COMET INFO:   Parameters:\n",
      "COMET INFO:     estimator                           : LinearSVC()\n",
      "COMET INFO:     estimator__C                        : 1.0\n",
      "COMET INFO:     estimator__class_weight             : 1\n",
      "COMET INFO:     estimator__dual                     : True\n",
      "COMET INFO:     estimator__fit_intercept            : True\n",
      "COMET INFO:     estimator__intercept_scaling        : 1\n",
      "COMET INFO:     estimator__loss                     : squared_hinge\n",
      "COMET INFO:     estimator__max_iter                 : 1000\n",
      "COMET INFO:     estimator__multi_class              : ovr\n",
      "COMET INFO:     estimator__penalty                  : l2\n",
      "COMET INFO:     estimator__random_state             : 1\n",
      "COMET INFO:     estimator__tol                      : 0.0001\n",
      "COMET INFO:     estimator__verbose                  : 0\n",
      "COMET INFO:     memory                              : 1\n",
      "COMET INFO:     model__estimator                    : LinearSVC()\n",
      "COMET INFO:     model__estimator__C                 : 1.0\n",
      "COMET INFO:     model__estimator__class_weight      : 1\n",
      "COMET INFO:     model__estimator__dual              : True\n",
      "COMET INFO:     model__estimator__fit_intercept     : True\n",
      "COMET INFO:     model__estimator__intercept_scaling : 1\n",
      "COMET INFO:     model__estimator__loss              : squared_hinge\n",
      "COMET INFO:     model__estimator__max_iter          : 1000\n",
      "COMET INFO:     model__estimator__multi_class       : ovr\n",
      "COMET INFO:     model__estimator__penalty           : l2\n",
      "COMET INFO:     model__estimator__random_state      : 1\n",
      "COMET INFO:     model__estimator__tol               : 0.0001\n",
      "COMET INFO:     model__estimator__verbose           : 0\n",
      "COMET INFO:     model__n_jobs                       : 1\n",
      "COMET INFO:     model_estimator                     : LinearSVC()\n",
      "COMET INFO:     model_estimator__C                  : 1.0\n",
      "COMET INFO:     model_estimator__class_weight       : 1\n",
      "COMET INFO:     model_estimator__dual               : True\n",
      "COMET INFO:     model_estimator__fit_intercept      : True\n",
      "COMET INFO:     model_estimator__intercept_scaling  : 1\n",
      "COMET INFO:     model_estimator__loss               : squared_hinge\n",
      "COMET INFO:     model_estimator__max_iter           : 1000\n",
      "COMET INFO:     model_estimator__multi_class        : ovr\n",
      "COMET INFO:     model_estimator__penalty            : l2\n",
      "COMET INFO:     model_estimator__random_state       : 1\n",
      "COMET INFO:     model_estimator__tol                : 0.0001\n",
      "COMET INFO:     model_estimator__verbose            : 0\n",
      "COMET INFO:     model_n_jobs                        : 1\n",
      "COMET INFO:     n_jobs                              : 1\n",
      "COMET INFO:     tfidf_vectorizer__analyzer          : word\n",
      "COMET INFO:     tfidf_vectorizer__binary            : False\n",
      "COMET INFO:     tfidf_vectorizer__decode_error      : strict\n",
      "COMET INFO:     tfidf_vectorizer__dtype             : <class 'numpy.float64'>\n",
      "COMET INFO:     tfidf_vectorizer__encoding          : utf-8\n",
      "COMET INFO:     tfidf_vectorizer__input             : content\n",
      "COMET INFO:     tfidf_vectorizer__lowercase         : True\n",
      "COMET INFO:     tfidf_vectorizer__max_df            : 1.0\n",
      "COMET INFO:     tfidf_vectorizer__max_features      : 1\n",
      "COMET INFO:     tfidf_vectorizer__min_df            : 1\n",
      "COMET INFO:     tfidf_vectorizer__ngram_range       : (1, 3)\n",
      "COMET INFO:     tfidf_vectorizer__norm              : l2\n",
      "COMET INFO:     tfidf_vectorizer__preprocessor      : 1\n",
      "COMET INFO:     tfidf_vectorizer__smooth_idf        : True\n",
      "COMET INFO:     tfidf_vectorizer__stop_words        : 1\n",
      "COMET INFO:     tfidf_vectorizer__strip_accents     : 1\n",
      "COMET INFO:     tfidf_vectorizer__sublinear_tf      : False\n",
      "COMET INFO:     tfidf_vectorizer__token_pattern     : (?u)\\b\\w\\w+\\b\n",
      "COMET INFO:     tfidf_vectorizer__tokenizer         : 1\n",
      "COMET INFO:     tfidf_vectorizer__use_idf           : True\n",
      "COMET INFO:     tfidf_vectorizer__vocabulary        : 1\n",
      "COMET INFO:     tfidf_vectorizer_analyzer           : word\n",
      "COMET INFO:     tfidf_vectorizer_binary             : False\n",
      "COMET INFO:     tfidf_vectorizer_decode_error       : strict\n",
      "COMET INFO:     tfidf_vectorizer_dtype              : <class 'numpy.float64'>\n",
      "COMET INFO:     tfidf_vectorizer_encoding           : utf-8\n",
      "COMET INFO:     tfidf_vectorizer_input              : content\n",
      "COMET INFO:     tfidf_vectorizer_lowercase          : True\n",
      "COMET INFO:     tfidf_vectorizer_max_df             : 1.0\n",
      "COMET INFO:     tfidf_vectorizer_max_features       : 1\n",
      "COMET INFO:     tfidf_vectorizer_min_df             : 1\n",
      "COMET INFO:     tfidf_vectorizer_ngram_range        : (1, 3)\n",
      "COMET INFO:     tfidf_vectorizer_norm               : l2\n",
      "COMET INFO:     tfidf_vectorizer_preprocessor       : 1\n",
      "COMET INFO:     tfidf_vectorizer_smooth_idf         : True\n",
      "COMET INFO:     tfidf_vectorizer_stop_words         : 1\n",
      "COMET INFO:     tfidf_vectorizer_strip_accents      : 1\n",
      "COMET INFO:     tfidf_vectorizer_sublinear_tf       : False\n",
      "COMET INFO:     tfidf_vectorizer_token_pattern      : (?u)\\b\\w\\w+\\b\n",
      "COMET INFO:     tfidf_vectorizer_tokenizer          : 1\n",
      "COMET INFO:     tfidf_vectorizer_use_idf            : True\n",
      "COMET INFO:     tfidf_vectorizer_vocabulary         : 1\n",
      "COMET INFO:     verbose                             : False\n",
      "COMET INFO:   Uploads:\n",
      "COMET INFO:     conda-environment-definition : 1\n",
      "COMET INFO:     conda-info                   : 1\n",
      "COMET INFO:     conda-specification          : 1\n",
      "COMET INFO:     dataframe                    : 1 (2.44 KB)\n",
      "COMET INFO:     environment details          : 1\n",
      "COMET INFO:     filename                     : 1\n",
      "COMET INFO:     git metadata                 : 1\n",
      "COMET INFO:     git-patch (uncompressed)     : 1 (26.59 MB)\n",
      "COMET INFO:     installed packages           : 1\n",
      "COMET INFO:     notebook                     : 1\n",
      "COMET INFO:     source_code                  : 1\n",
      "COMET INFO: \n",
      "COMET WARNING: Comet has disabled auto-logging functionality as it has been imported after the following ML modules: xgboost, sklearn. Metrics and hyperparameters can still be logged using Experiment.log_metrics() and Experiment.log_parameters()\n",
      "COMET INFO: Uploading 1 metrics, params and output messages\n",
      "COMET INFO: Waiting for completion of the file uploads (may take several seconds)\n",
      "COMET INFO: The Python SDK has 10800 seconds to finish uploading collected data\n",
      "COMET INFO: Still uploading 1 file(s), remaining 16.71 MB/18.96 MB\n",
      "COMET INFO: Still uploading 1 file(s), remaining 12.18 MB/18.96 MB, Throughput 307.86 KB/s, ETA ~41s\n",
      "COMET INFO: Still uploading 1 file(s), remaining 7.33 MB/18.96 MB, Throughput 329.41 KB/s, ETA ~23s\n",
      "COMET INFO: Still uploading 1 file(s), remaining 2.81 MB/18.96 MB, Throughput 306.68 KB/s, ETA ~10s\n"
     ]
    }
   ],
   "source": [
    "%%capture --no-display\n",
    "\n",
    "run_pipeline(pipeline, 'Linear SVC - unigrams + bigrams + trigrams')"
   ]
  },
  {
   "cell_type": "markdown",
   "metadata": {},
   "source": [
    "Tfidf Vectorizer - single terms + bigrams + trigrams - Random Forest"
   ]
  },
  {
   "cell_type": "code",
   "execution_count": 23,
   "metadata": {},
   "outputs": [],
   "source": [
    "# pipeline = simple_pipeline(ngram_range=(1, 3), model=RandomForestClassifier)\n",
    "# pipeline.fit(df_train['message'], y_train)\n",
    "# classification_metrics(y_test, pipeline.predict(df_test['message']))"
   ]
  },
  {
   "cell_type": "markdown",
   "metadata": {},
   "source": [
    "It seems like LinearSVC give us the best results here. Let's see if doing some preprocessing on our text improves the model"
   ]
  },
  {
   "cell_type": "code",
   "execution_count": 13,
   "metadata": {},
   "outputs": [],
   "source": []
  },
  {
   "cell_type": "code",
   "execution_count": 14,
   "metadata": {},
   "outputs": [],
   "source": []
  },
  {
   "cell_type": "code",
   "execution_count": 34,
   "metadata": {},
   "outputs": [
    {
     "name": "stderr",
     "output_type": "stream",
     "text": [
      "/Users/benjamin/opt/anaconda3/lib/python3.9/site-packages/sklearn/feature_extraction/text.py:528: UserWarning: The parameter 'token_pattern' will not be used since 'tokenizer' is not None'\n",
      "  warnings.warn(\n",
      "/Users/benjamin/opt/anaconda3/lib/python3.9/site-packages/sklearn/feature_extraction/text.py:409: UserWarning: Your stop_words may be inconsistent with your preprocessing. Tokenizing the stop words generated tokens ['could', 'doe', 'ha', 'might', 'must', 'need', 'shall', 'wa', 'would'] not in stop_words.\n",
      "  warnings.warn(\n",
      "/Users/benjamin/opt/anaconda3/lib/python3.9/site-packages/sklearn/metrics/_classification.py:1344: UndefinedMetricWarning: Jaccard is ill-defined and being set to 0.0 in samples with no true or predicted labels. Use `zero_division` parameter to control this behavior.\n",
      "  _warn_prf(average, modifier, msg_start, len(result))\n"
     ]
    },
    {
     "data": {
      "text/plain": [
       "(0.2763032270383807,\n",
       " 0.6977319587628866,\n",
       " 0.45121965472903014,\n",
       " 0.0519872336943179)"
      ]
     },
     "execution_count": 34,
     "metadata": {},
     "output_type": "execute_result"
    }
   ],
   "source": [
    "pipeline = simple_pipeline(tokenizer=tokenize, stop_words=stop_words, ngram_range=(1,3), model=LinearSVC)\n",
    "pipeline.fit(df_train['message'], y_train)\n",
    "classification_metrics(y_test, pipeline.predict(df_test['message']))"
   ]
  },
  {
   "cell_type": "code",
   "execution_count": 35,
   "metadata": {},
   "outputs": [
    {
     "name": "stderr",
     "output_type": "stream",
     "text": [
      "COMET WARNING: Comet has disabled auto-logging functionality as it has been imported after the following ML modules: xgboost, sklearn. Metrics and hyperparameters can still be logged using Experiment.log_metrics() and Experiment.log_parameters()\n",
      "COMET WARNING: As you are running in a Jupyter environment, you will need to call `experiment.end()` when finished to ensure all metrics and code are logged before exiting.\n",
      "COMET INFO: Experiment is live on comet.com https://www.comet.com/benjtlv/disaster-response-pipeline/5e89a75748aa42a8ac3ecccc2a1054a3\n",
      "\n",
      "COMET INFO: ---------------------------------------------------------------------------------------\n",
      "COMET INFO: Comet.ml Experiment Summary\n",
      "COMET INFO: ---------------------------------------------------------------------------------------\n",
      "COMET INFO:   Data:\n",
      "COMET INFO:     display_summary_level : 1\n",
      "COMET INFO:     url                   : https://www.comet.com/benjtlv/disaster-response-pipeline/5e89a75748aa42a8ac3ecccc2a1054a3\n",
      "COMET INFO:   Downloads:\n",
      "COMET INFO:     artifacts : 1\n",
      "COMET INFO:   Metrics:\n",
      "COMET INFO:     accuracy : 0.2763032270383807\n",
      "COMET INFO:     f1       : 0.6977319587628866\n",
      "COMET INFO:     hamming  : 0.0519872336943179\n",
      "COMET INFO:     jaccard  : 0.45121965472903014\n",
      "COMET INFO:   Others:\n",
      "COMET INFO:     Name : Linear SVC - unigrams + bigrams + trigrams - tokenize - remove stop words\n",
      "COMET INFO:   Parameters:\n",
      "COMET INFO:     estimator                           : LinearSVC()\n",
      "COMET INFO:     estimator__C                        : 1.0\n",
      "COMET INFO:     estimator__class_weight             : 1\n",
      "COMET INFO:     estimator__dual                     : True\n",
      "COMET INFO:     estimator__fit_intercept            : True\n",
      "COMET INFO:     estimator__intercept_scaling        : 1\n",
      "COMET INFO:     estimator__loss                     : squared_hinge\n",
      "COMET INFO:     estimator__max_iter                 : 1000\n",
      "COMET INFO:     estimator__multi_class              : ovr\n",
      "COMET INFO:     estimator__penalty                  : l2\n",
      "COMET INFO:     estimator__random_state             : 1\n",
      "COMET INFO:     estimator__tol                      : 0.0001\n",
      "COMET INFO:     estimator__verbose                  : 0\n",
      "COMET INFO:     memory                              : 1\n",
      "COMET INFO:     model__estimator                    : LinearSVC()\n",
      "COMET INFO:     model__estimator__C                 : 1.0\n",
      "COMET INFO:     model__estimator__class_weight      : 1\n",
      "COMET INFO:     model__estimator__dual              : True\n",
      "COMET INFO:     model__estimator__fit_intercept     : True\n",
      "COMET INFO:     model__estimator__intercept_scaling : 1\n",
      "COMET INFO:     model__estimator__loss              : squared_hinge\n",
      "COMET INFO:     model__estimator__max_iter          : 1000\n",
      "COMET INFO:     model__estimator__multi_class       : ovr\n",
      "COMET INFO:     model__estimator__penalty           : l2\n",
      "COMET INFO:     model__estimator__random_state      : 1\n",
      "COMET INFO:     model__estimator__tol               : 0.0001\n",
      "COMET INFO:     model__estimator__verbose           : 0\n",
      "COMET INFO:     model__n_jobs                       : 1\n",
      "COMET INFO:     model_estimator                     : LinearSVC()\n",
      "COMET INFO:     model_estimator__C                  : 1.0\n",
      "COMET INFO:     model_estimator__class_weight       : 1\n",
      "COMET INFO:     model_estimator__dual               : True\n",
      "COMET INFO:     model_estimator__fit_intercept      : True\n",
      "COMET INFO:     model_estimator__intercept_scaling  : 1\n",
      "COMET INFO:     model_estimator__loss               : squared_hinge\n",
      "COMET INFO:     model_estimator__max_iter           : 1000\n",
      "COMET INFO:     model_estimator__multi_class        : ovr\n",
      "COMET INFO:     model_estimator__penalty            : l2\n",
      "COMET INFO:     model_estimator__random_state       : 1\n",
      "COMET INFO:     model_estimator__tol                : 0.0001\n",
      "COMET INFO:     model_estimator__verbose            : 0\n",
      "COMET INFO:     model_n_jobs                        : 1\n",
      "COMET INFO:     n_jobs                              : 1\n",
      "COMET INFO:     tfidf_vectorizer__analyzer          : word\n",
      "COMET INFO:     tfidf_vectorizer__binary            : False\n",
      "COMET INFO:     tfidf_vectorizer__decode_error      : strict\n",
      "COMET INFO:     tfidf_vectorizer__dtype             : <class 'numpy.float64'>\n",
      "COMET INFO:     tfidf_vectorizer__encoding          : utf-8\n",
      "COMET INFO:     tfidf_vectorizer__input             : content\n",
      "COMET INFO:     tfidf_vectorizer__lowercase         : True\n",
      "COMET INFO:     tfidf_vectorizer__max_df            : 1.0\n",
      "COMET INFO:     tfidf_vectorizer__max_features      : 1\n",
      "COMET INFO:     tfidf_vectorizer__min_df            : 1\n",
      "COMET INFO:     tfidf_vectorizer__ngram_range       : (1, 3)\n",
      "COMET INFO:     tfidf_vectorizer__norm              : l2\n",
      "COMET INFO:     tfidf_vectorizer__preprocessor      : 1\n",
      "COMET INFO:     tfidf_vectorizer__smooth_idf        : True\n",
      "COMET INFO:     tfidf_vectorizer__stop_words        : ['i', 'me', 'my', 'myself', 'we', 'our', 'ours', 'ourselves', 'you', \"you're\", \"you've\", \"you'll\", \"you'd\", 'your', 'yours', 'yourself', 'yourselves', 'he', 'him', 'his', 'himself', 'she', \"she's\", 'her', 'hers', 'herself', 'it', \"it's\", 'its', 'itself', 'they', 'them', 'their', 'theirs', 'themselves', 'what', 'which', 'who', 'whom', 'this', 'that', \"that'll\", 'these', 'those', 'am', 'is', 'are', 'was', 'were', 'be', 'been', 'being', 'have', 'has', 'had', 'having', 'do', 'does', 'did', 'doing', 'a', 'an', 'the', 'and', 'but', 'if', 'or', 'because', 'as', 'until', 'while', 'of', 'at', 'by', 'for', 'with', 'about', 'against', 'between', 'into', 'through', 'during', 'before', 'after', 'above', 'below', 'to', 'from', 'up', 'down', 'in', 'out', 'on', 'off', 'over', 'under', 'again', 'further', 'then', 'once', 'here', 'there', 'when', 'where', 'why', 'how', 'all', 'any', 'both', 'each', 'few', 'more', 'most', 'other', 'some', 'such', 'no', 'nor', 'not', 'only', 'own', 'same', 'so', 'than', 'too', 'very', 's', 't', 'can', 'will', 'just', 'don', \"don't\", 'should', \"should've\", 'now', 'd', 'll', 'm', 'o', 're', 've', 'y', 'ain', 'aren', \"aren't\", 'couldn', \"couldn't\", 'didn', \"didn't\", 'doesn', \"doesn't\", 'hadn', \"hadn't\", 'hasn', \"hasn't\", 'haven', \"haven't\", 'isn', \"isn't\", 'ma', 'mightn', \"mightn't\", 'mustn', \"mustn't\", 'needn', \"needn't\", 'shan', \"shan't\", 'shouldn', \"shouldn't\", 'wasn', \"wasn't\", 'weren', \"weren't\", 'won', \"won't\", 'wouldn', \"wouldn't\", 'http', 'co', '000', 'bit', 'ly', 'u']\n",
      "COMET INFO:     tfidf_vectorizer__strip_accents     : 1\n",
      "COMET INFO:     tfidf_vectorizer__sublinear_tf      : False\n",
      "COMET INFO:     tfidf_vectorizer__token_pattern     : (?u)\\b\\w\\w+\\b\n",
      "COMET INFO:     tfidf_vectorizer__tokenizer         : <function tokenize at 0x7fd9d8e5f280>\n",
      "COMET INFO:     tfidf_vectorizer__use_idf           : True\n",
      "COMET INFO:     tfidf_vectorizer__vocabulary        : 1\n",
      "COMET INFO:     tfidf_vectorizer_analyzer           : word\n",
      "COMET INFO:     tfidf_vectorizer_binary             : False\n",
      "COMET INFO:     tfidf_vectorizer_decode_error       : strict\n",
      "COMET INFO:     tfidf_vectorizer_dtype              : <class 'numpy.float64'>\n",
      "COMET INFO:     tfidf_vectorizer_encoding           : utf-8\n",
      "COMET INFO:     tfidf_vectorizer_input              : content\n",
      "COMET INFO:     tfidf_vectorizer_lowercase          : True\n",
      "COMET INFO:     tfidf_vectorizer_max_df             : 1.0\n",
      "COMET INFO:     tfidf_vectorizer_max_features       : 1\n",
      "COMET INFO:     tfidf_vectorizer_min_df             : 1\n",
      "COMET INFO:     tfidf_vectorizer_ngram_range        : (1, 3)\n",
      "COMET INFO:     tfidf_vectorizer_norm               : l2\n",
      "COMET INFO:     tfidf_vectorizer_preprocessor       : 1\n",
      "COMET INFO:     tfidf_vectorizer_smooth_idf         : True\n",
      "COMET INFO:     tfidf_vectorizer_stop_words         : ['i', 'me', 'my', 'myself', 'we', 'our', 'ours', 'ourselves', 'you', \"you're\", \"you've\", \"you'll\", \"you'd\", 'your', 'yours', 'yourself', 'yourselves', 'he', 'him', 'his', 'himself', 'she', \"she's\", 'her', 'hers', 'herself', 'it', \"it's\", 'its', 'itself', 'they', 'them', 'their', 'theirs', 'themselves', 'what', 'which', 'who', 'whom', 'this', 'that', \"that'll\", 'these', 'those', 'am', 'is', 'are', 'was', 'were', 'be', 'been', 'being', 'have', 'has', 'had', 'having', 'do', 'does', 'did', 'doing', 'a', 'an', 'the', 'and', 'but', 'if', 'or', 'because', 'as', 'until', 'while', 'of', 'at', 'by', 'for', 'with', 'about', 'against', 'between', 'into', 'through', 'during', 'before', 'after', 'above', 'below', 'to', 'from', 'up', 'down', 'in', 'out', 'on', 'off', 'over', 'under', 'again', 'further', 'then', 'once', 'here', 'there', 'when', 'where', 'why', 'how', 'all', 'any', 'both', 'each', 'few', 'more', 'most', 'other', 'some', 'such', 'no', 'nor', 'not', 'only', 'own', 'same', 'so', 'than', 'too', 'very', 's', 't', 'can', 'will', 'just', 'don', \"don't\", 'should', \"should've\", 'now', 'd', 'll', 'm', 'o', 're', 've', 'y', 'ain', 'aren', \"aren't\", 'couldn', \"couldn't\", 'didn', \"didn't\", 'doesn', \"doesn't\", 'hadn', \"hadn't\", 'hasn', \"hasn't\", 'haven', \"haven't\", 'isn', \"isn't\", 'ma', 'mightn', \"mightn't\", 'mustn', \"mustn't\", 'needn', \"needn't\", 'shan', \"shan't\", 'shouldn', \"shouldn't\", 'wasn', \"wasn't\", 'weren', \"weren't\", 'won', \"won't\", 'wouldn', \"wouldn't\", 'http', 'co', '000', 'bit', 'ly', 'u']\n",
      "COMET INFO:     tfidf_vectorizer_strip_accents      : 1\n",
      "COMET INFO:     tfidf_vectorizer_sublinear_tf       : False\n",
      "COMET INFO:     tfidf_vectorizer_token_pattern      : (?u)\\b\\w\\w+\\b\n",
      "COMET INFO:     tfidf_vectorizer_tokenizer          : <function tokenize at 0x7fd9d8e5f280>\n",
      "COMET INFO:     tfidf_vectorizer_use_idf            : True\n",
      "COMET INFO:     tfidf_vectorizer_vocabulary         : 1\n",
      "COMET INFO:     verbose                             : False\n",
      "COMET INFO:   Uploads:\n",
      "COMET INFO:     conda-environment-definition : 1\n",
      "COMET INFO:     conda-info                   : 1\n",
      "COMET INFO:     conda-specification          : 1\n",
      "COMET INFO:     dataframe                    : 1 (2.42 KB)\n",
      "COMET INFO:     environment details          : 1\n",
      "COMET INFO:     filename                     : 1\n",
      "COMET INFO:     git metadata                 : 1\n",
      "COMET INFO:     git-patch (uncompressed)     : 1 (26.59 MB)\n",
      "COMET INFO:     installed packages           : 1\n",
      "COMET INFO:     notebook                     : 1\n",
      "COMET INFO:     source_code                  : 1\n",
      "COMET INFO: \n",
      "COMET WARNING: Comet has disabled auto-logging functionality as it has been imported after the following ML modules: xgboost, sklearn. Metrics and hyperparameters can still be logged using Experiment.log_metrics() and Experiment.log_parameters()\n",
      "COMET INFO: Uploading 1 metrics, params and output messages\n",
      "COMET INFO: Waiting for completion of the file uploads (may take several seconds)\n",
      "COMET INFO: The Python SDK has 10800 seconds to finish uploading collected data\n",
      "COMET INFO: Still uploading 4 file(s), remaining 14.70 MB/18.96 MB\n",
      "COMET INFO: Still uploading 1 file(s), remaining 10.35 MB/18.96 MB, Throughput 294.86 KB/s, ETA ~36s\n",
      "COMET INFO: Still uploading 1 file(s), remaining 7.25 MB/18.96 MB, Throughput 210.51 KB/s, ETA ~36s\n",
      "COMET INFO: Still uploading 1 file(s), remaining 3.36 MB/18.96 MB, Throughput 264.40 KB/s, ETA ~14s\n"
     ]
    }
   ],
   "source": [
    "%%capture --no-display\n",
    "\n",
    "run_pipeline(pipeline, 'Linear SVC - unigrams + bigrams + trigrams - tokenize - remove stop words')"
   ]
  },
  {
   "cell_type": "markdown",
   "metadata": {},
   "source": [
    "We have some improvements! Let's try to use POS tags to see how things improve"
   ]
  },
  {
   "cell_type": "code",
   "execution_count": 16,
   "metadata": {},
   "outputs": [],
   "source": [
    "# def tokenize_pos(tokens):\n",
    "#     pos_tags = nltk.pos_tag(tokens, tagset='universal')\n",
    "#     return [token+\"_POS-\"+tag for token, tag in pos_tags]"
   ]
  },
  {
   "cell_type": "code",
   "execution_count": 31,
   "metadata": {},
   "outputs": [],
   "source": [
    "# pipeline = Pipeline([\n",
    "#     ('tfidf_vectorizer', TfidfVectorizer(preprocessor=lambda x: x, tokenizer=tokenize_pos)),\n",
    "#     ('model', MultiOutputClassifier(LinearSVC()))\n",
    "# ])\n",
    "# pipeline.fit(df_train['message'], y_train)\n",
    "# classification_metrics(y_test, pipeline.predict(df_test['message']))"
   ]
  },
  {
   "cell_type": "markdown",
   "metadata": {},
   "source": [
    "It took an eternity to run and it made things worse. Let's try to use POS tag another way."
   ]
  },
  {
   "cell_type": "markdown",
   "metadata": {},
   "source": [
    "Let's reduce the number of features outputed by tf-idf to see if we can get similar results by taking less features into account"
   ]
  },
  {
   "cell_type": "code",
   "execution_count": 48,
   "metadata": {},
   "outputs": [
    {
     "name": "stderr",
     "output_type": "stream",
     "text": [
      "/usr/local/lib/python3.8/site-packages/sklearn/feature_extraction/text.py:528: UserWarning: The parameter 'token_pattern' will not be used since 'tokenizer' is not None'\n",
      "  warnings.warn(\n",
      "/usr/local/lib/python3.8/site-packages/sklearn/feature_extraction/text.py:409: UserWarning: Your stop_words may be inconsistent with your preprocessing. Tokenizing the stop words generated tokens ['could', 'doe', 'ha', 'might', 'must', 'need', 'shall', 'wa', 'would'] not in stop_words.\n",
      "  warnings.warn(\n"
     ]
    },
    {
     "ename": "ValueError",
     "evalue": "multiclass-multioutput is not supported",
     "output_type": "error",
     "traceback": [
      "\u001b[0;31m---------------------------------------------------------------------------\u001b[0m",
      "\u001b[0;31mValueError\u001b[0m                                Traceback (most recent call last)",
      "Cell \u001b[0;32mIn[48], line 6\u001b[0m\n\u001b[1;32m      1\u001b[0m pipeline \u001b[38;5;241m=\u001b[39m Pipeline([\n\u001b[1;32m      2\u001b[0m     (\u001b[38;5;124m'\u001b[39m\u001b[38;5;124mtfidf_vectorizer\u001b[39m\u001b[38;5;124m'\u001b[39m, TfidfVectorizer(tokenizer\u001b[38;5;241m=\u001b[39mtokenize, stop_words\u001b[38;5;241m=\u001b[39mstop_words, ngram_range\u001b[38;5;241m=\u001b[39m(\u001b[38;5;241m1\u001b[39m, \u001b[38;5;241m3\u001b[39m), max_features\u001b[38;5;241m=\u001b[39m\u001b[38;5;241m200000\u001b[39m)),\n\u001b[1;32m      3\u001b[0m     (\u001b[38;5;124m'\u001b[39m\u001b[38;5;124mmodel\u001b[39m\u001b[38;5;124m'\u001b[39m, MultiOutputClassifier(LinearSVC()))\n\u001b[1;32m      4\u001b[0m ])\n\u001b[1;32m      5\u001b[0m pipeline\u001b[38;5;241m.\u001b[39mfit(df_train[\u001b[38;5;124m'\u001b[39m\u001b[38;5;124mmessage\u001b[39m\u001b[38;5;124m'\u001b[39m], y_train)\n\u001b[0;32m----> 6\u001b[0m \u001b[43mclassification_metrics\u001b[49m\u001b[43m(\u001b[49m\u001b[43my_test\u001b[49m\u001b[43m,\u001b[49m\u001b[43m \u001b[49m\u001b[43mpipeline\u001b[49m\u001b[38;5;241;43m.\u001b[39;49m\u001b[43mpredict\u001b[49m\u001b[43m(\u001b[49m\u001b[43mdf_test\u001b[49m\u001b[43m[\u001b[49m\u001b[38;5;124;43m'\u001b[39;49m\u001b[38;5;124;43mmessage\u001b[39;49m\u001b[38;5;124;43m'\u001b[39;49m\u001b[43m]\u001b[49m\u001b[43m)\u001b[49m\u001b[43m)\u001b[49m\n",
      "Cell \u001b[0;32mIn[18], line 2\u001b[0m, in \u001b[0;36mclassification_metrics\u001b[0;34m(y_test, y_pred)\u001b[0m\n\u001b[1;32m      1\u001b[0m \u001b[38;5;28;01mdef\u001b[39;00m \u001b[38;5;21mclassification_metrics\u001b[39m(y_test, y_pred):\n\u001b[0;32m----> 2\u001b[0m     acc \u001b[38;5;241m=\u001b[39m \u001b[43maccuracy_score\u001b[49m\u001b[43m(\u001b[49m\u001b[43my_test\u001b[49m\u001b[43m \u001b[49m\u001b[43m,\u001b[49m\u001b[43my_pred\u001b[49m\u001b[43m)\u001b[49m\n\u001b[1;32m      3\u001b[0m     f1 \u001b[38;5;241m=\u001b[39m f1_score(y_test, y_pred, average\u001b[38;5;241m=\u001b[39m\u001b[38;5;124m\"\u001b[39m\u001b[38;5;124mmicro\u001b[39m\u001b[38;5;124m\"\u001b[39m)\n\u001b[1;32m      4\u001b[0m     jaccard \u001b[38;5;241m=\u001b[39m jaccard_score(y_test, y_pred, average\u001b[38;5;241m=\u001b[39m\u001b[38;5;124m\"\u001b[39m\u001b[38;5;124msamples\u001b[39m\u001b[38;5;124m\"\u001b[39m)\n",
      "File \u001b[0;32m/usr/local/lib/python3.8/site-packages/sklearn/utils/_param_validation.py:192\u001b[0m, in \u001b[0;36mvalidate_params.<locals>.decorator.<locals>.wrapper\u001b[0;34m(*args, **kwargs)\u001b[0m\n\u001b[1;32m    187\u001b[0m validate_parameter_constraints(\n\u001b[1;32m    188\u001b[0m     parameter_constraints, params, caller_name\u001b[38;5;241m=\u001b[39mfunc\u001b[38;5;241m.\u001b[39m\u001b[38;5;18m__qualname__\u001b[39m\n\u001b[1;32m    189\u001b[0m )\n\u001b[1;32m    191\u001b[0m \u001b[38;5;28;01mtry\u001b[39;00m:\n\u001b[0;32m--> 192\u001b[0m     \u001b[38;5;28;01mreturn\u001b[39;00m \u001b[43mfunc\u001b[49m\u001b[43m(\u001b[49m\u001b[38;5;241;43m*\u001b[39;49m\u001b[43margs\u001b[49m\u001b[43m,\u001b[49m\u001b[43m \u001b[49m\u001b[38;5;241;43m*\u001b[39;49m\u001b[38;5;241;43m*\u001b[39;49m\u001b[43mkwargs\u001b[49m\u001b[43m)\u001b[49m\n\u001b[1;32m    193\u001b[0m \u001b[38;5;28;01mexcept\u001b[39;00m InvalidParameterError \u001b[38;5;28;01mas\u001b[39;00m e:\n\u001b[1;32m    194\u001b[0m     \u001b[38;5;66;03m# When the function is just a wrapper around an estimator, we allow\u001b[39;00m\n\u001b[1;32m    195\u001b[0m     \u001b[38;5;66;03m# the function to delegate validation to the estimator, but we replace\u001b[39;00m\n\u001b[1;32m    196\u001b[0m     \u001b[38;5;66;03m# the name of the estimator by the name of the function in the error\u001b[39;00m\n\u001b[1;32m    197\u001b[0m     \u001b[38;5;66;03m# message to avoid confusion.\u001b[39;00m\n\u001b[1;32m    198\u001b[0m     msg \u001b[38;5;241m=\u001b[39m re\u001b[38;5;241m.\u001b[39msub(\n\u001b[1;32m    199\u001b[0m         \u001b[38;5;124mr\u001b[39m\u001b[38;5;124m\"\u001b[39m\u001b[38;5;124mparameter of \u001b[39m\u001b[38;5;124m\\\u001b[39m\u001b[38;5;124mw+ must be\u001b[39m\u001b[38;5;124m\"\u001b[39m,\n\u001b[1;32m    200\u001b[0m         \u001b[38;5;124mf\u001b[39m\u001b[38;5;124m\"\u001b[39m\u001b[38;5;124mparameter of \u001b[39m\u001b[38;5;132;01m{\u001b[39;00mfunc\u001b[38;5;241m.\u001b[39m\u001b[38;5;18m__qualname__\u001b[39m\u001b[38;5;132;01m}\u001b[39;00m\u001b[38;5;124m must be\u001b[39m\u001b[38;5;124m\"\u001b[39m,\n\u001b[1;32m    201\u001b[0m         \u001b[38;5;28mstr\u001b[39m(e),\n\u001b[1;32m    202\u001b[0m     )\n",
      "File \u001b[0;32m/usr/local/lib/python3.8/site-packages/sklearn/metrics/_classification.py:221\u001b[0m, in \u001b[0;36maccuracy_score\u001b[0;34m(y_true, y_pred, normalize, sample_weight)\u001b[0m\n\u001b[1;32m    155\u001b[0m \u001b[38;5;124;03m\"\"\"Accuracy classification score.\u001b[39;00m\n\u001b[1;32m    156\u001b[0m \n\u001b[1;32m    157\u001b[0m \u001b[38;5;124;03mIn multilabel classification, this function computes subset accuracy:\u001b[39;00m\n\u001b[0;32m   (...)\u001b[0m\n\u001b[1;32m    217\u001b[0m \u001b[38;5;124;03m0.5\u001b[39;00m\n\u001b[1;32m    218\u001b[0m \u001b[38;5;124;03m\"\"\"\u001b[39;00m\n\u001b[1;32m    220\u001b[0m \u001b[38;5;66;03m# Compute accuracy for each possible representation\u001b[39;00m\n\u001b[0;32m--> 221\u001b[0m y_type, y_true, y_pred \u001b[38;5;241m=\u001b[39m \u001b[43m_check_targets\u001b[49m\u001b[43m(\u001b[49m\u001b[43my_true\u001b[49m\u001b[43m,\u001b[49m\u001b[43m \u001b[49m\u001b[43my_pred\u001b[49m\u001b[43m)\u001b[49m\n\u001b[1;32m    222\u001b[0m check_consistent_length(y_true, y_pred, sample_weight)\n\u001b[1;32m    223\u001b[0m \u001b[38;5;28;01mif\u001b[39;00m y_type\u001b[38;5;241m.\u001b[39mstartswith(\u001b[38;5;124m\"\u001b[39m\u001b[38;5;124mmultilabel\u001b[39m\u001b[38;5;124m\"\u001b[39m):\n",
      "File \u001b[0;32m/usr/local/lib/python3.8/site-packages/sklearn/metrics/_classification.py:106\u001b[0m, in \u001b[0;36m_check_targets\u001b[0;34m(y_true, y_pred)\u001b[0m\n\u001b[1;32m    104\u001b[0m \u001b[38;5;66;03m# No metrics support \"multiclass-multioutput\" format\u001b[39;00m\n\u001b[1;32m    105\u001b[0m \u001b[38;5;28;01mif\u001b[39;00m y_type \u001b[38;5;129;01mnot\u001b[39;00m \u001b[38;5;129;01min\u001b[39;00m [\u001b[38;5;124m\"\u001b[39m\u001b[38;5;124mbinary\u001b[39m\u001b[38;5;124m\"\u001b[39m, \u001b[38;5;124m\"\u001b[39m\u001b[38;5;124mmulticlass\u001b[39m\u001b[38;5;124m\"\u001b[39m, \u001b[38;5;124m\"\u001b[39m\u001b[38;5;124mmultilabel-indicator\u001b[39m\u001b[38;5;124m\"\u001b[39m]:\n\u001b[0;32m--> 106\u001b[0m     \u001b[38;5;28;01mraise\u001b[39;00m \u001b[38;5;167;01mValueError\u001b[39;00m(\u001b[38;5;124m\"\u001b[39m\u001b[38;5;132;01m{0}\u001b[39;00m\u001b[38;5;124m is not supported\u001b[39m\u001b[38;5;124m\"\u001b[39m\u001b[38;5;241m.\u001b[39mformat(y_type))\n\u001b[1;32m    108\u001b[0m \u001b[38;5;28;01mif\u001b[39;00m y_type \u001b[38;5;129;01min\u001b[39;00m [\u001b[38;5;124m\"\u001b[39m\u001b[38;5;124mbinary\u001b[39m\u001b[38;5;124m\"\u001b[39m, \u001b[38;5;124m\"\u001b[39m\u001b[38;5;124mmulticlass\u001b[39m\u001b[38;5;124m\"\u001b[39m]:\n\u001b[1;32m    109\u001b[0m     y_true \u001b[38;5;241m=\u001b[39m column_or_1d(y_true)\n",
      "\u001b[0;31mValueError\u001b[0m: multiclass-multioutput is not supported"
     ]
    }
   ],
   "source": [
    "pipeline = Pipeline([\n",
    "    ('tfidf_vectorizer', TfidfVectorizer(tokenizer=tokenize, stop_words=stop_words, ngram_range=(1, 3), max_features=200000)),\n",
    "    ('model', MultiOutputClassifier(LinearSVC()))\n",
    "])\n",
    "pipeline.fit(df_train['message'], y_train)\n",
    "classification_metrics(y_test, pipeline.predict(df_test['message']))"
   ]
  },
  {
   "cell_type": "code",
   "execution_count": 37,
   "metadata": {},
   "outputs": [
    {
     "name": "stderr",
     "output_type": "stream",
     "text": [
      "COMET WARNING: Comet has disabled auto-logging functionality as it has been imported after the following ML modules: xgboost, sklearn. Metrics and hyperparameters can still be logged using Experiment.log_metrics() and Experiment.log_parameters()\n",
      "COMET WARNING: As you are running in a Jupyter environment, you will need to call `experiment.end()` when finished to ensure all metrics and code are logged before exiting.\n",
      "COMET INFO: Experiment is live on comet.com https://www.comet.com/benjtlv/disaster-response-pipeline/d7115cd29c484695b44e1bbceaa14415\n",
      "\n",
      "COMET INFO: ---------------------------------------------------------------------------------------\n",
      "COMET INFO: Comet.ml Experiment Summary\n",
      "COMET INFO: ---------------------------------------------------------------------------------------\n",
      "COMET INFO:   Data:\n",
      "COMET INFO:     display_summary_level : 1\n",
      "COMET INFO:     url                   : https://www.comet.com/benjtlv/disaster-response-pipeline/d7115cd29c484695b44e1bbceaa14415\n",
      "COMET INFO:   Downloads:\n",
      "COMET INFO:     artifacts : 1\n",
      "COMET INFO:   Metrics:\n",
      "COMET INFO:     accuracy : 0.2835592896696582\n",
      "COMET INFO:     f1       : 0.6883739250311823\n",
      "COMET INFO:     hamming  : 0.05179628467770534\n",
      "COMET INFO:     jaccard  : 0.44424518472473584\n",
      "COMET INFO:   Others:\n",
      "COMET INFO:     Name : Linear SVC - unigrams + bigrams + trigrams - tokenize - remove stop words - 200000 features\n",
      "COMET INFO:   Parameters:\n",
      "COMET INFO:     estimator                           : LinearSVC()\n",
      "COMET INFO:     estimator__C                        : 1.0\n",
      "COMET INFO:     estimator__class_weight             : 1\n",
      "COMET INFO:     estimator__dual                     : True\n",
      "COMET INFO:     estimator__fit_intercept            : True\n",
      "COMET INFO:     estimator__intercept_scaling        : 1\n",
      "COMET INFO:     estimator__loss                     : squared_hinge\n",
      "COMET INFO:     estimator__max_iter                 : 1000\n",
      "COMET INFO:     estimator__multi_class              : ovr\n",
      "COMET INFO:     estimator__penalty                  : l2\n",
      "COMET INFO:     estimator__random_state             : 1\n",
      "COMET INFO:     estimator__tol                      : 0.0001\n",
      "COMET INFO:     estimator__verbose                  : 0\n",
      "COMET INFO:     memory                              : 1\n",
      "COMET INFO:     model__estimator                    : LinearSVC()\n",
      "COMET INFO:     model__estimator__C                 : 1.0\n",
      "COMET INFO:     model__estimator__class_weight      : 1\n",
      "COMET INFO:     model__estimator__dual              : True\n",
      "COMET INFO:     model__estimator__fit_intercept     : True\n",
      "COMET INFO:     model__estimator__intercept_scaling : 1\n",
      "COMET INFO:     model__estimator__loss              : squared_hinge\n",
      "COMET INFO:     model__estimator__max_iter          : 1000\n",
      "COMET INFO:     model__estimator__multi_class       : ovr\n",
      "COMET INFO:     model__estimator__penalty           : l2\n",
      "COMET INFO:     model__estimator__random_state      : 1\n",
      "COMET INFO:     model__estimator__tol               : 0.0001\n",
      "COMET INFO:     model__estimator__verbose           : 0\n",
      "COMET INFO:     model__n_jobs                       : 1\n",
      "COMET INFO:     model_estimator                     : LinearSVC()\n",
      "COMET INFO:     model_estimator__C                  : 1.0\n",
      "COMET INFO:     model_estimator__class_weight       : 1\n",
      "COMET INFO:     model_estimator__dual               : True\n",
      "COMET INFO:     model_estimator__fit_intercept      : True\n",
      "COMET INFO:     model_estimator__intercept_scaling  : 1\n",
      "COMET INFO:     model_estimator__loss               : squared_hinge\n",
      "COMET INFO:     model_estimator__max_iter           : 1000\n",
      "COMET INFO:     model_estimator__multi_class        : ovr\n",
      "COMET INFO:     model_estimator__penalty            : l2\n",
      "COMET INFO:     model_estimator__random_state       : 1\n",
      "COMET INFO:     model_estimator__tol                : 0.0001\n",
      "COMET INFO:     model_estimator__verbose            : 0\n",
      "COMET INFO:     model_n_jobs                        : 1\n",
      "COMET INFO:     n_jobs                              : 1\n",
      "COMET INFO:     tfidf_vectorizer__analyzer          : word\n",
      "COMET INFO:     tfidf_vectorizer__binary            : False\n",
      "COMET INFO:     tfidf_vectorizer__decode_error      : strict\n",
      "COMET INFO:     tfidf_vectorizer__dtype             : <class 'numpy.float64'>\n",
      "COMET INFO:     tfidf_vectorizer__encoding          : utf-8\n",
      "COMET INFO:     tfidf_vectorizer__input             : content\n",
      "COMET INFO:     tfidf_vectorizer__lowercase         : True\n",
      "COMET INFO:     tfidf_vectorizer__max_df            : 1.0\n",
      "COMET INFO:     tfidf_vectorizer__max_features      : 200000\n",
      "COMET INFO:     tfidf_vectorizer__min_df            : 1\n",
      "COMET INFO:     tfidf_vectorizer__ngram_range       : (1, 3)\n",
      "COMET INFO:     tfidf_vectorizer__norm              : l2\n",
      "COMET INFO:     tfidf_vectorizer__preprocessor      : 1\n",
      "COMET INFO:     tfidf_vectorizer__smooth_idf        : True\n",
      "COMET INFO:     tfidf_vectorizer__stop_words        : ['i', 'me', 'my', 'myself', 'we', 'our', 'ours', 'ourselves', 'you', \"you're\", \"you've\", \"you'll\", \"you'd\", 'your', 'yours', 'yourself', 'yourselves', 'he', 'him', 'his', 'himself', 'she', \"she's\", 'her', 'hers', 'herself', 'it', \"it's\", 'its', 'itself', 'they', 'them', 'their', 'theirs', 'themselves', 'what', 'which', 'who', 'whom', 'this', 'that', \"that'll\", 'these', 'those', 'am', 'is', 'are', 'was', 'were', 'be', 'been', 'being', 'have', 'has', 'had', 'having', 'do', 'does', 'did', 'doing', 'a', 'an', 'the', 'and', 'but', 'if', 'or', 'because', 'as', 'until', 'while', 'of', 'at', 'by', 'for', 'with', 'about', 'against', 'between', 'into', 'through', 'during', 'before', 'after', 'above', 'below', 'to', 'from', 'up', 'down', 'in', 'out', 'on', 'off', 'over', 'under', 'again', 'further', 'then', 'once', 'here', 'there', 'when', 'where', 'why', 'how', 'all', 'any', 'both', 'each', 'few', 'more', 'most', 'other', 'some', 'such', 'no', 'nor', 'not', 'only', 'own', 'same', 'so', 'than', 'too', 'very', 's', 't', 'can', 'will', 'just', 'don', \"don't\", 'should', \"should've\", 'now', 'd', 'll', 'm', 'o', 're', 've', 'y', 'ain', 'aren', \"aren't\", 'couldn', \"couldn't\", 'didn', \"didn't\", 'doesn', \"doesn't\", 'hadn', \"hadn't\", 'hasn', \"hasn't\", 'haven', \"haven't\", 'isn', \"isn't\", 'ma', 'mightn', \"mightn't\", 'mustn', \"mustn't\", 'needn', \"needn't\", 'shan', \"shan't\", 'shouldn', \"shouldn't\", 'wasn', \"wasn't\", 'weren', \"weren't\", 'won', \"won't\", 'wouldn', \"wouldn't\", 'http', 'co', '000', 'bit', 'ly', 'u']\n",
      "COMET INFO:     tfidf_vectorizer__strip_accents     : 1\n",
      "COMET INFO:     tfidf_vectorizer__sublinear_tf      : False\n",
      "COMET INFO:     tfidf_vectorizer__token_pattern     : (?u)\\b\\w\\w+\\b\n",
      "COMET INFO:     tfidf_vectorizer__tokenizer         : <function tokenize at 0x7fd9d8e5f280>\n",
      "COMET INFO:     tfidf_vectorizer__use_idf           : True\n",
      "COMET INFO:     tfidf_vectorizer__vocabulary        : 1\n",
      "COMET INFO:     tfidf_vectorizer_analyzer           : word\n",
      "COMET INFO:     tfidf_vectorizer_binary             : False\n",
      "COMET INFO:     tfidf_vectorizer_decode_error       : strict\n",
      "COMET INFO:     tfidf_vectorizer_dtype              : <class 'numpy.float64'>\n",
      "COMET INFO:     tfidf_vectorizer_encoding           : utf-8\n",
      "COMET INFO:     tfidf_vectorizer_input              : content\n",
      "COMET INFO:     tfidf_vectorizer_lowercase          : True\n",
      "COMET INFO:     tfidf_vectorizer_max_df             : 1.0\n",
      "COMET INFO:     tfidf_vectorizer_max_features       : 200000\n",
      "COMET INFO:     tfidf_vectorizer_min_df             : 1\n",
      "COMET INFO:     tfidf_vectorizer_ngram_range        : (1, 3)\n",
      "COMET INFO:     tfidf_vectorizer_norm               : l2\n",
      "COMET INFO:     tfidf_vectorizer_preprocessor       : 1\n",
      "COMET INFO:     tfidf_vectorizer_smooth_idf         : True\n",
      "COMET INFO:     tfidf_vectorizer_stop_words         : ['i', 'me', 'my', 'myself', 'we', 'our', 'ours', 'ourselves', 'you', \"you're\", \"you've\", \"you'll\", \"you'd\", 'your', 'yours', 'yourself', 'yourselves', 'he', 'him', 'his', 'himself', 'she', \"she's\", 'her', 'hers', 'herself', 'it', \"it's\", 'its', 'itself', 'they', 'them', 'their', 'theirs', 'themselves', 'what', 'which', 'who', 'whom', 'this', 'that', \"that'll\", 'these', 'those', 'am', 'is', 'are', 'was', 'were', 'be', 'been', 'being', 'have', 'has', 'had', 'having', 'do', 'does', 'did', 'doing', 'a', 'an', 'the', 'and', 'but', 'if', 'or', 'because', 'as', 'until', 'while', 'of', 'at', 'by', 'for', 'with', 'about', 'against', 'between', 'into', 'through', 'during', 'before', 'after', 'above', 'below', 'to', 'from', 'up', 'down', 'in', 'out', 'on', 'off', 'over', 'under', 'again', 'further', 'then', 'once', 'here', 'there', 'when', 'where', 'why', 'how', 'all', 'any', 'both', 'each', 'few', 'more', 'most', 'other', 'some', 'such', 'no', 'nor', 'not', 'only', 'own', 'same', 'so', 'than', 'too', 'very', 's', 't', 'can', 'will', 'just', 'don', \"don't\", 'should', \"should've\", 'now', 'd', 'll', 'm', 'o', 're', 've', 'y', 'ain', 'aren', \"aren't\", 'couldn', \"couldn't\", 'didn', \"didn't\", 'doesn', \"doesn't\", 'hadn', \"hadn't\", 'hasn', \"hasn't\", 'haven', \"haven't\", 'isn', \"isn't\", 'ma', 'mightn', \"mightn't\", 'mustn', \"mustn't\", 'needn', \"needn't\", 'shan', \"shan't\", 'shouldn', \"shouldn't\", 'wasn', \"wasn't\", 'weren', \"weren't\", 'won', \"won't\", 'wouldn', \"wouldn't\", 'http', 'co', '000', 'bit', 'ly', 'u']\n",
      "COMET INFO:     tfidf_vectorizer_strip_accents      : 1\n",
      "COMET INFO:     tfidf_vectorizer_sublinear_tf       : False\n",
      "COMET INFO:     tfidf_vectorizer_token_pattern      : (?u)\\b\\w\\w+\\b\n",
      "COMET INFO:     tfidf_vectorizer_tokenizer          : <function tokenize at 0x7fd9d8e5f280>\n",
      "COMET INFO:     tfidf_vectorizer_use_idf            : True\n",
      "COMET INFO:     tfidf_vectorizer_vocabulary         : 1\n",
      "COMET INFO:     verbose                             : False\n",
      "COMET INFO:   Uploads:\n",
      "COMET INFO:     conda-environment-definition : 1\n",
      "COMET INFO:     conda-info                   : 1\n",
      "COMET INFO:     conda-specification          : 1\n",
      "COMET INFO:     dataframe                    : 1 (2.42 KB)\n",
      "COMET INFO:     environment details          : 1\n",
      "COMET INFO:     filename                     : 1\n",
      "COMET INFO:     git metadata                 : 1\n",
      "COMET INFO:     git-patch (uncompressed)     : 1 (26.62 MB)\n",
      "COMET INFO:     installed packages           : 1\n",
      "COMET INFO:     notebook                     : 1\n",
      "COMET INFO:     source_code                  : 1\n",
      "COMET INFO: \n",
      "COMET WARNING: Comet has disabled auto-logging functionality as it has been imported after the following ML modules: xgboost, sklearn. Metrics and hyperparameters can still be logged using Experiment.log_metrics() and Experiment.log_parameters()\n",
      "COMET INFO: Uploading 1 metrics, params and output messages\n",
      "COMET INFO: Waiting for completion of the file uploads (may take several seconds)\n",
      "COMET INFO: The Python SDK has 10800 seconds to finish uploading collected data\n",
      "COMET INFO: Still uploading 2 file(s), remaining 14.81 MB/18.97 MB\n",
      "COMET INFO: Still uploading 1 file(s), remaining 10.43 MB/18.97 MB, Throughput 297.51 KB/s, ETA ~36s\n",
      "COMET INFO: Still uploading 1 file(s), remaining 6.04 MB/18.97 MB, Throughput 298.30 KB/s, ETA ~21s\n",
      "COMET INFO: Still uploading 1 file(s), remaining 2.19 MB/18.97 MB, Throughput 261.60 KB/s, ETA ~9s\n"
     ]
    }
   ],
   "source": [
    "%%capture --no-display\n",
    "\n",
    "run_pipeline(pipeline, 'Linear SVC - unigrams + bigrams + trigrams - tokenize - remove stop words - 200000 features')"
   ]
  },
  {
   "cell_type": "markdown",
   "metadata": {},
   "source": [
    "Surprisingly, we can see that the f1-scores were improved after reducing the amount of features. We can confidently reduce the amount of features to 200000"
   ]
  },
  {
   "cell_type": "markdown",
   "metadata": {},
   "source": [
    "Our data set is highly imbalanced. Certain classes are not representative at all. Because of this problem, our classifier tends to be weighed down by majority of classes and ignores the small ones. There are several approaches to handle this issue such as data level approach and algorithm level approach. \n",
    "The data level approach consists in balancing the class distribution through sampling, while the algorithm level approach is about adjusting weight or cost of various classes. The latter is better in terms of avoiding overfitting."
   ]
  },
  {
   "cell_type": "markdown",
   "metadata": {},
   "source": [
    "# Text Augmentation"
   ]
  },
  {
   "cell_type": "markdown",
   "metadata": {},
   "source": [
    "Because our Data is unbalanced, we can try to apply some over sampling data techniques.\n",
    "Let's apply some Text Augmentation techniques. Let's apply some EDA (Easy Data Augmentation) techniques."
   ]
  },
  {
   "cell_type": "markdown",
   "metadata": {},
   "source": [
    "First, we can plot our label distribution"
   ]
  },
  {
   "cell_type": "code",
   "execution_count": 57,
   "metadata": {},
   "outputs": [
    {
     "name": "stderr",
     "output_type": "stream",
     "text": [
      "COMET WARNING: Comet has disabled auto-logging functionality as it has been imported after the following ML modules: xgboost, sklearn. Metrics and hyperparameters can still be logged using Experiment.log_metrics() and Experiment.log_parameters()\n",
      "COMET INFO: ---------------------------\n",
      "COMET INFO: Comet.ml Experiment Summary\n",
      "COMET INFO: ---------------------------\n",
      "COMET INFO:   Data:\n",
      "COMET INFO:     display_summary_level : 1\n",
      "COMET INFO:     url                   : https://www.comet.com/benjtlv/disaster-response-pipeline/b1318df096e54a7aad11b4961cbf2e08\n",
      "COMET INFO:   Uploads:\n",
      "COMET INFO:     environment details      : 1\n",
      "COMET INFO:     filename                 : 1\n",
      "COMET INFO:     git metadata             : 1\n",
      "COMET INFO:     git-patch (uncompressed) : 1 (1.96 MB)\n",
      "COMET INFO:     images                   : 1\n",
      "COMET INFO:     installed packages       : 1\n",
      "COMET INFO:     notebook                 : 1\n",
      "COMET INFO:     os packages              : 1\n",
      "COMET INFO:     source_code              : 1\n",
      "COMET INFO:     text-sample              : 15\n",
      "COMET INFO: ---------------------------\n",
      "COMET WARNING: Comet has disabled auto-logging functionality as it has been imported after the following ML modules: xgboost, sklearn. Metrics and hyperparameters can still be logged using Experiment.log_metrics() and Experiment.log_parameters()\n",
      "COMET WARNING: As you are running in a Jupyter environment, you will need to call `experiment.end()` when finished to ensure all metrics and code are logged before exiting.\n",
      "COMET INFO: Experiment is live on comet.com https://www.comet.com/benjtlv/disaster-response-pipeline/c6cd5529febe4d0c805c0484b0dd5916\n",
      "\n"
     ]
    }
   ],
   "source": [
    "experiment = create_experiment()\n",
    "experiment.add_tags(['text augmentation', 'preprocess'])\n",
    "experiment.get_artifact(COMET_ARTIFACT, version_or_alias='transformed', workspace=COMET_WORKSPACE)\n",
    "artifact = Artifact(\n",
    "        name=COMET_ARTIFACT,\n",
    "        artifact_type=\"dataset\",\n",
    "        aliases=['augmented', 'train'],\n",
    "        metadata={\n",
    "            \"task\": \"classification\"\n",
    "        }\n",
    "    )"
   ]
  },
  {
   "cell_type": "code",
   "execution_count": 58,
   "metadata": {},
   "outputs": [],
   "source": [
    "def plot_label_distributions(df_labels):\n",
    "    plt.figure(figsize=(5, 7))\n",
    "    \n",
    "    title = 'labels_distribution'\n",
    "    base_color = sb.color_palette()[0]\n",
    "    class_counts = df_labels.sum().sort_values(ascending=False).to_frame().reset_index()\n",
    "    class_counts.columns = ['labels', 'count']\n",
    "    bar_plot = sb.barplot(data=class_counts, y='labels', x='count', color=base_color)\n",
    "    plt.title(title);"
   ]
  },
  {
   "cell_type": "code",
   "execution_count": 59,
   "metadata": {},
   "outputs": [
    {
     "data": {
      "image/png": "[encoded data removed]",
      "text/plain": [
       "<Figure size 500x700 with 1 Axes>"
      ]
     },
     "metadata": {},
     "output_type": "display_data"
    }
   ],
   "source": [
    "plot_label_distributions(y_train)"
   ]
  },
  {
   "cell_type": "code",
   "execution_count": 60,
   "metadata": {},
   "outputs": [],
   "source": [
    "import nlpaug.augmenter.char as nac\n",
    "import nlpaug.augmenter.word as naw\n",
    "import nlpaug.augmenter.sentence as nas\n",
    "import nlpaug.flow as naf\n",
    "\n",
    "from nlpaug.util import Action\n",
    "from nlpaug.util.file.download import DownloadUtil\n",
    "# DownloadUtil.download_glove(model_name='glove.6B', dest_dir='./content')"
   ]
  },
  {
   "cell_type": "code",
   "execution_count": 61,
   "metadata": {},
   "outputs": [],
   "source": [
    "text = 'climate change puts the squeeze on olives production'"
   ]
  },
  {
   "cell_type": "markdown",
   "metadata": {},
   "source": [
    "Initialize our Word Augmentation Objects"
   ]
  },
  {
   "cell_type": "code",
   "execution_count": 62,
   "metadata": {},
   "outputs": [],
   "source": [
    "# bert_aug_sub = naw.ContextualWordEmbsAug(model_path='bert-base-uncased', action=\"substitute\", stopwords=stop_words, aug_p=.1)\n",
    "\n",
    "# bert_aug_insert = naw.ContextualWordEmbsAug(model_path='bert-base-uncased', action=\"substitute\", stopwords=stop_words, aug_p=.1)\n",
    "\n",
    "syn_aug = naw.SynonymAug()\n",
    "\n",
    "antonym_aug = naw.AntonymAug()\n",
    "\n",
    "random_swap_aug = naw.random.RandomWordAug(action='swap', stopwords=stop_words, aug_p=.1)\n",
    "\n",
    "random_delete_aug = naw.random.RandomWordAug(action='delete', stopwords=stop_words, aug_p=.1)"
   ]
  },
  {
   "cell_type": "code",
   "execution_count": 63,
   "metadata": {},
   "outputs": [],
   "source": [
    "# sentence = 'climate change puts the squeeze on wine production'\n",
    "# aug = naw.random.RandomWordAug(action='swap', aug_p=0.3)\n",
    "# augmented_text = aug.augment(text, n=1)\n",
    "# print('Original text :', text)\n",
    "# print('Augmented text :', augmented_text)"
   ]
  },
  {
   "cell_type": "markdown",
   "metadata": {},
   "source": [
    "Because we're in a multi-label setting, we want to identify the real misrepresented samples. There are possiblities that samples which contain minority labels can also contain majority labels. We will use a mix of techniques from the MLSMOTE paper combined with Text Data Augmentation. It's going to be fun!"
   ]
  },
  {
   "cell_type": "markdown",
   "metadata": {},
   "source": [
    "Let's write a function which calculate the imbalance ratio"
   ]
  },
  {
   "cell_type": "code",
   "execution_count": 64,
   "metadata": {},
   "outputs": [],
   "source": [
    "def get_tail_label(df: pd.DataFrame, ql=[0.05, 1.]) -> list:\n",
    "    \"\"\"\n",
    "    Find the underrepresented targets.\n",
    "    Underrepresented targets are those which are observed less than the median occurance.\n",
    "    Targets beyond a quantile limit are filtered.\n",
    "    \"\"\"\n",
    "    irlbl = df.sum(axis=0)\n",
    "    irlbl = irlbl[(irlbl > irlbl.quantile(ql[0])) & ((irlbl < irlbl.quantile(ql[1])))]  # Filtering\n",
    "    irlbl = irlbl.max() / irlbl\n",
    "    threshold_irlbl = irlbl.median()\n",
    "    tail_label = irlbl[irlbl > threshold_irlbl].index.tolist()\n",
    "    return tail_label"
   ]
  },
  {
   "cell_type": "code",
   "execution_count": 65,
   "metadata": {},
   "outputs": [],
   "source": [
    "def get_minority_samples(X: pd.DataFrame, y: pd.DataFrame, ql=[0.05, 1.]):\n",
    "    \"\"\"\n",
    "    return\n",
    "    X_sub: pandas.DataFrame, the feature vector minority dataframe\n",
    "    y_sub: pandas.DataFrame, the target vector minority dataframe\n",
    "    \"\"\"\n",
    "    tail_labels = get_tail_label(y, ql=ql)\n",
    "    index = y[y[tail_labels].apply(lambda x: (x == 1).any(), axis=1)].index.tolist()\n",
    "    \n",
    "    X_sub = X[X.index.isin(index)].reset_index(drop = True)\n",
    "    y_sub = y[y.index.isin(index)].reset_index(drop = True)\n",
    "    return X_sub, y_sub"
   ]
  },
  {
   "cell_type": "code",
   "execution_count": 66,
   "metadata": {},
   "outputs": [],
   "source": [
    "df_train_minority, _ = get_minority_samples(df_train, y_train, ql=[0.25, 0.75])"
   ]
  },
  {
   "cell_type": "code",
   "execution_count": 67,
   "metadata": {},
   "outputs": [
    {
     "data": {
      "text/plain": [
       "(3971, 39)"
      ]
     },
     "execution_count": 67,
     "metadata": {},
     "output_type": "execute_result"
    }
   ],
   "source": [
    "df_train_minority.shape"
   ]
  },
  {
   "cell_type": "markdown",
   "metadata": {},
   "source": [
    "Now we know exactly which samples we need to augment. We need to decide what percent of words to be altered in a sentence, but also the number of augmented sentences per sample. Let's call the first alpha, and the second Naug. According to the litterature, when having more than 5000 data points, the best performance has been obtained wiht alpha=0.1, and Naug=4."
   ]
  },
  {
   "cell_type": "markdown",
   "metadata": {},
   "source": [
    "Regarding the operations that we will be performing, we will opt for a mix of Synonym Replacement, Random Insertion, Random Swap & Random Deletion. All fours have shown to work equally well."
   ]
  },
  {
   "cell_type": "code",
   "execution_count": 68,
   "metadata": {},
   "outputs": [
    {
     "data": {
      "text/html": [
       "<div>\n",
       "<style scoped>\n",
       "    .dataframe tbody tr th:only-of-type {\n",
       "        vertical-align: middle;\n",
       "    }\n",
       "\n",
       "    .dataframe tbody tr th {\n",
       "        vertical-align: top;\n",
       "    }\n",
       "\n",
       "    .dataframe thead th {\n",
       "        text-align: right;\n",
       "    }\n",
       "</style>\n",
       "<table border=\"1\" class=\"dataframe\">\n",
       "  <thead>\n",
       "    <tr style=\"text-align: right;\">\n",
       "      <th></th>\n",
       "      <th>id</th>\n",
       "      <th>message</th>\n",
       "      <th>original</th>\n",
       "      <th>genre</th>\n",
       "      <th>related</th>\n",
       "      <th>request</th>\n",
       "      <th>offer</th>\n",
       "      <th>aid_related</th>\n",
       "      <th>medical_help</th>\n",
       "      <th>medical_products</th>\n",
       "      <th>...</th>\n",
       "      <th>aid_centers</th>\n",
       "      <th>other_infrastructure</th>\n",
       "      <th>weather_related</th>\n",
       "      <th>floods</th>\n",
       "      <th>storm</th>\n",
       "      <th>fire</th>\n",
       "      <th>earthquake</th>\n",
       "      <th>cold</th>\n",
       "      <th>other_weather</th>\n",
       "      <th>direct_report</th>\n",
       "    </tr>\n",
       "  </thead>\n",
       "  <tbody>\n",
       "    <tr>\n",
       "      <th>0</th>\n",
       "      <td>19396</td>\n",
       "      <td>a</td>\n",
       "      <td>NaN</td>\n",
       "      <td>news</td>\n",
       "      <td>1</td>\n",
       "      <td>0</td>\n",
       "      <td>0</td>\n",
       "      <td>0</td>\n",
       "      <td>0</td>\n",
       "      <td>0</td>\n",
       "      <td>...</td>\n",
       "      <td>0</td>\n",
       "      <td>0</td>\n",
       "      <td>1</td>\n",
       "      <td>0</td>\n",
       "      <td>1</td>\n",
       "      <td>0</td>\n",
       "      <td>0</td>\n",
       "      <td>0</td>\n",
       "      <td>0</td>\n",
       "      <td>0</td>\n",
       "    </tr>\n",
       "    <tr>\n",
       "      <th>1</th>\n",
       "      <td>19396</td>\n",
       "      <td>b</td>\n",
       "      <td>NaN</td>\n",
       "      <td>news</td>\n",
       "      <td>1</td>\n",
       "      <td>0</td>\n",
       "      <td>0</td>\n",
       "      <td>0</td>\n",
       "      <td>0</td>\n",
       "      <td>0</td>\n",
       "      <td>...</td>\n",
       "      <td>0</td>\n",
       "      <td>0</td>\n",
       "      <td>1</td>\n",
       "      <td>0</td>\n",
       "      <td>1</td>\n",
       "      <td>0</td>\n",
       "      <td>0</td>\n",
       "      <td>0</td>\n",
       "      <td>0</td>\n",
       "      <td>0</td>\n",
       "    </tr>\n",
       "  </tbody>\n",
       "</table>\n",
       "<p>2 rows × 39 columns</p>\n",
       "</div>"
      ],
      "text/plain": [
       "      id message original genre  related  request  offer  aid_related  \\\n",
       "0  19396       a      NaN  news        1        0      0            0   \n",
       "1  19396       b      NaN  news        1        0      0            0   \n",
       "\n",
       "   medical_help  medical_products  ...  aid_centers  other_infrastructure  \\\n",
       "0             0                 0  ...            0                     0   \n",
       "1             0                 0  ...            0                     0   \n",
       "\n",
       "   weather_related  floods  storm  fire  earthquake  cold  other_weather  \\\n",
       "0                1       0      1     0           0     0              0   \n",
       "1                1       0      1     0           0     0              0   \n",
       "\n",
       "   direct_report  \n",
       "0              0  \n",
       "1              0  \n",
       "\n",
       "[2 rows x 39 columns]"
      ]
     },
     "execution_count": 68,
     "metadata": {},
     "output_type": "execute_result"
    }
   ],
   "source": [
    "row = df_train_minority.iloc[[1]]\n",
    "augmented_df = pd.concat([row]*8).reset_index(drop=True)\n",
    "row_indexer = augmented_df.iloc[0:2].index\n",
    "augmented_df.loc[row_indexer, 'message'] = ['a', 'b']\n",
    "augmented_df.loc[row_indexer, :]"
   ]
  },
  {
   "cell_type": "code",
   "execution_count": 69,
   "metadata": {},
   "outputs": [],
   "source": [
    "def process_data_point(i, df_minority, n_aug, augmentations, n_aug_per_method):\n",
    "    message = df_minority.iloc[i]['message']\n",
    "\n",
    "    copy_row = df_minority.iloc[[i]]\n",
    "    augmented_sub_df = pd.concat([copy_row] * n_aug).reset_index(drop=True)\n",
    "\n",
    "    slice_idx = 0\n",
    "    for aug in augmentations:\n",
    "        row_indexer = augmented_sub_df.iloc[slice_idx:slice_idx+n_aug_per_method].index\n",
    "        augmented_sub_df.loc[row_indexer, 'message'] = aug.augment(message, n=n_aug_per_method)\n",
    "        slice_idx += n_aug_per_method\n",
    "\n",
    "    return augmented_sub_df"
   ]
  },
  {
   "cell_type": "code",
   "execution_count": 70,
   "metadata": {},
   "outputs": [],
   "source": [
    "from p_tqdm import p_map\n",
    "import math\n",
    "\n",
    "def augment_minority_samples(df_minority, alpha=0.1, n_aug=4, augmentations=None):\n",
    "    n_aug_per_method = math.ceil(len(augmentations) // n_aug)\n",
    "    for i in range(len(augmentations)):\n",
    "        augmentations[i].aug_p = alpha\n",
    "    \n",
    "    aug_df_l = []\n",
    "#     aug_df_l = p_map(process_data_point, [(i, df_minority, n_aug, augmentations, n_aug_per_method) for i in range(df_minority.shape[0])], **{'num_cpus': 8})\n",
    "    for i in tqdm(range(df_minority.shape[0])):\n",
    "        aug_df_l.append(process_data_point(i, df_minority, n_aug, augmentations, n_aug_per_method))\n",
    "    \n",
    "    return pd.concat(aug_df_l).reset_index(drop=True)"
   ]
  },
  {
   "cell_type": "code",
   "execution_count": 71,
   "metadata": {},
   "outputs": [
    {
     "name": "stderr",
     "output_type": "stream",
     "text": [
      "100%|██████████| 3971/3971 [00:42<00:00, 94.30it/s] \n"
     ]
    }
   ],
   "source": [
    "os.environ['TOKENIZERS_PARALLELISM'] = 'True'\n",
    "df_minority_augmented = augment_minority_samples(df_train_minority, augmentations=[syn_aug, antonym_aug, random_swap_aug, random_delete_aug])"
   ]
  },
  {
   "cell_type": "code",
   "execution_count": 72,
   "metadata": {},
   "outputs": [],
   "source": [
    "df_train_augmented = pd.concat([df_train, df_minority_augmented]).reset_index(drop=True)\n",
    "y_train_augmented = df_train_augmented.loc[:, category_colnames]"
   ]
  },
  {
   "cell_type": "code",
   "execution_count": 73,
   "metadata": {},
   "outputs": [
    {
     "data": {
      "image/png": "[encoded data removed]",
      "text/plain": [
       "<Figure size 500x700 with 1 Axes>"
      ]
     },
     "metadata": {},
     "output_type": "display_data"
    }
   ],
   "source": [
    "fig = plt.figure(figsize=(5, 7))\n",
    "\n",
    "title = 'labels_distribution_augmented'\n",
    "class_counts = y_train.sum().sort_values(ascending=False).to_frame().reset_index()\n",
    "class_counts_aug = y_train_augmented.sum().sort_values(ascending=False).to_frame().reset_index()\n",
    "class_counts.columns = ['labels', 'count']\n",
    "class_counts_aug.columns = ['labels', 'count']\n",
    "sb.barplot(data=class_counts_aug, y='labels', x='count', color=sb.color_palette()[1], label='original')\n",
    "sb.barplot(data=class_counts, y='labels', x='count', color=sb.color_palette()[0], label='augmented')\n",
    "plt.legend()\n",
    "plt.title(title);\n",
    "\n",
    "fig.savefig('label distribution augmented')"
   ]
  },
  {
   "cell_type": "code",
   "execution_count": 74,
   "metadata": {},
   "outputs": [
    {
     "data": {
      "text/plain": [
       "{'web': 'https://www.comet.com/api/image/download?imageId=1c38c9df80c84ba8ad11ef87bf20e783&experimentKey=c6cd5529febe4d0c805c0484b0dd5916',\n",
       " 'api': 'https://www.comet.com/api/rest/v1/image/get-image?imageId=1c38c9df80c84ba8ad11ef87bf20e783&experimentKey=c6cd5529febe4d0c805c0484b0dd5916',\n",
       " 'imageId': '1c38c9df80c84ba8ad11ef87bf20e783'}"
      ]
     },
     "execution_count": 74,
     "metadata": {},
     "output_type": "execute_result"
    }
   ],
   "source": [
    "experiment.log_image('label distribution augmented.png', step=1)"
   ]
  },
  {
   "cell_type": "code",
   "execution_count": 75,
   "metadata": {},
   "outputs": [],
   "source": [
    "df_train_augmented.to_csv('disaster_augmented_train.csv', index=False)"
   ]
  },
  {
   "cell_type": "code",
   "execution_count": 76,
   "metadata": {},
   "outputs": [],
   "source": [
    "# log a few augmentation examples\n",
    "original_messages = df_train.iloc[0:5]['message'].to_list()\n",
    "\n",
    "for i, msg in enumerate(original_messages):\n",
    "    experiment.log_text(msg, metadata={'augmentation': 'no augmentation', 'sentence_id': i})\n",
    "    experiment.log_text(syn_aug.augment(msg), metadata={'augmentation': 'synonym', 'sentence_id': i})\n",
    "    experiment.log_text(antonym_aug.augment(msg), metadata={'augmentation': 'antonym', 'sentence_id': i})\n",
    "    experiment.log_text(random_swap_aug.augment(msg), metadata={'augmentation': 'random swap', 'sentence_id': i})\n",
    "    experiment.log_text(random_delete_aug.augment(msg), metadata={'augmentation': 'random delete', 'sentence_id': i})"
   ]
  },
  {
   "cell_type": "code",
   "execution_count": 77,
   "metadata": {},
   "outputs": [
    {
     "name": "stderr",
     "output_type": "stream",
     "text": [
      "COMET INFO: Artifact 'disaster-response-data' version 5.0.0 created (previous was: 4.0.0)\n",
      "COMET INFO: Scheduling the upload of 1 assets for a size of 9.89 MB, this can take some time\n",
      "COMET INFO: Artifact 'benjtlv/disaster-response-data:5.0.0' has started uploading asynchronously\n"
     ]
    },
    {
     "data": {
      "text/plain": [
       "LoggedArtifact(artifact_name='disaster-response-data', artifact_type='dataset', workspace='benjtlv', version=Version('5.0.0'), aliases=frozenset({'train', 'augmented'}), artifact_tags=frozenset(), version_tags=frozenset(), size=0, source_experiment_key='c6cd5529febe4d0c805c0484b0dd5916')"
      ]
     },
     "execution_count": 77,
     "metadata": {},
     "output_type": "execute_result"
    },
    {
     "name": "stderr",
     "output_type": "stream",
     "text": [
      "COMET INFO: Artifact 'benjtlv/disaster-response-data:5.0.0' has been fully uploaded successfully\n"
     ]
    }
   ],
   "source": [
    "artifact.add('disaster_augmented_train.csv')\n",
    "experiment.log_artifact(artifact)"
   ]
  },
  {
   "cell_type": "code",
   "execution_count": 78,
   "metadata": {},
   "outputs": [
    {
     "name": "stderr",
     "output_type": "stream",
     "text": [
      "COMET INFO: ---------------------------\n",
      "COMET INFO: Comet.ml Experiment Summary\n",
      "COMET INFO: ---------------------------\n",
      "COMET INFO:   Data:\n",
      "COMET INFO:     display_summary_level : 1\n",
      "COMET INFO:     url                   : https://www.comet.com/benjtlv/disaster-response-pipeline/c6cd5529febe4d0c805c0484b0dd5916\n",
      "COMET INFO:   Downloads:\n",
      "COMET INFO:     artifacts : 1\n",
      "COMET INFO:   Uploads:\n",
      "COMET INFO:     artifact assets          : 1 (9.89 MB)\n",
      "COMET INFO:     artifacts                : 1\n",
      "COMET INFO:     environment details      : 1\n",
      "COMET INFO:     filename                 : 1\n",
      "COMET INFO:     git metadata             : 1\n",
      "COMET INFO:     git-patch (uncompressed) : 1 (1.96 MB)\n",
      "COMET INFO:     images                   : 1\n",
      "COMET INFO:     installed packages       : 1\n",
      "COMET INFO:     notebook                 : 1\n",
      "COMET INFO:     os packages              : 1\n",
      "COMET INFO:     source_code              : 1\n",
      "COMET INFO:     text-sample              : 25\n",
      "COMET INFO: ---------------------------\n",
      "COMET WARNING: Comet has disabled auto-logging functionality as it has been imported after the following ML modules: xgboost, sklearn. Metrics and hyperparameters can still be logged using Experiment.log_metrics() and Experiment.log_parameters()\n",
      "COMET INFO: Uploading metrics, params, and assets to Comet before program termination (may take several seconds)\n",
      "COMET INFO: The Python SDK has 3600 seconds to finish before aborting...\n"
     ]
    }
   ],
   "source": [
    "experiment.end()"
   ]
  },
  {
   "cell_type": "markdown",
   "metadata": {},
   "source": [
    "Our data is still imbalanced, but we have more data for each label. Let's see if it improves our results"
   ]
  },
  {
   "cell_type": "code",
   "execution_count": 79,
   "metadata": {},
   "outputs": [
    {
     "name": "stderr",
     "output_type": "stream",
     "text": [
      "COMET WARNING: Comet has disabled auto-logging functionality as it has been imported after the following ML modules: xgboost, sklearn. Metrics and hyperparameters can still be logged using Experiment.log_metrics() and Experiment.log_parameters()\n",
      "COMET WARNING: As you are running in a Jupyter environment, you will need to call `experiment.end()` when finished to ensure all metrics and code are logged before exiting.\n",
      "COMET INFO: Experiment is live on comet.com https://www.comet.com/benjtlv/disaster-response-pipeline/545c0ac60be74c45a2f3e62c2502c087\n",
      "\n"
     ]
    },
    {
     "data": {
      "text/plain": [
       "LoggedArtifact(artifact_name='disaster-response-data', artifact_type='dataset', workspace='benjtlv', version=Version('5.0.0'), aliases=frozenset({'train', 'Latest', 'augmented'}), artifact_tags=frozenset(), version_tags=frozenset(), size=10369731, source_experiment_key='c6cd5529febe4d0c805c0484b0dd5916')"
      ]
     },
     "execution_count": 79,
     "metadata": {},
     "output_type": "execute_result"
    }
   ],
   "source": [
    "experiment = create_experiment()\n",
    "experiment.add_tags(['text augmentation', 'training'])\n",
    "experiment.set_name('Linear SVC - Linear SVC - unigrams + bigrams + trigrams - Augmented')\n",
    "experiment.get_artifact(COMET_ARTIFACT, version_or_alias='augmented', workspace=COMET_WORKSPACE)"
   ]
  },
  {
   "cell_type": "code",
   "execution_count": 80,
   "metadata": {},
   "outputs": [
    {
     "name": "stderr",
     "output_type": "stream",
     "text": [
      "/usr/local/lib/python3.8/site-packages/sklearn/feature_extraction/text.py:528: UserWarning: The parameter 'token_pattern' will not be used since 'tokenizer' is not None'\n",
      "  warnings.warn(\n",
      "/usr/local/lib/python3.8/site-packages/sklearn/feature_extraction/text.py:409: UserWarning: Your stop_words may be inconsistent with your preprocessing. Tokenizing the stop words generated tokens ['could', 'doe', 'ha', 'might', 'must', 'need', 'shall', 'wa', 'would'] not in stop_words.\n",
      "  warnings.warn(\n"
     ]
    },
    {
     "data": {
      "text/html": [
       "<style>#sk-container-id-1 {color: black;background-color: white;}#sk-container-id-1 pre{padding: 0;}#sk-container-id-1 div.sk-toggleable {background-color: white;}#sk-container-id-1 label.sk-toggleable__label {cursor: pointer;display: block;width: 100%;margin-bottom: 0;padding: 0.3em;box-sizing: border-box;text-align: center;}#sk-container-id-1 label.sk-toggleable__label-arrow:before {content: \"▸\";float: left;margin-right: 0.25em;color: #696969;}#sk-container-id-1 label.sk-toggleable__label-arrow:hover:before {color: black;}#sk-container-id-1 div.sk-estimator:hover label.sk-toggleable__label-arrow:before {color: black;}#sk-container-id-1 div.sk-toggleable__content {max-height: 0;max-width: 0;overflow: hidden;text-align: left;background-color: #f0f8ff;}#sk-container-id-1 div.sk-toggleable__content pre {margin: 0.2em;color: black;border-radius: 0.25em;background-color: #f0f8ff;}#sk-container-id-1 input.sk-toggleable__control:checked~div.sk-toggleable__content {max-height: 200px;max-width: 100%;overflow: auto;}#sk-container-id-1 input.sk-toggleable__control:checked~label.sk-toggleable__label-arrow:before {content: \"▾\";}#sk-container-id-1 div.sk-estimator input.sk-toggleable__control:checked~label.sk-toggleable__label {background-color: #d4ebff;}#sk-container-id-1 div.sk-label input.sk-toggleable__control:checked~label.sk-toggleable__label {background-color: #d4ebff;}#sk-container-id-1 input.sk-hidden--visually {border: 0;clip: rect(1px 1px 1px 1px);clip: rect(1px, 1px, 1px, 1px);height: 1px;margin: -1px;overflow: hidden;padding: 0;position: absolute;width: 1px;}#sk-container-id-1 div.sk-estimator {font-family: monospace;background-color: #f0f8ff;border: 1px dotted black;border-radius: 0.25em;box-sizing: border-box;margin-bottom: 0.5em;}#sk-container-id-1 div.sk-estimator:hover {background-color: #d4ebff;}#sk-container-id-1 div.sk-parallel-item::after {content: \"\";width: 100%;border-bottom: 1px solid gray;flex-grow: 1;}#sk-container-id-1 div.sk-label:hover label.sk-toggleable__label {background-color: #d4ebff;}#sk-container-id-1 div.sk-serial::before {content: \"\";position: absolute;border-left: 1px solid gray;box-sizing: border-box;top: 0;bottom: 0;left: 50%;z-index: 0;}#sk-container-id-1 div.sk-serial {display: flex;flex-direction: column;align-items: center;background-color: white;padding-right: 0.2em;padding-left: 0.2em;position: relative;}#sk-container-id-1 div.sk-item {position: relative;z-index: 1;}#sk-container-id-1 div.sk-parallel {display: flex;align-items: stretch;justify-content: center;background-color: white;position: relative;}#sk-container-id-1 div.sk-item::before, #sk-container-id-1 div.sk-parallel-item::before {content: \"\";position: absolute;border-left: 1px solid gray;box-sizing: border-box;top: 0;bottom: 0;left: 50%;z-index: -1;}#sk-container-id-1 div.sk-parallel-item {display: flex;flex-direction: column;z-index: 1;position: relative;background-color: white;}#sk-container-id-1 div.sk-parallel-item:first-child::after {align-self: flex-end;width: 50%;}#sk-container-id-1 div.sk-parallel-item:last-child::after {align-self: flex-start;width: 50%;}#sk-container-id-1 div.sk-parallel-item:only-child::after {width: 0;}#sk-container-id-1 div.sk-dashed-wrapped {border: 1px dashed gray;margin: 0 0.4em 0.5em 0.4em;box-sizing: border-box;padding-bottom: 0.4em;background-color: white;}#sk-container-id-1 div.sk-label label {font-family: monospace;font-weight: bold;display: inline-block;line-height: 1.2em;}#sk-container-id-1 div.sk-label-container {text-align: center;}#sk-container-id-1 div.sk-container {/* jupyter's `normalize.less` sets `[hidden] { display: none; }` but bootstrap.min.css set `[hidden] { display: none !important; }` so we also need the `!important` here to be able to override the default hidden behavior on the sphinx rendered scikit-learn.org. See: https://github.com/scikit-learn/scikit-learn/issues/21755 */display: inline-block !important;position: relative;}#sk-container-id-1 div.sk-text-repr-fallback {display: none;}</style><div id=\"sk-container-id-1\" class=\"sk-top-container\"><div class=\"sk-text-repr-fallback\"><pre>Pipeline(steps=[(&#x27;tfidf_vectorizer&#x27;,\n",
       "                 TfidfVectorizer(ngram_range=(1, 3),\n",
       "                                 stop_words=[&#x27;i&#x27;, &#x27;me&#x27;, &#x27;my&#x27;, &#x27;myself&#x27;, &#x27;we&#x27;,\n",
       "                                             &#x27;our&#x27;, &#x27;ours&#x27;, &#x27;ourselves&#x27;, &#x27;you&#x27;,\n",
       "                                             &quot;you&#x27;re&quot;, &quot;you&#x27;ve&quot;, &quot;you&#x27;ll&quot;,\n",
       "                                             &quot;you&#x27;d&quot;, &#x27;your&#x27;, &#x27;yours&#x27;,\n",
       "                                             &#x27;yourself&#x27;, &#x27;yourselves&#x27;, &#x27;he&#x27;,\n",
       "                                             &#x27;him&#x27;, &#x27;his&#x27;, &#x27;himself&#x27;, &#x27;she&#x27;,\n",
       "                                             &quot;she&#x27;s&quot;, &#x27;her&#x27;, &#x27;hers&#x27;, &#x27;herself&#x27;,\n",
       "                                             &#x27;it&#x27;, &quot;it&#x27;s&quot;, &#x27;its&#x27;, &#x27;itself&#x27;, ...],\n",
       "                                 tokenizer=&lt;function tokenize at 0x7f578f9cdd30&gt;)),\n",
       "                (&#x27;model&#x27;, MultiOutputClassifier(estimator=LinearSVC()))])</pre><b>In a Jupyter environment, please rerun this cell to show the HTML representation or trust the notebook. <br />On GitHub, the HTML representation is unable to render, please try loading this page with nbviewer.org.</b></div><div class=\"sk-container\" hidden><div class=\"sk-item sk-dashed-wrapped\"><div class=\"sk-label-container\"><div class=\"sk-label sk-toggleable\"><input class=\"sk-toggleable__control sk-hidden--visually\" id=\"sk-estimator-id-1\" type=\"checkbox\" ><label for=\"sk-estimator-id-1\" class=\"sk-toggleable__label sk-toggleable__label-arrow\">Pipeline</label><div class=\"sk-toggleable__content\"><pre>Pipeline(steps=[(&#x27;tfidf_vectorizer&#x27;,\n",
       "                 TfidfVectorizer(ngram_range=(1, 3),\n",
       "                                 stop_words=[&#x27;i&#x27;, &#x27;me&#x27;, &#x27;my&#x27;, &#x27;myself&#x27;, &#x27;we&#x27;,\n",
       "                                             &#x27;our&#x27;, &#x27;ours&#x27;, &#x27;ourselves&#x27;, &#x27;you&#x27;,\n",
       "                                             &quot;you&#x27;re&quot;, &quot;you&#x27;ve&quot;, &quot;you&#x27;ll&quot;,\n",
       "                                             &quot;you&#x27;d&quot;, &#x27;your&#x27;, &#x27;yours&#x27;,\n",
       "                                             &#x27;yourself&#x27;, &#x27;yourselves&#x27;, &#x27;he&#x27;,\n",
       "                                             &#x27;him&#x27;, &#x27;his&#x27;, &#x27;himself&#x27;, &#x27;she&#x27;,\n",
       "                                             &quot;she&#x27;s&quot;, &#x27;her&#x27;, &#x27;hers&#x27;, &#x27;herself&#x27;,\n",
       "                                             &#x27;it&#x27;, &quot;it&#x27;s&quot;, &#x27;its&#x27;, &#x27;itself&#x27;, ...],\n",
       "                                 tokenizer=&lt;function tokenize at 0x7f578f9cdd30&gt;)),\n",
       "                (&#x27;model&#x27;, MultiOutputClassifier(estimator=LinearSVC()))])</pre></div></div></div><div class=\"sk-serial\"><div class=\"sk-item\"><div class=\"sk-estimator sk-toggleable\"><input class=\"sk-toggleable__control sk-hidden--visually\" id=\"sk-estimator-id-2\" type=\"checkbox\" ><label for=\"sk-estimator-id-2\" class=\"sk-toggleable__label sk-toggleable__label-arrow\">TfidfVectorizer</label><div class=\"sk-toggleable__content\"><pre>TfidfVectorizer(ngram_range=(1, 3),\n",
       "                stop_words=[&#x27;i&#x27;, &#x27;me&#x27;, &#x27;my&#x27;, &#x27;myself&#x27;, &#x27;we&#x27;, &#x27;our&#x27;, &#x27;ours&#x27;,\n",
       "                            &#x27;ourselves&#x27;, &#x27;you&#x27;, &quot;you&#x27;re&quot;, &quot;you&#x27;ve&quot;, &quot;you&#x27;ll&quot;,\n",
       "                            &quot;you&#x27;d&quot;, &#x27;your&#x27;, &#x27;yours&#x27;, &#x27;yourself&#x27;, &#x27;yourselves&#x27;,\n",
       "                            &#x27;he&#x27;, &#x27;him&#x27;, &#x27;his&#x27;, &#x27;himself&#x27;, &#x27;she&#x27;, &quot;she&#x27;s&quot;,\n",
       "                            &#x27;her&#x27;, &#x27;hers&#x27;, &#x27;herself&#x27;, &#x27;it&#x27;, &quot;it&#x27;s&quot;, &#x27;its&#x27;,\n",
       "                            &#x27;itself&#x27;, ...],\n",
       "                tokenizer=&lt;function tokenize at 0x7f578f9cdd30&gt;)</pre></div></div></div><div class=\"sk-item sk-dashed-wrapped\"><div class=\"sk-label-container\"><div class=\"sk-label sk-toggleable\"><input class=\"sk-toggleable__control sk-hidden--visually\" id=\"sk-estimator-id-3\" type=\"checkbox\" ><label for=\"sk-estimator-id-3\" class=\"sk-toggleable__label sk-toggleable__label-arrow\">model: MultiOutputClassifier</label><div class=\"sk-toggleable__content\"><pre>MultiOutputClassifier(estimator=LinearSVC())</pre></div></div></div><div class=\"sk-parallel\"><div class=\"sk-parallel-item\"><div class=\"sk-item\"><div class=\"sk-label-container\"><div class=\"sk-label sk-toggleable\"><input class=\"sk-toggleable__control sk-hidden--visually\" id=\"sk-estimator-id-4\" type=\"checkbox\" ><label for=\"sk-estimator-id-4\" class=\"sk-toggleable__label sk-toggleable__label-arrow\">estimator: LinearSVC</label><div class=\"sk-toggleable__content\"><pre>LinearSVC()</pre></div></div></div><div class=\"sk-serial\"><div class=\"sk-item\"><div class=\"sk-estimator sk-toggleable\"><input class=\"sk-toggleable__control sk-hidden--visually\" id=\"sk-estimator-id-5\" type=\"checkbox\" ><label for=\"sk-estimator-id-5\" class=\"sk-toggleable__label sk-toggleable__label-arrow\">LinearSVC</label><div class=\"sk-toggleable__content\"><pre>LinearSVC()</pre></div></div></div></div></div></div></div></div></div></div></div></div>"
      ],
      "text/plain": [
       "Pipeline(steps=[('tfidf_vectorizer',\n",
       "                 TfidfVectorizer(ngram_range=(1, 3),\n",
       "                                 stop_words=['i', 'me', 'my', 'myself', 'we',\n",
       "                                             'our', 'ours', 'ourselves', 'you',\n",
       "                                             \"you're\", \"you've\", \"you'll\",\n",
       "                                             \"you'd\", 'your', 'yours',\n",
       "                                             'yourself', 'yourselves', 'he',\n",
       "                                             'him', 'his', 'himself', 'she',\n",
       "                                             \"she's\", 'her', 'hers', 'herself',\n",
       "                                             'it', \"it's\", 'its', 'itself', ...],\n",
       "                                 tokenizer=<function tokenize at 0x7f578f9cdd30>)),\n",
       "                ('model', MultiOutputClassifier(estimator=LinearSVC()))])"
      ]
     },
     "execution_count": 80,
     "metadata": {},
     "output_type": "execute_result"
    }
   ],
   "source": [
    "pipeline = Pipeline([\n",
    "    ('tfidf_vectorizer', TfidfVectorizer(tokenizer=tokenize, stop_words=stop_words, ngram_range=(1, 3))),\n",
    "    ('model', MultiOutputClassifier(LinearSVC()))\n",
    "])\n",
    "pipeline.fit(df_train_augmented['message'], y_train_augmented)"
   ]
  },
  {
   "cell_type": "code",
   "execution_count": 81,
   "metadata": {},
   "outputs": [
    {
     "name": "stderr",
     "output_type": "stream",
     "text": [
      "/usr/local/lib/python3.8/site-packages/sklearn/metrics/_classification.py:1344: UndefinedMetricWarning: Jaccard is ill-defined and being set to 0.0 in samples with no true or predicted labels. Use `zero_division` parameter to control this behavior.\n",
      "  _warn_prf(average, modifier, msg_start, len(result))\n"
     ]
    }
   ],
   "source": [
    "acc, f1, jaccard, hamming = classification_metrics(y_test, pipeline.predict(df_test['message']))\n",
    "    \n",
    "experiment.log_metrics({\n",
    "    'accuracy': acc,\n",
    "    'f1': f1,\n",
    "    'jaccard': jaccard,\n",
    "    'hamming': hamming\n",
    "})"
   ]
  },
  {
   "cell_type": "code",
   "execution_count": 82,
   "metadata": {},
   "outputs": [
    {
     "name": "stderr",
     "output_type": "stream",
     "text": [
      "/usr/local/lib/python3.8/site-packages/sklearn/metrics/_classification.py:1344: UndefinedMetricWarning: Precision and F-score are ill-defined and being set to 0.0 in labels with no predicted samples. Use `zero_division` parameter to control this behavior.\n",
      "  _warn_prf(average, modifier, msg_start, len(result))\n",
      "/usr/local/lib/python3.8/site-packages/sklearn/metrics/_classification.py:1344: UndefinedMetricWarning: Precision and F-score are ill-defined and being set to 0.0 in labels with no predicted samples. Use `zero_division` parameter to control this behavior.\n",
      "  _warn_prf(average, modifier, msg_start, len(result))\n",
      "/usr/local/lib/python3.8/site-packages/sklearn/metrics/_classification.py:1344: UndefinedMetricWarning: Precision and F-score are ill-defined and being set to 0.0 in labels with no predicted samples. Use `zero_division` parameter to control this behavior.\n",
      "  _warn_prf(average, modifier, msg_start, len(result))\n",
      "COMET INFO: ---------------------------\n",
      "COMET INFO: Comet.ml Experiment Summary\n",
      "COMET INFO: ---------------------------\n",
      "COMET INFO:   Data:\n",
      "COMET INFO:     display_summary_level : 1\n",
      "COMET INFO:     url                   : https://www.comet.com/benjtlv/disaster-response-pipeline/545c0ac60be74c45a2f3e62c2502c087\n",
      "COMET INFO:   Downloads:\n",
      "COMET INFO:     artifacts : 1\n",
      "COMET INFO:   Metrics:\n",
      "COMET INFO:     accuracy : 0.26121825472598814\n",
      "COMET INFO:     f1       : 0.7003883966500789\n",
      "COMET INFO:     hamming  : 0.0538694454294989\n",
      "COMET INFO:     jaccard  : 0.45550727793188117\n",
      "COMET INFO:   Others:\n",
      "COMET INFO:     Name : Linear SVC - Linear SVC - unigrams + bigrams + trigrams - Augmented\n",
      "COMET INFO:   Parameters:\n",
      "COMET INFO:     estimator                           : LinearSVC()\n",
      "COMET INFO:     estimator__C                        : 1.0\n",
      "COMET INFO:     estimator__class_weight             : 1\n",
      "COMET INFO:     estimator__dual                     : True\n",
      "COMET INFO:     estimator__fit_intercept            : True\n",
      "COMET INFO:     estimator__intercept_scaling        : 1\n",
      "COMET INFO:     estimator__loss                     : squared_hinge\n",
      "COMET INFO:     estimator__max_iter                 : 1000\n",
      "COMET INFO:     estimator__multi_class              : ovr\n",
      "COMET INFO:     estimator__penalty                  : l2\n",
      "COMET INFO:     estimator__random_state             : 1\n",
      "COMET INFO:     estimator__tol                      : 0.0001\n",
      "COMET INFO:     estimator__verbose                  : 0\n",
      "COMET INFO:     memory                              : 1\n",
      "COMET INFO:     model__estimator                    : LinearSVC()\n",
      "COMET INFO:     model__estimator__C                 : 1.0\n",
      "COMET INFO:     model__estimator__class_weight      : 1\n",
      "COMET INFO:     model__estimator__dual              : True\n",
      "COMET INFO:     model__estimator__fit_intercept     : True\n",
      "COMET INFO:     model__estimator__intercept_scaling : 1\n",
      "COMET INFO:     model__estimator__loss              : squared_hinge\n",
      "COMET INFO:     model__estimator__max_iter          : 1000\n",
      "COMET INFO:     model__estimator__multi_class       : ovr\n",
      "COMET INFO:     model__estimator__penalty           : l2\n",
      "COMET INFO:     model__estimator__random_state      : 1\n",
      "COMET INFO:     model__estimator__tol               : 0.0001\n",
      "COMET INFO:     model__estimator__verbose           : 0\n",
      "COMET INFO:     model__n_jobs                       : 1\n",
      "COMET INFO:     model_estimator                     : LinearSVC()\n",
      "COMET INFO:     model_estimator__C                  : 1.0\n",
      "COMET INFO:     model_estimator__class_weight       : 1\n",
      "COMET INFO:     model_estimator__dual               : True\n",
      "COMET INFO:     model_estimator__fit_intercept      : True\n",
      "COMET INFO:     model_estimator__intercept_scaling  : 1\n",
      "COMET INFO:     model_estimator__loss               : squared_hinge\n",
      "COMET INFO:     model_estimator__max_iter           : 1000\n",
      "COMET INFO:     model_estimator__multi_class        : ovr\n",
      "COMET INFO:     model_estimator__penalty            : l2\n",
      "COMET INFO:     model_estimator__random_state       : 1\n",
      "COMET INFO:     model_estimator__tol                : 0.0001\n",
      "COMET INFO:     model_estimator__verbose            : 0\n",
      "COMET INFO:     model_n_jobs                        : 1\n",
      "COMET INFO:     n_jobs                              : 1\n",
      "COMET INFO:     tfidf_vectorizer__analyzer          : word\n",
      "COMET INFO:     tfidf_vectorizer__binary            : False\n",
      "COMET INFO:     tfidf_vectorizer__decode_error      : strict\n",
      "COMET INFO:     tfidf_vectorizer__dtype             : <class 'numpy.float64'>\n",
      "COMET INFO:     tfidf_vectorizer__encoding          : utf-8\n",
      "COMET INFO:     tfidf_vectorizer__input             : content\n",
      "COMET INFO:     tfidf_vectorizer__lowercase         : True\n",
      "COMET INFO:     tfidf_vectorizer__max_df            : 1.0\n",
      "COMET INFO:     tfidf_vectorizer__max_features      : 1\n",
      "COMET INFO:     tfidf_vectorizer__min_df            : 1\n",
      "COMET INFO:     tfidf_vectorizer__ngram_range       : (1, 3)\n",
      "COMET INFO:     tfidf_vectorizer__norm              : l2\n",
      "COMET INFO:     tfidf_vectorizer__preprocessor      : 1\n",
      "COMET INFO:     tfidf_vectorizer__smooth_idf        : True\n",
      "COMET INFO:     tfidf_vectorizer__stop_words        : ['i', 'me', 'my', 'myself', 'we', 'our', 'ours', 'ourselves', 'you', \"you're\", \"you've\", \"you'll\", \"you'd\", 'your', 'yours', 'yourself', 'yourselves', 'he', 'him', 'his', 'himself', 'she', \"she's\", 'her', 'hers', 'herself', 'it', \"it's\", 'its', 'itself', 'they', 'them', 'their', 'theirs', 'themselves', 'what', 'which', 'who', 'whom', 'this', 'that', \"that'll\", 'these', 'those', 'am', 'is', 'are', 'was', 'were', 'be', 'been', 'being', 'have', 'has', 'had', 'having', 'do', 'does', 'did', 'doing', 'a', 'an', 'the', 'and', 'but', 'if', 'or', 'because', 'as', 'until', 'while', 'of', 'at', 'by', 'for', 'with', 'about', 'against', 'between', 'into', 'through', 'during', 'before', 'after', 'above', 'below', 'to', 'from', 'up', 'down', 'in', 'out', 'on', 'off', 'over', 'under', 'again', 'further', 'then', 'once', 'here', 'there', 'when', 'where', 'why', 'how', 'all', 'any', 'both', 'each', 'few', 'more', 'most', 'other', 'some', 'such', 'no', 'nor', 'not', 'only', 'own', 'same', 'so', 'than', 'too', 'very', 's', 't', 'can', 'will', 'just', 'don', \"don't\", 'should', \"should've\", 'now', 'd', 'll', 'm', 'o', 're', 've', 'y', 'ain', 'aren', \"aren't\", 'couldn', \"couldn't\", 'didn', \"didn't\", 'doesn', \"doesn't\", 'hadn', \"hadn't\", 'hasn', \"hasn't\", 'haven', \"haven't\", 'isn', \"isn't\", 'ma', 'mightn', \"mightn't\", 'mustn', \"mustn't\", 'needn', \"needn't\", 'shan', \"shan't\", 'shouldn', \"shouldn't\", 'wasn', \"wasn't\", 'weren', \"weren't\", 'won', \"won't\", 'wouldn', \"wouldn't\", 'http', 'co', '000', 'bit', 'ly', 'u']\n",
      "COMET INFO:     tfidf_vectorizer__strip_accents     : 1\n",
      "COMET INFO:     tfidf_vectorizer__sublinear_tf      : False\n",
      "COMET INFO:     tfidf_vectorizer__token_pattern     : (?u)\\b\\w\\w+\\b\n",
      "COMET INFO:     tfidf_vectorizer__tokenizer         : <function tokenize at 0x7f578f9cdd30>\n",
      "COMET INFO:     tfidf_vectorizer__use_idf           : True\n",
      "COMET INFO:     tfidf_vectorizer__vocabulary        : 1\n",
      "COMET INFO:     tfidf_vectorizer_analyzer           : word\n",
      "COMET INFO:     tfidf_vectorizer_binary             : False\n",
      "COMET INFO:     tfidf_vectorizer_decode_error       : strict\n",
      "COMET INFO:     tfidf_vectorizer_dtype              : <class 'numpy.float64'>\n",
      "COMET INFO:     tfidf_vectorizer_encoding           : utf-8\n",
      "COMET INFO:     tfidf_vectorizer_input              : content\n",
      "COMET INFO:     tfidf_vectorizer_lowercase          : True\n",
      "COMET INFO:     tfidf_vectorizer_max_df             : 1.0\n",
      "COMET INFO:     tfidf_vectorizer_max_features       : 1\n",
      "COMET INFO:     tfidf_vectorizer_min_df             : 1\n",
      "COMET INFO:     tfidf_vectorizer_ngram_range        : (1, 3)\n",
      "COMET INFO:     tfidf_vectorizer_norm               : l2\n",
      "COMET INFO:     tfidf_vectorizer_preprocessor       : 1\n",
      "COMET INFO:     tfidf_vectorizer_smooth_idf         : True\n",
      "COMET INFO:     tfidf_vectorizer_stop_words         : ['i', 'me', 'my', 'myself', 'we', 'our', 'ours', 'ourselves', 'you', \"you're\", \"you've\", \"you'll\", \"you'd\", 'your', 'yours', 'yourself', 'yourselves', 'he', 'him', 'his', 'himself', 'she', \"she's\", 'her', 'hers', 'herself', 'it', \"it's\", 'its', 'itself', 'they', 'them', 'their', 'theirs', 'themselves', 'what', 'which', 'who', 'whom', 'this', 'that', \"that'll\", 'these', 'those', 'am', 'is', 'are', 'was', 'were', 'be', 'been', 'being', 'have', 'has', 'had', 'having', 'do', 'does', 'did', 'doing', 'a', 'an', 'the', 'and', 'but', 'if', 'or', 'because', 'as', 'until', 'while', 'of', 'at', 'by', 'for', 'with', 'about', 'against', 'between', 'into', 'through', 'during', 'before', 'after', 'above', 'below', 'to', 'from', 'up', 'down', 'in', 'out', 'on', 'off', 'over', 'under', 'again', 'further', 'then', 'once', 'here', 'there', 'when', 'where', 'why', 'how', 'all', 'any', 'both', 'each', 'few', 'more', 'most', 'other', 'some', 'such', 'no', 'nor', 'not', 'only', 'own', 'same', 'so', 'than', 'too', 'very', 's', 't', 'can', 'will', 'just', 'don', \"don't\", 'should', \"should've\", 'now', 'd', 'll', 'm', 'o', 're', 've', 'y', 'ain', 'aren', \"aren't\", 'couldn', \"couldn't\", 'didn', \"didn't\", 'doesn', \"doesn't\", 'hadn', \"hadn't\", 'hasn', \"hasn't\", 'haven', \"haven't\", 'isn', \"isn't\", 'ma', 'mightn', \"mightn't\", 'mustn', \"mustn't\", 'needn', \"needn't\", 'shan', \"shan't\", 'shouldn', \"shouldn't\", 'wasn', \"wasn't\", 'weren', \"weren't\", 'won', \"won't\", 'wouldn', \"wouldn't\", 'http', 'co', '000', 'bit', 'ly', 'u']\n",
      "COMET INFO:     tfidf_vectorizer_strip_accents      : 1\n",
      "COMET INFO:     tfidf_vectorizer_sublinear_tf       : False\n",
      "COMET INFO:     tfidf_vectorizer_token_pattern      : (?u)\\b\\w\\w+\\b\n",
      "COMET INFO:     tfidf_vectorizer_tokenizer          : <function tokenize at 0x7f578f9cdd30>\n",
      "COMET INFO:     tfidf_vectorizer_use_idf            : True\n",
      "COMET INFO:     tfidf_vectorizer_vocabulary         : 1\n",
      "COMET INFO:     verbose                             : False\n",
      "COMET INFO:   Uploads:\n",
      "COMET INFO:     dataframe                : 1 (2.50 KB)\n",
      "COMET INFO:     environment details      : 1\n",
      "COMET INFO:     filename                 : 1\n",
      "COMET INFO:     git metadata             : 1\n",
      "COMET INFO:     git-patch (uncompressed) : 1 (1.96 MB)\n",
      "COMET INFO:     installed packages       : 1\n",
      "COMET INFO:     notebook                 : 1\n",
      "COMET INFO:     os packages              : 1\n",
      "COMET INFO:     source_code              : 1\n",
      "COMET INFO: ---------------------------\n",
      "COMET WARNING: Comet has disabled auto-logging functionality as it has been imported after the following ML modules: xgboost, sklearn. Metrics and hyperparameters can still be logged using Experiment.log_metrics() and Experiment.log_parameters()\n",
      "COMET INFO: Uploading 1 metrics, params and output messages\n"
     ]
    }
   ],
   "source": [
    "y_pred = pipeline.predict(df_test['message'])\n",
    "y_test = np.array(y_test)\n",
    "\n",
    "df_reports = []\n",
    "for i, col in enumerate(category_colnames):\n",
    "    df_reports.append(classification_report_dataframe(y_test, y_pred, i, col))\n",
    "report_df = pd.concat(df_reports)\n",
    "report_df = report_df[~report_df.index.str.startswith('is not')].sort_values(by='f1-score', ascending=False)\n",
    "\n",
    "experiment.log_table('Linear SVC - Linear SVC - unigrams + bigrams + trigrams - Augmented_category_report.csv', report_df)\n",
    "\n",
    "experiment.end()"
   ]
  },
  {
   "cell_type": "code",
   "execution_count": 77,
   "metadata": {},
   "outputs": [
    {
     "data": {
      "text/html": [
       "<div>\n",
       "<style scoped>\n",
       "    .dataframe tbody tr th:only-of-type {\n",
       "        vertical-align: middle;\n",
       "    }\n",
       "\n",
       "    .dataframe tbody tr th {\n",
       "        vertical-align: top;\n",
       "    }\n",
       "\n",
       "    .dataframe thead th {\n",
       "        text-align: right;\n",
       "    }\n",
       "</style>\n",
       "<table border=\"1\" class=\"dataframe\">\n",
       "  <thead>\n",
       "    <tr style=\"text-align: right;\">\n",
       "      <th></th>\n",
       "      <th>f1-score</th>\n",
       "      <th>f1-score</th>\n",
       "    </tr>\n",
       "  </thead>\n",
       "  <tbody>\n",
       "    <tr>\n",
       "      <th>is related</th>\n",
       "      <td>0.895064</td>\n",
       "      <td>0.893562</td>\n",
       "    </tr>\n",
       "    <tr>\n",
       "      <th>is earthquake</th>\n",
       "      <td>0.844211</td>\n",
       "      <td>0.833161</td>\n",
       "    </tr>\n",
       "    <tr>\n",
       "      <th>is weather_related</th>\n",
       "      <td>0.790698</td>\n",
       "      <td>0.780783</td>\n",
       "    </tr>\n",
       "    <tr>\n",
       "      <th>is food</th>\n",
       "      <td>0.779177</td>\n",
       "      <td>0.790244</td>\n",
       "    </tr>\n",
       "    <tr>\n",
       "      <th>is aid_related</th>\n",
       "      <td>0.750785</td>\n",
       "      <td>0.738614</td>\n",
       "    </tr>\n",
       "    <tr>\n",
       "      <th>is water</th>\n",
       "      <td>0.706704</td>\n",
       "      <td>0.712614</td>\n",
       "    </tr>\n",
       "    <tr>\n",
       "      <th>is request</th>\n",
       "      <td>0.703829</td>\n",
       "      <td>0.689655</td>\n",
       "    </tr>\n",
       "    <tr>\n",
       "      <th>is storm</th>\n",
       "      <td>0.680585</td>\n",
       "      <td>0.716981</td>\n",
       "    </tr>\n",
       "    <tr>\n",
       "      <th>is shelter</th>\n",
       "      <td>0.671202</td>\n",
       "      <td>0.695829</td>\n",
       "    </tr>\n",
       "    <tr>\n",
       "      <th>is floods</th>\n",
       "      <td>0.671035</td>\n",
       "      <td>0.683951</td>\n",
       "    </tr>\n",
       "    <tr>\n",
       "      <th>is direct_report</th>\n",
       "      <td>0.638342</td>\n",
       "      <td>0.623969</td>\n",
       "    </tr>\n",
       "    <tr>\n",
       "      <th>is death</th>\n",
       "      <td>0.618557</td>\n",
       "      <td>0.652174</td>\n",
       "    </tr>\n",
       "    <tr>\n",
       "      <th>is buildings</th>\n",
       "      <td>0.557604</td>\n",
       "      <td>0.565302</td>\n",
       "    </tr>\n",
       "    <tr>\n",
       "      <th>is clothing</th>\n",
       "      <td>0.530303</td>\n",
       "      <td>0.600000</td>\n",
       "    </tr>\n",
       "    <tr>\n",
       "      <th>is medical_products</th>\n",
       "      <td>0.449074</td>\n",
       "      <td>0.485356</td>\n",
       "    </tr>\n",
       "    <tr>\n",
       "      <th>is medical_help</th>\n",
       "      <td>0.411765</td>\n",
       "      <td>0.467391</td>\n",
       "    </tr>\n",
       "    <tr>\n",
       "      <th>is military</th>\n",
       "      <td>0.398340</td>\n",
       "      <td>0.572327</td>\n",
       "    </tr>\n",
       "    <tr>\n",
       "      <th>is electricity</th>\n",
       "      <td>0.370370</td>\n",
       "      <td>0.543779</td>\n",
       "    </tr>\n",
       "    <tr>\n",
       "      <th>is other_aid</th>\n",
       "      <td>0.342256</td>\n",
       "      <td>0.382906</td>\n",
       "    </tr>\n",
       "    <tr>\n",
       "      <th>is transport</th>\n",
       "      <td>0.326531</td>\n",
       "      <td>0.372781</td>\n",
       "    </tr>\n",
       "    <tr>\n",
       "      <th>is cold</th>\n",
       "      <td>0.318182</td>\n",
       "      <td>0.500000</td>\n",
       "    </tr>\n",
       "    <tr>\n",
       "      <th>is money</th>\n",
       "      <td>0.292994</td>\n",
       "      <td>0.508065</td>\n",
       "    </tr>\n",
       "    <tr>\n",
       "      <th>is refugees</th>\n",
       "      <td>0.266667</td>\n",
       "      <td>0.368601</td>\n",
       "    </tr>\n",
       "    <tr>\n",
       "      <th>is fire</th>\n",
       "      <td>0.245614</td>\n",
       "      <td>0.328358</td>\n",
       "    </tr>\n",
       "    <tr>\n",
       "      <th>is search_and_rescue</th>\n",
       "      <td>0.240000</td>\n",
       "      <td>0.304569</td>\n",
       "    </tr>\n",
       "    <tr>\n",
       "      <th>is other_weather</th>\n",
       "      <td>0.185759</td>\n",
       "      <td>0.319149</td>\n",
       "    </tr>\n",
       "    <tr>\n",
       "      <th>is missing_people</th>\n",
       "      <td>0.178571</td>\n",
       "      <td>0.210526</td>\n",
       "    </tr>\n",
       "    <tr>\n",
       "      <th>is infrastructure_related</th>\n",
       "      <td>0.169154</td>\n",
       "      <td>0.292020</td>\n",
       "    </tr>\n",
       "    <tr>\n",
       "      <th>is other_infrastructure</th>\n",
       "      <td>0.066667</td>\n",
       "      <td>0.224138</td>\n",
       "    </tr>\n",
       "    <tr>\n",
       "      <th>is hospitals</th>\n",
       "      <td>0.062500</td>\n",
       "      <td>0.271605</td>\n",
       "    </tr>\n",
       "    <tr>\n",
       "      <th>is security</th>\n",
       "      <td>0.019048</td>\n",
       "      <td>0.018349</td>\n",
       "    </tr>\n",
       "    <tr>\n",
       "      <th>is tools</th>\n",
       "      <td>0.000000</td>\n",
       "      <td>0.074074</td>\n",
       "    </tr>\n",
       "    <tr>\n",
       "      <th>is shops</th>\n",
       "      <td>0.000000</td>\n",
       "      <td>0.000000</td>\n",
       "    </tr>\n",
       "    <tr>\n",
       "      <th>is aid_centers</th>\n",
       "      <td>0.000000</td>\n",
       "      <td>0.033333</td>\n",
       "    </tr>\n",
       "    <tr>\n",
       "      <th>is offer</th>\n",
       "      <td>0.000000</td>\n",
       "      <td>0.000000</td>\n",
       "    </tr>\n",
       "  </tbody>\n",
       "</table>\n",
       "</div>"
      ],
      "text/plain": [
       "                           f1-score  f1-score\n",
       "is related                 0.895064  0.893562\n",
       "is earthquake              0.844211  0.833161\n",
       "is weather_related         0.790698  0.780783\n",
       "is food                    0.779177  0.790244\n",
       "is aid_related             0.750785  0.738614\n",
       "is water                   0.706704  0.712614\n",
       "is request                 0.703829  0.689655\n",
       "is storm                   0.680585  0.716981\n",
       "is shelter                 0.671202  0.695829\n",
       "is floods                  0.671035  0.683951\n",
       "is direct_report           0.638342  0.623969\n",
       "is death                   0.618557  0.652174\n",
       "is buildings               0.557604  0.565302\n",
       "is clothing                0.530303  0.600000\n",
       "is medical_products        0.449074  0.485356\n",
       "is medical_help            0.411765  0.467391\n",
       "is military                0.398340  0.572327\n",
       "is electricity             0.370370  0.543779\n",
       "is other_aid               0.342256  0.382906\n",
       "is transport               0.326531  0.372781\n",
       "is cold                    0.318182  0.500000\n",
       "is money                   0.292994  0.508065\n",
       "is refugees                0.266667  0.368601\n",
       "is fire                    0.245614  0.328358\n",
       "is search_and_rescue       0.240000  0.304569\n",
       "is other_weather           0.185759  0.319149\n",
       "is missing_people          0.178571  0.210526\n",
       "is infrastructure_related  0.169154  0.292020\n",
       "is other_infrastructure    0.066667  0.224138\n",
       "is hospitals               0.062500  0.271605\n",
       "is security                0.019048  0.018349\n",
       "is tools                   0.000000  0.074074\n",
       "is shops                   0.000000  0.000000\n",
       "is aid_centers             0.000000  0.033333\n",
       "is offer                   0.000000  0.000000"
      ]
     },
     "execution_count": 77,
     "metadata": {},
     "output_type": "execute_result"
    }
   ],
   "source": [
    "%%capture --no-display\n",
    "\n",
    "y_pred = pipeline.predict(df_test['message'])\n",
    "y_test = np.array(y_test)\n",
    "\n",
    "df_reports_augmented = []\n",
    "for i, col in enumerate(category_colnames):\n",
    "    df_reports_augmented.append(classification_report_dataframe(y_test, y_pred, i, col))\n",
    "df_reports_augmented = pd.concat(df_reports_augmented)\n",
    "df_reports_augmented = df_reports_augmented[~df_reports_augmented.index.str.startswith('is not')].sort_values(by='f1-score', ascending=False)\n",
    "\n",
    "# Let's take a look at the f1-scores side by side\n",
    "pd.concat([report_df['f1-score'], df_reports_augmented['f1-score']], axis=1).head(40)"
   ]
  },
  {
   "cell_type": "markdown",
   "metadata": {},
   "source": [
    "We can see that augmenting the data helped us ameliorate the f1-score for underrepresented classes. We could dive deeper and apply some better data augmentation techniques to see if we get even better results."
   ]
  },
  {
   "cell_type": "markdown",
   "metadata": {},
   "source": [
    "## Traning using Word Embeddings"
   ]
  },
  {
   "cell_type": "markdown",
   "metadata": {},
   "source": [
    "Let's try to use word embeddings instead of TF-IDF to see if it improves the results. We will use Word2Vec. More specifically, we will use doc2Vec to turn our sentences into vectors."
   ]
  },
  {
   "cell_type": "code",
   "execution_count": 100,
   "metadata": {},
   "outputs": [],
   "source": [
    "# Run this cell only if you want to train a new model\n",
    "\n",
    "def read_corpus(messages):\n",
    "    for index, msg in messages.items():\n",
    "        tokens = gensim.utils.simple_preprocess(msg)\n",
    "        yield gensim.models.doc2vec.TaggedDocument(tokens, [index])\n",
    "\n",
    "train_corpus = list(read_corpus(df_train['message']))\n",
    "\n",
    "# train model and save\n",
    "doc2vec_model = gensim.models.Doc2Vec(vector_size=100, min_count=5, epochs=30)\n",
    "doc2vec_model.build_vocab(train_corpus)\n",
    "doc2vec_model.train(train_corpus, total_examples=doc2vec_model.corpus_count, epochs=doc2vec_model.epochs)\n",
    "doc2vec_model.save('doc2vec_model')"
   ]
  },
  {
   "cell_type": "code",
   "execution_count": 76,
   "metadata": {},
   "outputs": [],
   "source": [
    "# load the Doc2Vec model\n",
    "\n",
    "doc2vec_model = gensim.models.doc2vec.Doc2Vec.load('doc2vec_model')"
   ]
  },
  {
   "cell_type": "markdown",
   "metadata": {},
   "source": [
    "Now that our Doc2Vec model has been trained, let's create a custom transformer to use it in our pipeline"
   ]
  },
  {
   "cell_type": "code",
   "execution_count": 112,
   "metadata": {},
   "outputs": [],
   "source": [
    "from gensim.models.doc2vec import Doc2Vec\n",
    "from sklearn.base import BaseEstimator, TransformerMixin\n",
    "\n",
    "class Doc2VecTransformer(BaseEstimator, TransformerMixin):\n",
    "    def __init__(self, vector_size, epochs):\n",
    "        self.vector_size = vector_size\n",
    "        self.epochs = epochs\n",
    "        self.doc2vec_model = None\n",
    "        \n",
    "    def read_corpus(self, messages):\n",
    "        corpus = []\n",
    "        for index, msg in messages.items():\n",
    "            tokens = tokenize(msg)\n",
    "            tokens = [token for token in tokens if token not in stop_words]\n",
    "            corpus.append(gensim.models.doc2vec.TaggedDocument(tokens, [index]))\n",
    "        return corpus\n",
    "        \n",
    "    def fit(self, X, y=None):\n",
    "        train_corpus = self.read_corpus(X)\n",
    "        self.doc2vec_model = gensim.models.Doc2Vec(vector_size=self.vector_size, min_count=5, epochs=self.epochs)\n",
    "        self.doc2vec_model.build_vocab(train_corpus)\n",
    "        self.doc2vec_model.train(train_corpus, total_examples=doc2vec_model.corpus_count, epochs=doc2vec_model.epochs)\n",
    "        return self\n",
    "    \n",
    "    def transform(self, X, y=None):\n",
    "        return [self.doc2vec_model.infer_vector(tokenize(message)) for message in X]"
   ]
  },
  {
   "cell_type": "code",
   "execution_count": 121,
   "metadata": {},
   "outputs": [
    {
     "data": {
      "text/html": [
       "<style>#sk-container-id-5 {color: black;background-color: white;}#sk-container-id-5 pre{padding: 0;}#sk-container-id-5 div.sk-toggleable {background-color: white;}#sk-container-id-5 label.sk-toggleable__label {cursor: pointer;display: block;width: 100%;margin-bottom: 0;padding: 0.3em;box-sizing: border-box;text-align: center;}#sk-container-id-5 label.sk-toggleable__label-arrow:before {content: \"▸\";float: left;margin-right: 0.25em;color: #696969;}#sk-container-id-5 label.sk-toggleable__label-arrow:hover:before {color: black;}#sk-container-id-5 div.sk-estimator:hover label.sk-toggleable__label-arrow:before {color: black;}#sk-container-id-5 div.sk-toggleable__content {max-height: 0;max-width: 0;overflow: hidden;text-align: left;background-color: #f0f8ff;}#sk-container-id-5 div.sk-toggleable__content pre {margin: 0.2em;color: black;border-radius: 0.25em;background-color: #f0f8ff;}#sk-container-id-5 input.sk-toggleable__control:checked~div.sk-toggleable__content {max-height: 200px;max-width: 100%;overflow: auto;}#sk-container-id-5 input.sk-toggleable__control:checked~label.sk-toggleable__label-arrow:before {content: \"▾\";}#sk-container-id-5 div.sk-estimator input.sk-toggleable__control:checked~label.sk-toggleable__label {background-color: #d4ebff;}#sk-container-id-5 div.sk-label input.sk-toggleable__control:checked~label.sk-toggleable__label {background-color: #d4ebff;}#sk-container-id-5 input.sk-hidden--visually {border: 0;clip: rect(1px 1px 1px 1px);clip: rect(1px, 1px, 1px, 1px);height: 1px;margin: -1px;overflow: hidden;padding: 0;position: absolute;width: 1px;}#sk-container-id-5 div.sk-estimator {font-family: monospace;background-color: #f0f8ff;border: 1px dotted black;border-radius: 0.25em;box-sizing: border-box;margin-bottom: 0.5em;}#sk-container-id-5 div.sk-estimator:hover {background-color: #d4ebff;}#sk-container-id-5 div.sk-parallel-item::after {content: \"\";width: 100%;border-bottom: 1px solid gray;flex-grow: 1;}#sk-container-id-5 div.sk-label:hover label.sk-toggleable__label {background-color: #d4ebff;}#sk-container-id-5 div.sk-serial::before {content: \"\";position: absolute;border-left: 1px solid gray;box-sizing: border-box;top: 0;bottom: 0;left: 50%;z-index: 0;}#sk-container-id-5 div.sk-serial {display: flex;flex-direction: column;align-items: center;background-color: white;padding-right: 0.2em;padding-left: 0.2em;position: relative;}#sk-container-id-5 div.sk-item {position: relative;z-index: 1;}#sk-container-id-5 div.sk-parallel {display: flex;align-items: stretch;justify-content: center;background-color: white;position: relative;}#sk-container-id-5 div.sk-item::before, #sk-container-id-5 div.sk-parallel-item::before {content: \"\";position: absolute;border-left: 1px solid gray;box-sizing: border-box;top: 0;bottom: 0;left: 50%;z-index: -1;}#sk-container-id-5 div.sk-parallel-item {display: flex;flex-direction: column;z-index: 1;position: relative;background-color: white;}#sk-container-id-5 div.sk-parallel-item:first-child::after {align-self: flex-end;width: 50%;}#sk-container-id-5 div.sk-parallel-item:last-child::after {align-self: flex-start;width: 50%;}#sk-container-id-5 div.sk-parallel-item:only-child::after {width: 0;}#sk-container-id-5 div.sk-dashed-wrapped {border: 1px dashed gray;margin: 0 0.4em 0.5em 0.4em;box-sizing: border-box;padding-bottom: 0.4em;background-color: white;}#sk-container-id-5 div.sk-label label {font-family: monospace;font-weight: bold;display: inline-block;line-height: 1.2em;}#sk-container-id-5 div.sk-label-container {text-align: center;}#sk-container-id-5 div.sk-container {/* jupyter's `normalize.less` sets `[hidden] { display: none; }` but bootstrap.min.css set `[hidden] { display: none !important; }` so we also need the `!important` here to be able to override the default hidden behavior on the sphinx rendered scikit-learn.org. See: https://github.com/scikit-learn/scikit-learn/issues/21755 */display: inline-block !important;position: relative;}#sk-container-id-5 div.sk-text-repr-fallback {display: none;}</style><div id=\"sk-container-id-5\" class=\"sk-top-container\"><div class=\"sk-text-repr-fallback\"><pre>Pipeline(steps=[(&#x27;doc2vec&#x27;, Doc2VecTransformer(epochs=70, vector_size=2048)),\n",
       "                (&#x27;model&#x27;,\n",
       "                 MultiOutputClassifier(estimator=LinearSVC(dual=False)))])</pre><b>In a Jupyter environment, please rerun this cell to show the HTML representation or trust the notebook. <br />On GitHub, the HTML representation is unable to render, please try loading this page with nbviewer.org.</b></div><div class=\"sk-container\" hidden><div class=\"sk-item sk-dashed-wrapped\"><div class=\"sk-label-container\"><div class=\"sk-label sk-toggleable\"><input class=\"sk-toggleable__control sk-hidden--visually\" id=\"sk-estimator-id-21\" type=\"checkbox\" ><label for=\"sk-estimator-id-21\" class=\"sk-toggleable__label sk-toggleable__label-arrow\">Pipeline</label><div class=\"sk-toggleable__content\"><pre>Pipeline(steps=[(&#x27;doc2vec&#x27;, Doc2VecTransformer(epochs=70, vector_size=2048)),\n",
       "                (&#x27;model&#x27;,\n",
       "                 MultiOutputClassifier(estimator=LinearSVC(dual=False)))])</pre></div></div></div><div class=\"sk-serial\"><div class=\"sk-item\"><div class=\"sk-estimator sk-toggleable\"><input class=\"sk-toggleable__control sk-hidden--visually\" id=\"sk-estimator-id-22\" type=\"checkbox\" ><label for=\"sk-estimator-id-22\" class=\"sk-toggleable__label sk-toggleable__label-arrow\">Doc2VecTransformer</label><div class=\"sk-toggleable__content\"><pre>Doc2VecTransformer(epochs=70, vector_size=2048)</pre></div></div></div><div class=\"sk-item sk-dashed-wrapped\"><div class=\"sk-label-container\"><div class=\"sk-label sk-toggleable\"><input class=\"sk-toggleable__control sk-hidden--visually\" id=\"sk-estimator-id-23\" type=\"checkbox\" ><label for=\"sk-estimator-id-23\" class=\"sk-toggleable__label sk-toggleable__label-arrow\">model: MultiOutputClassifier</label><div class=\"sk-toggleable__content\"><pre>MultiOutputClassifier(estimator=LinearSVC(dual=False))</pre></div></div></div><div class=\"sk-parallel\"><div class=\"sk-parallel-item\"><div class=\"sk-item\"><div class=\"sk-label-container\"><div class=\"sk-label sk-toggleable\"><input class=\"sk-toggleable__control sk-hidden--visually\" id=\"sk-estimator-id-24\" type=\"checkbox\" ><label for=\"sk-estimator-id-24\" class=\"sk-toggleable__label sk-toggleable__label-arrow\">estimator: LinearSVC</label><div class=\"sk-toggleable__content\"><pre>LinearSVC(dual=False)</pre></div></div></div><div class=\"sk-serial\"><div class=\"sk-item\"><div class=\"sk-estimator sk-toggleable\"><input class=\"sk-toggleable__control sk-hidden--visually\" id=\"sk-estimator-id-25\" type=\"checkbox\" ><label for=\"sk-estimator-id-25\" class=\"sk-toggleable__label sk-toggleable__label-arrow\">LinearSVC</label><div class=\"sk-toggleable__content\"><pre>LinearSVC(dual=False)</pre></div></div></div></div></div></div></div></div></div></div></div></div>"
      ],
      "text/plain": [
       "Pipeline(steps=[('doc2vec', Doc2VecTransformer(epochs=70, vector_size=2048)),\n",
       "                ('model',\n",
       "                 MultiOutputClassifier(estimator=LinearSVC(dual=False)))])"
      ]
     },
     "execution_count": 121,
     "metadata": {},
     "output_type": "execute_result"
    }
   ],
   "source": [
    "parameters = {\n",
    "    'doc2vec__vector_size': [100, 200, 300, 400],\n",
    "    'doc2vec__epochs': [40, 50, 60, 70]\n",
    "}\n",
    "score = 'f1_micro'\n",
    "\n",
    "pipeline = Pipeline([\n",
    "    ('doc2vec', Doc2VecTransformer(vector_size=2048, epochs=70)),\n",
    "    ('model', MultiOutputClassifier(LinearSVC(dual=False)))\n",
    "])\n",
    "\n",
    "# cv = GridSearchCV(pipeline, param_grid=parameters, n_jobs=-1)\n",
    "pipeline.fit(df_train['message'], y_train)\n",
    "# print('best parameters :', cv.best_params_,\n",
    "#       'best score: ',cv.best_score_)"
   ]
  },
  {
   "cell_type": "code",
   "execution_count": 122,
   "metadata": {},
   "outputs": [
    {
     "name": "stdout",
     "output_type": "stream",
     "text": [
      "Accuracy =  0.19877792629367957\n",
      "f1 score (micro) =  0.5463628328786073\n",
      "f1 score (macro) =  0.5463628328786073\n",
      "jaccard similarity =  0.3766644402392976\n",
      "Hamming loss =  0.06440437546032353\n"
     ]
    },
    {
     "name": "stderr",
     "output_type": "stream",
     "text": [
      "C:\\Users\\Benjamin\\anaconda3\\lib\\site-packages\\sklearn\\metrics\\_classification.py:1344: UndefinedMetricWarning: Jaccard is ill-defined and being set to 0.0 in samples with no true or predicted labels. Use `zero_division` parameter to control this behavior.\n",
      "  _warn_prf(average, modifier, msg_start, len(result))\n"
     ]
    }
   ],
   "source": [
    "classification_metrics(y_test, pipeline.predict(df_test['message']))"
   ]
  },
  {
   "cell_type": "markdown",
   "metadata": {},
   "source": [
    "We are not even close to our best results with Tf-Idf. Let's go back to Tf-Idf and try different algorithms like XGBoost, non-linear SVC, and more."
   ]
  },
  {
   "cell_type": "code",
   "execution_count": 99,
   "metadata": {},
   "outputs": [
    {
     "name": "stdout",
     "output_type": "stream",
     "text": [
      "Accuracy =  0.28107695245369485\n",
      "f1 score (micro) =  0.6700484505576692\n",
      "f1 score (macro) =  0.6700484505576692\n",
      "jaccard similarity =  0.4163813095317599\n",
      "Hamming loss =  0.0553588477590769\n"
     ]
    },
    {
     "name": "stderr",
     "output_type": "stream",
     "text": [
      "C:\\Users\\Benjamin\\anaconda3\\lib\\site-packages\\sklearn\\metrics\\_classification.py:1344: UndefinedMetricWarning: Jaccard is ill-defined and being set to 0.0 in samples with no true or predicted labels. Use `zero_division` parameter to control this behavior.\n",
      "  _warn_prf(average, modifier, msg_start, len(result))\n"
     ]
    }
   ],
   "source": [
    "pipeline = Pipeline([\n",
    "    ('tfidf_vectorizer', TfidfVectorizer(stop_words=stop_words, ngram_range=(1,3))),\n",
    "    ('model', XGBClassifier(n_estimators=800, n_jobs=-1))\n",
    "])\n",
    "pipeline.fit(df_train['message'], y_train)\n",
    "classification_metrics(y_test, pipeline.predict(df_test['message']))"
   ]
  },
  {
   "cell_type": "code",
   "execution_count": 18,
   "metadata": {},
   "outputs": [
    {
     "name": "stderr",
     "output_type": "stream",
     "text": [
      "C:\\Users\\Benjamin\\anaconda3\\lib\\site-packages\\sklearn\\feature_extraction\\text.py:528: UserWarning: The parameter 'token_pattern' will not be used since 'tokenizer' is not None'\n",
      "  warnings.warn(\n",
      "C:\\Users\\Benjamin\\anaconda3\\lib\\site-packages\\sklearn\\feature_extraction\\text.py:409: UserWarning: Your stop_words may be inconsistent with your preprocessing. Tokenizing the stop words generated tokens ['could', 'doe', 'ha', 'might', 'must', 'need', 'shall', 'wa', 'would'] not in stop_words.\n",
      "  warnings.warn(\n"
     ]
    },
    {
     "name": "stdout",
     "output_type": "stream",
     "text": [
      "Accuracy =  0.24670612946343326\n",
      "f1 score (micro) =  0.6623639408317052\n",
      "f1 score (macro) =  0.6623639408317052\n",
      "jaccard similarity =  0.44693946737249746\n",
      "Hamming loss =  0.052800130936468535\n"
     ]
    },
    {
     "name": "stderr",
     "output_type": "stream",
     "text": [
      "C:\\Users\\Benjamin\\anaconda3\\lib\\site-packages\\sklearn\\metrics\\_classification.py:1344: UndefinedMetricWarning: Jaccard is ill-defined and being set to 0.0 in samples with no true or predicted labels. Use `zero_division` parameter to control this behavior.\n",
      "  _warn_prf(average, modifier, msg_start, len(result))\n"
     ]
    }
   ],
   "source": [
    "pipeline = simple_pipeline(tokenizer=tokenize, stop_words=stop_words, ngram_range=(1,3), model=SVC)\n",
    "pipeline.fit(df_train['message'], y_train)\n",
    "classification_metrics(y_test, pipeline.predict(df_test['message']))"
   ]
  },
  {
   "cell_type": "markdown",
   "metadata": {},
   "source": [
    "## SCIKIT-MULTILEARN"
   ]
  },
  {
   "cell_type": "markdown",
   "metadata": {},
   "source": [
    "Let's rerun our baseline model"
   ]
  },
  {
   "cell_type": "code",
   "execution_count": 19,
   "metadata": {},
   "outputs": [
    {
     "name": "stdout",
     "output_type": "stream",
     "text": [
      "Accuracy =  0.277067023104831\n",
      "f1 score (micro) =  0.7040204769634161\n",
      "f1 score (macro) =  0.7040204769634161\n",
      "jaccard similarity =  0.4589121139460296\n",
      "Hamming loss =  0.051730816443438174\n"
     ]
    },
    {
     "name": "stderr",
     "output_type": "stream",
     "text": [
      "C:\\Users\\Benjamin\\anaconda3\\lib\\site-packages\\sklearn\\metrics\\_classification.py:1344: UndefinedMetricWarning: Jaccard is ill-defined and being set to 0.0 in samples with no true or predicted labels. Use `zero_division` parameter to control this behavior.\n",
      "  _warn_prf(average, modifier, msg_start, len(result))\n"
     ]
    }
   ],
   "source": [
    "pipeline = simple_pipeline(stop_words=stop_words, ngram_range=(1, 3), model=LinearSVC)\n",
    "pipeline.fit(df_train['message'], y_train)\n",
    "classification_metrics(y_test, pipeline.predict(df_test['message']))"
   ]
  },
  {
   "cell_type": "markdown",
   "metadata": {},
   "source": [
    "Number of unique label combination"
   ]
  },
  {
   "cell_type": "code",
   "execution_count": 20,
   "metadata": {},
   "outputs": [
    {
     "data": {
      "text/plain": [
       "(3379, 35)"
      ]
     },
     "execution_count": 20,
     "metadata": {},
     "output_type": "execute_result"
    }
   ],
   "source": [
    "np.unique(y_train, axis=0).shape"
   ]
  },
  {
   "cell_type": "markdown",
   "metadata": {},
   "source": [
    "As we can see, we have arround 3400 different label combinations. This means that algorithms like ... , ... , ... will not perform well or take too much time to train"
   ]
  },
  {
   "cell_type": "markdown",
   "metadata": {},
   "source": [
    "Labels coocurence matrix"
   ]
  },
  {
   "cell_type": "code",
   "execution_count": 80,
   "metadata": {},
   "outputs": [],
   "source": [
    "n_classes = len(category_colnames)\n",
    "coocurence_matrix = np.zeros((n_classes, n_classes))\n",
    "for i in range(n_classes):\n",
    "    for j in range(n_classes):\n",
    "        p_i_j = np.sum((y_train[category_colnames[i]] == 1) & (y_train[category_colnames[j]] == 1)) / np.sum(y_train[category_colnames[i]] == 1)\n",
    "        coocurence_matrix[i, j] = p_i_j"
   ]
  },
  {
   "cell_type": "code",
   "execution_count": 81,
   "metadata": {},
   "outputs": [
    {
     "data": {
      "image/png": "[encoded data removed]",
      "text/plain": [
       "<Figure size 1200x1000 with 2 Axes>"
      ]
     },
     "metadata": {},
     "output_type": "display_data"
    }
   ],
   "source": [
    "plt.figure(figsize=(12, 10))\n",
    "sb.heatmap(data=coocurence_matrix, xticklabels=category_colnames, yticklabels=category_colnames);"
   ]
  },
  {
   "cell_type": "markdown",
   "metadata": {},
   "source": [
    "This heatmap represents the probabilities p(i|j) i.e. the probability of an instance containing the label i under the condition of containing label j. \n",
    "For example we can see that when the probabilities of having labels like storm, floods, cold, fire, earthquake are very high when we also have label weather_related in the instance.\n",
    "Also, when we have label infrastructure related, the probabilities of hospitals, shops, aid_centers are high.\n",
    "A model taking account label cooccurences might give better results"
   ]
  },
  {
   "cell_type": "markdown",
   "metadata": {},
   "source": [
    "### Different multilabel algorithms"
   ]
  },
  {
   "cell_type": "code",
   "execution_count": 83,
   "metadata": {},
   "outputs": [],
   "source": [
    "from skmultilearn.adapt import BRkNNaClassifier\n",
    "\n",
    "# pipeline = Pipeline([\n",
    "#     ('tfidf_vectorizer', TfidfVectorizer(tokenizer=tokenize, stop_words=stop_words, ngram_range=(1, 3))),\n",
    "#     ('model', BRkNNaClassifier(k=3))\n",
    "# ])\n",
    "# pipeline.fit(df_train['message'], np.array(y_train))\n",
    "# classification_metrics(y_test, pipeline.predict(df_test['message']))"
   ]
  },
  {
   "cell_type": "code",
   "execution_count": null,
   "metadata": {},
   "outputs": [
    {
     "name": "stderr",
     "output_type": "stream",
     "text": [
      "/usr/local/lib/python3.10/site-packages/sklearn/feature_extraction/text.py:528: UserWarning: The parameter 'token_pattern' will not be used since 'tokenizer' is not None'\n",
      "  warnings.warn(\n",
      "/usr/local/lib/python3.10/site-packages/sklearn/feature_extraction/text.py:409: UserWarning: Your stop_words may be inconsistent with your preprocessing. Tokenizing the stop words generated tokens ['could', 'doe', 'ha', 'might', 'must', 'need', 'shall', 'wa', 'would'] not in stop_words.\n",
      "  warnings.warn(\n"
     ]
    }
   ],
   "source": [
    "from skmultilearn.adapt import MLARAM\n",
    "\n",
    "pipeline = Pipeline([\n",
    "    ('tfidf_vectorizer', TfidfVectorizer(tokenizer=tokenize, stop_words=stop_words, ngram_range=(1, 3))),\n",
    "    ('model', MLARAM())\n",
    "])\n",
    "pipeline.fit(df_train['message'], np.array(y_train))\n",
    "classification_metrics(y_test, pipeline.predict(df_test['message']))"
   ]
  },
  {
   "cell_type": "code",
   "execution_count": null,
   "metadata": {},
   "outputs": [],
   "source": [
    "pipeline = Pipeline([\n",
    "    ('tfidf_vectorizer', TfidfVectorizer(tokenizer=tokenize, stop_words=stop_words, ngram_range=(1, 3))),\n",
    "    ('model', LabelPowerset(classifier=LinearSVC(), require_dense=[False, True]))\n",
    "])\n",
    "pipeline.fit(df_train['message'], np.array(y_train))\n",
    "classification_metrics(y_test, pipeline.predict(df_test['message']))"
   ]
  },
  {
   "cell_type": "code",
   "execution_count": 53,
   "metadata": {},
   "outputs": [
    {
     "name": "stderr",
     "output_type": "stream",
     "text": [
      "C:\\Users\\Benjamin\\anaconda3\\lib\\site-packages\\sklearn\\feature_extraction\\text.py:528: UserWarning: The parameter 'token_pattern' will not be used since 'tokenizer' is not None'\n",
      "  warnings.warn(\n",
      "C:\\Users\\Benjamin\\anaconda3\\lib\\site-packages\\sklearn\\feature_extraction\\text.py:409: UserWarning: Your stop_words may be inconsistent with your preprocessing. Tokenizing the stop words generated tokens ['could', 'doe', 'ha', 'might', 'must', 'need', 'shall', 'wa', 'would'] not in stop_words.\n",
      "  warnings.warn(\n"
     ]
    },
    {
     "ename": "KeyboardInterrupt",
     "evalue": "",
     "output_type": "error",
     "traceback": [
      "\u001b[1;31m---------------------------------------------------------------------------\u001b[0m",
      "\u001b[1;31mKeyboardInterrupt\u001b[0m                         Traceback (most recent call last)",
      "\u001b[1;32m~\\AppData\\Local\\Temp\\ipykernel_23364\\3549495881.py\u001b[0m in \u001b[0;36m<module>\u001b[1;34m\u001b[0m\n\u001b[0;32m      3\u001b[0m     \u001b[1;33m(\u001b[0m\u001b[1;34m'model'\u001b[0m\u001b[1;33m,\u001b[0m \u001b[0mBinaryRelevance\u001b[0m\u001b[1;33m(\u001b[0m\u001b[0mclassifier\u001b[0m\u001b[1;33m=\u001b[0m\u001b[0mLinearSVC\u001b[0m\u001b[1;33m(\u001b[0m\u001b[1;33m)\u001b[0m\u001b[1;33m,\u001b[0m \u001b[0mrequire_dense\u001b[0m\u001b[1;33m=\u001b[0m\u001b[1;33m[\u001b[0m\u001b[1;32mFalse\u001b[0m\u001b[1;33m,\u001b[0m \u001b[1;32mTrue\u001b[0m\u001b[1;33m]\u001b[0m\u001b[1;33m)\u001b[0m\u001b[1;33m)\u001b[0m\u001b[1;33m\u001b[0m\u001b[1;33m\u001b[0m\u001b[0m\n\u001b[0;32m      4\u001b[0m ])\n\u001b[1;32m----> 5\u001b[1;33m \u001b[0mpipeline\u001b[0m\u001b[1;33m.\u001b[0m\u001b[0mfit\u001b[0m\u001b[1;33m(\u001b[0m\u001b[0mdf_train\u001b[0m\u001b[1;33m[\u001b[0m\u001b[1;34m'message'\u001b[0m\u001b[1;33m]\u001b[0m\u001b[1;33m,\u001b[0m \u001b[0mnp\u001b[0m\u001b[1;33m.\u001b[0m\u001b[0marray\u001b[0m\u001b[1;33m(\u001b[0m\u001b[0my_train\u001b[0m\u001b[1;33m)\u001b[0m\u001b[1;33m)\u001b[0m\u001b[1;33m\u001b[0m\u001b[1;33m\u001b[0m\u001b[0m\n\u001b[0m\u001b[0;32m      6\u001b[0m \u001b[0mclassification_metrics\u001b[0m\u001b[1;33m(\u001b[0m\u001b[0my_test\u001b[0m\u001b[1;33m,\u001b[0m \u001b[0mpipeline\u001b[0m\u001b[1;33m.\u001b[0m\u001b[0mpredict\u001b[0m\u001b[1;33m(\u001b[0m\u001b[0mdf_test\u001b[0m\u001b[1;33m[\u001b[0m\u001b[1;34m'message'\u001b[0m\u001b[1;33m]\u001b[0m\u001b[1;33m)\u001b[0m\u001b[1;33m)\u001b[0m\u001b[1;33m\u001b[0m\u001b[1;33m\u001b[0m\u001b[0m\n",
      "\u001b[1;32m~\\anaconda3\\lib\\site-packages\\comet_ml\\monkey_patching.py\u001b[0m in \u001b[0;36mwrapper\u001b[1;34m(*args, **kwargs)\u001b[0m\n\u001b[0;32m    310\u001b[0m                     )\n\u001b[0;32m    311\u001b[0m \u001b[1;33m\u001b[0m\u001b[0m\n\u001b[1;32m--> 312\u001b[1;33m         \u001b[0mreturn_value\u001b[0m \u001b[1;33m=\u001b[0m \u001b[0moriginal\u001b[0m\u001b[1;33m(\u001b[0m\u001b[1;33m*\u001b[0m\u001b[0margs\u001b[0m\u001b[1;33m,\u001b[0m \u001b[1;33m**\u001b[0m\u001b[0mkwargs\u001b[0m\u001b[1;33m)\u001b[0m\u001b[1;33m\u001b[0m\u001b[1;33m\u001b[0m\u001b[0m\n\u001b[0m\u001b[0;32m    313\u001b[0m \u001b[1;33m\u001b[0m\u001b[0m\n\u001b[0;32m    314\u001b[0m         \u001b[1;31m# Call after callbacks once we have the return value\u001b[0m\u001b[1;33m\u001b[0m\u001b[1;33m\u001b[0m\u001b[0m\n",
      "\u001b[1;32m~\\anaconda3\\lib\\site-packages\\sklearn\\pipeline.py\u001b[0m in \u001b[0;36mfit\u001b[1;34m(self, X, y, **fit_params)\u001b[0m\n\u001b[0;32m    403\u001b[0m             \u001b[1;32mif\u001b[0m \u001b[0mself\u001b[0m\u001b[1;33m.\u001b[0m\u001b[0m_final_estimator\u001b[0m \u001b[1;33m!=\u001b[0m \u001b[1;34m\"passthrough\"\u001b[0m\u001b[1;33m:\u001b[0m\u001b[1;33m\u001b[0m\u001b[1;33m\u001b[0m\u001b[0m\n\u001b[0;32m    404\u001b[0m                 \u001b[0mfit_params_last_step\u001b[0m \u001b[1;33m=\u001b[0m \u001b[0mfit_params_steps\u001b[0m\u001b[1;33m[\u001b[0m\u001b[0mself\u001b[0m\u001b[1;33m.\u001b[0m\u001b[0msteps\u001b[0m\u001b[1;33m[\u001b[0m\u001b[1;33m-\u001b[0m\u001b[1;36m1\u001b[0m\u001b[1;33m]\u001b[0m\u001b[1;33m[\u001b[0m\u001b[1;36m0\u001b[0m\u001b[1;33m]\u001b[0m\u001b[1;33m]\u001b[0m\u001b[1;33m\u001b[0m\u001b[1;33m\u001b[0m\u001b[0m\n\u001b[1;32m--> 405\u001b[1;33m                 \u001b[0mself\u001b[0m\u001b[1;33m.\u001b[0m\u001b[0m_final_estimator\u001b[0m\u001b[1;33m.\u001b[0m\u001b[0mfit\u001b[0m\u001b[1;33m(\u001b[0m\u001b[0mXt\u001b[0m\u001b[1;33m,\u001b[0m \u001b[0my\u001b[0m\u001b[1;33m,\u001b[0m \u001b[1;33m**\u001b[0m\u001b[0mfit_params_last_step\u001b[0m\u001b[1;33m)\u001b[0m\u001b[1;33m\u001b[0m\u001b[1;33m\u001b[0m\u001b[0m\n\u001b[0m\u001b[0;32m    406\u001b[0m \u001b[1;33m\u001b[0m\u001b[0m\n\u001b[0;32m    407\u001b[0m         \u001b[1;32mreturn\u001b[0m \u001b[0mself\u001b[0m\u001b[1;33m\u001b[0m\u001b[1;33m\u001b[0m\u001b[0m\n",
      "\u001b[1;32m~\\anaconda3\\lib\\site-packages\\skmultilearn\\problem_transform\\br.py\u001b[0m in \u001b[0;36mfit\u001b[1;34m(self, X, y)\u001b[0m\n\u001b[0;32m    159\u001b[0m             \u001b[1;32mif\u001b[0m \u001b[0missparse\u001b[0m\u001b[1;33m(\u001b[0m\u001b[0my_subset\u001b[0m\u001b[1;33m)\u001b[0m \u001b[1;32mand\u001b[0m \u001b[0my_subset\u001b[0m\u001b[1;33m.\u001b[0m\u001b[0mndim\u001b[0m \u001b[1;33m>\u001b[0m \u001b[1;36m1\u001b[0m \u001b[1;32mand\u001b[0m \u001b[0my_subset\u001b[0m\u001b[1;33m.\u001b[0m\u001b[0mshape\u001b[0m\u001b[1;33m[\u001b[0m\u001b[1;36m1\u001b[0m\u001b[1;33m]\u001b[0m \u001b[1;33m==\u001b[0m \u001b[1;36m1\u001b[0m\u001b[1;33m:\u001b[0m\u001b[1;33m\u001b[0m\u001b[1;33m\u001b[0m\u001b[0m\n\u001b[0;32m    160\u001b[0m                 \u001b[0my_subset\u001b[0m \u001b[1;33m=\u001b[0m \u001b[0mnp\u001b[0m\u001b[1;33m.\u001b[0m\u001b[0mravel\u001b[0m\u001b[1;33m(\u001b[0m\u001b[0my_subset\u001b[0m\u001b[1;33m.\u001b[0m\u001b[0mtoarray\u001b[0m\u001b[1;33m(\u001b[0m\u001b[1;33m)\u001b[0m\u001b[1;33m)\u001b[0m\u001b[1;33m\u001b[0m\u001b[1;33m\u001b[0m\u001b[0m\n\u001b[1;32m--> 161\u001b[1;33m             classifier.fit(self._ensure_input_format(\n\u001b[0m\u001b[0;32m    162\u001b[0m                 X), self._ensure_output_format(y_subset))\n\u001b[0;32m    163\u001b[0m             \u001b[0mself\u001b[0m\u001b[1;33m.\u001b[0m\u001b[0mclassifiers_\u001b[0m\u001b[1;33m.\u001b[0m\u001b[0mappend\u001b[0m\u001b[1;33m(\u001b[0m\u001b[0mclassifier\u001b[0m\u001b[1;33m)\u001b[0m\u001b[1;33m\u001b[0m\u001b[1;33m\u001b[0m\u001b[0m\n",
      "\u001b[1;32m~\\anaconda3\\lib\\site-packages\\sklearn\\svm\\_classes.py\u001b[0m in \u001b[0;36mfit\u001b[1;34m(self, X, y, sample_weight)\u001b[0m\n\u001b[0;32m    272\u001b[0m         \u001b[0mself\u001b[0m\u001b[1;33m.\u001b[0m\u001b[0mclasses_\u001b[0m \u001b[1;33m=\u001b[0m \u001b[0mnp\u001b[0m\u001b[1;33m.\u001b[0m\u001b[0munique\u001b[0m\u001b[1;33m(\u001b[0m\u001b[0my\u001b[0m\u001b[1;33m)\u001b[0m\u001b[1;33m\u001b[0m\u001b[1;33m\u001b[0m\u001b[0m\n\u001b[0;32m    273\u001b[0m \u001b[1;33m\u001b[0m\u001b[0m\n\u001b[1;32m--> 274\u001b[1;33m         self.coef_, self.intercept_, n_iter_ = _fit_liblinear(\n\u001b[0m\u001b[0;32m    275\u001b[0m             \u001b[0mX\u001b[0m\u001b[1;33m,\u001b[0m\u001b[1;33m\u001b[0m\u001b[1;33m\u001b[0m\u001b[0m\n\u001b[0;32m    276\u001b[0m             \u001b[0my\u001b[0m\u001b[1;33m,\u001b[0m\u001b[1;33m\u001b[0m\u001b[1;33m\u001b[0m\u001b[0m\n",
      "\u001b[1;32m~\\anaconda3\\lib\\site-packages\\sklearn\\svm\\_base.py\u001b[0m in \u001b[0;36m_fit_liblinear\u001b[1;34m(X, y, C, fit_intercept, intercept_scaling, class_weight, penalty, dual, verbose, max_iter, tol, random_state, multi_class, loss, epsilon, sample_weight)\u001b[0m\n\u001b[0;32m   1222\u001b[0m \u001b[1;33m\u001b[0m\u001b[0m\n\u001b[0;32m   1223\u001b[0m     \u001b[0msolver_type\u001b[0m \u001b[1;33m=\u001b[0m \u001b[0m_get_liblinear_solver_type\u001b[0m\u001b[1;33m(\u001b[0m\u001b[0mmulti_class\u001b[0m\u001b[1;33m,\u001b[0m \u001b[0mpenalty\u001b[0m\u001b[1;33m,\u001b[0m \u001b[0mloss\u001b[0m\u001b[1;33m,\u001b[0m \u001b[0mdual\u001b[0m\u001b[1;33m)\u001b[0m\u001b[1;33m\u001b[0m\u001b[1;33m\u001b[0m\u001b[0m\n\u001b[1;32m-> 1224\u001b[1;33m     raw_coef_, n_iter_ = liblinear.train_wrap(\n\u001b[0m\u001b[0;32m   1225\u001b[0m         \u001b[0mX\u001b[0m\u001b[1;33m,\u001b[0m\u001b[1;33m\u001b[0m\u001b[1;33m\u001b[0m\u001b[0m\n\u001b[0;32m   1226\u001b[0m         \u001b[0my_ind\u001b[0m\u001b[1;33m,\u001b[0m\u001b[1;33m\u001b[0m\u001b[1;33m\u001b[0m\u001b[0m\n",
      "\u001b[1;31mKeyboardInterrupt\u001b[0m: "
     ]
    }
   ],
   "source": [
    "pipeline = Pipeline([\n",
    "    ('tfidf_vectorizer', TfidfVectorizer(tokenizer=tokenize, stop_words=stop_words, ngram_range=(1, 3))),\n",
    "    ('model', BinaryRelevance(classifier=LinearSVC(), require_dense=[False, True]))\n",
    "])\n",
    "pipeline.fit(df_train['message'], np.array(y_train))\n",
    "classification_metrics(y_test, pipeline.predict(df_test['message']))"
   ]
  },
  {
   "cell_type": "code",
   "execution_count": null,
   "metadata": {},
   "outputs": [],
   "source": [
    "classifier = ClassifierChain(\n",
    "    classifier = LinearSVC(),\n",
    "    require_dense = [False, True],\n",
    "    order=[i for i in range(nlabel)]\n",
    ")\n",
    "\n",
    "pipeline = Pipeline([\n",
    "    ('tfidf_vectorizer', TfidfVectorizer(tokenizer=tokenize, stop_words=stop_words, ngram_range=(1, 3))),\n",
    "    ('model', classifier)\n",
    "])\n",
    "pipeline.fit(df_train['message'], np.array(y_train))\n",
    "classification_metrics(y_test, pipeline.predict(df_test['message']))"
   ]
  },
  {
   "cell_type": "markdown",
   "metadata": {},
   "source": [
    "### Exploring Label Relations"
   ]
  },
  {
   "cell_type": "markdown",
   "metadata": {},
   "source": [
    "#### NetworkX"
   ]
  },
  {
   "cell_type": "code",
   "execution_count": 82,
   "metadata": {},
   "outputs": [],
   "source": [
    "from skmultilearn.cluster import LabelCooccurrenceGraphBuilder\n",
    "\n",
    "graph_builder = LabelCooccurrenceGraphBuilder(weighted=True, include_self_edges=False)"
   ]
  },
  {
   "cell_type": "code",
   "execution_count": 83,
   "metadata": {},
   "outputs": [],
   "source": [
    "from skmultilearn.cluster.networkx import NetworkXLabelGraphClusterer\n",
    "\n",
    "def to_membership_vector(partition):\n",
    "    return {\n",
    "        member :  partition_id\n",
    "        for partition_id, members in enumerate(partition)\n",
    "        for member in members\n",
    "    }"
   ]
  },
  {
   "cell_type": "code",
   "execution_count": 84,
   "metadata": {},
   "outputs": [],
   "source": [
    "clusterer = NetworkXLabelGraphClusterer(graph_builder, method='louvain')"
   ]
  },
  {
   "cell_type": "code",
   "execution_count": 85,
   "metadata": {},
   "outputs": [
    {
     "name": "stderr",
     "output_type": "stream",
     "text": [
      "C:\\Users\\Benjamin\\anaconda3\\lib\\site-packages\\skmultilearn\\cluster\\networkx.py:163: VisibleDeprecationWarning: Creating an ndarray from ragged nested sequences (which is a list-or-tuple of lists-or-tuples-or ndarrays with different lengths or shapes) is deprecated. If you meant to do this, you must specify 'dtype=object' when creating the ndarray.\n",
      "  return np.array(\n"
     ]
    }
   ],
   "source": [
    "vectorizer = TfidfVectorizer(stop_words=stop_words, ngram_range=(1,3))\n",
    "vectorizer.fit(df_train['message'])\n",
    "X_train = vectorizer.transform(df_train['message'])\n",
    "partition = clusterer.fit_predict(X_train, np.array(y_train))"
   ]
  },
  {
   "cell_type": "code",
   "execution_count": 86,
   "metadata": {},
   "outputs": [],
   "source": [
    "membership_vector = to_membership_vector(partition)"
   ]
  },
  {
   "cell_type": "code",
   "execution_count": 87,
   "metadata": {},
   "outputs": [],
   "source": [
    "import networkx as nx\n",
    "names_dict = dict(enumerate(x for x in category_colnames))"
   ]
  },
  {
   "cell_type": "code",
   "execution_count": 97,
   "metadata": {},
   "outputs": [
    {
     "data": {
      "image/png": "[encoded data removed]",
      "text/plain": [
       "<Figure size 640x480 with 1 Axes>"
      ]
     },
     "metadata": {},
     "output_type": "display_data"
    }
   ],
   "source": [
    "nx.draw(\n",
    "    clusterer.graph_,\n",
    "    pos=nx.spring_layout(clusterer.graph_),\n",
    "    labels=names_dict,\n",
    "    with_labels = True,\n",
    "    width = [10*x/y_train.shape[0] for x in clusterer.weights_['weight']],\n",
    "    node_color = [membership_vector[i] for i in range(y_train.shape[1])],\n",
    "    cmap=plt.cm.cool_r,\n",
    "    node_size=1000,\n",
    "    font_size=8\n",
    ")"
   ]
  },
  {
   "cell_type": "code",
   "execution_count": null,
   "metadata": {},
   "outputs": [],
   "source": [
    "plt.savefig('plotgraph.png', dpi=300, bbox_inches='tight')"
   ]
  },
  {
   "cell_type": "markdown",
   "metadata": {},
   "source": [
    "### Use our clusterer to improve results"
   ]
  },
  {
   "cell_type": "code",
   "execution_count": null,
   "metadata": {},
   "outputs": [],
   "source": [
    "from operator import itemgetter\n",
    "sorted_deg = [s[0] for s in sorted(nx.betweenness_centrality(clusterer.graph_).items(),\n",
    "                                   key=itemgetter(1))]\n",
    "\n",
    "classifier = ClassifierChain(\n",
    "    classifier = LinearSVC(),\n",
    "    require_dense = [False, True],\n",
    "    order=sorted_deg\n",
    ")\n",
    "\n",
    "pipeline = Pipeline([\n",
    "    ('tfidf_vectorizer', TfidfVectorizer(tokenizer=tokenize, stop_words=stop_words, ngram_range=(1, 3))),\n",
    "    ('model', classifier)\n",
    "])\n",
    "\n",
    "pipeline.fit(df_train['message'], np.array(y_train))\n",
    "classification_metrics(y_test, pipeline.predict(df_test['message']))"
   ]
  },
  {
   "cell_type": "code",
   "execution_count": null,
   "metadata": {},
   "outputs": [],
   "source": [
    "from operator import itemgetter\n",
    "sorted_deg = [s[0] for s in sorted(nx.betweenness_centrality(clusterer.graph_).items(),\n",
    "                                   key=itemgetter(1), reverse=True)]\n",
    "\n",
    "classifier = ClassifierChain(\n",
    "    classifier = LinearSVC(),\n",
    "    require_dense = [False, True],\n",
    "    order=sorted_deg\n",
    ")\n",
    "\n",
    "pipeline = Pipeline([\n",
    "    ('tfidf_vectorizer', TfidfVectorizer(tokenizer=tokenize, stop_words=stop_words, ngram_range=(1, 3))),\n",
    "    ('model', classifier)\n",
    "])\n",
    "\n",
    "pipeline.fit(df_train['message'], np.array(y_train))\n",
    "classification_metrics(y_test, pipeline.predict(df_test['message']))"
   ]
  },
  {
   "cell_type": "code",
   "execution_count": 118,
   "metadata": {},
   "outputs": [
    {
     "name": "stderr",
     "output_type": "stream",
     "text": [
      "C:\\Users\\Benjamin\\anaconda3\\lib\\site-packages\\sklearn\\feature_extraction\\text.py:528: UserWarning: The parameter 'token_pattern' will not be used since 'tokenizer' is not None'\n",
      "  warnings.warn(\n",
      "C:\\Users\\Benjamin\\anaconda3\\lib\\site-packages\\sklearn\\feature_extraction\\text.py:409: UserWarning: Your stop_words may be inconsistent with your preprocessing. Tokenizing the stop words generated tokens ['could', 'doe', 'ha', 'might', 'must', 'need', 'shall', 'wa', 'would'] not in stop_words.\n",
      "  warnings.warn(\n",
      "C:\\Users\\Benjamin\\anaconda3\\lib\\site-packages\\skmultilearn\\cluster\\networkx.py:163: VisibleDeprecationWarning: Creating an ndarray from ragged nested sequences (which is a list-or-tuple of lists-or-tuples-or ndarrays with different lengths or shapes) is deprecated. If you meant to do this, you must specify 'dtype=object' when creating the ndarray.\n",
      "  return np.array(\n"
     ]
    },
    {
     "ename": "KeyboardInterrupt",
     "evalue": "",
     "output_type": "error",
     "traceback": [
      "\u001b[1;31m---------------------------------------------------------------------------\u001b[0m",
      "\u001b[1;31mKeyboardInterrupt\u001b[0m                         Traceback (most recent call last)",
      "\u001b[1;32m~\\AppData\\Local\\Temp\\ipykernel_26388\\2767577945.py\u001b[0m in \u001b[0;36m<module>\u001b[1;34m\u001b[0m\n\u001b[0;32m     14\u001b[0m ])\n\u001b[0;32m     15\u001b[0m \u001b[1;33m\u001b[0m\u001b[0m\n\u001b[1;32m---> 16\u001b[1;33m \u001b[0mpipeline\u001b[0m\u001b[1;33m.\u001b[0m\u001b[0mfit\u001b[0m\u001b[1;33m(\u001b[0m\u001b[0mdf_train\u001b[0m\u001b[1;33m[\u001b[0m\u001b[1;34m'message'\u001b[0m\u001b[1;33m]\u001b[0m\u001b[1;33m,\u001b[0m \u001b[0my_train\u001b[0m\u001b[1;33m)\u001b[0m\u001b[1;33m\u001b[0m\u001b[1;33m\u001b[0m\u001b[0m\n\u001b[0m\u001b[0;32m     17\u001b[0m \u001b[0mclassification_metrics\u001b[0m\u001b[1;33m(\u001b[0m\u001b[0my_test\u001b[0m\u001b[1;33m,\u001b[0m \u001b[0mpipeline\u001b[0m\u001b[1;33m.\u001b[0m\u001b[0mpredict\u001b[0m\u001b[1;33m(\u001b[0m\u001b[0mdf_test\u001b[0m\u001b[1;33m[\u001b[0m\u001b[1;34m'message'\u001b[0m\u001b[1;33m]\u001b[0m\u001b[1;33m)\u001b[0m\u001b[1;33m)\u001b[0m\u001b[1;33m\u001b[0m\u001b[1;33m\u001b[0m\u001b[0m\n",
      "\u001b[1;32m~\\anaconda3\\lib\\site-packages\\comet_ml\\monkey_patching.py\u001b[0m in \u001b[0;36mwrapper\u001b[1;34m(*args, **kwargs)\u001b[0m\n\u001b[0;32m    310\u001b[0m                     )\n\u001b[0;32m    311\u001b[0m \u001b[1;33m\u001b[0m\u001b[0m\n\u001b[1;32m--> 312\u001b[1;33m         \u001b[0mreturn_value\u001b[0m \u001b[1;33m=\u001b[0m \u001b[0moriginal\u001b[0m\u001b[1;33m(\u001b[0m\u001b[1;33m*\u001b[0m\u001b[0margs\u001b[0m\u001b[1;33m,\u001b[0m \u001b[1;33m**\u001b[0m\u001b[0mkwargs\u001b[0m\u001b[1;33m)\u001b[0m\u001b[1;33m\u001b[0m\u001b[1;33m\u001b[0m\u001b[0m\n\u001b[0m\u001b[0;32m    313\u001b[0m \u001b[1;33m\u001b[0m\u001b[0m\n\u001b[0;32m    314\u001b[0m         \u001b[1;31m# Call after callbacks once we have the return value\u001b[0m\u001b[1;33m\u001b[0m\u001b[1;33m\u001b[0m\u001b[0m\n",
      "\u001b[1;32m~\\anaconda3\\lib\\site-packages\\sklearn\\pipeline.py\u001b[0m in \u001b[0;36mfit\u001b[1;34m(self, X, y, **fit_params)\u001b[0m\n\u001b[0;32m    403\u001b[0m             \u001b[1;32mif\u001b[0m \u001b[0mself\u001b[0m\u001b[1;33m.\u001b[0m\u001b[0m_final_estimator\u001b[0m \u001b[1;33m!=\u001b[0m \u001b[1;34m\"passthrough\"\u001b[0m\u001b[1;33m:\u001b[0m\u001b[1;33m\u001b[0m\u001b[1;33m\u001b[0m\u001b[0m\n\u001b[0;32m    404\u001b[0m                 \u001b[0mfit_params_last_step\u001b[0m \u001b[1;33m=\u001b[0m \u001b[0mfit_params_steps\u001b[0m\u001b[1;33m[\u001b[0m\u001b[0mself\u001b[0m\u001b[1;33m.\u001b[0m\u001b[0msteps\u001b[0m\u001b[1;33m[\u001b[0m\u001b[1;33m-\u001b[0m\u001b[1;36m1\u001b[0m\u001b[1;33m]\u001b[0m\u001b[1;33m[\u001b[0m\u001b[1;36m0\u001b[0m\u001b[1;33m]\u001b[0m\u001b[1;33m]\u001b[0m\u001b[1;33m\u001b[0m\u001b[1;33m\u001b[0m\u001b[0m\n\u001b[1;32m--> 405\u001b[1;33m                 \u001b[0mself\u001b[0m\u001b[1;33m.\u001b[0m\u001b[0m_final_estimator\u001b[0m\u001b[1;33m.\u001b[0m\u001b[0mfit\u001b[0m\u001b[1;33m(\u001b[0m\u001b[0mXt\u001b[0m\u001b[1;33m,\u001b[0m \u001b[0my\u001b[0m\u001b[1;33m,\u001b[0m \u001b[1;33m**\u001b[0m\u001b[0mfit_params_last_step\u001b[0m\u001b[1;33m)\u001b[0m\u001b[1;33m\u001b[0m\u001b[1;33m\u001b[0m\u001b[0m\n\u001b[0m\u001b[0;32m    406\u001b[0m \u001b[1;33m\u001b[0m\u001b[0m\n\u001b[0;32m    407\u001b[0m         \u001b[1;32mreturn\u001b[0m \u001b[0mself\u001b[0m\u001b[1;33m\u001b[0m\u001b[1;33m\u001b[0m\u001b[0m\n",
      "\u001b[1;32m~\\anaconda3\\lib\\site-packages\\skmultilearn\\problem_transform\\br.py\u001b[0m in \u001b[0;36mfit\u001b[1;34m(self, X, y)\u001b[0m\n\u001b[0;32m    159\u001b[0m             \u001b[1;32mif\u001b[0m \u001b[0missparse\u001b[0m\u001b[1;33m(\u001b[0m\u001b[0my_subset\u001b[0m\u001b[1;33m)\u001b[0m \u001b[1;32mand\u001b[0m \u001b[0my_subset\u001b[0m\u001b[1;33m.\u001b[0m\u001b[0mndim\u001b[0m \u001b[1;33m>\u001b[0m \u001b[1;36m1\u001b[0m \u001b[1;32mand\u001b[0m \u001b[0my_subset\u001b[0m\u001b[1;33m.\u001b[0m\u001b[0mshape\u001b[0m\u001b[1;33m[\u001b[0m\u001b[1;36m1\u001b[0m\u001b[1;33m]\u001b[0m \u001b[1;33m==\u001b[0m \u001b[1;36m1\u001b[0m\u001b[1;33m:\u001b[0m\u001b[1;33m\u001b[0m\u001b[1;33m\u001b[0m\u001b[0m\n\u001b[0;32m    160\u001b[0m                 \u001b[0my_subset\u001b[0m \u001b[1;33m=\u001b[0m \u001b[0mnp\u001b[0m\u001b[1;33m.\u001b[0m\u001b[0mravel\u001b[0m\u001b[1;33m(\u001b[0m\u001b[0my_subset\u001b[0m\u001b[1;33m.\u001b[0m\u001b[0mtoarray\u001b[0m\u001b[1;33m(\u001b[0m\u001b[1;33m)\u001b[0m\u001b[1;33m)\u001b[0m\u001b[1;33m\u001b[0m\u001b[1;33m\u001b[0m\u001b[0m\n\u001b[1;32m--> 161\u001b[1;33m             classifier.fit(self._ensure_input_format(\n\u001b[0m\u001b[0;32m    162\u001b[0m                 X), self._ensure_output_format(y_subset))\n\u001b[0;32m    163\u001b[0m             \u001b[0mself\u001b[0m\u001b[1;33m.\u001b[0m\u001b[0mclassifiers_\u001b[0m\u001b[1;33m.\u001b[0m\u001b[0mappend\u001b[0m\u001b[1;33m(\u001b[0m\u001b[0mclassifier\u001b[0m\u001b[1;33m)\u001b[0m\u001b[1;33m\u001b[0m\u001b[1;33m\u001b[0m\u001b[0m\n",
      "\u001b[1;32m~\\anaconda3\\lib\\site-packages\\skmultilearn\\problem_transform\\br.py\u001b[0m in \u001b[0;36mfit\u001b[1;34m(self, X, y)\u001b[0m\n\u001b[0;32m    159\u001b[0m             \u001b[1;32mif\u001b[0m \u001b[0missparse\u001b[0m\u001b[1;33m(\u001b[0m\u001b[0my_subset\u001b[0m\u001b[1;33m)\u001b[0m \u001b[1;32mand\u001b[0m \u001b[0my_subset\u001b[0m\u001b[1;33m.\u001b[0m\u001b[0mndim\u001b[0m \u001b[1;33m>\u001b[0m \u001b[1;36m1\u001b[0m \u001b[1;32mand\u001b[0m \u001b[0my_subset\u001b[0m\u001b[1;33m.\u001b[0m\u001b[0mshape\u001b[0m\u001b[1;33m[\u001b[0m\u001b[1;36m1\u001b[0m\u001b[1;33m]\u001b[0m \u001b[1;33m==\u001b[0m \u001b[1;36m1\u001b[0m\u001b[1;33m:\u001b[0m\u001b[1;33m\u001b[0m\u001b[1;33m\u001b[0m\u001b[0m\n\u001b[0;32m    160\u001b[0m                 \u001b[0my_subset\u001b[0m \u001b[1;33m=\u001b[0m \u001b[0mnp\u001b[0m\u001b[1;33m.\u001b[0m\u001b[0mravel\u001b[0m\u001b[1;33m(\u001b[0m\u001b[0my_subset\u001b[0m\u001b[1;33m.\u001b[0m\u001b[0mtoarray\u001b[0m\u001b[1;33m(\u001b[0m\u001b[1;33m)\u001b[0m\u001b[1;33m)\u001b[0m\u001b[1;33m\u001b[0m\u001b[1;33m\u001b[0m\u001b[0m\n\u001b[1;32m--> 161\u001b[1;33m             classifier.fit(self._ensure_input_format(\n\u001b[0m\u001b[0;32m    162\u001b[0m                 X), self._ensure_output_format(y_subset))\n\u001b[0;32m    163\u001b[0m             \u001b[0mself\u001b[0m\u001b[1;33m.\u001b[0m\u001b[0mclassifiers_\u001b[0m\u001b[1;33m.\u001b[0m\u001b[0mappend\u001b[0m\u001b[1;33m(\u001b[0m\u001b[0mclassifier\u001b[0m\u001b[1;33m)\u001b[0m\u001b[1;33m\u001b[0m\u001b[1;33m\u001b[0m\u001b[0m\n",
      "\u001b[1;32m~\\anaconda3\\lib\\site-packages\\comet_ml\\monkey_patching.py\u001b[0m in \u001b[0;36mwrapper\u001b[1;34m(*args, **kwargs)\u001b[0m\n\u001b[0;32m    310\u001b[0m                     )\n\u001b[0;32m    311\u001b[0m \u001b[1;33m\u001b[0m\u001b[0m\n\u001b[1;32m--> 312\u001b[1;33m         \u001b[0mreturn_value\u001b[0m \u001b[1;33m=\u001b[0m \u001b[0moriginal\u001b[0m\u001b[1;33m(\u001b[0m\u001b[1;33m*\u001b[0m\u001b[0margs\u001b[0m\u001b[1;33m,\u001b[0m \u001b[1;33m**\u001b[0m\u001b[0mkwargs\u001b[0m\u001b[1;33m)\u001b[0m\u001b[1;33m\u001b[0m\u001b[1;33m\u001b[0m\u001b[0m\n\u001b[0m\u001b[0;32m    313\u001b[0m \u001b[1;33m\u001b[0m\u001b[0m\n\u001b[0;32m    314\u001b[0m         \u001b[1;31m# Call after callbacks once we have the return value\u001b[0m\u001b[1;33m\u001b[0m\u001b[1;33m\u001b[0m\u001b[0m\n",
      "\u001b[1;32m~\\anaconda3\\lib\\site-packages\\sklearn\\ensemble\\_forest.py\u001b[0m in \u001b[0;36mfit\u001b[1;34m(self, X, y, sample_weight)\u001b[0m\n\u001b[0;32m    471\u001b[0m             \u001b[1;31m# parallel_backend contexts set at a higher level,\u001b[0m\u001b[1;33m\u001b[0m\u001b[1;33m\u001b[0m\u001b[0m\n\u001b[0;32m    472\u001b[0m             \u001b[1;31m# since correctness does not rely on using threads.\u001b[0m\u001b[1;33m\u001b[0m\u001b[1;33m\u001b[0m\u001b[0m\n\u001b[1;32m--> 473\u001b[1;33m             trees = Parallel(\n\u001b[0m\u001b[0;32m    474\u001b[0m                 \u001b[0mn_jobs\u001b[0m\u001b[1;33m=\u001b[0m\u001b[0mself\u001b[0m\u001b[1;33m.\u001b[0m\u001b[0mn_jobs\u001b[0m\u001b[1;33m,\u001b[0m\u001b[1;33m\u001b[0m\u001b[1;33m\u001b[0m\u001b[0m\n\u001b[0;32m    475\u001b[0m                 \u001b[0mverbose\u001b[0m\u001b[1;33m=\u001b[0m\u001b[0mself\u001b[0m\u001b[1;33m.\u001b[0m\u001b[0mverbose\u001b[0m\u001b[1;33m,\u001b[0m\u001b[1;33m\u001b[0m\u001b[1;33m\u001b[0m\u001b[0m\n",
      "\u001b[1;32m~\\anaconda3\\lib\\site-packages\\sklearn\\utils\\parallel.py\u001b[0m in \u001b[0;36m__call__\u001b[1;34m(self, iterable)\u001b[0m\n\u001b[0;32m     61\u001b[0m             \u001b[1;32mfor\u001b[0m \u001b[0mdelayed_func\u001b[0m\u001b[1;33m,\u001b[0m \u001b[0margs\u001b[0m\u001b[1;33m,\u001b[0m \u001b[0mkwargs\u001b[0m \u001b[1;32min\u001b[0m \u001b[0miterable\u001b[0m\u001b[1;33m\u001b[0m\u001b[1;33m\u001b[0m\u001b[0m\n\u001b[0;32m     62\u001b[0m         )\n\u001b[1;32m---> 63\u001b[1;33m         \u001b[1;32mreturn\u001b[0m \u001b[0msuper\u001b[0m\u001b[1;33m(\u001b[0m\u001b[1;33m)\u001b[0m\u001b[1;33m.\u001b[0m\u001b[0m__call__\u001b[0m\u001b[1;33m(\u001b[0m\u001b[0miterable_with_config\u001b[0m\u001b[1;33m)\u001b[0m\u001b[1;33m\u001b[0m\u001b[1;33m\u001b[0m\u001b[0m\n\u001b[0m\u001b[0;32m     64\u001b[0m \u001b[1;33m\u001b[0m\u001b[0m\n\u001b[0;32m     65\u001b[0m \u001b[1;33m\u001b[0m\u001b[0m\n",
      "\u001b[1;32m~\\anaconda3\\lib\\site-packages\\joblib\\parallel.py\u001b[0m in \u001b[0;36m__call__\u001b[1;34m(self, iterable)\u001b[0m\n\u001b[0;32m   1086\u001b[0m                 \u001b[0mself\u001b[0m\u001b[1;33m.\u001b[0m\u001b[0m_iterating\u001b[0m \u001b[1;33m=\u001b[0m \u001b[0mself\u001b[0m\u001b[1;33m.\u001b[0m\u001b[0m_original_iterator\u001b[0m \u001b[1;32mis\u001b[0m \u001b[1;32mnot\u001b[0m \u001b[1;32mNone\u001b[0m\u001b[1;33m\u001b[0m\u001b[1;33m\u001b[0m\u001b[0m\n\u001b[0;32m   1087\u001b[0m \u001b[1;33m\u001b[0m\u001b[0m\n\u001b[1;32m-> 1088\u001b[1;33m             \u001b[1;32mwhile\u001b[0m \u001b[0mself\u001b[0m\u001b[1;33m.\u001b[0m\u001b[0mdispatch_one_batch\u001b[0m\u001b[1;33m(\u001b[0m\u001b[0miterator\u001b[0m\u001b[1;33m)\u001b[0m\u001b[1;33m:\u001b[0m\u001b[1;33m\u001b[0m\u001b[1;33m\u001b[0m\u001b[0m\n\u001b[0m\u001b[0;32m   1089\u001b[0m                 \u001b[1;32mpass\u001b[0m\u001b[1;33m\u001b[0m\u001b[1;33m\u001b[0m\u001b[0m\n\u001b[0;32m   1090\u001b[0m \u001b[1;33m\u001b[0m\u001b[0m\n",
      "\u001b[1;32m~\\anaconda3\\lib\\site-packages\\joblib\\parallel.py\u001b[0m in \u001b[0;36mdispatch_one_batch\u001b[1;34m(self, iterator)\u001b[0m\n\u001b[0;32m    899\u001b[0m                 \u001b[1;32mreturn\u001b[0m \u001b[1;32mFalse\u001b[0m\u001b[1;33m\u001b[0m\u001b[1;33m\u001b[0m\u001b[0m\n\u001b[0;32m    900\u001b[0m             \u001b[1;32melse\u001b[0m\u001b[1;33m:\u001b[0m\u001b[1;33m\u001b[0m\u001b[1;33m\u001b[0m\u001b[0m\n\u001b[1;32m--> 901\u001b[1;33m                 \u001b[0mself\u001b[0m\u001b[1;33m.\u001b[0m\u001b[0m_dispatch\u001b[0m\u001b[1;33m(\u001b[0m\u001b[0mtasks\u001b[0m\u001b[1;33m)\u001b[0m\u001b[1;33m\u001b[0m\u001b[1;33m\u001b[0m\u001b[0m\n\u001b[0m\u001b[0;32m    902\u001b[0m                 \u001b[1;32mreturn\u001b[0m \u001b[1;32mTrue\u001b[0m\u001b[1;33m\u001b[0m\u001b[1;33m\u001b[0m\u001b[0m\n\u001b[0;32m    903\u001b[0m \u001b[1;33m\u001b[0m\u001b[0m\n",
      "\u001b[1;32m~\\anaconda3\\lib\\site-packages\\joblib\\parallel.py\u001b[0m in \u001b[0;36m_dispatch\u001b[1;34m(self, batch)\u001b[0m\n\u001b[0;32m    817\u001b[0m         \u001b[1;32mwith\u001b[0m \u001b[0mself\u001b[0m\u001b[1;33m.\u001b[0m\u001b[0m_lock\u001b[0m\u001b[1;33m:\u001b[0m\u001b[1;33m\u001b[0m\u001b[1;33m\u001b[0m\u001b[0m\n\u001b[0;32m    818\u001b[0m             \u001b[0mjob_idx\u001b[0m \u001b[1;33m=\u001b[0m \u001b[0mlen\u001b[0m\u001b[1;33m(\u001b[0m\u001b[0mself\u001b[0m\u001b[1;33m.\u001b[0m\u001b[0m_jobs\u001b[0m\u001b[1;33m)\u001b[0m\u001b[1;33m\u001b[0m\u001b[1;33m\u001b[0m\u001b[0m\n\u001b[1;32m--> 819\u001b[1;33m             \u001b[0mjob\u001b[0m \u001b[1;33m=\u001b[0m \u001b[0mself\u001b[0m\u001b[1;33m.\u001b[0m\u001b[0m_backend\u001b[0m\u001b[1;33m.\u001b[0m\u001b[0mapply_async\u001b[0m\u001b[1;33m(\u001b[0m\u001b[0mbatch\u001b[0m\u001b[1;33m,\u001b[0m \u001b[0mcallback\u001b[0m\u001b[1;33m=\u001b[0m\u001b[0mcb\u001b[0m\u001b[1;33m)\u001b[0m\u001b[1;33m\u001b[0m\u001b[1;33m\u001b[0m\u001b[0m\n\u001b[0m\u001b[0;32m    820\u001b[0m             \u001b[1;31m# A job can complete so quickly than its callback is\u001b[0m\u001b[1;33m\u001b[0m\u001b[1;33m\u001b[0m\u001b[0m\n\u001b[0;32m    821\u001b[0m             \u001b[1;31m# called before we get here, causing self._jobs to\u001b[0m\u001b[1;33m\u001b[0m\u001b[1;33m\u001b[0m\u001b[0m\n",
      "\u001b[1;32m~\\anaconda3\\lib\\site-packages\\joblib\\_parallel_backends.py\u001b[0m in \u001b[0;36mapply_async\u001b[1;34m(self, func, callback)\u001b[0m\n\u001b[0;32m    206\u001b[0m     \u001b[1;32mdef\u001b[0m \u001b[0mapply_async\u001b[0m\u001b[1;33m(\u001b[0m\u001b[0mself\u001b[0m\u001b[1;33m,\u001b[0m \u001b[0mfunc\u001b[0m\u001b[1;33m,\u001b[0m \u001b[0mcallback\u001b[0m\u001b[1;33m=\u001b[0m\u001b[1;32mNone\u001b[0m\u001b[1;33m)\u001b[0m\u001b[1;33m:\u001b[0m\u001b[1;33m\u001b[0m\u001b[1;33m\u001b[0m\u001b[0m\n\u001b[0;32m    207\u001b[0m         \u001b[1;34m\"\"\"Schedule a func to be run\"\"\"\u001b[0m\u001b[1;33m\u001b[0m\u001b[1;33m\u001b[0m\u001b[0m\n\u001b[1;32m--> 208\u001b[1;33m         \u001b[0mresult\u001b[0m \u001b[1;33m=\u001b[0m \u001b[0mImmediateResult\u001b[0m\u001b[1;33m(\u001b[0m\u001b[0mfunc\u001b[0m\u001b[1;33m)\u001b[0m\u001b[1;33m\u001b[0m\u001b[1;33m\u001b[0m\u001b[0m\n\u001b[0m\u001b[0;32m    209\u001b[0m         \u001b[1;32mif\u001b[0m \u001b[0mcallback\u001b[0m\u001b[1;33m:\u001b[0m\u001b[1;33m\u001b[0m\u001b[1;33m\u001b[0m\u001b[0m\n\u001b[0;32m    210\u001b[0m             \u001b[0mcallback\u001b[0m\u001b[1;33m(\u001b[0m\u001b[0mresult\u001b[0m\u001b[1;33m)\u001b[0m\u001b[1;33m\u001b[0m\u001b[1;33m\u001b[0m\u001b[0m\n",
      "\u001b[1;32m~\\anaconda3\\lib\\site-packages\\joblib\\_parallel_backends.py\u001b[0m in \u001b[0;36m__init__\u001b[1;34m(self, batch)\u001b[0m\n\u001b[0;32m    595\u001b[0m         \u001b[1;31m# Don't delay the application, to avoid keeping the input\u001b[0m\u001b[1;33m\u001b[0m\u001b[1;33m\u001b[0m\u001b[0m\n\u001b[0;32m    596\u001b[0m         \u001b[1;31m# arguments in memory\u001b[0m\u001b[1;33m\u001b[0m\u001b[1;33m\u001b[0m\u001b[0m\n\u001b[1;32m--> 597\u001b[1;33m         \u001b[0mself\u001b[0m\u001b[1;33m.\u001b[0m\u001b[0mresults\u001b[0m \u001b[1;33m=\u001b[0m \u001b[0mbatch\u001b[0m\u001b[1;33m(\u001b[0m\u001b[1;33m)\u001b[0m\u001b[1;33m\u001b[0m\u001b[1;33m\u001b[0m\u001b[0m\n\u001b[0m\u001b[0;32m    598\u001b[0m \u001b[1;33m\u001b[0m\u001b[0m\n\u001b[0;32m    599\u001b[0m     \u001b[1;32mdef\u001b[0m \u001b[0mget\u001b[0m\u001b[1;33m(\u001b[0m\u001b[0mself\u001b[0m\u001b[1;33m)\u001b[0m\u001b[1;33m:\u001b[0m\u001b[1;33m\u001b[0m\u001b[1;33m\u001b[0m\u001b[0m\n",
      "\u001b[1;32m~\\anaconda3\\lib\\site-packages\\joblib\\parallel.py\u001b[0m in \u001b[0;36m__call__\u001b[1;34m(self)\u001b[0m\n\u001b[0;32m    286\u001b[0m         \u001b[1;31m# change the default number of processes to -1\u001b[0m\u001b[1;33m\u001b[0m\u001b[1;33m\u001b[0m\u001b[0m\n\u001b[0;32m    287\u001b[0m         \u001b[1;32mwith\u001b[0m \u001b[0mparallel_backend\u001b[0m\u001b[1;33m(\u001b[0m\u001b[0mself\u001b[0m\u001b[1;33m.\u001b[0m\u001b[0m_backend\u001b[0m\u001b[1;33m,\u001b[0m \u001b[0mn_jobs\u001b[0m\u001b[1;33m=\u001b[0m\u001b[0mself\u001b[0m\u001b[1;33m.\u001b[0m\u001b[0m_n_jobs\u001b[0m\u001b[1;33m)\u001b[0m\u001b[1;33m:\u001b[0m\u001b[1;33m\u001b[0m\u001b[1;33m\u001b[0m\u001b[0m\n\u001b[1;32m--> 288\u001b[1;33m             return [func(*args, **kwargs)\n\u001b[0m\u001b[0;32m    289\u001b[0m                     for func, args, kwargs in self.items]\n\u001b[0;32m    290\u001b[0m \u001b[1;33m\u001b[0m\u001b[0m\n",
      "\u001b[1;32m~\\anaconda3\\lib\\site-packages\\joblib\\parallel.py\u001b[0m in \u001b[0;36m<listcomp>\u001b[1;34m(.0)\u001b[0m\n\u001b[0;32m    286\u001b[0m         \u001b[1;31m# change the default number of processes to -1\u001b[0m\u001b[1;33m\u001b[0m\u001b[1;33m\u001b[0m\u001b[0m\n\u001b[0;32m    287\u001b[0m         \u001b[1;32mwith\u001b[0m \u001b[0mparallel_backend\u001b[0m\u001b[1;33m(\u001b[0m\u001b[0mself\u001b[0m\u001b[1;33m.\u001b[0m\u001b[0m_backend\u001b[0m\u001b[1;33m,\u001b[0m \u001b[0mn_jobs\u001b[0m\u001b[1;33m=\u001b[0m\u001b[0mself\u001b[0m\u001b[1;33m.\u001b[0m\u001b[0m_n_jobs\u001b[0m\u001b[1;33m)\u001b[0m\u001b[1;33m:\u001b[0m\u001b[1;33m\u001b[0m\u001b[1;33m\u001b[0m\u001b[0m\n\u001b[1;32m--> 288\u001b[1;33m             return [func(*args, **kwargs)\n\u001b[0m\u001b[0;32m    289\u001b[0m                     for func, args, kwargs in self.items]\n\u001b[0;32m    290\u001b[0m \u001b[1;33m\u001b[0m\u001b[0m\n",
      "\u001b[1;32m~\\anaconda3\\lib\\site-packages\\sklearn\\utils\\parallel.py\u001b[0m in \u001b[0;36m__call__\u001b[1;34m(self, *args, **kwargs)\u001b[0m\n\u001b[0;32m    121\u001b[0m             \u001b[0mconfig\u001b[0m \u001b[1;33m=\u001b[0m \u001b[1;33m{\u001b[0m\u001b[1;33m}\u001b[0m\u001b[1;33m\u001b[0m\u001b[1;33m\u001b[0m\u001b[0m\n\u001b[0;32m    122\u001b[0m         \u001b[1;32mwith\u001b[0m \u001b[0mconfig_context\u001b[0m\u001b[1;33m(\u001b[0m\u001b[1;33m**\u001b[0m\u001b[0mconfig\u001b[0m\u001b[1;33m)\u001b[0m\u001b[1;33m:\u001b[0m\u001b[1;33m\u001b[0m\u001b[1;33m\u001b[0m\u001b[0m\n\u001b[1;32m--> 123\u001b[1;33m             \u001b[1;32mreturn\u001b[0m \u001b[0mself\u001b[0m\u001b[1;33m.\u001b[0m\u001b[0mfunction\u001b[0m\u001b[1;33m(\u001b[0m\u001b[1;33m*\u001b[0m\u001b[0margs\u001b[0m\u001b[1;33m,\u001b[0m \u001b[1;33m**\u001b[0m\u001b[0mkwargs\u001b[0m\u001b[1;33m)\u001b[0m\u001b[1;33m\u001b[0m\u001b[1;33m\u001b[0m\u001b[0m\n\u001b[0m",
      "\u001b[1;32m~\\anaconda3\\lib\\site-packages\\sklearn\\ensemble\\_forest.py\u001b[0m in \u001b[0;36m_parallel_build_trees\u001b[1;34m(tree, bootstrap, X, y, sample_weight, tree_idx, n_trees, verbose, class_weight, n_samples_bootstrap)\u001b[0m\n\u001b[0;32m    182\u001b[0m             \u001b[0mcurr_sample_weight\u001b[0m \u001b[1;33m*=\u001b[0m \u001b[0mcompute_sample_weight\u001b[0m\u001b[1;33m(\u001b[0m\u001b[1;34m\"balanced\"\u001b[0m\u001b[1;33m,\u001b[0m \u001b[0my\u001b[0m\u001b[1;33m,\u001b[0m \u001b[0mindices\u001b[0m\u001b[1;33m=\u001b[0m\u001b[0mindices\u001b[0m\u001b[1;33m)\u001b[0m\u001b[1;33m\u001b[0m\u001b[1;33m\u001b[0m\u001b[0m\n\u001b[0;32m    183\u001b[0m \u001b[1;33m\u001b[0m\u001b[0m\n\u001b[1;32m--> 184\u001b[1;33m         \u001b[0mtree\u001b[0m\u001b[1;33m.\u001b[0m\u001b[0mfit\u001b[0m\u001b[1;33m(\u001b[0m\u001b[0mX\u001b[0m\u001b[1;33m,\u001b[0m \u001b[0my\u001b[0m\u001b[1;33m,\u001b[0m \u001b[0msample_weight\u001b[0m\u001b[1;33m=\u001b[0m\u001b[0mcurr_sample_weight\u001b[0m\u001b[1;33m,\u001b[0m \u001b[0mcheck_input\u001b[0m\u001b[1;33m=\u001b[0m\u001b[1;32mFalse\u001b[0m\u001b[1;33m)\u001b[0m\u001b[1;33m\u001b[0m\u001b[1;33m\u001b[0m\u001b[0m\n\u001b[0m\u001b[0;32m    185\u001b[0m     \u001b[1;32melse\u001b[0m\u001b[1;33m:\u001b[0m\u001b[1;33m\u001b[0m\u001b[1;33m\u001b[0m\u001b[0m\n\u001b[0;32m    186\u001b[0m         \u001b[0mtree\u001b[0m\u001b[1;33m.\u001b[0m\u001b[0mfit\u001b[0m\u001b[1;33m(\u001b[0m\u001b[0mX\u001b[0m\u001b[1;33m,\u001b[0m \u001b[0my\u001b[0m\u001b[1;33m,\u001b[0m \u001b[0msample_weight\u001b[0m\u001b[1;33m=\u001b[0m\u001b[0msample_weight\u001b[0m\u001b[1;33m,\u001b[0m \u001b[0mcheck_input\u001b[0m\u001b[1;33m=\u001b[0m\u001b[1;32mFalse\u001b[0m\u001b[1;33m)\u001b[0m\u001b[1;33m\u001b[0m\u001b[1;33m\u001b[0m\u001b[0m\n",
      "\u001b[1;32m~\\anaconda3\\lib\\site-packages\\comet_ml\\monkey_patching.py\u001b[0m in \u001b[0;36mwrapper\u001b[1;34m(*args, **kwargs)\u001b[0m\n\u001b[0;32m    310\u001b[0m                     )\n\u001b[0;32m    311\u001b[0m \u001b[1;33m\u001b[0m\u001b[0m\n\u001b[1;32m--> 312\u001b[1;33m         \u001b[0mreturn_value\u001b[0m \u001b[1;33m=\u001b[0m \u001b[0moriginal\u001b[0m\u001b[1;33m(\u001b[0m\u001b[1;33m*\u001b[0m\u001b[0margs\u001b[0m\u001b[1;33m,\u001b[0m \u001b[1;33m**\u001b[0m\u001b[0mkwargs\u001b[0m\u001b[1;33m)\u001b[0m\u001b[1;33m\u001b[0m\u001b[1;33m\u001b[0m\u001b[0m\n\u001b[0m\u001b[0;32m    313\u001b[0m \u001b[1;33m\u001b[0m\u001b[0m\n\u001b[0;32m    314\u001b[0m         \u001b[1;31m# Call after callbacks once we have the return value\u001b[0m\u001b[1;33m\u001b[0m\u001b[1;33m\u001b[0m\u001b[0m\n",
      "\u001b[1;32m~\\anaconda3\\lib\\site-packages\\sklearn\\tree\\_classes.py\u001b[0m in \u001b[0;36mfit\u001b[1;34m(self, X, y, sample_weight, check_input)\u001b[0m\n\u001b[0;32m    887\u001b[0m         \"\"\"\n\u001b[0;32m    888\u001b[0m \u001b[1;33m\u001b[0m\u001b[0m\n\u001b[1;32m--> 889\u001b[1;33m         super().fit(\n\u001b[0m\u001b[0;32m    890\u001b[0m             \u001b[0mX\u001b[0m\u001b[1;33m,\u001b[0m\u001b[1;33m\u001b[0m\u001b[1;33m\u001b[0m\u001b[0m\n\u001b[0;32m    891\u001b[0m             \u001b[0my\u001b[0m\u001b[1;33m,\u001b[0m\u001b[1;33m\u001b[0m\u001b[1;33m\u001b[0m\u001b[0m\n",
      "\u001b[1;32m~\\anaconda3\\lib\\site-packages\\sklearn\\tree\\_classes.py\u001b[0m in \u001b[0;36mfit\u001b[1;34m(self, X, y, sample_weight, check_input)\u001b[0m\n\u001b[0;32m    377\u001b[0m             )\n\u001b[0;32m    378\u001b[0m \u001b[1;33m\u001b[0m\u001b[0m\n\u001b[1;32m--> 379\u001b[1;33m         \u001b[0mbuilder\u001b[0m\u001b[1;33m.\u001b[0m\u001b[0mbuild\u001b[0m\u001b[1;33m(\u001b[0m\u001b[0mself\u001b[0m\u001b[1;33m.\u001b[0m\u001b[0mtree_\u001b[0m\u001b[1;33m,\u001b[0m \u001b[0mX\u001b[0m\u001b[1;33m,\u001b[0m \u001b[0my\u001b[0m\u001b[1;33m,\u001b[0m \u001b[0msample_weight\u001b[0m\u001b[1;33m)\u001b[0m\u001b[1;33m\u001b[0m\u001b[1;33m\u001b[0m\u001b[0m\n\u001b[0m\u001b[0;32m    380\u001b[0m \u001b[1;33m\u001b[0m\u001b[0m\n\u001b[0;32m    381\u001b[0m         \u001b[1;32mif\u001b[0m \u001b[0mself\u001b[0m\u001b[1;33m.\u001b[0m\u001b[0mn_outputs_\u001b[0m \u001b[1;33m==\u001b[0m \u001b[1;36m1\u001b[0m \u001b[1;32mand\u001b[0m \u001b[0mis_classifier\u001b[0m\u001b[1;33m(\u001b[0m\u001b[0mself\u001b[0m\u001b[1;33m)\u001b[0m\u001b[1;33m:\u001b[0m\u001b[1;33m\u001b[0m\u001b[1;33m\u001b[0m\u001b[0m\n",
      "\u001b[1;31mKeyboardInterrupt\u001b[0m: "
     ]
    }
   ],
   "source": [
    "from skmultilearn.ensemble import LabelSpacePartitioningClassifier\n",
    "\n",
    "classifier = LabelSpacePartitioningClassifier(\n",
    "    classifier = BinaryRelevance(\n",
    "        classifier = RandomForestClassifier(),\n",
    "        require_dense = [False, True]\n",
    "    ),\n",
    "    clusterer = NetworkXLabelGraphClusterer(graph_builder, method='louvain')\n",
    ")\n",
    "\n",
    "pipeline = Pipeline([\n",
    "    ('tfidf_vectorizer', TfidfVectorizer(tokenizer=tokenize, stop_words=stop_words, ngram_range=(1, 3))),\n",
    "    ('model', classifier)\n",
    "])\n",
    "\n",
    "pipeline.fit(df_train['message'], y_train)\n",
    "classification_metrics(y_test, pipeline.predict(df_test['message']))"
   ]
  },
  {
   "cell_type": "code",
   "execution_count": 100,
   "metadata": {},
   "outputs": [
    {
     "name": "stderr",
     "output_type": "stream",
     "text": [
      "C:\\Users\\Benjamin\\anaconda3\\lib\\site-packages\\sklearn\\feature_extraction\\text.py:528: UserWarning: The parameter 'token_pattern' will not be used since 'tokenizer' is not None'\n",
      "  warnings.warn(\n",
      "C:\\Users\\Benjamin\\anaconda3\\lib\\site-packages\\sklearn\\feature_extraction\\text.py:409: UserWarning: Your stop_words may be inconsistent with your preprocessing. Tokenizing the stop words generated tokens ['could', 'doe', 'ha', 'might', 'must', 'need', 'shall', 'wa', 'would'] not in stop_words.\n",
      "  warnings.warn(\n",
      "C:\\Users\\Benjamin\\anaconda3\\lib\\site-packages\\skmultilearn\\cluster\\networkx.py:163: VisibleDeprecationWarning: Creating an ndarray from ragged nested sequences (which is a list-or-tuple of lists-or-tuples-or ndarrays with different lengths or shapes) is deprecated. If you meant to do this, you must specify 'dtype=object' when creating the ndarray.\n",
      "  return np.array(\n"
     ]
    },
    {
     "name": "stdout",
     "output_type": "stream",
     "text": [
      "Accuracy =  0.2566354783272866\n",
      "f1 score (micro) =  0.7053526166691517\n",
      "f1 score (macro) =  0.7053526166691517\n",
      "jaccard similarity =  0.4622103539666873\n",
      "Hamming loss =  0.05390763523282141\n"
     ]
    },
    {
     "name": "stderr",
     "output_type": "stream",
     "text": [
      "C:\\Users\\Benjamin\\anaconda3\\lib\\site-packages\\sklearn\\metrics\\_classification.py:1344: UndefinedMetricWarning: Jaccard is ill-defined and being set to 0.0 in samples with no true or predicted labels. Use `zero_division` parameter to control this behavior.\n",
      "  _warn_prf(average, modifier, msg_start, len(result))\n"
     ]
    }
   ],
   "source": [
    "from skmultilearn.ensemble import MajorityVotingClassifier\n",
    "\n",
    "classifier = MajorityVotingClassifier(\n",
    "    classifier = BinaryRelevance(\n",
    "        classifier = LinearSVC(),\n",
    "        require_dense = [False, True]\n",
    "    ),\n",
    "    clusterer = NetworkXLabelGraphClusterer(graph_builder, method='louvain')\n",
    ")\n",
    "\n",
    "pipeline = Pipeline([\n",
    "    ('tfidf_vectorizer', TfidfVectorizer(tokenizer=tokenize, stop_words=stop_words, ngram_range=(1, 3))),\n",
    "    ('model', classifier)\n",
    "])\n",
    "\n",
    "pipeline.fit(df_train['message'], y_train)\n",
    "classification_metrics(y_test, pipeline.predict(df_test['message']))"
   ]
  },
  {
   "cell_type": "markdown",
   "metadata": {},
   "source": [
    "### Testing methods from the MEKA library"
   ]
  },
  {
   "cell_type": "code",
   "execution_count": 122,
   "metadata": {},
   "outputs": [
    {
     "name": "stdout",
     "output_type": "stream",
     "text": [
      "MEKA 1.9.2 found, not downloading\n"
     ]
    },
    {
     "data": {
      "text/plain": [
       "'C:\\\\Users\\\\Benjamin\\\\scikit_ml_learn_data\\\\meka\\\\meka-release-1.9.2\\\\lib\\\\'"
      ]
     },
     "execution_count": 122,
     "metadata": {},
     "output_type": "execute_result"
    }
   ],
   "source": [
    "from skmultilearn.ext import download_meka\n",
    "from skmultilearn.ext import Meka\n",
    "\n",
    "meka_classpath = download_meka()\n",
    "meka_classpath"
   ]
  },
  {
   "cell_type": "code",
   "execution_count": 128,
   "metadata": {},
   "outputs": [],
   "source": [
    "j48 = \"weka.classifiers.trees.J48\"\n",
    "smo = \"weka.classifiers.functions.SMO\"\n",
    "\n",
    "bagging_ml = \"meka.classifiers.multilabel.meta.BaggingML\"\n",
    "\n",
    "java_exe = 'C:\\Program Files (x86)\\Common Files\\Oracle\\Java\\javapath\\java.exe'"
   ]
  },
  {
   "cell_type": "code",
   "execution_count": 129,
   "metadata": {},
   "outputs": [],
   "source": [
    "bagging_ml_j48 = Meka(\n",
    "    meka_classifier=bagging_ml, \n",
    "    weka_classifier=j48, \n",
    "    meka_classpath=meka_classpath, \n",
    "    java_command=java_exe\n",
    ")"
   ]
  },
  {
   "cell_type": "code",
   "execution_count": 132,
   "metadata": {},
   "outputs": [],
   "source": [
    "bagging_ml_smo = Meka(\n",
    "    meka_classifier=bagging_ml, \n",
    "    weka_classifier=smo, \n",
    "    meka_classpath=meka_classpath, \n",
    "    java_command=java_exe\n",
    ")"
   ]
  },
  {
   "cell_type": "code",
   "execution_count": 137,
   "metadata": {},
   "outputs": [],
   "source": [
    "meka = Meka(\n",
    "        meka_classifier=\"meka.classifiers.multilabel.BR\", # Binary Relevance\n",
    "        weka_classifier=\"weka.classifiers.bayes.NaiveBayesMultinomial\", # with Naive Bayes single-label classifier\n",
    "        meka_classpath=meka_classpath, #obtained via download_meka\n",
    "        java_command=java_exe # path to java executable\n",
    ")\n"
   ]
  },
  {
   "cell_type": "code",
   "execution_count": null,
   "metadata": {},
   "outputs": [],
   "source": [
    "pipeline = Pipeline([\n",
    "    ('tfidf_vectorizer', TfidfVectorizer(tokenizer=tokenize, stop_words=stop_words, ngram_range=(1, 3))),\n",
    "    ('model', meka)\n",
    "])\n",
    "pipeline.fit(df_train['message'], y_train)\n",
    "classification_metrics(y_test, pipeline.predict(df_test['message']))"
   ]
  },
  {
   "cell_type": "code",
   "execution_count": 131,
   "metadata": {},
   "outputs": [
    {
     "ename": "Exception",
     "evalue": "\n\nEvaluation Options:\n\n-h\n\tOutput help information.\n-t <name of training file>\n\tSets training file.\n-T <name of test file>\n\tSets test file (will be used for making predictions).\n-predictions <name of output file for predictions>\n\tSets the file to store the predictions in (does not work with cross-validation).\n-x <number of folds>\n\tDo cross-validation with this many folds.\n-no-eval\n\tSkips evaluation, e.g., used when test set contains no class labels.\n-R\n\tRandomize the order of instances in the dataset.\n-split-percentage <percentage>\n\tSets the percentage for the train/test set split, e.g., 66.\n-split-number <number>\n\tSets the number of training examples, e.g., 800\n-i\n\tInvert the specified train/test split.\n-s <random number seed>\n\tSets random number seed (use with -R, for different CV or train/test splits).\n-threshold <threshold>\n\tSets the type of thresholding; where\n\t\t'PCut1' automatically calibrates a threshold (the default);\n\t\t'PCutL' automatically calibrates one threshold for each label;\n\t\tany number, e.g. '0.5', specifies that threshold.\n-C <number of labels>\n\tSets the number of target variables (labels) to assume (indexed from the beginning).\n-d <classifier_file>\n\tSpecify a file to dump classifier into.\n-l <classifier_file>\n\tSpecify a file to load classifier from.\n-verbosity <verbosity level>\n\tSpecify more/less evaluation output\n\n\nClassifier Options:\n\n-I\n\tSets the number of models (default 10)\n-P\n\tSize of each bag, as a percentage of total training size (default 67)\n-S\n\tRandom number seed for sampling (default 1)\n-W\n\tFull name of base classifier.\n\t(default: meka.classifiers.multilabel.CC)\n-output-debug-info\n\tIf set, classifier is run in debug mode and\n\tmay output additional info to the console\n--do-not-check-capabilities\n\tIf set, classifier capabilities are not checked before classifier is built\n\t(use with caution).\n-num-decimal-places\n\tThe number of decimal places for the output of numbers in the model (default 2).\n-batch-size\n\tThe desired batch size for batch prediction  (default 100).\n-\n\n-U\n\tUse unpruned tree.\n-O\n\tDo not collapse tree.\n-C\n\tSet confidence threshold for pruning.\n\t(default 0.25)\n-M\n\tSet minimum number of instances per leaf.\n\t(default 2)\n-R\n\tUse reduced error pruning.\n-N\n\tSet number of folds for reduced error\n\tpruning. One fold is used as pruning set.\n\t(default 3)\n-B\n\tUse binary splits only.\n-S\n\tDo not perform subtree raising.\n-L\n\tDo not clean up after the tree has been built.\n-A\n\tLaplace smoothing for predicted probabilities.\n-J\n\tDo not use MDL correction for info gain on numeric attributes.\n-Q\n\tSeed for random data shuffling (default 1).\n--doNotMakeSplitPointActualValue\n\tDo not make split point actual value.\n-output-debug-info\n\tIf set, classifier is run in debug mode and\n\tmay output additional info to the console\n--do-not-check-capabilities\n\tIf set, classifier capabilities are not checked before classifier is built\n\t(use with caution).\n-num-decimal-places\n\tThe number of decimal places for the output of numbers in the model (default 2).\n-batch-size\n\tThe desired batch size for batch prediction  (default 100).\n\nFeb 25, 2023 11:37:35 AM com.github.fommil.netlib.ARPACK <clinit>\nWARNING: Failed to load implementation from: com.github.fommil.netlib.NativeSystemARPACK\nFeb 25, 2023 11:37:35 AM com.github.fommil.jni.JniLoader liberalLoad\nINFO: successfully loaded C:\\Users\\Benjamin\\AppData\\Local\\Temp\\jniloader3300291460849459447netlib-native_ref-win-x86_64.dll\njava.lang.ClassCastException: weka.classifiers.trees.J48 cannot be cast to meka.classifiers.multilabel.MultiLabelClassifier\n\tat meka.classifiers.multilabel.meta.BaggingML.buildClassifier(BaggingML.java:59)\n\tat meka.classifiers.multilabel.Evaluation.runExperiment(Evaluation.java:229)\n\tat meka.classifiers.multilabel.ProblemTransformationMethod.runClassifier(ProblemTransformationMethod.java:172)\n\tat meka.classifiers.multilabel.ProblemTransformationMethod.evaluation(ProblemTransformationMethod.java:152)\n\tat meka.classifiers.multilabel.meta.BaggingML.main(BaggingML.java:90)\n",
     "output_type": "error",
     "traceback": [
      "\u001b[1;31m---------------------------------------------------------------------------\u001b[0m",
      "\u001b[1;31mException\u001b[0m                                 Traceback (most recent call last)",
      "\u001b[1;32m~\\AppData\\Local\\Temp\\ipykernel_26388\\2392140802.py\u001b[0m in \u001b[0;36m<module>\u001b[1;34m\u001b[0m\n\u001b[0;32m      3\u001b[0m     \u001b[1;33m(\u001b[0m\u001b[1;34m'model'\u001b[0m\u001b[1;33m,\u001b[0m \u001b[0mbagging_ml_j48\u001b[0m\u001b[1;33m)\u001b[0m\u001b[1;33m\u001b[0m\u001b[1;33m\u001b[0m\u001b[0m\n\u001b[0;32m      4\u001b[0m ])\n\u001b[1;32m----> 5\u001b[1;33m \u001b[0mpipeline\u001b[0m\u001b[1;33m.\u001b[0m\u001b[0mfit\u001b[0m\u001b[1;33m(\u001b[0m\u001b[0mdf_train\u001b[0m\u001b[1;33m[\u001b[0m\u001b[1;34m'message'\u001b[0m\u001b[1;33m]\u001b[0m\u001b[1;33m,\u001b[0m \u001b[0my_train\u001b[0m\u001b[1;33m)\u001b[0m\u001b[1;33m\u001b[0m\u001b[1;33m\u001b[0m\u001b[0m\n\u001b[0m\u001b[0;32m      6\u001b[0m \u001b[0mclassification_metrics\u001b[0m\u001b[1;33m(\u001b[0m\u001b[0my_test\u001b[0m\u001b[1;33m,\u001b[0m \u001b[0mpipeline\u001b[0m\u001b[1;33m.\u001b[0m\u001b[0mpredict\u001b[0m\u001b[1;33m(\u001b[0m\u001b[0mdf_test\u001b[0m\u001b[1;33m[\u001b[0m\u001b[1;34m'message'\u001b[0m\u001b[1;33m]\u001b[0m\u001b[1;33m)\u001b[0m\u001b[1;33m)\u001b[0m\u001b[1;33m\u001b[0m\u001b[1;33m\u001b[0m\u001b[0m\n",
      "\u001b[1;32m~\\anaconda3\\lib\\site-packages\\comet_ml\\monkey_patching.py\u001b[0m in \u001b[0;36mwrapper\u001b[1;34m(*args, **kwargs)\u001b[0m\n\u001b[0;32m    310\u001b[0m                     )\n\u001b[0;32m    311\u001b[0m \u001b[1;33m\u001b[0m\u001b[0m\n\u001b[1;32m--> 312\u001b[1;33m         \u001b[0mreturn_value\u001b[0m \u001b[1;33m=\u001b[0m \u001b[0moriginal\u001b[0m\u001b[1;33m(\u001b[0m\u001b[1;33m*\u001b[0m\u001b[0margs\u001b[0m\u001b[1;33m,\u001b[0m \u001b[1;33m**\u001b[0m\u001b[0mkwargs\u001b[0m\u001b[1;33m)\u001b[0m\u001b[1;33m\u001b[0m\u001b[1;33m\u001b[0m\u001b[0m\n\u001b[0m\u001b[0;32m    313\u001b[0m \u001b[1;33m\u001b[0m\u001b[0m\n\u001b[0;32m    314\u001b[0m         \u001b[1;31m# Call after callbacks once we have the return value\u001b[0m\u001b[1;33m\u001b[0m\u001b[1;33m\u001b[0m\u001b[0m\n",
      "\u001b[1;32m~\\anaconda3\\lib\\site-packages\\sklearn\\pipeline.py\u001b[0m in \u001b[0;36mfit\u001b[1;34m(self, X, y, **fit_params)\u001b[0m\n\u001b[0;32m    403\u001b[0m             \u001b[1;32mif\u001b[0m \u001b[0mself\u001b[0m\u001b[1;33m.\u001b[0m\u001b[0m_final_estimator\u001b[0m \u001b[1;33m!=\u001b[0m \u001b[1;34m\"passthrough\"\u001b[0m\u001b[1;33m:\u001b[0m\u001b[1;33m\u001b[0m\u001b[1;33m\u001b[0m\u001b[0m\n\u001b[0;32m    404\u001b[0m                 \u001b[0mfit_params_last_step\u001b[0m \u001b[1;33m=\u001b[0m \u001b[0mfit_params_steps\u001b[0m\u001b[1;33m[\u001b[0m\u001b[0mself\u001b[0m\u001b[1;33m.\u001b[0m\u001b[0msteps\u001b[0m\u001b[1;33m[\u001b[0m\u001b[1;33m-\u001b[0m\u001b[1;36m1\u001b[0m\u001b[1;33m]\u001b[0m\u001b[1;33m[\u001b[0m\u001b[1;36m0\u001b[0m\u001b[1;33m]\u001b[0m\u001b[1;33m]\u001b[0m\u001b[1;33m\u001b[0m\u001b[1;33m\u001b[0m\u001b[0m\n\u001b[1;32m--> 405\u001b[1;33m                 \u001b[0mself\u001b[0m\u001b[1;33m.\u001b[0m\u001b[0m_final_estimator\u001b[0m\u001b[1;33m.\u001b[0m\u001b[0mfit\u001b[0m\u001b[1;33m(\u001b[0m\u001b[0mXt\u001b[0m\u001b[1;33m,\u001b[0m \u001b[0my\u001b[0m\u001b[1;33m,\u001b[0m \u001b[1;33m**\u001b[0m\u001b[0mfit_params_last_step\u001b[0m\u001b[1;33m)\u001b[0m\u001b[1;33m\u001b[0m\u001b[1;33m\u001b[0m\u001b[0m\n\u001b[0m\u001b[0;32m    406\u001b[0m \u001b[1;33m\u001b[0m\u001b[0m\n\u001b[0;32m    407\u001b[0m         \u001b[1;32mreturn\u001b[0m \u001b[0mself\u001b[0m\u001b[1;33m\u001b[0m\u001b[1;33m\u001b[0m\u001b[0m\n",
      "\u001b[1;32m~\\anaconda3\\lib\\site-packages\\skmultilearn\\ext\\meka.py\u001b[0m in \u001b[0;36mfit\u001b[1;34m(self, X, y)\u001b[0m\n\u001b[0;32m    257\u001b[0m             ]\n\u001b[0;32m    258\u001b[0m \u001b[1;33m\u001b[0m\u001b[0m\n\u001b[1;32m--> 259\u001b[1;33m             \u001b[0mself\u001b[0m\u001b[1;33m.\u001b[0m\u001b[0m_run_meka_command\u001b[0m\u001b[1;33m(\u001b[0m\u001b[0minput_args\u001b[0m\u001b[1;33m)\u001b[0m\u001b[1;33m\u001b[0m\u001b[1;33m\u001b[0m\u001b[0m\n\u001b[0m\u001b[0;32m    260\u001b[0m             \u001b[0mself\u001b[0m\u001b[1;33m.\u001b[0m\u001b[0mclassifier_dump\u001b[0m \u001b[1;33m=\u001b[0m \u001b[1;32mNone\u001b[0m\u001b[1;33m\u001b[0m\u001b[1;33m\u001b[0m\u001b[0m\n\u001b[0;32m    261\u001b[0m             \u001b[1;32mwith\u001b[0m \u001b[0mopen\u001b[0m\u001b[1;33m(\u001b[0m\u001b[0mclassifier_dump_file\u001b[0m\u001b[1;33m.\u001b[0m\u001b[0mname\u001b[0m\u001b[1;33m,\u001b[0m \u001b[1;34m'rb'\u001b[0m\u001b[1;33m)\u001b[0m \u001b[1;32mas\u001b[0m \u001b[0mfp\u001b[0m\u001b[1;33m:\u001b[0m\u001b[1;33m\u001b[0m\u001b[1;33m\u001b[0m\u001b[0m\n",
      "\u001b[1;32m~\\anaconda3\\lib\\site-packages\\skmultilearn\\ext\\meka.py\u001b[0m in \u001b[0;36m_run_meka_command\u001b[1;34m(self, args)\u001b[0m\n\u001b[0;32m    446\u001b[0m \u001b[1;33m\u001b[0m\u001b[0m\n\u001b[0;32m    447\u001b[0m         \u001b[1;32mif\u001b[0m \u001b[0mpipes\u001b[0m\u001b[1;33m.\u001b[0m\u001b[0mreturncode\u001b[0m \u001b[1;33m!=\u001b[0m \u001b[1;36m0\u001b[0m\u001b[1;33m:\u001b[0m\u001b[1;33m\u001b[0m\u001b[1;33m\u001b[0m\u001b[0m\n\u001b[1;32m--> 448\u001b[1;33m             \u001b[1;32mraise\u001b[0m \u001b[0mException\u001b[0m\u001b[1;33m(\u001b[0m\u001b[0mself\u001b[0m\u001b[1;33m.\u001b[0m\u001b[0moutput_\u001b[0m \u001b[1;33m+\u001b[0m \u001b[0mself\u001b[0m\u001b[1;33m.\u001b[0m\u001b[0m_error\u001b[0m\u001b[1;33m)\u001b[0m\u001b[1;33m\u001b[0m\u001b[1;33m\u001b[0m\u001b[0m\n\u001b[0m",
      "\u001b[1;31mException\u001b[0m: \n\nEvaluation Options:\n\n-h\n\tOutput help information.\n-t <name of training file>\n\tSets training file.\n-T <name of test file>\n\tSets test file (will be used for making predictions).\n-predictions <name of output file for predictions>\n\tSets the file to store the predictions in (does not work with cross-validation).\n-x <number of folds>\n\tDo cross-validation with this many folds.\n-no-eval\n\tSkips evaluation, e.g., used when test set contains no class labels.\n-R\n\tRandomize the order of instances in the dataset.\n-split-percentage <percentage>\n\tSets the percentage for the train/test set split, e.g., 66.\n-split-number <number>\n\tSets the number of training examples, e.g., 800\n-i\n\tInvert the specified train/test split.\n-s <random number seed>\n\tSets random number seed (use with -R, for different CV or train/test splits).\n-threshold <threshold>\n\tSets the type of thresholding; where\n\t\t'PCut1' automatically calibrates a threshold (the default);\n\t\t'PCutL' automatically calibrates one threshold for each label;\n\t\tany number, e.g. '0.5', specifies that threshold.\n-C <number of labels>\n\tSets the number of target variables (labels) to assume (indexed from the beginning).\n-d <classifier_file>\n\tSpecify a file to dump classifier into.\n-l <classifier_file>\n\tSpecify a file to load classifier from.\n-verbosity <verbosity level>\n\tSpecify more/less evaluation output\n\n\nClassifier Options:\n\n-I\n\tSets the number of models (default 10)\n-P\n\tSize of each bag, as a percentage of total training size (default 67)\n-S\n\tRandom number seed for sampling (default 1)\n-W\n\tFull name of base classifier.\n\t(default: meka.classifiers.multilabel.CC)\n-output-debug-info\n\tIf set, classifier is run in debug mode and\n\tmay output additional info to the console\n--do-not-check-capabilities\n\tIf set, classifier capabilities are not checked before classifier is built\n\t(use with caution).\n-num-decimal-places\n\tThe number of decimal places for the output of numbers in the model (default 2).\n-batch-size\n\tThe desired batch size for batch prediction  (default 100).\n-\n\n-U\n\tUse unpruned tree.\n-O\n\tDo not collapse tree.\n-C\n\tSet confidence threshold for pruning.\n\t(default 0.25)\n-M\n\tSet minimum number of instances per leaf.\n\t(default 2)\n-R\n\tUse reduced error pruning.\n-N\n\tSet number of folds for reduced error\n\tpruning. One fold is used as pruning set.\n\t(default 3)\n-B\n\tUse binary splits only.\n-S\n\tDo not perform subtree raising.\n-L\n\tDo not clean up after the tree has been built.\n-A\n\tLaplace smoothing for predicted probabilities.\n-J\n\tDo not use MDL correction for info gain on numeric attributes.\n-Q\n\tSeed for random data shuffling (default 1).\n--doNotMakeSplitPointActualValue\n\tDo not make split point actual value.\n-output-debug-info\n\tIf set, classifier is run in debug mode and\n\tmay output additional info to the console\n--do-not-check-capabilities\n\tIf set, classifier capabilities are not checked before classifier is built\n\t(use with caution).\n-num-decimal-places\n\tThe number of decimal places for the output of numbers in the model (default 2).\n-batch-size\n\tThe desired batch size for batch prediction  (default 100).\n\nFeb 25, 2023 11:37:35 AM com.github.fommil.netlib.ARPACK <clinit>\nWARNING: Failed to load implementation from: com.github.fommil.netlib.NativeSystemARPACK\nFeb 25, 2023 11:37:35 AM com.github.fommil.jni.JniLoader liberalLoad\nINFO: successfully loaded C:\\Users\\Benjamin\\AppData\\Local\\Temp\\jniloader3300291460849459447netlib-native_ref-win-x86_64.dll\njava.lang.ClassCastException: weka.classifiers.trees.J48 cannot be cast to meka.classifiers.multilabel.MultiLabelClassifier\n\tat meka.classifiers.multilabel.meta.BaggingML.buildClassifier(BaggingML.java:59)\n\tat meka.classifiers.multilabel.Evaluation.runExperiment(Evaluation.java:229)\n\tat meka.classifiers.multilabel.ProblemTransformationMethod.runClassifier(ProblemTransformationMethod.java:172)\n\tat meka.classifiers.multilabel.ProblemTransformationMethod.evaluation(ProblemTransformationMethod.java:152)\n\tat meka.classifiers.multilabel.meta.BaggingML.main(BaggingML.java:90)\n"
     ]
    }
   ],
   "source": [
    "pipeline = Pipeline([\n",
    "    ('tfidf_vectorizer', TfidfVectorizer(tokenizer=tokenize, stop_words=stop_words, ngram_range=(1, 3))),\n",
    "    ('model', bagging_ml_j48)\n",
    "])\n",
    "pipeline.fit(df_train['message'], y_train)\n",
    "classification_metrics(y_test, pipeline.predict(df_test['message']))"
   ]
  },
  {
   "cell_type": "code",
   "execution_count": 134,
   "metadata": {},
   "outputs": [
    {
     "ename": "Exception",
     "evalue": "\n\nEvaluation Options:\n\n-h\n\tOutput help information.\n-t <name of training file>\n\tSets training file.\n-T <name of test file>\n\tSets test file (will be used for making predictions).\n-predictions <name of output file for predictions>\n\tSets the file to store the predictions in (does not work with cross-validation).\n-x <number of folds>\n\tDo cross-validation with this many folds.\n-no-eval\n\tSkips evaluation, e.g., used when test set contains no class labels.\n-R\n\tRandomize the order of instances in the dataset.\n-split-percentage <percentage>\n\tSets the percentage for the train/test set split, e.g., 66.\n-split-number <number>\n\tSets the number of training examples, e.g., 800\n-i\n\tInvert the specified train/test split.\n-s <random number seed>\n\tSets random number seed (use with -R, for different CV or train/test splits).\n-threshold <threshold>\n\tSets the type of thresholding; where\n\t\t'PCut1' automatically calibrates a threshold (the default);\n\t\t'PCutL' automatically calibrates one threshold for each label;\n\t\tany number, e.g. '0.5', specifies that threshold.\n-C <number of labels>\n\tSets the number of target variables (labels) to assume (indexed from the beginning).\n-d <classifier_file>\n\tSpecify a file to dump classifier into.\n-l <classifier_file>\n\tSpecify a file to load classifier from.\n-verbosity <verbosity level>\n\tSpecify more/less evaluation output\n\n\nClassifier Options:\n\n-I\n\tSets the number of models (default 10)\n-P\n\tSize of each bag, as a percentage of total training size (default 67)\n-S\n\tRandom number seed for sampling (default 1)\n-W\n\tFull name of base classifier.\n\t(default: meka.classifiers.multilabel.CC)\n-output-debug-info\n\tIf set, classifier is run in debug mode and\n\tmay output additional info to the console\n--do-not-check-capabilities\n\tIf set, classifier capabilities are not checked before classifier is built\n\t(use with caution).\n-num-decimal-places\n\tThe number of decimal places for the output of numbers in the model (default 2).\n-batch-size\n\tThe desired batch size for batch prediction  (default 100).\n-\n\n-no-checks\n\tTurns off all checks - use with caution!\n\tTurning them off assumes that data is purely numeric, doesn't\n\tcontain any missing values, and has a nominal class. Turning them\n\toff also means that no header information will be stored if the\n\tmachine is linear. Finally, it also assumes that no instance has\n\ta weight equal to 0.\n\t(default: checks on)\n-C\n\tThe complexity constant C. (default 1)\n-N\n\tWhether to 0=normalize/1=standardize/2=neither. (default 0=normalize)\n-L\n\tThe tolerance parameter. (default 1.0e-3)\n-P\n\tThe epsilon for round-off error. (default 1.0e-12)\n-M\n\tFit calibration models to SVM outputs. \n-V\n\tThe number of folds for the internal\n\tcross-validation. (default -1, use training data)\n-W\n\tThe random number seed. (default 1)\n-K\n\tThe Kernel to use.\n\t(default: weka.classifiers.functions.supportVector.PolyKernel)\n-calibrator\n\tFull name of calibration model, followed by options.\n\t(default: \"weka.classifiers.functions.Logistic\")\n-output-debug-info\n\tIf set, classifier is run in debug mode and\n\tmay output additional info to the console\n--do-not-check-capabilities\n\tIf set, classifier capabilities are not checked before classifier is built\n\t(use with caution).\n-num-decimal-places\n\tThe number of decimal places for the output of numbers in the model (default 2).\n-batch-size\n\tThe desired batch size for batch prediction  (default 100).\n-\n\n-E\n\tThe Exponent to use.\n\t(default: 1.0)\n-L\n\tUse lower-order terms.\n\t(default: no)\n-C\n\tThe size of the cache (a prime number), 0 for full cache and \n\t-1 to turn it off.\n\t(default: 250007)\n-output-debug-info\n\tEnables debugging output (if available) to be printed.\n\t(default: off)\n-\n\n-C\n\tUse conjugate gradient descent rather than BFGS updates.\n-R\n\tSet the ridge in the log-likelihood.\n-M\n\tSet the maximum number of iterations (default -1, until convergence).\n-output-debug-info\n\tIf set, classifier is run in debug mode and\n\tmay output additional info to the console\n--do-not-check-capabilities\n\tIf set, classifier capabilities are not checked before classifier is built\n\t(use with caution).\n-num-decimal-places\n\tThe number of decimal places for the output of numbers in the model (default 4).\n-batch-size\n\tThe desired batch size for batch prediction  (default 100).\n\nFeb 25, 2023 11:38:47 AM com.github.fommil.netlib.ARPACK <clinit>\nWARNING: Failed to load implementation from: com.github.fommil.netlib.NativeSystemARPACK\nFeb 25, 2023 11:38:47 AM com.github.fommil.jni.JniLoader liberalLoad\nINFO: successfully loaded C:\\Users\\Benjamin\\AppData\\Local\\Temp\\jniloader3552270991898796967netlib-native_ref-win-x86_64.dll\njava.lang.ClassCastException: weka.classifiers.functions.SMO cannot be cast to meka.classifiers.multilabel.MultiLabelClassifier\n\tat meka.classifiers.multilabel.meta.BaggingML.buildClassifier(BaggingML.java:59)\n\tat meka.classifiers.multilabel.Evaluation.runExperiment(Evaluation.java:229)\n\tat meka.classifiers.multilabel.ProblemTransformationMethod.runClassifier(ProblemTransformationMethod.java:172)\n\tat meka.classifiers.multilabel.ProblemTransformationMethod.evaluation(ProblemTransformationMethod.java:152)\n\tat meka.classifiers.multilabel.meta.BaggingML.main(BaggingML.java:90)\n",
     "output_type": "error",
     "traceback": [
      "\u001b[1;31m---------------------------------------------------------------------------\u001b[0m",
      "\u001b[1;31mException\u001b[0m                                 Traceback (most recent call last)",
      "\u001b[1;32m~\\AppData\\Local\\Temp\\ipykernel_26388\\645672700.py\u001b[0m in \u001b[0;36m<module>\u001b[1;34m\u001b[0m\n\u001b[0;32m      3\u001b[0m     \u001b[1;33m(\u001b[0m\u001b[1;34m'model'\u001b[0m\u001b[1;33m,\u001b[0m \u001b[0mbagging_ml_smo\u001b[0m\u001b[1;33m)\u001b[0m\u001b[1;33m\u001b[0m\u001b[1;33m\u001b[0m\u001b[0m\n\u001b[0;32m      4\u001b[0m ])\n\u001b[1;32m----> 5\u001b[1;33m \u001b[0mpipeline\u001b[0m\u001b[1;33m.\u001b[0m\u001b[0mfit\u001b[0m\u001b[1;33m(\u001b[0m\u001b[0mdf_train\u001b[0m\u001b[1;33m[\u001b[0m\u001b[1;34m'message'\u001b[0m\u001b[1;33m]\u001b[0m\u001b[1;33m,\u001b[0m \u001b[0my_train\u001b[0m\u001b[1;33m)\u001b[0m\u001b[1;33m\u001b[0m\u001b[1;33m\u001b[0m\u001b[0m\n\u001b[0m\u001b[0;32m      6\u001b[0m \u001b[0mclassification_metrics\u001b[0m\u001b[1;33m(\u001b[0m\u001b[0my_test\u001b[0m\u001b[1;33m,\u001b[0m \u001b[0mpipeline\u001b[0m\u001b[1;33m.\u001b[0m\u001b[0mpredict\u001b[0m\u001b[1;33m(\u001b[0m\u001b[0mdf_test\u001b[0m\u001b[1;33m[\u001b[0m\u001b[1;34m'message'\u001b[0m\u001b[1;33m]\u001b[0m\u001b[1;33m)\u001b[0m\u001b[1;33m)\u001b[0m\u001b[1;33m\u001b[0m\u001b[1;33m\u001b[0m\u001b[0m\n",
      "\u001b[1;32m~\\anaconda3\\lib\\site-packages\\comet_ml\\monkey_patching.py\u001b[0m in \u001b[0;36mwrapper\u001b[1;34m(*args, **kwargs)\u001b[0m\n\u001b[0;32m    310\u001b[0m                     )\n\u001b[0;32m    311\u001b[0m \u001b[1;33m\u001b[0m\u001b[0m\n\u001b[1;32m--> 312\u001b[1;33m         \u001b[0mreturn_value\u001b[0m \u001b[1;33m=\u001b[0m \u001b[0moriginal\u001b[0m\u001b[1;33m(\u001b[0m\u001b[1;33m*\u001b[0m\u001b[0margs\u001b[0m\u001b[1;33m,\u001b[0m \u001b[1;33m**\u001b[0m\u001b[0mkwargs\u001b[0m\u001b[1;33m)\u001b[0m\u001b[1;33m\u001b[0m\u001b[1;33m\u001b[0m\u001b[0m\n\u001b[0m\u001b[0;32m    313\u001b[0m \u001b[1;33m\u001b[0m\u001b[0m\n\u001b[0;32m    314\u001b[0m         \u001b[1;31m# Call after callbacks once we have the return value\u001b[0m\u001b[1;33m\u001b[0m\u001b[1;33m\u001b[0m\u001b[0m\n",
      "\u001b[1;32m~\\anaconda3\\lib\\site-packages\\sklearn\\pipeline.py\u001b[0m in \u001b[0;36mfit\u001b[1;34m(self, X, y, **fit_params)\u001b[0m\n\u001b[0;32m    403\u001b[0m             \u001b[1;32mif\u001b[0m \u001b[0mself\u001b[0m\u001b[1;33m.\u001b[0m\u001b[0m_final_estimator\u001b[0m \u001b[1;33m!=\u001b[0m \u001b[1;34m\"passthrough\"\u001b[0m\u001b[1;33m:\u001b[0m\u001b[1;33m\u001b[0m\u001b[1;33m\u001b[0m\u001b[0m\n\u001b[0;32m    404\u001b[0m                 \u001b[0mfit_params_last_step\u001b[0m \u001b[1;33m=\u001b[0m \u001b[0mfit_params_steps\u001b[0m\u001b[1;33m[\u001b[0m\u001b[0mself\u001b[0m\u001b[1;33m.\u001b[0m\u001b[0msteps\u001b[0m\u001b[1;33m[\u001b[0m\u001b[1;33m-\u001b[0m\u001b[1;36m1\u001b[0m\u001b[1;33m]\u001b[0m\u001b[1;33m[\u001b[0m\u001b[1;36m0\u001b[0m\u001b[1;33m]\u001b[0m\u001b[1;33m]\u001b[0m\u001b[1;33m\u001b[0m\u001b[1;33m\u001b[0m\u001b[0m\n\u001b[1;32m--> 405\u001b[1;33m                 \u001b[0mself\u001b[0m\u001b[1;33m.\u001b[0m\u001b[0m_final_estimator\u001b[0m\u001b[1;33m.\u001b[0m\u001b[0mfit\u001b[0m\u001b[1;33m(\u001b[0m\u001b[0mXt\u001b[0m\u001b[1;33m,\u001b[0m \u001b[0my\u001b[0m\u001b[1;33m,\u001b[0m \u001b[1;33m**\u001b[0m\u001b[0mfit_params_last_step\u001b[0m\u001b[1;33m)\u001b[0m\u001b[1;33m\u001b[0m\u001b[1;33m\u001b[0m\u001b[0m\n\u001b[0m\u001b[0;32m    406\u001b[0m \u001b[1;33m\u001b[0m\u001b[0m\n\u001b[0;32m    407\u001b[0m         \u001b[1;32mreturn\u001b[0m \u001b[0mself\u001b[0m\u001b[1;33m\u001b[0m\u001b[1;33m\u001b[0m\u001b[0m\n",
      "\u001b[1;32m~\\anaconda3\\lib\\site-packages\\skmultilearn\\ext\\meka.py\u001b[0m in \u001b[0;36mfit\u001b[1;34m(self, X, y)\u001b[0m\n\u001b[0;32m    257\u001b[0m             ]\n\u001b[0;32m    258\u001b[0m \u001b[1;33m\u001b[0m\u001b[0m\n\u001b[1;32m--> 259\u001b[1;33m             \u001b[0mself\u001b[0m\u001b[1;33m.\u001b[0m\u001b[0m_run_meka_command\u001b[0m\u001b[1;33m(\u001b[0m\u001b[0minput_args\u001b[0m\u001b[1;33m)\u001b[0m\u001b[1;33m\u001b[0m\u001b[1;33m\u001b[0m\u001b[0m\n\u001b[0m\u001b[0;32m    260\u001b[0m             \u001b[0mself\u001b[0m\u001b[1;33m.\u001b[0m\u001b[0mclassifier_dump\u001b[0m \u001b[1;33m=\u001b[0m \u001b[1;32mNone\u001b[0m\u001b[1;33m\u001b[0m\u001b[1;33m\u001b[0m\u001b[0m\n\u001b[0;32m    261\u001b[0m             \u001b[1;32mwith\u001b[0m \u001b[0mopen\u001b[0m\u001b[1;33m(\u001b[0m\u001b[0mclassifier_dump_file\u001b[0m\u001b[1;33m.\u001b[0m\u001b[0mname\u001b[0m\u001b[1;33m,\u001b[0m \u001b[1;34m'rb'\u001b[0m\u001b[1;33m)\u001b[0m \u001b[1;32mas\u001b[0m \u001b[0mfp\u001b[0m\u001b[1;33m:\u001b[0m\u001b[1;33m\u001b[0m\u001b[1;33m\u001b[0m\u001b[0m\n",
      "\u001b[1;32m~\\anaconda3\\lib\\site-packages\\skmultilearn\\ext\\meka.py\u001b[0m in \u001b[0;36m_run_meka_command\u001b[1;34m(self, args)\u001b[0m\n\u001b[0;32m    446\u001b[0m \u001b[1;33m\u001b[0m\u001b[0m\n\u001b[0;32m    447\u001b[0m         \u001b[1;32mif\u001b[0m \u001b[0mpipes\u001b[0m\u001b[1;33m.\u001b[0m\u001b[0mreturncode\u001b[0m \u001b[1;33m!=\u001b[0m \u001b[1;36m0\u001b[0m\u001b[1;33m:\u001b[0m\u001b[1;33m\u001b[0m\u001b[1;33m\u001b[0m\u001b[0m\n\u001b[1;32m--> 448\u001b[1;33m             \u001b[1;32mraise\u001b[0m \u001b[0mException\u001b[0m\u001b[1;33m(\u001b[0m\u001b[0mself\u001b[0m\u001b[1;33m.\u001b[0m\u001b[0moutput_\u001b[0m \u001b[1;33m+\u001b[0m \u001b[0mself\u001b[0m\u001b[1;33m.\u001b[0m\u001b[0m_error\u001b[0m\u001b[1;33m)\u001b[0m\u001b[1;33m\u001b[0m\u001b[1;33m\u001b[0m\u001b[0m\n\u001b[0m",
      "\u001b[1;31mException\u001b[0m: \n\nEvaluation Options:\n\n-h\n\tOutput help information.\n-t <name of training file>\n\tSets training file.\n-T <name of test file>\n\tSets test file (will be used for making predictions).\n-predictions <name of output file for predictions>\n\tSets the file to store the predictions in (does not work with cross-validation).\n-x <number of folds>\n\tDo cross-validation with this many folds.\n-no-eval\n\tSkips evaluation, e.g., used when test set contains no class labels.\n-R\n\tRandomize the order of instances in the dataset.\n-split-percentage <percentage>\n\tSets the percentage for the train/test set split, e.g., 66.\n-split-number <number>\n\tSets the number of training examples, e.g., 800\n-i\n\tInvert the specified train/test split.\n-s <random number seed>\n\tSets random number seed (use with -R, for different CV or train/test splits).\n-threshold <threshold>\n\tSets the type of thresholding; where\n\t\t'PCut1' automatically calibrates a threshold (the default);\n\t\t'PCutL' automatically calibrates one threshold for each label;\n\t\tany number, e.g. '0.5', specifies that threshold.\n-C <number of labels>\n\tSets the number of target variables (labels) to assume (indexed from the beginning).\n-d <classifier_file>\n\tSpecify a file to dump classifier into.\n-l <classifier_file>\n\tSpecify a file to load classifier from.\n-verbosity <verbosity level>\n\tSpecify more/less evaluation output\n\n\nClassifier Options:\n\n-I\n\tSets the number of models (default 10)\n-P\n\tSize of each bag, as a percentage of total training size (default 67)\n-S\n\tRandom number seed for sampling (default 1)\n-W\n\tFull name of base classifier.\n\t(default: meka.classifiers.multilabel.CC)\n-output-debug-info\n\tIf set, classifier is run in debug mode and\n\tmay output additional info to the console\n--do-not-check-capabilities\n\tIf set, classifier capabilities are not checked before classifier is built\n\t(use with caution).\n-num-decimal-places\n\tThe number of decimal places for the output of numbers in the model (default 2).\n-batch-size\n\tThe desired batch size for batch prediction  (default 100).\n-\n\n-no-checks\n\tTurns off all checks - use with caution!\n\tTurning them off assumes that data is purely numeric, doesn't\n\tcontain any missing values, and has a nominal class. Turning them\n\toff also means that no header information will be stored if the\n\tmachine is linear. Finally, it also assumes that no instance has\n\ta weight equal to 0.\n\t(default: checks on)\n-C\n\tThe complexity constant C. (default 1)\n-N\n\tWhether to 0=normalize/1=standardize/2=neither. (default 0=normalize)\n-L\n\tThe tolerance parameter. (default 1.0e-3)\n-P\n\tThe epsilon for round-off error. (default 1.0e-12)\n-M\n\tFit calibration models to SVM outputs. \n-V\n\tThe number of folds for the internal\n\tcross-validation. (default -1, use training data)\n-W\n\tThe random number seed. (default 1)\n-K\n\tThe Kernel to use.\n\t(default: weka.classifiers.functions.supportVector.PolyKernel)\n-calibrator\n\tFull name of calibration model, followed by options.\n\t(default: \"weka.classifiers.functions.Logistic\")\n-output-debug-info\n\tIf set, classifier is run in debug mode and\n\tmay output additional info to the console\n--do-not-check-capabilities\n\tIf set, classifier capabilities are not checked before classifier is built\n\t(use with caution).\n-num-decimal-places\n\tThe number of decimal places for the output of numbers in the model (default 2).\n-batch-size\n\tThe desired batch size for batch prediction  (default 100).\n-\n\n-E\n\tThe Exponent to use.\n\t(default: 1.0)\n-L\n\tUse lower-order terms.\n\t(default: no)\n-C\n\tThe size of the cache (a prime number), 0 for full cache and \n\t-1 to turn it off.\n\t(default: 250007)\n-output-debug-info\n\tEnables debugging output (if available) to be printed.\n\t(default: off)\n-\n\n-C\n\tUse conjugate gradient descent rather than BFGS updates.\n-R\n\tSet the ridge in the log-likelihood.\n-M\n\tSet the maximum number of iterations (default -1, until convergence).\n-output-debug-info\n\tIf set, classifier is run in debug mode and\n\tmay output additional info to the console\n--do-not-check-capabilities\n\tIf set, classifier capabilities are not checked before classifier is built\n\t(use with caution).\n-num-decimal-places\n\tThe number of decimal places for the output of numbers in the model (default 4).\n-batch-size\n\tThe desired batch size for batch prediction  (default 100).\n\nFeb 25, 2023 11:38:47 AM com.github.fommil.netlib.ARPACK <clinit>\nWARNING: Failed to load implementation from: com.github.fommil.netlib.NativeSystemARPACK\nFeb 25, 2023 11:38:47 AM com.github.fommil.jni.JniLoader liberalLoad\nINFO: successfully loaded C:\\Users\\Benjamin\\AppData\\Local\\Temp\\jniloader3552270991898796967netlib-native_ref-win-x86_64.dll\njava.lang.ClassCastException: weka.classifiers.functions.SMO cannot be cast to meka.classifiers.multilabel.MultiLabelClassifier\n\tat meka.classifiers.multilabel.meta.BaggingML.buildClassifier(BaggingML.java:59)\n\tat meka.classifiers.multilabel.Evaluation.runExperiment(Evaluation.java:229)\n\tat meka.classifiers.multilabel.ProblemTransformationMethod.runClassifier(ProblemTransformationMethod.java:172)\n\tat meka.classifiers.multilabel.ProblemTransformationMethod.evaluation(ProblemTransformationMethod.java:152)\n\tat meka.classifiers.multilabel.meta.BaggingML.main(BaggingML.java:90)\n"
     ]
    }
   ],
   "source": [
    "pipeline = Pipeline([\n",
    "    ('tfidf_vectorizer', TfidfVectorizer(tokenizer=tokenize, stop_words=stop_words, ngram_range=(1, 3))),\n",
    "    ('model', bagging_ml_smo)\n",
    "])\n",
    "pipeline.fit(df_train['message'], y_train)\n",
    "classification_metrics(y_test, pipeline.predict(df_test['message']))"
   ]
  },
  {
   "cell_type": "code",
   "execution_count": null,
   "metadata": {},
   "outputs": [],
   "source": []
  },
  {
   "cell_type": "code",
   "execution_count": null,
   "metadata": {},
   "outputs": [],
   "source": []
  },
  {
   "cell_type": "code",
   "execution_count": null,
   "metadata": {},
   "outputs": [],
   "source": []
  },
  {
   "cell_type": "code",
   "execution_count": null,
   "metadata": {},
   "outputs": [],
   "source": []
  },
  {
   "cell_type": "code",
   "execution_count": null,
   "metadata": {},
   "outputs": [],
   "source": []
  },
  {
   "cell_type": "code",
   "execution_count": null,
   "metadata": {},
   "outputs": [],
   "source": []
  },
  {
   "cell_type": "code",
   "execution_count": null,
   "metadata": {},
   "outputs": [],
   "source": []
  },
  {
   "cell_type": "code",
   "execution_count": null,
   "metadata": {},
   "outputs": [],
   "source": []
  },
  {
   "cell_type": "code",
   "execution_count": null,
   "metadata": {},
   "outputs": [],
   "source": []
  },
  {
   "cell_type": "code",
   "execution_count": null,
   "metadata": {},
   "outputs": [],
   "source": []
  },
  {
   "cell_type": "code",
   "execution_count": null,
   "metadata": {},
   "outputs": [],
   "source": []
  },
  {
   "cell_type": "code",
   "execution_count": null,
   "metadata": {},
   "outputs": [],
   "source": []
  },
  {
   "cell_type": "code",
   "execution_count": null,
   "metadata": {},
   "outputs": [],
   "source": []
  },
  {
   "cell_type": "code",
   "execution_count": null,
   "metadata": {},
   "outputs": [],
   "source": []
  },
  {
   "cell_type": "code",
   "execution_count": null,
   "metadata": {},
   "outputs": [],
   "source": []
  },
  {
   "cell_type": "code",
   "execution_count": null,
   "metadata": {},
   "outputs": [],
   "source": []
  },
  {
   "cell_type": "code",
   "execution_count": null,
   "metadata": {},
   "outputs": [],
   "source": []
  },
  {
   "cell_type": "code",
   "execution_count": null,
   "metadata": {},
   "outputs": [],
   "source": []
  },
  {
   "cell_type": "code",
   "execution_count": null,
   "metadata": {},
   "outputs": [],
   "source": []
  },
  {
   "cell_type": "code",
   "execution_count": null,
   "metadata": {},
   "outputs": [],
   "source": []
  },
  {
   "cell_type": "code",
   "execution_count": null,
   "metadata": {},
   "outputs": [],
   "source": []
  },
  {
   "cell_type": "code",
   "execution_count": null,
   "metadata": {},
   "outputs": [],
   "source": []
  },
  {
   "cell_type": "code",
   "execution_count": null,
   "metadata": {},
   "outputs": [],
   "source": []
  },
  {
   "cell_type": "code",
   "execution_count": 136,
   "metadata": {},
   "outputs": [
    {
     "ename": "TypeError",
     "evalue": "__init__() takes 1 positional argument but 2 were given",
     "output_type": "error",
     "traceback": [
      "\u001b[1;31m---------------------------------------------------------------------------\u001b[0m",
      "\u001b[1;31mTypeError\u001b[0m                                 Traceback (most recent call last)",
      "\u001b[1;32m~\\AppData\\Local\\Temp\\ipykernel_32828\\412479890.py\u001b[0m in \u001b[0;36m<module>\u001b[1;34m\u001b[0m\n\u001b[0;32m     12\u001b[0m \u001b[1;33m\u001b[0m\u001b[0m\n\u001b[0;32m     13\u001b[0m \u001b[0mmlknn\u001b[0m \u001b[1;33m=\u001b[0m \u001b[0mMLkNN\u001b[0m\u001b[1;33m(\u001b[0m\u001b[0mk\u001b[0m\u001b[1;33m=\u001b[0m\u001b[1;36m3\u001b[0m\u001b[1;33m)\u001b[0m\u001b[1;33m\u001b[0m\u001b[1;33m\u001b[0m\u001b[0m\n\u001b[1;32m---> 14\u001b[1;33m \u001b[0mmlknn\u001b[0m\u001b[1;33m.\u001b[0m\u001b[0mfit\u001b[0m\u001b[1;33m(\u001b[0m\u001b[0mX_train_matrix\u001b[0m\u001b[1;33m,\u001b[0m \u001b[0my_train_matrix\u001b[0m\u001b[1;33m)\u001b[0m\u001b[1;33m\u001b[0m\u001b[1;33m\u001b[0m\u001b[0m\n\u001b[0m\u001b[0;32m     15\u001b[0m \u001b[0mclassification_metrics\u001b[0m\u001b[1;33m(\u001b[0m\u001b[0my_test\u001b[0m\u001b[1;33m,\u001b[0m \u001b[0mpipeline\u001b[0m\u001b[1;33m.\u001b[0m\u001b[0mpredict\u001b[0m\u001b[1;33m(\u001b[0m\u001b[0mX_test_matrix\u001b[0m\u001b[1;33m)\u001b[0m\u001b[1;33m)\u001b[0m\u001b[1;33m\u001b[0m\u001b[1;33m\u001b[0m\u001b[0m\n",
      "\u001b[1;32m~\\anaconda3\\lib\\site-packages\\skmultilearn\\adapt\\mlknn.py\u001b[0m in \u001b[0;36mfit\u001b[1;34m(self, X, y)\u001b[0m\n\u001b[0;32m    216\u001b[0m         \u001b[0mself\u001b[0m\u001b[1;33m.\u001b[0m\u001b[0m_prior_prob_true\u001b[0m\u001b[1;33m,\u001b[0m \u001b[0mself\u001b[0m\u001b[1;33m.\u001b[0m\u001b[0m_prior_prob_false\u001b[0m \u001b[1;33m=\u001b[0m \u001b[0mself\u001b[0m\u001b[1;33m.\u001b[0m\u001b[0m_compute_prior\u001b[0m\u001b[1;33m(\u001b[0m\u001b[0mself\u001b[0m\u001b[1;33m.\u001b[0m\u001b[0m_label_cache\u001b[0m\u001b[1;33m)\u001b[0m\u001b[1;33m\u001b[0m\u001b[1;33m\u001b[0m\u001b[0m\n\u001b[0;32m    217\u001b[0m         \u001b[1;31m# Computing the posterior probabilities\u001b[0m\u001b[1;33m\u001b[0m\u001b[1;33m\u001b[0m\u001b[0m\n\u001b[1;32m--> 218\u001b[1;33m         \u001b[0mself\u001b[0m\u001b[1;33m.\u001b[0m\u001b[0m_cond_prob_true\u001b[0m\u001b[1;33m,\u001b[0m \u001b[0mself\u001b[0m\u001b[1;33m.\u001b[0m\u001b[0m_cond_prob_false\u001b[0m \u001b[1;33m=\u001b[0m \u001b[0mself\u001b[0m\u001b[1;33m.\u001b[0m\u001b[0m_compute_cond\u001b[0m\u001b[1;33m(\u001b[0m\u001b[0mX\u001b[0m\u001b[1;33m,\u001b[0m \u001b[0mself\u001b[0m\u001b[1;33m.\u001b[0m\u001b[0m_label_cache\u001b[0m\u001b[1;33m)\u001b[0m\u001b[1;33m\u001b[0m\u001b[1;33m\u001b[0m\u001b[0m\n\u001b[0m\u001b[0;32m    219\u001b[0m         \u001b[1;32mreturn\u001b[0m \u001b[0mself\u001b[0m\u001b[1;33m\u001b[0m\u001b[1;33m\u001b[0m\u001b[0m\n\u001b[0;32m    220\u001b[0m \u001b[1;33m\u001b[0m\u001b[0m\n",
      "\u001b[1;32m~\\anaconda3\\lib\\site-packages\\skmultilearn\\adapt\\mlknn.py\u001b[0m in \u001b[0;36m_compute_cond\u001b[1;34m(self, X, y)\u001b[0m\n\u001b[0;32m    163\u001b[0m         \"\"\"\n\u001b[0;32m    164\u001b[0m \u001b[1;33m\u001b[0m\u001b[0m\n\u001b[1;32m--> 165\u001b[1;33m         \u001b[0mself\u001b[0m\u001b[1;33m.\u001b[0m\u001b[0mknn_\u001b[0m \u001b[1;33m=\u001b[0m \u001b[0mNearestNeighbors\u001b[0m\u001b[1;33m(\u001b[0m\u001b[0mself\u001b[0m\u001b[1;33m.\u001b[0m\u001b[0mk\u001b[0m\u001b[1;33m)\u001b[0m\u001b[1;33m.\u001b[0m\u001b[0mfit\u001b[0m\u001b[1;33m(\u001b[0m\u001b[0mX\u001b[0m\u001b[1;33m)\u001b[0m\u001b[1;33m\u001b[0m\u001b[1;33m\u001b[0m\u001b[0m\n\u001b[0m\u001b[0;32m    166\u001b[0m         \u001b[0mc\u001b[0m \u001b[1;33m=\u001b[0m \u001b[0msparse\u001b[0m\u001b[1;33m.\u001b[0m\u001b[0mlil_matrix\u001b[0m\u001b[1;33m(\u001b[0m\u001b[1;33m(\u001b[0m\u001b[0mself\u001b[0m\u001b[1;33m.\u001b[0m\u001b[0m_num_labels\u001b[0m\u001b[1;33m,\u001b[0m \u001b[0mself\u001b[0m\u001b[1;33m.\u001b[0m\u001b[0mk\u001b[0m \u001b[1;33m+\u001b[0m \u001b[1;36m1\u001b[0m\u001b[1;33m)\u001b[0m\u001b[1;33m,\u001b[0m \u001b[0mdtype\u001b[0m\u001b[1;33m=\u001b[0m\u001b[1;34m'i8'\u001b[0m\u001b[1;33m)\u001b[0m\u001b[1;33m\u001b[0m\u001b[1;33m\u001b[0m\u001b[0m\n\u001b[0;32m    167\u001b[0m         \u001b[0mcn\u001b[0m \u001b[1;33m=\u001b[0m \u001b[0msparse\u001b[0m\u001b[1;33m.\u001b[0m\u001b[0mlil_matrix\u001b[0m\u001b[1;33m(\u001b[0m\u001b[1;33m(\u001b[0m\u001b[0mself\u001b[0m\u001b[1;33m.\u001b[0m\u001b[0m_num_labels\u001b[0m\u001b[1;33m,\u001b[0m \u001b[0mself\u001b[0m\u001b[1;33m.\u001b[0m\u001b[0mk\u001b[0m \u001b[1;33m+\u001b[0m \u001b[1;36m1\u001b[0m\u001b[1;33m)\u001b[0m\u001b[1;33m,\u001b[0m \u001b[0mdtype\u001b[0m\u001b[1;33m=\u001b[0m\u001b[1;34m'i8'\u001b[0m\u001b[1;33m)\u001b[0m\u001b[1;33m\u001b[0m\u001b[1;33m\u001b[0m\u001b[0m\n",
      "\u001b[1;31mTypeError\u001b[0m: __init__() takes 1 positional argument but 2 were given"
     ]
    }
   ],
   "source": [
    "from scipy.sparse import csr_matrix, lil_matrix\n",
    "\n",
    "vectorizer = TfidfVectorizer(stop_words=stop_words, ngram_range=(1,3))\n",
    "vectorizer.fit(df_train['message'])\n",
    "\n",
    "X_train = vectorizer.transform(df_train['message'])\n",
    "X_test = vectorizer.transform(df_test['message'])\n",
    "\n",
    "X_train_matrix = lil_matrix(X_train).toarray()\n",
    "X_test_matrix = lil_matrix(X_test).toarray()\n",
    "y_train_matrix = lil_matrix(y_train).toarray()\n",
    "\n",
    "mlknn = MLkNN(k=3)\n",
    "mlknn.fit(X_train_matrix, y_train_matrix)\n",
    "classification_metrics(y_test, pipeline.predict(X_test_matrix))"
   ]
  },
  {
   "cell_type": "code",
   "execution_count": 138,
   "metadata": {},
   "outputs": [
    {
     "name": "stdout",
     "output_type": "stream",
     "text": [
      "Collecting package metadata (current_repodata.json): ...working... done\n",
      "Solving environment: ...working... failed with repodata from current_repodata.json, will retry with next repodata source.\n",
      "Collecting package metadata (repodata.json): ...working... done\n",
      "Solving environment: ...working... failed\n"
     ]
    },
    {
     "name": "stderr",
     "output_type": "stream",
     "text": [
      "\n",
      "PackagesNotFoundError: The following packages are not available from current channels:\n",
      "\n",
      "  - graph-tool\n",
      "\n",
      "Current channels:\n",
      "\n",
      "  - https://conda.anaconda.org/conda-forge/win-64\n",
      "  - https://conda.anaconda.org/conda-forge/noarch\n",
      "  - https://repo.anaconda.com/pkgs/main/win-64\n",
      "  - https://repo.anaconda.com/pkgs/main/noarch\n",
      "  - https://repo.anaconda.com/pkgs/r/win-64\n",
      "  - https://repo.anaconda.com/pkgs/r/noarch\n",
      "  - https://repo.anaconda.com/pkgs/msys2/win-64\n",
      "  - https://repo.anaconda.com/pkgs/msys2/noarch\n",
      "\n",
      "To search for alternate channels that may provide the conda package you're\n",
      "looking for, navigate to\n",
      "\n",
      "    https://anaconda.org\n",
      "\n",
      "and use the search bar at the top of the page.\n",
      "\n",
      "\n"
     ]
    }
   ],
   "source": [
    "!conda create --name gt -c conda-forge graph-tool -y"
   ]
  },
  {
   "cell_type": "code",
   "execution_count": 21,
   "metadata": {},
   "outputs": [],
   "source": [
    "# !conda init bash"
   ]
  },
  {
   "cell_type": "code",
   "execution_count": 22,
   "metadata": {},
   "outputs": [],
   "source": [
    "# !conda activate gt"
   ]
  },
  {
   "cell_type": "code",
   "execution_count": 23,
   "metadata": {},
   "outputs": [],
   "source": [
    "# from skmultilearn.cluster.graphtool import GraphToolLabelGraphClusterer, StochasticBlockModel"
   ]
  },
  {
   "cell_type": "code",
   "execution_count": null,
   "metadata": {},
   "outputs": [],
   "source": [
    "# pipeline =  Pipeline([\n",
    "#     ('tfidf_vectorizer', TfidfVectorizer(stop_words=stop_words, ngram_range=(1,3))),\n",
    "#     ('model', ClassifierChain(LinearSVC(verbose=1), verbose=True))\n",
    "# ])\n",
    "# pipeline.fit(df_train['message'], y_train)\n",
    "# classification_metrics(y_test, pipeline.predict(df_test['message']))"
   ]
  },
  {
   "cell_type": "code",
   "execution_count": 3,
   "metadata": {},
   "outputs": [],
   "source": [
    "# from scipy.sparse import csr_matrix, lil_matrix\n",
    "\n",
    "# pipeline =  Pipeline([\n",
    "#     ('tfidf_vectorizer', TfidfVectorizer(stop_words=stop_words, ngram_range=(1,3))),\n",
    "#     ('model', MLkNN(k=3))\n",
    "# ])\n",
    "# X_train = lil_matrix(df_train['message']).toarray()\n",
    "# y_tain = lil_matrix(y_train).toarray()\n",
    "# pipeline.fit(X_train, y_tain)\n",
    "\n",
    "# X_test = lil_matrix(df_test['message']).toarray()\n",
    "# classification_metrics(y_test, pipeline.predict(X_test))"
   ]
  },
  {
   "cell_type": "markdown",
   "metadata": {},
   "source": [
    "### 4. Train pipeline\n",
    "- Split data into train and test sets\n",
    "- Train pipeline"
   ]
  },
  {
   "cell_type": "code",
   "execution_count": null,
   "metadata": {},
   "outputs": [],
   "source": []
  },
  {
   "cell_type": "markdown",
   "metadata": {},
   "source": [
    "### 5. Test your model\n",
    "Report the f1 score, precision and recall for each output category of the dataset. You can do this by iterating through the columns and calling sklearn's `classification_report` on each."
   ]
  },
  {
   "cell_type": "code",
   "execution_count": null,
   "metadata": {},
   "outputs": [],
   "source": []
  },
  {
   "cell_type": "markdown",
   "metadata": {},
   "source": [
    "### 6. Improve your model\n",
    "Use grid search to find better parameters. "
   ]
  },
  {
   "cell_type": "code",
   "execution_count": null,
   "metadata": {},
   "outputs": [],
   "source": [
    "parameters = \n",
    "\n",
    "cv = "
   ]
  },
  {
   "cell_type": "markdown",
   "metadata": {},
   "source": [
    "### 7. Test your model\n",
    "Show the accuracy, precision, and recall of the tuned model.  \n",
    "\n",
    "Since this project focuses on code quality, process, and  pipelines, there is no minimum performance metric needed to pass. However, make sure to fine tune your models for accuracy, precision and recall to make your project stand out - especially for your portfolio!"
   ]
  },
  {
   "cell_type": "code",
   "execution_count": null,
   "metadata": {},
   "outputs": [],
   "source": []
  },
  {
   "cell_type": "markdown",
   "metadata": {},
   "source": [
    "### 8. Try improving your model further. Here are a few ideas:\n",
    "* try other machine learning algorithms\n",
    "* add other features besides the TF-IDF"
   ]
  },
  {
   "cell_type": "code",
   "execution_count": null,
   "metadata": {},
   "outputs": [],
   "source": []
  },
  {
   "cell_type": "markdown",
   "metadata": {},
   "source": [
    "### 9. Export your model as a pickle file"
   ]
  },
  {
   "cell_type": "code",
   "execution_count": null,
   "metadata": {},
   "outputs": [],
   "source": []
  },
  {
   "cell_type": "markdown",
   "metadata": {},
   "source": [
    "### 10. Use this notebook to complete `train.py`\n",
    "Use the template file attached in the Resources folder to write a script that runs the steps above to create a database and export a model based on a new dataset specified by the user."
   ]
  },
  {
   "cell_type": "code",
   "execution_count": null,
   "metadata": {},
   "outputs": [],
   "source": []
  }
 ],
 "metadata": {
  "instance_type": "ml.t3.medium",
  "kernelspec": {
   "display_name": "Python 3 (Base Python 2.0)",
   "language": "python",
   "name": "python3__SAGEMAKER_INTERNAL__arn:aws:sagemaker:us-east-1:081325390199:image/sagemaker-base-python-38"
  },
  "language_info": {
   "codemirror_mode": {
    "name": "ipython",
    "version": 3
   },
   "file_extension": ".py",
   "mimetype": "text/x-python",
   "name": "python",
   "nbconvert_exporter": "python",
   "pygments_lexer": "ipython3",
   "version": "3.8.12"
  }
 },
 "nbformat": 4,
 "nbformat_minor": 4
}
