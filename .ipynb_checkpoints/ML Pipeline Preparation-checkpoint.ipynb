{
 "cells": [
  {
   "cell_type": "markdown",
   "metadata": {},
   "source": [
    "# ML Pipeline Preparation\n",
    "Follow the instructions below to help you create your ML pipeline.\n",
    "### 1. Import libraries and load data from database.\n",
    "- Import Python libraries\n",
    "- Load dataset from database with [`read_sql_table`](https://pandas.pydata.org/pandas-docs/stable/generated/pandas.read_sql_table.html)\n",
    "- Define feature and target variables X and Y"
   ]
  },
  {
   "cell_type": "code",
   "execution_count": 5,
   "metadata": {},
   "outputs": [],
   "source": [
    "# !pip install --upgrade pip"
   ]
  },
  {
   "cell_type": "code",
   "execution_count": 3,
   "metadata": {},
   "outputs": [
    {
     "name": "stdout",
     "output_type": "stream",
     "text": [
      "\u001b[33mWARNING: Running pip as the 'root' user can result in broken permissions and conflicting behaviour with the system package manager. It is recommended to use a virtual environment instead: https://pip.pypa.io/warnings/venv\u001b[0m\u001b[33m\n",
      "\u001b[0m\n",
      "\u001b[1m[\u001b[0m\u001b[34;49mnotice\u001b[0m\u001b[1;39;49m]\u001b[0m\u001b[39;49m A new release of pip available: \u001b[0m\u001b[31;49m22.2.2\u001b[0m\u001b[39;49m -> \u001b[0m\u001b[32;49m23.0\u001b[0m\n",
      "\u001b[1m[\u001b[0m\u001b[34;49mnotice\u001b[0m\u001b[1;39;49m]\u001b[0m\u001b[39;49m To update, run: \u001b[0m\u001b[32;49mpip install --upgrade pip\u001b[0m\n"
     ]
    }
   ],
   "source": [
    "!pip install transformers --quiet"
   ]
  },
  {
   "cell_type": "code",
   "execution_count": 4,
   "metadata": {},
   "outputs": [
    {
     "name": "stdout",
     "output_type": "stream",
     "text": [
      "\u001b[33mWARNING: Running pip as the 'root' user can result in broken permissions and conflicting behaviour with the system package manager. It is recommended to use a virtual environment instead: https://pip.pypa.io/warnings/venv\u001b[0m\u001b[33m\n",
      "\u001b[0m\n",
      "\u001b[1m[\u001b[0m\u001b[34;49mnotice\u001b[0m\u001b[1;39;49m]\u001b[0m\u001b[39;49m A new release of pip available: \u001b[0m\u001b[31;49m22.2.2\u001b[0m\u001b[39;49m -> \u001b[0m\u001b[32;49m23.0\u001b[0m\n",
      "\u001b[1m[\u001b[0m\u001b[34;49mnotice\u001b[0m\u001b[1;39;49m]\u001b[0m\u001b[39;49m To update, run: \u001b[0m\u001b[32;49mpip install --upgrade pip\u001b[0m\n"
     ]
    }
   ],
   "source": [
    "!pip install comet_ml --quiet"
   ]
  },
  {
   "cell_type": "code",
   "execution_count": 5,
   "metadata": {},
   "outputs": [
    {
     "name": "stdout",
     "output_type": "stream",
     "text": [
      "\u001b[33mWARNING: Running pip as the 'root' user can result in broken permissions and conflicting behaviour with the system package manager. It is recommended to use a virtual environment instead: https://pip.pypa.io/warnings/venv\u001b[0m\u001b[33m\n",
      "\u001b[0m\n",
      "\u001b[1m[\u001b[0m\u001b[34;49mnotice\u001b[0m\u001b[1;39;49m]\u001b[0m\u001b[39;49m A new release of pip available: \u001b[0m\u001b[31;49m22.2.2\u001b[0m\u001b[39;49m -> \u001b[0m\u001b[32;49m23.0\u001b[0m\n",
      "\u001b[1m[\u001b[0m\u001b[34;49mnotice\u001b[0m\u001b[1;39;49m]\u001b[0m\u001b[39;49m To update, run: \u001b[0m\u001b[32;49mpip install --upgrade pip\u001b[0m\n"
     ]
    }
   ],
   "source": [
    "!pip install gensim --quiet"
   ]
  },
  {
   "cell_type": "code",
   "execution_count": 6,
   "metadata": {},
   "outputs": [
    {
     "name": "stdout",
     "output_type": "stream",
     "text": [
      "\u001b[33mWARNING: Running pip as the 'root' user can result in broken permissions and conflicting behaviour with the system package manager. It is recommended to use a virtual environment instead: https://pip.pypa.io/warnings/venv\u001b[0m\u001b[33m\n",
      "\u001b[0m\n",
      "\u001b[1m[\u001b[0m\u001b[34;49mnotice\u001b[0m\u001b[1;39;49m]\u001b[0m\u001b[39;49m A new release of pip available: \u001b[0m\u001b[31;49m22.2.2\u001b[0m\u001b[39;49m -> \u001b[0m\u001b[32;49m23.0\u001b[0m\n",
      "\u001b[1m[\u001b[0m\u001b[34;49mnotice\u001b[0m\u001b[1;39;49m]\u001b[0m\u001b[39;49m To update, run: \u001b[0m\u001b[32;49mpip install --upgrade pip\u001b[0m\n"
     ]
    }
   ],
   "source": [
    "!pip install scikit-multilearn --quiet"
   ]
  },
  {
   "cell_type": "code",
   "execution_count": 7,
   "metadata": {},
   "outputs": [
    {
     "name": "stdout",
     "output_type": "stream",
     "text": [
      "\u001b[33mWARNING: Running pip as the 'root' user can result in broken permissions and conflicting behaviour with the system package manager. It is recommended to use a virtual environment instead: https://pip.pypa.io/warnings/venv\u001b[0m\u001b[33m\n",
      "\u001b[0m\n",
      "\u001b[1m[\u001b[0m\u001b[34;49mnotice\u001b[0m\u001b[1;39;49m]\u001b[0m\u001b[39;49m A new release of pip available: \u001b[0m\u001b[31;49m22.2.2\u001b[0m\u001b[39;49m -> \u001b[0m\u001b[32;49m23.0\u001b[0m\n",
      "\u001b[1m[\u001b[0m\u001b[34;49mnotice\u001b[0m\u001b[1;39;49m]\u001b[0m\u001b[39;49m To update, run: \u001b[0m\u001b[32;49mpip install --upgrade pip\u001b[0m\n"
     ]
    }
   ],
   "source": [
    "!pip install scikit-learn --upgrade --quiet"
   ]
  },
  {
   "cell_type": "code",
   "execution_count": 8,
   "metadata": {},
   "outputs": [
    {
     "name": "stdout",
     "output_type": "stream",
     "text": [
      "\u001b[33mWARNING: Running pip as the 'root' user can result in broken permissions and conflicting behaviour with the system package manager. It is recommended to use a virtual environment instead: https://pip.pypa.io/warnings/venv\u001b[0m\u001b[33m\n",
      "\u001b[0m\n",
      "\u001b[1m[\u001b[0m\u001b[34;49mnotice\u001b[0m\u001b[1;39;49m]\u001b[0m\u001b[39;49m A new release of pip available: \u001b[0m\u001b[31;49m22.2.2\u001b[0m\u001b[39;49m -> \u001b[0m\u001b[32;49m23.0\u001b[0m\n",
      "\u001b[1m[\u001b[0m\u001b[34;49mnotice\u001b[0m\u001b[1;39;49m]\u001b[0m\u001b[39;49m To update, run: \u001b[0m\u001b[32;49mpip install --upgrade pip\u001b[0m\n"
     ]
    }
   ],
   "source": [
    "!pip install nlpaug --quiet"
   ]
  },
  {
   "cell_type": "code",
   "execution_count": 9,
   "metadata": {},
   "outputs": [
    {
     "name": "stdout",
     "output_type": "stream",
     "text": [
      "\u001b[33mWARNING: Running pip as the 'root' user can result in broken permissions and conflicting behaviour with the system package manager. It is recommended to use a virtual environment instead: https://pip.pypa.io/warnings/venv\u001b[0m\u001b[33m\n",
      "\u001b[0m\n",
      "\u001b[1m[\u001b[0m\u001b[34;49mnotice\u001b[0m\u001b[1;39;49m]\u001b[0m\u001b[39;49m A new release of pip available: \u001b[0m\u001b[31;49m22.2.2\u001b[0m\u001b[39;49m -> \u001b[0m\u001b[32;49m23.0\u001b[0m\n",
      "\u001b[1m[\u001b[0m\u001b[34;49mnotice\u001b[0m\u001b[1;39;49m]\u001b[0m\u001b[39;49m To update, run: \u001b[0m\u001b[32;49mpip install --upgrade pip\u001b[0m\n"
     ]
    }
   ],
   "source": [
    "!pip install contractions --quiet"
   ]
  },
  {
   "cell_type": "code",
   "execution_count": 10,
   "metadata": {},
   "outputs": [
    {
     "name": "stdout",
     "output_type": "stream",
     "text": [
      "\u001b[33mWARNING: Running pip as the 'root' user can result in broken permissions and conflicting behaviour with the system package manager. It is recommended to use a virtual environment instead: https://pip.pypa.io/warnings/venv\u001b[0m\u001b[33m\n",
      "\u001b[0m\n",
      "\u001b[1m[\u001b[0m\u001b[34;49mnotice\u001b[0m\u001b[1;39;49m]\u001b[0m\u001b[39;49m A new release of pip available: \u001b[0m\u001b[31;49m22.2.2\u001b[0m\u001b[39;49m -> \u001b[0m\u001b[32;49m23.0\u001b[0m\n",
      "\u001b[1m[\u001b[0m\u001b[34;49mnotice\u001b[0m\u001b[1;39;49m]\u001b[0m\u001b[39;49m To update, run: \u001b[0m\u001b[32;49mpip install --upgrade pip\u001b[0m\n"
     ]
    }
   ],
   "source": [
    "!pip install pytorch-pretrained-bert --quiet"
   ]
  },
  {
   "cell_type": "code",
   "execution_count": 11,
   "metadata": {},
   "outputs": [
    {
     "name": "stdout",
     "output_type": "stream",
     "text": [
      "\u001b[33mWARNING: Running pip as the 'root' user can result in broken permissions and conflicting behaviour with the system package manager. It is recommended to use a virtual environment instead: https://pip.pypa.io/warnings/venv\u001b[0m\u001b[33m\n",
      "\u001b[0m\n",
      "\u001b[1m[\u001b[0m\u001b[34;49mnotice\u001b[0m\u001b[1;39;49m]\u001b[0m\u001b[39;49m A new release of pip available: \u001b[0m\u001b[31;49m22.2.2\u001b[0m\u001b[39;49m -> \u001b[0m\u001b[32;49m23.0\u001b[0m\n",
      "\u001b[1m[\u001b[0m\u001b[34;49mnotice\u001b[0m\u001b[1;39;49m]\u001b[0m\u001b[39;49m To update, run: \u001b[0m\u001b[32;49mpip install --upgrade pip\u001b[0m\n"
     ]
    }
   ],
   "source": [
    "!pip install nltk --quiet"
   ]
  },
  {
   "cell_type": "code",
   "execution_count": 12,
   "metadata": {},
   "outputs": [
    {
     "name": "stdout",
     "output_type": "stream",
     "text": [
      "\u001b[33mWARNING: Running pip as the 'root' user can result in broken permissions and conflicting behaviour with the system package manager. It is recommended to use a virtual environment instead: https://pip.pypa.io/warnings/venv\u001b[0m\u001b[33m\n",
      "\u001b[0m\n",
      "\u001b[1m[\u001b[0m\u001b[34;49mnotice\u001b[0m\u001b[1;39;49m]\u001b[0m\u001b[39;49m A new release of pip available: \u001b[0m\u001b[31;49m22.2.2\u001b[0m\u001b[39;49m -> \u001b[0m\u001b[32;49m23.0\u001b[0m\n",
      "\u001b[1m[\u001b[0m\u001b[34;49mnotice\u001b[0m\u001b[1;39;49m]\u001b[0m\u001b[39;49m To update, run: \u001b[0m\u001b[32;49mpip install --upgrade pip\u001b[0m\n"
     ]
    }
   ],
   "source": [
    "!pip install matplotlib --quiet"
   ]
  },
  {
   "cell_type": "code",
   "execution_count": 13,
   "metadata": {},
   "outputs": [
    {
     "name": "stdout",
     "output_type": "stream",
     "text": [
      "\u001b[33mWARNING: Running pip as the 'root' user can result in broken permissions and conflicting behaviour with the system package manager. It is recommended to use a virtual environment instead: https://pip.pypa.io/warnings/venv\u001b[0m\u001b[33m\n",
      "\u001b[0m\n",
      "\u001b[1m[\u001b[0m\u001b[34;49mnotice\u001b[0m\u001b[1;39;49m]\u001b[0m\u001b[39;49m A new release of pip available: \u001b[0m\u001b[31;49m22.2.2\u001b[0m\u001b[39;49m -> \u001b[0m\u001b[32;49m23.0\u001b[0m\n",
      "\u001b[1m[\u001b[0m\u001b[34;49mnotice\u001b[0m\u001b[1;39;49m]\u001b[0m\u001b[39;49m To update, run: \u001b[0m\u001b[32;49mpip install --upgrade pip\u001b[0m\n"
     ]
    }
   ],
   "source": [
    "!pip install seaborn --quiet"
   ]
  },
  {
   "cell_type": "code",
   "execution_count": 14,
   "metadata": {},
   "outputs": [
    {
     "name": "stdout",
     "output_type": "stream",
     "text": [
      "\u001b[33mWARNING: Running pip as the 'root' user can result in broken permissions and conflicting behaviour with the system package manager. It is recommended to use a virtual environment instead: https://pip.pypa.io/warnings/venv\u001b[0m\u001b[33m\n",
      "\u001b[0m\n",
      "\u001b[1m[\u001b[0m\u001b[34;49mnotice\u001b[0m\u001b[1;39;49m]\u001b[0m\u001b[39;49m A new release of pip available: \u001b[0m\u001b[31;49m22.2.2\u001b[0m\u001b[39;49m -> \u001b[0m\u001b[32;49m23.0\u001b[0m\n",
      "\u001b[1m[\u001b[0m\u001b[34;49mnotice\u001b[0m\u001b[1;39;49m]\u001b[0m\u001b[39;49m To update, run: \u001b[0m\u001b[32;49mpip install --upgrade pip\u001b[0m\n"
     ]
    }
   ],
   "source": [
    "!pip install sqlalchemy --quiet"
   ]
  },
  {
   "cell_type": "code",
   "execution_count": 15,
   "metadata": {},
   "outputs": [
    {
     "name": "stdout",
     "output_type": "stream",
     "text": [
      "1.2.1\n"
     ]
    }
   ],
   "source": [
    "import sklearn\n",
    "print(sklearn.__version__)"
   ]
  },
  {
   "cell_type": "code",
   "execution_count": 17,
   "metadata": {},
   "outputs": [
    {
     "name": "stdout",
     "output_type": "stream",
     "text": [
      "1.2.1\n"
     ]
    },
    {
     "name": "stderr",
     "output_type": "stream",
     "text": [
      "[nltk_data] Downloading package punkt to /root/nltk_data...\n",
      "[nltk_data]   Package punkt is already up-to-date!\n",
      "[nltk_data] Downloading package stopwords to /root/nltk_data...\n",
      "[nltk_data]   Package stopwords is already up-to-date!\n",
      "[nltk_data] Downloading package averaged_perceptron_tagger to\n",
      "[nltk_data]     /root/nltk_data...\n",
      "[nltk_data]   Package averaged_perceptron_tagger is already up-to-\n",
      "[nltk_data]       date!\n",
      "[nltk_data] Downloading package wordnet to /root/nltk_data...\n",
      "[nltk_data]   Package wordnet is already up-to-date!\n",
      "[nltk_data] Downloading package universal_tagset to /root/nltk_data...\n",
      "[nltk_data]   Package universal_tagset is already up-to-date!\n"
     ]
    }
   ],
   "source": [
    "# import libraries\n",
    "import ast\n",
    "import numpy as np\n",
    "import pandas as pd\n",
    "import nltk\n",
    "import string\n",
    "import contractions\n",
    "import itertools\n",
    "import random\n",
    "import sklearn\n",
    "import gensim\n",
    "print(sklearn.__version__)\n",
    "import matplotlib.pyplot as plt\n",
    "import seaborn as sb\n",
    "import multiprocessing as mp\n",
    "%matplotlib inline\n",
    "\n",
    "from tqdm import tqdm\n",
    "from collections import Counter\n",
    "from nltk.tokenize import word_tokenize, sent_tokenize\n",
    "from nltk.corpus import stopwords, wordnet\n",
    "from nltk.stem import WordNetLemmatizer\n",
    "from nltk.probability import FreqDist\n",
    "from sklearn.feature_extraction.text import CountVectorizer\n",
    "from sklearn.feature_extraction import DictVectorizer\n",
    "from sklearn.decomposition import LatentDirichletAllocation\n",
    "from nltk.util import ngrams\n",
    "\n",
    "\n",
    "nltk.download('punkt')\n",
    "nltk.download('stopwords')\n",
    "nltk.download('averaged_perceptron_tagger')\n",
    "nltk.download('wordnet')\n",
    "nltk.download('universal_tagset')\n",
    "\n",
    "\n",
    "from comet_ml import Experiment\n",
    "from sqlalchemy import create_engine\n",
    "from sklearn.model_selection import train_test_split\n",
    "from sklearn.pipeline import Pipeline, FeatureUnion\n",
    "from sklearn.feature_extraction.text import CountVectorizer, TfidfTransformer, TfidfVectorizer\n",
    "from sklearn.metrics import hamming_loss, accuracy_score, f1_score, classification_report\n",
    "from sklearn.multioutput import ClassifierChain, MultiOutputClassifier\n",
    "from skmultilearn.adapt import MLkNN\n",
    "from sklearn.neighbors import NearestNeighbors\n",
    "from skmultilearn.problem_transform import BinaryRelevance\n",
    "from scipy.sparse import csr_matrix, lil_matrix\n",
    "from sklearn.multiclass import OneVsRestClassifier\n",
    "from sklearn.linear_model import LogisticRegression, RidgeClassifier\n",
    "from sklearn.svm import LinearSVC, SVC\n",
    "from sklearn.ensemble import RandomForestClassifier\n",
    "from nltk.tokenize import word_tokenize\n",
    "from sklearn.base import BaseEstimator, TransformerMixin"
   ]
  },
  {
   "cell_type": "code",
   "execution_count": 18,
   "metadata": {},
   "outputs": [],
   "source": [
    "COMET_API_KEY = \"TkfogaXqILmxF0ShTe3LkgJFN\"\n",
    "COMET_PROJECT_NAME = \"disaster_response_pipeline\"\n",
    "COMET_WORKSPACE = \"benjtlv\"\n",
    "COMET_ARTIFACT = \"disaster-response-data\""
   ]
  },
  {
   "cell_type": "code",
   "execution_count": 19,
   "metadata": {},
   "outputs": [],
   "source": [
    "# load data from database\n",
    "# engine = create_engine('sqlite:///DisasterResponse.db')\n",
    "# df = pd.read_sql('SELECT * FROM DisasterResponse', con=engine)\n",
    "# X = \n",
    "# Y = "
   ]
  },
  {
   "cell_type": "markdown",
   "metadata": {},
   "source": [
    "I prefer working with a Comet Artifact. If tomorrow we want to switch to a data lake, or a data warehouse, the mechanism will be the same."
   ]
  },
  {
   "cell_type": "code",
   "execution_count": 20,
   "metadata": {},
   "outputs": [],
   "source": [
    "def create_experiment():\n",
    "    return Experiment(api_key=COMET_API_KEY, project_name=COMET_PROJECT_NAME, workspace=COMET_WORKSPACE)"
   ]
  },
  {
   "cell_type": "code",
   "execution_count": 19,
   "metadata": {},
   "outputs": [
    {
     "name": "stderr",
     "output_type": "stream",
     "text": [
      "COMET WARNING: Comet has disabled auto-logging functionality as it has been imported after the following ML modules: sklearn. Metrics and hyperparameters can still be logged using Experiment.log_metrics() and Experiment.log_parameters()\n",
      "COMET WARNING: As you are running in a Jupyter environment, you will need to call `experiment.end()` when finished to ensure all metrics and code are logged before exiting.\n",
      "COMET INFO: Experiment is live on comet.com https://www.comet.com/benjtlv/disaster-response-pipeline/e8886536fdc742cf877692111bbef615\n",
      "\n"
     ]
    }
   ],
   "source": [
    "experiment = create_experiment()"
   ]
  },
  {
   "cell_type": "code",
   "execution_count": 20,
   "metadata": {},
   "outputs": [
    {
     "name": "stderr",
     "output_type": "stream",
     "text": [
      "COMET WARNING: Comet has disabled auto-logging functionality as it has been imported after the following ML modules: sklearn. Metrics and hyperparameters can still be logged using Experiment.log_metrics() and Experiment.log_parameters()\n",
      "COMET INFO: ---------------------------\n",
      "COMET INFO: Comet.ml Experiment Summary\n",
      "COMET INFO: ---------------------------\n",
      "COMET INFO:   Data:\n",
      "COMET INFO:     display_summary_level : 1\n",
      "COMET INFO:     url                   : https://www.comet.com/benjtlv/disaster-response-pipeline/e8886536fdc742cf877692111bbef615\n",
      "COMET INFO:   Uploads:\n",
      "COMET INFO:     environment details : 1\n",
      "COMET INFO:     filename            : 1\n",
      "COMET INFO:     installed packages  : 1\n",
      "COMET INFO:     notebook            : 1\n",
      "COMET INFO:     os packages         : 1\n",
      "COMET INFO:     source_code         : 1\n",
      "COMET INFO: Couldn't find a Git repository in '/root/Benjamin/DisasterResponse' nor in any parent directory. You can override where Comet is looking for a Git Patch by setting the configuration `COMET_GIT_DIRECTORY`\n",
      "COMET INFO: ---------------------------\n",
      "COMET WARNING: Comet has disabled auto-logging functionality as it has been imported after the following ML modules: sklearn. Metrics and hyperparameters can still be logged using Experiment.log_metrics() and Experiment.log_parameters()\n",
      "COMET WARNING: As you are running in a Jupyter environment, you will need to call `experiment.end()` when finished to ensure all metrics and code are logged before exiting.\n",
      "COMET INFO: Couldn't find a Git repository in '/root/Benjamin/DisasterResponse' nor in any parent directory. You can override where Comet is looking for a Git Patch by setting the configuration `COMET_GIT_DIRECTORY`\n",
      "COMET INFO: Experiment is live on comet.com https://www.comet.com/benjtlv/disaster-response-pipeline/fa79b12a89a04b61a817cba09222b877\n",
      "\n",
      "COMET INFO: Artifact 'benjtlv/disaster-response-data:5.0.0' download has been started asynchronously\n",
      "COMET INFO: Still downloading 1 file(s), remaining 18.92 MB/18.92 MB\n",
      "COMET INFO: Artifact 'benjtlv/disaster-response-data:5.0.0' has been successfully downloaded\n"
     ]
    },
    {
     "data": {
      "text/plain": [
       "Artifact(name='disaster-response-data', artifact_type='dataset', version=None, aliases=set(), version_tags=set())"
      ]
     },
     "execution_count": 20,
     "metadata": {},
     "output_type": "execute_result"
    }
   ],
   "source": [
    "experiment = create_experiment()\n",
    "experiment.add_tags(['training', 'bigram'])\n",
    "artifact = experiment.get_artifact(COMET_ARTIFACT, version_or_alias='5.0.0', workspace=COMET_WORKSPACE)\n",
    "artifact.download('./artifacts', overwrite_strategy='PRESERVE')"
   ]
  },
  {
   "cell_type": "markdown",
   "metadata": {},
   "source": [
    "To avoid Data Leakage, we will take our data of when before we started our EDA. We will remove bad words from our training data set so the model can learn what to give importance too, without being biased by high frequency unrelated words. We want to leave the test set untouched to see how the model behaves with unseen data."
   ]
  },
  {
   "cell_type": "code",
   "execution_count": 21,
   "metadata": {},
   "outputs": [
    {
     "name": "stderr",
     "output_type": "stream",
     "text": [
      "/tmp/ipykernel_15/3254804130.py:3: DtypeWarning: Columns (2) have mixed types. Specify dtype option on import or set low_memory=False.\n",
      "  df = pd.read_csv('disaster_transformed.csv')\n"
     ]
    }
   ],
   "source": [
    "# df = pd.read_csv('./artifacts/disaster_preprocessed.csv')\n",
    "# df['message'] = df['message'].apply(ast.literal_eval)\n",
    "df = pd.read_csv('disaster_transformed.csv')"
   ]
  },
  {
   "cell_type": "code",
   "execution_count": 22,
   "metadata": {},
   "outputs": [],
   "source": [
    "df = df.drop(df[df['related'] == 2].index)\n",
    "df = df.drop('child_alone', axis=1)"
   ]
  },
  {
   "cell_type": "code",
   "execution_count": 23,
   "metadata": {},
   "outputs": [],
   "source": [
    "df_train, df_test = train_test_split(df, test_size=0.2)"
   ]
  },
  {
   "cell_type": "code",
   "execution_count": 24,
   "metadata": {},
   "outputs": [
    {
     "name": "stdout",
     "output_type": "stream",
     "text": [
      "20945\n",
      "5237\n"
     ]
    }
   ],
   "source": [
    "print(df_train.shape[0])\n",
    "print(df_test.shape[0])"
   ]
  },
  {
   "cell_type": "markdown",
   "metadata": {},
   "source": [
    "### 2. Build Models\n",
    "\n",
    "There are different algorithms that can be used in order for our ml model to handle multiple labels:\n",
    "1. Binary Relevance\n",
    "2. Label Powerset\n",
    "3. MLkNN\n",
    "4. Classifier Chain\n",
    "5. Multioutput Classifier\n",
    "\n",
    "We will not try label powerset as it only learns to predict a N-sized vector of 0 & 1s representing the assignment ot a label inside the N possible labels. It will not predict a vector that is different from those seens in the training dataset."
   ]
  },
  {
   "cell_type": "markdown",
   "metadata": {},
   "source": [
    "### 3. Build a machine learning pipeline\n",
    "This machine pipeline should take in the `message` column as input and output classification results on the other 36 categories in the dataset. You may find the [MultiOutputClassifier](http://scikit-learn.org/stable/modules/generated/sklearn.multioutput.MultiOutputClassifier.html) helpful for predicting multiple target variables."
   ]
  },
  {
   "cell_type": "markdown",
   "metadata": {},
   "source": [
    "We will try multiple ML algorithms, with multiple algorithms for multi-label classification, with multiple ways of processing our text. We will see which models generalize well."
   ]
  },
  {
   "cell_type": "code",
   "execution_count": 25,
   "metadata": {},
   "outputs": [],
   "source": [
    "category_colnames = ['related', 'request', 'offer', 'aid_related', 'medical_help', 'medical_products', \n",
    "                     'search_and_rescue', 'security', 'military', 'water', 'food', 'shelter', \n",
    "                     'clothing', 'money', 'missing_people', 'refugees', 'death', 'other_aid', 'infrastructure_related', \n",
    "                     'transport', 'buildings', 'electricity', 'tools', 'hospitals', 'shops', 'aid_centers', \n",
    "                     'other_infrastructure', 'weather_related', 'floods', 'storm', 'fire', 'earthquake', 'cold', \n",
    "                     'other_weather', 'direct_report']"
   ]
  },
  {
   "cell_type": "code",
   "execution_count": 26,
   "metadata": {},
   "outputs": [],
   "source": [
    "# df_train['message'] = df_train['message'].apply(lambda x: ' '.join([word for word in x]))\n",
    "# df_test['message'] = df_test['message'].apply(lambda x: ' '.join([word for word in x]))"
   ]
  },
  {
   "cell_type": "code",
   "execution_count": 27,
   "metadata": {},
   "outputs": [],
   "source": [
    "y_train = df_train.loc[:, category_colnames]\n",
    "y_test = df_test.loc[:, category_colnames]"
   ]
  },
  {
   "cell_type": "code",
   "execution_count": 28,
   "metadata": {},
   "outputs": [
    {
     "data": {
      "text/html": [
       "<div>\n",
       "<style scoped>\n",
       "    .dataframe tbody tr th:only-of-type {\n",
       "        vertical-align: middle;\n",
       "    }\n",
       "\n",
       "    .dataframe tbody tr th {\n",
       "        vertical-align: top;\n",
       "    }\n",
       "\n",
       "    .dataframe thead th {\n",
       "        text-align: right;\n",
       "    }\n",
       "</style>\n",
       "<table border=\"1\" class=\"dataframe\">\n",
       "  <thead>\n",
       "    <tr style=\"text-align: right;\">\n",
       "      <th></th>\n",
       "      <th>id</th>\n",
       "      <th>message</th>\n",
       "      <th>original</th>\n",
       "      <th>genre</th>\n",
       "      <th>related</th>\n",
       "      <th>request</th>\n",
       "      <th>offer</th>\n",
       "      <th>aid_related</th>\n",
       "      <th>medical_help</th>\n",
       "      <th>medical_products</th>\n",
       "      <th>...</th>\n",
       "      <th>aid_centers</th>\n",
       "      <th>other_infrastructure</th>\n",
       "      <th>weather_related</th>\n",
       "      <th>floods</th>\n",
       "      <th>storm</th>\n",
       "      <th>fire</th>\n",
       "      <th>earthquake</th>\n",
       "      <th>cold</th>\n",
       "      <th>other_weather</th>\n",
       "      <th>direct_report</th>\n",
       "    </tr>\n",
       "  </thead>\n",
       "  <tbody>\n",
       "    <tr>\n",
       "      <th>7002</th>\n",
       "      <td>7867</td>\n",
       "      <td>my house is crack I did not get to watch anyth...</td>\n",
       "      <td>Kay mwen fele mpa jwenn enjenye pou gadel yo p...</td>\n",
       "      <td>direct</td>\n",
       "      <td>1</td>\n",
       "      <td>0</td>\n",
       "      <td>0</td>\n",
       "      <td>0</td>\n",
       "      <td>0</td>\n",
       "      <td>0</td>\n",
       "      <td>...</td>\n",
       "      <td>0</td>\n",
       "      <td>0</td>\n",
       "      <td>0</td>\n",
       "      <td>0</td>\n",
       "      <td>0</td>\n",
       "      <td>0</td>\n",
       "      <td>0</td>\n",
       "      <td>0</td>\n",
       "      <td>0</td>\n",
       "      <td>1</td>\n",
       "    </tr>\n",
       "    <tr>\n",
       "      <th>9115</th>\n",
       "      <td>10176</td>\n",
       "      <td>please, put a card for me juste to call someon...</td>\n",
       "      <td>Sil vou ple mwen poum ka rele yon moun m gen y...</td>\n",
       "      <td>direct</td>\n",
       "      <td>1</td>\n",
       "      <td>1</td>\n",
       "      <td>0</td>\n",
       "      <td>0</td>\n",
       "      <td>0</td>\n",
       "      <td>0</td>\n",
       "      <td>...</td>\n",
       "      <td>0</td>\n",
       "      <td>0</td>\n",
       "      <td>0</td>\n",
       "      <td>0</td>\n",
       "      <td>0</td>\n",
       "      <td>0</td>\n",
       "      <td>0</td>\n",
       "      <td>0</td>\n",
       "      <td>0</td>\n",
       "      <td>0</td>\n",
       "    </tr>\n",
       "    <tr>\n",
       "      <th>6334</th>\n",
       "      <td>7151</td>\n",
       "      <td>We're dying of hunger. Please help.</td>\n",
       "      <td>grangou ap tiye fe yon bagay pou nou silvoupl ...</td>\n",
       "      <td>direct</td>\n",
       "      <td>1</td>\n",
       "      <td>1</td>\n",
       "      <td>0</td>\n",
       "      <td>1</td>\n",
       "      <td>0</td>\n",
       "      <td>0</td>\n",
       "      <td>...</td>\n",
       "      <td>0</td>\n",
       "      <td>0</td>\n",
       "      <td>0</td>\n",
       "      <td>0</td>\n",
       "      <td>0</td>\n",
       "      <td>0</td>\n",
       "      <td>0</td>\n",
       "      <td>0</td>\n",
       "      <td>0</td>\n",
       "      <td>1</td>\n",
       "    </tr>\n",
       "    <tr>\n",
       "      <th>25918</th>\n",
       "      <td>29731</td>\n",
       "      <td>There is indeed, imminent collapse of the live...</td>\n",
       "      <td>NaN</td>\n",
       "      <td>news</td>\n",
       "      <td>1</td>\n",
       "      <td>0</td>\n",
       "      <td>0</td>\n",
       "      <td>0</td>\n",
       "      <td>0</td>\n",
       "      <td>0</td>\n",
       "      <td>...</td>\n",
       "      <td>0</td>\n",
       "      <td>0</td>\n",
       "      <td>0</td>\n",
       "      <td>0</td>\n",
       "      <td>0</td>\n",
       "      <td>0</td>\n",
       "      <td>0</td>\n",
       "      <td>0</td>\n",
       "      <td>0</td>\n",
       "      <td>0</td>\n",
       "    </tr>\n",
       "    <tr>\n",
       "      <th>3448</th>\n",
       "      <td>3945</td>\n",
       "      <td>I'm writing to ask you to help us we are at Th...</td>\n",
       "      <td>Mwen ekri poum mande nou edem nou nan tomasin ...</td>\n",
       "      <td>direct</td>\n",
       "      <td>1</td>\n",
       "      <td>1</td>\n",
       "      <td>0</td>\n",
       "      <td>1</td>\n",
       "      <td>0</td>\n",
       "      <td>0</td>\n",
       "      <td>...</td>\n",
       "      <td>0</td>\n",
       "      <td>0</td>\n",
       "      <td>0</td>\n",
       "      <td>0</td>\n",
       "      <td>0</td>\n",
       "      <td>0</td>\n",
       "      <td>0</td>\n",
       "      <td>0</td>\n",
       "      <td>0</td>\n",
       "      <td>1</td>\n",
       "    </tr>\n",
       "  </tbody>\n",
       "</table>\n",
       "<p>5 rows × 39 columns</p>\n",
       "</div>"
      ],
      "text/plain": [
       "          id                                            message  \\\n",
       "7002    7867  my house is crack I did not get to watch anyth...   \n",
       "9115   10176  please, put a card for me juste to call someon...   \n",
       "6334    7151               We're dying of hunger. Please help.    \n",
       "25918  29731  There is indeed, imminent collapse of the live...   \n",
       "3448    3945  I'm writing to ask you to help us we are at Th...   \n",
       "\n",
       "                                                original   genre  related  \\\n",
       "7002   Kay mwen fele mpa jwenn enjenye pou gadel yo p...  direct        1   \n",
       "9115   Sil vou ple mwen poum ka rele yon moun m gen y...  direct        1   \n",
       "6334   grangou ap tiye fe yon bagay pou nou silvoupl ...  direct        1   \n",
       "25918                                                NaN    news        1   \n",
       "3448   Mwen ekri poum mande nou edem nou nan tomasin ...  direct        1   \n",
       "\n",
       "       request  offer  aid_related  medical_help  medical_products  ...  \\\n",
       "7002         0      0            0             0                 0  ...   \n",
       "9115         1      0            0             0                 0  ...   \n",
       "6334         1      0            1             0                 0  ...   \n",
       "25918        0      0            0             0                 0  ...   \n",
       "3448         1      0            1             0                 0  ...   \n",
       "\n",
       "       aid_centers  other_infrastructure  weather_related  floods  storm  \\\n",
       "7002             0                     0                0       0      0   \n",
       "9115             0                     0                0       0      0   \n",
       "6334             0                     0                0       0      0   \n",
       "25918            0                     0                0       0      0   \n",
       "3448             0                     0                0       0      0   \n",
       "\n",
       "       fire  earthquake  cold  other_weather  direct_report  \n",
       "7002      0           0     0              0              1  \n",
       "9115      0           0     0              0              0  \n",
       "6334      0           0     0              0              1  \n",
       "25918     0           0     0              0              0  \n",
       "3448      0           0     0              0              1  \n",
       "\n",
       "[5 rows x 39 columns]"
      ]
     },
     "execution_count": 28,
     "metadata": {},
     "output_type": "execute_result"
    }
   ],
   "source": [
    "df_train.head()"
   ]
  },
  {
   "cell_type": "code",
   "execution_count": 29,
   "metadata": {},
   "outputs": [],
   "source": [
    "def classification_metrics(y_test, y_pred):\n",
    "    print(\"Accuracy = \",accuracy_score(y_test ,y_pred))\n",
    "    print(\"f1 score (micro) = \",f1_score(y_test, y_pred, average=\"micro\"))\n",
    "    print(\"f1 score (macro) = \",f1_score(y_test, y_pred, average=\"micro\"))\n",
    "    print(\"Hamming loss = \", hamming_loss(y_test,y_pred))"
   ]
  },
  {
   "cell_type": "code",
   "execution_count": 30,
   "metadata": {},
   "outputs": [],
   "source": [
    "stop_words = stopwords.words('english')"
   ]
  },
  {
   "cell_type": "code",
   "execution_count": 31,
   "metadata": {},
   "outputs": [],
   "source": [
    "def simple_pipeline(ngram_range=(1,1), model=LogisticRegression, tokenizer=None, stop_words=None):\n",
    "    return Pipeline([\n",
    "        ('tfidf_vectorizer', TfidfVectorizer(tokenizer=tokenizer, stop_words=stop_words, ngram_range=ngram_range)),\n",
    "        ('model', MultiOutputClassifier(model()))\n",
    "    ])"
   ]
  },
  {
   "cell_type": "markdown",
   "metadata": {},
   "source": [
    "Tfidf Vectorizer - single terms - Logistic regression"
   ]
  },
  {
   "cell_type": "code",
   "execution_count": 32,
   "metadata": {},
   "outputs": [
    {
     "name": "stdout",
     "output_type": "stream",
     "text": [
      "Accuracy =  0.28279549360320794\n",
      "f1 score (micro) =  0.6516242254933563\n",
      "f1 score (macro) =  0.6516242254933563\n",
      "Hamming loss =  0.053067459559726124\n"
     ]
    }
   ],
   "source": [
    "pipeline = simple_pipeline()\n",
    "pipeline.fit(df_train['message'], y_train)\n",
    "classification_metrics(y_test, pipeline.predict(df_test['message']))"
   ]
  },
  {
   "cell_type": "markdown",
   "metadata": {},
   "source": [
    "Tfidf Vectorizer - single terms + bigrams - Logistic regression"
   ]
  },
  {
   "cell_type": "code",
   "execution_count": 33,
   "metadata": {},
   "outputs": [
    {
     "name": "stdout",
     "output_type": "stream",
     "text": [
      "Accuracy =  0.2480427725797212\n",
      "f1 score (micro) =  0.6382017638201765\n",
      "f1 score (macro) =  0.6382017638201765\n",
      "Hamming loss =  0.055058785018685726\n"
     ]
    }
   ],
   "source": [
    "pipeline = simple_pipeline(ngram_range=(1, 2))\n",
    "pipeline.fit(df_train['message'], y_train)\n",
    "classification_metrics(y_test, pipeline.predict(df_test['message']))"
   ]
  },
  {
   "cell_type": "markdown",
   "metadata": {},
   "source": [
    "Tfidf Vectorizer - single terms + bigrams + trigrams - Logistic regression"
   ]
  },
  {
   "cell_type": "code",
   "execution_count": 34,
   "metadata": {},
   "outputs": [
    {
     "name": "stdout",
     "output_type": "stream",
     "text": [
      "Accuracy =  0.2245560435363758\n",
      "f1 score (micro) =  0.6341118188251946\n",
      "f1 score (macro) =  0.6341118188251946\n",
      "Hamming loss =  0.05641179519354047\n"
     ]
    }
   ],
   "source": [
    "pipeline = simple_pipeline(ngram_range=(1, 3))\n",
    "pipeline.fit(df_train['message'], y_train)\n",
    "classification_metrics(y_test, pipeline.predict(df_test['message']))"
   ]
  },
  {
   "cell_type": "markdown",
   "metadata": {},
   "source": [
    "Tfidf Vectorizer - single terms + bigrams + trigrams - SVM with Linear kernel"
   ]
  },
  {
   "cell_type": "code",
   "execution_count": 35,
   "metadata": {},
   "outputs": [
    {
     "name": "stdout",
     "output_type": "stream",
     "text": [
      "Accuracy =  0.28031315638724463\n",
      "f1 score (micro) =  0.6952227243382828\n",
      "f1 score (macro) =  0.6952227243382828\n",
      "Hamming loss =  0.05151258899588096\n"
     ]
    }
   ],
   "source": [
    "pipeline = simple_pipeline(ngram_range=(1, 3), model=LinearSVC)\n",
    "pipeline.fit(df_train['message'], y_train)\n",
    "classification_metrics(y_test, pipeline.predict(df_test['message']))"
   ]
  },
  {
   "cell_type": "markdown",
   "metadata": {},
   "source": [
    "Tfidf Vectorizer - single terms + bigrams + trigrams - Random Forest"
   ]
  },
  {
   "cell_type": "code",
   "execution_count": 37,
   "metadata": {},
   "outputs": [],
   "source": [
    "# pipeline = simple_pipeline(ngram_range=(1, 3), model=RandomForestClassifier)\n",
    "# pipeline.fit(df_train['message'], y_train)\n",
    "# classification_metrics(y_test, pipeline.predict(df_test['message']))"
   ]
  },
  {
   "cell_type": "markdown",
   "metadata": {},
   "source": [
    "It seems like LinearSVC give us the best results here. Let's see if doing some preprocessing on our text improves the model"
   ]
  },
  {
   "cell_type": "code",
   "execution_count": 32,
   "metadata": {},
   "outputs": [],
   "source": [
    "english_stop_words = stopwords.words('english')\n",
    "disaster_stop_words = ['http', 'co', '000', 'bit', 'ly', 'u']\n",
    "stop_words = list(itertools.chain(english_stop_words, disaster_stop_words))"
   ]
  },
  {
   "cell_type": "code",
   "execution_count": 39,
   "metadata": {},
   "outputs": [],
   "source": [
    "def tokenize(text):\n",
    "    text = ' '.join([contractions.fix(word) for word in text.split()])\n",
    "    \n",
    "    tokens = word_tokenize(text)\n",
    "    lemmatizer = WordNetLemmatizer()\n",
    "\n",
    "    clean_tokens = []\n",
    "    for tok in tokens:\n",
    "        clean_tok = lemmatizer.lemmatize(tok).lower().strip()\n",
    "        clean_tokens.append(clean_tok)\n",
    "        \n",
    "    return clean_tokens"
   ]
  },
  {
   "cell_type": "code",
   "execution_count": 40,
   "metadata": {},
   "outputs": [
    {
     "name": "stderr",
     "output_type": "stream",
     "text": [
      "/usr/local/lib/python3.10/site-packages/sklearn/feature_extraction/text.py:528: UserWarning: The parameter 'token_pattern' will not be used since 'tokenizer' is not None'\n",
      "  warnings.warn(\n",
      "/usr/local/lib/python3.10/site-packages/sklearn/feature_extraction/text.py:409: UserWarning: Your stop_words may be inconsistent with your preprocessing. Tokenizing the stop words generated tokens ['could', 'doe', 'ha', 'might', 'must', 'need', 'shall', 'wa', 'would'] not in stop_words.\n",
      "  warnings.warn(\n"
     ]
    },
    {
     "name": "stdout",
     "output_type": "stream",
     "text": [
      "Accuracy =  0.28565972885239643\n",
      "f1 score (micro) =  0.6973097714412165\n",
      "f1 score (macro) =  0.6973097714412165\n",
      "Hamming loss =  0.052238195259008705\n"
     ]
    }
   ],
   "source": [
    "pipeline = simple_pipeline(tokenizer=tokenize, stop_words=stop_words, ngram_range=(1,3), model=LinearSVC)\n",
    "pipeline.fit(df_train['message'], y_train)\n",
    "classification_metrics(y_test, pipeline.predict(df_test['message']))"
   ]
  },
  {
   "cell_type": "markdown",
   "metadata": {},
   "source": [
    "We have some improvements! Let's try to use POS tags to see how things improve"
   ]
  },
  {
   "cell_type": "code",
   "execution_count": 41,
   "metadata": {},
   "outputs": [],
   "source": [
    "def tokenize_pos(tokens):\n",
    "    pos_tags = nltk.pos_tag(tokens, tagset='universal')\n",
    "    return [token+\"_POS-\"+tag for token, tag in pos_tags]"
   ]
  },
  {
   "cell_type": "code",
   "execution_count": 42,
   "metadata": {},
   "outputs": [],
   "source": [
    "# pipeline = Pipeline([\n",
    "#     ('tfidf_vectorizer', TfidfVectorizer(preprocessor=lambda x: x, tokenizer=tokenize_pos)),\n",
    "#     ('model', MultiOutputClassifier(LinearSVC()))\n",
    "# ])\n",
    "# pipeline.fit(df_train['message'], y_train)\n",
    "# classification_metrics(y_test, pipeline.predict(df_test['message']))"
   ]
  },
  {
   "cell_type": "markdown",
   "metadata": {},
   "source": [
    "It took an eternity to run and it made things worse. Let's try to use POS tag another way."
   ]
  },
  {
   "cell_type": "markdown",
   "metadata": {},
   "source": [
    "Maybe it's better to get rid of related, request since they are very representative, easier to classify. We could train another model to predict those two variables. Recall that there is a high correlation between genre and related, requested. Let's try that now"
   ]
  },
  {
   "cell_type": "code",
   "execution_count": 43,
   "metadata": {},
   "outputs": [
    {
     "name": "stdout",
     "output_type": "stream",
     "text": [
      "Accuracy =  0.8247088027496658\n",
      "f1 score (micro) =  0.8247088027496657\n",
      "f1 score (macro) =  0.8247088027496657\n",
      "Hamming loss =  0.17529119725033415\n"
     ]
    }
   ],
   "source": [
    "pipeline_related = Pipeline([\n",
    "    ('tfidf_vectorizer', TfidfVectorizer()),\n",
    "    ('model', (LogisticRegression()))\n",
    "])\n",
    "pipeline_related.fit(df_train['message'], y_train['related'])\n",
    "classification_metrics(y_test['related'], pipeline_related.predict(df_test['message']))"
   ]
  },
  {
   "cell_type": "code",
   "execution_count": 44,
   "metadata": {},
   "outputs": [
    {
     "name": "stdout",
     "output_type": "stream",
     "text": [
      "Accuracy =  0.9029978995608172\n",
      "f1 score (micro) =  0.9029978995608172\n",
      "f1 score (macro) =  0.9029978995608172\n",
      "Hamming loss =  0.09700210043918274\n"
     ]
    }
   ],
   "source": [
    "pipeline_request = Pipeline([\n",
    "    ('tfidf_vectorizer', TfidfVectorizer()),\n",
    "    ('model', (LogisticRegression()))\n",
    "])\n",
    "pipeline_request.fit(df_train['message'], y_train['request'])\n",
    "classification_metrics(y_test['request'], pipeline_request.predict(df_test['message']))"
   ]
  },
  {
   "cell_type": "markdown",
   "metadata": {},
   "source": [
    "We can see that these two variables can be easily predicted with a simple model. We don't need to include them in the rest of our work. Now let's build a multioutput classifier for our most frequent classes: related, aid_related, weather_related, direct_report, request"
   ]
  },
  {
   "cell_type": "code",
   "execution_count": 36,
   "metadata": {},
   "outputs": [],
   "source": [
    "dominant_classes = ['related', 'aid_related', 'weather_related', 'direct_report', 'request']"
   ]
  },
  {
   "cell_type": "code",
   "execution_count": 46,
   "metadata": {},
   "outputs": [
    {
     "name": "stdout",
     "output_type": "stream",
     "text": [
      "Accuracy =  0.45675004773725414\n",
      "f1 score (micro) =  0.7884916986642151\n",
      "f1 score (macro) =  0.7884916986642151\n",
      "Hamming loss =  0.1493603207943479\n"
     ]
    }
   ],
   "source": [
    "pipeline_dominant_classes = simple_pipeline()\n",
    "pipeline_dominant_classes.fit(df_train['message'], y_train[dominant_classes])\n",
    "classification_metrics(y_test[dominant_classes], pipeline_dominant_classes.predict(df_test['message']))"
   ]
  },
  {
   "cell_type": "code",
   "execution_count": 47,
   "metadata": {},
   "outputs": [
    {
     "name": "stdout",
     "output_type": "stream",
     "text": [
      "Accuracy =  0.4628604162688562\n",
      "f1 score (micro) =  0.785756358768407\n",
      "f1 score (macro) =  0.785756358768407\n",
      "Hamming loss =  0.15279740309337406\n"
     ]
    }
   ],
   "source": [
    "pipeline_dominant_classes = simple_pipeline(model=LinearSVC)\n",
    "pipeline_dominant_classes.fit(df_train['message'], y_train[dominant_classes])\n",
    "classification_metrics(y_test[dominant_classes], pipeline_dominant_classes.predict(df_test['message']))"
   ]
  },
  {
   "cell_type": "markdown",
   "metadata": {},
   "source": [
    "Not bad at all. We can see that for those classes, we don't need a state of the art model: LogisitcRegresion even does a slightly better job than LinearSVC. However, when adding Bigrams and Trigrams, our model is better at separating classes. Now let's see how our model performs with the less frequent classes."
   ]
  },
  {
   "cell_type": "code",
   "execution_count": 37,
   "metadata": {},
   "outputs": [],
   "source": [
    "other_classes = list(set(category_colnames) - set(dominant_classes))"
   ]
  },
  {
   "cell_type": "code",
   "execution_count": 49,
   "metadata": {},
   "outputs": [
    {
     "name": "stderr",
     "output_type": "stream",
     "text": [
      "/usr/local/lib/python3.10/site-packages/sklearn/feature_extraction/text.py:528: UserWarning: The parameter 'token_pattern' will not be used since 'tokenizer' is not None'\n",
      "  warnings.warn(\n",
      "/usr/local/lib/python3.10/site-packages/sklearn/feature_extraction/text.py:409: UserWarning: Your stop_words may be inconsistent with your preprocessing. Tokenizing the stop words generated tokens ['could', 'doe', 'ha', 'might', 'must', 'need', 'shall', 'wa', 'would'] not in stop_words.\n",
      "  warnings.warn(\n"
     ]
    },
    {
     "name": "stdout",
     "output_type": "stream",
     "text": [
      "Accuracy =  0.5021959136910444\n",
      "f1 score (micro) =  0.36985433818872704\n",
      "f1 score (macro) =  0.36985433818872704\n",
      "Hamming loss =  0.037998854305900324\n"
     ]
    }
   ],
   "source": [
    "pipeline_other_classes = simple_pipeline(tokenizer=tokenize, stop_words=stop_words, ngram_range=(1,3))\n",
    "pipeline_other_classes.fit(df_train['message'], y_train[other_classes])\n",
    "classification_metrics(y_test[other_classes], pipeline_other_classes.predict(df_test['message']))"
   ]
  },
  {
   "cell_type": "code",
   "execution_count": 50,
   "metadata": {},
   "outputs": [
    {
     "name": "stderr",
     "output_type": "stream",
     "text": [
      "/usr/local/lib/python3.10/site-packages/sklearn/feature_extraction/text.py:528: UserWarning: The parameter 'token_pattern' will not be used since 'tokenizer' is not None'\n",
      "  warnings.warn(\n",
      "/usr/local/lib/python3.10/site-packages/sklearn/feature_extraction/text.py:409: UserWarning: Your stop_words may be inconsistent with your preprocessing. Tokenizing the stop words generated tokens ['could', 'doe', 'ha', 'might', 'must', 'need', 'shall', 'wa', 'would'] not in stop_words.\n",
      "  warnings.warn(\n"
     ]
    },
    {
     "name": "stdout",
     "output_type": "stream",
     "text": [
      "Accuracy =  0.49474890204315447\n",
      "f1 score (micro) =  0.36024973985431846\n",
      "f1 score (macro) =  0.36024973985431846\n",
      "Hamming loss =  0.03913181847113487\n"
     ]
    }
   ],
   "source": [
    "pipeline_other_classes = simple_pipeline(tokenizer=tokenize, stop_words=stop_words, ngram_range=(2,2), model=LinearSVC)\n",
    "pipeline_other_classes.fit(df_train['message'], y_train[other_classes])\n",
    "classification_metrics(y_test[other_classes], pipeline_other_classes.predict(df_test['message']))"
   ]
  },
  {
   "cell_type": "code",
   "execution_count": 51,
   "metadata": {},
   "outputs": [
    {
     "name": "stderr",
     "output_type": "stream",
     "text": [
      "/usr/local/lib/python3.10/site-packages/sklearn/feature_extraction/text.py:528: UserWarning: The parameter 'token_pattern' will not be used since 'tokenizer' is not None'\n",
      "  warnings.warn(\n",
      "/usr/local/lib/python3.10/site-packages/sklearn/feature_extraction/text.py:409: UserWarning: Your stop_words may be inconsistent with your preprocessing. Tokenizing the stop words generated tokens ['could', 'doe', 'ha', 'might', 'must', 'need', 'shall', 'wa', 'would'] not in stop_words.\n",
      "  warnings.warn(\n"
     ]
    },
    {
     "name": "stdout",
     "output_type": "stream",
     "text": [
      "Accuracy =  0.5075424861561963\n",
      "f1 score (micro) =  0.5324653075209869\n",
      "f1 score (macro) =  0.5324653075209869\n",
      "Hamming loss =  0.034739991089045894\n"
     ]
    }
   ],
   "source": [
    "pipeline_other_classes = simple_pipeline(tokenizer=tokenize, stop_words=stop_words, ngram_range=(1,3), model=LinearSVC)\n",
    "pipeline_other_classes.fit(df_train['message'], y_train[other_classes])\n",
    "classification_metrics(y_test[other_classes], pipeline_other_classes.predict(df_test['message']))"
   ]
  },
  {
   "cell_type": "markdown",
   "metadata": {},
   "source": [
    "We get the best performance overall when using single terms, bigrams and trigrams.  Using bigrams alone degrades our performance. Overall, We can see that our f1 score went down but still stays about 60%. Now we know that this score isn't influenced by the other two labels. Let's take a look at the classification report for each label independently"
   ]
  },
  {
   "cell_type": "code",
   "execution_count": 52,
   "metadata": {},
   "outputs": [],
   "source": [
    "def classification_report_dataframe(y_test, y_pred, i, col):\n",
    "    classification_report_dict = classification_report(y_test[:, i], \n",
    "                                                       y_pred[:, i], \n",
    "                                                       target_names=[f'is not {col}', f'is {col}'], \n",
    "                                                       output_dict=True)\n",
    "    return pd.DataFrame.from_dict(classification_report_dict).transpose().iloc[:2, :]"
   ]
  },
  {
   "cell_type": "code",
   "execution_count": 53,
   "metadata": {},
   "outputs": [
    {
     "data": {
      "text/html": [
       "<div>\n",
       "<style scoped>\n",
       "    .dataframe tbody tr th:only-of-type {\n",
       "        vertical-align: middle;\n",
       "    }\n",
       "\n",
       "    .dataframe tbody tr th {\n",
       "        vertical-align: top;\n",
       "    }\n",
       "\n",
       "    .dataframe thead th {\n",
       "        text-align: right;\n",
       "    }\n",
       "</style>\n",
       "<table border=\"1\" class=\"dataframe\">\n",
       "  <thead>\n",
       "    <tr style=\"text-align: right;\">\n",
       "      <th></th>\n",
       "      <th>precision</th>\n",
       "      <th>recall</th>\n",
       "      <th>f1-score</th>\n",
       "      <th>support</th>\n",
       "    </tr>\n",
       "  </thead>\n",
       "  <tbody>\n",
       "    <tr>\n",
       "      <th>is not related</th>\n",
       "      <td>0.648915</td>\n",
       "      <td>0.529364</td>\n",
       "      <td>0.583075</td>\n",
       "      <td>1243.0</td>\n",
       "    </tr>\n",
       "    <tr>\n",
       "      <th>is related</th>\n",
       "      <td>0.861473</td>\n",
       "      <td>0.910866</td>\n",
       "      <td>0.885481</td>\n",
       "      <td>3994.0</td>\n",
       "    </tr>\n",
       "    <tr>\n",
       "      <th>is not aid_related</th>\n",
       "      <td>0.784698</td>\n",
       "      <td>0.822399</td>\n",
       "      <td>0.803106</td>\n",
       "      <td>3018.0</td>\n",
       "    </tr>\n",
       "    <tr>\n",
       "      <th>is aid_related</th>\n",
       "      <td>0.741562</td>\n",
       "      <td>0.693105</td>\n",
       "      <td>0.716515</td>\n",
       "      <td>2219.0</td>\n",
       "    </tr>\n",
       "    <tr>\n",
       "      <th>is not weather_related</th>\n",
       "      <td>0.891473</td>\n",
       "      <td>0.943621</td>\n",
       "      <td>0.916806</td>\n",
       "      <td>3778.0</td>\n",
       "    </tr>\n",
       "    <tr>\n",
       "      <th>is weather_related</th>\n",
       "      <td>0.827948</td>\n",
       "      <td>0.702536</td>\n",
       "      <td>0.760104</td>\n",
       "      <td>1459.0</td>\n",
       "    </tr>\n",
       "    <tr>\n",
       "      <th>is not direct_report</th>\n",
       "      <td>0.895987</td>\n",
       "      <td>0.950987</td>\n",
       "      <td>0.922669</td>\n",
       "      <td>4203.0</td>\n",
       "    </tr>\n",
       "    <tr>\n",
       "      <th>is direct_report</th>\n",
       "      <td>0.734536</td>\n",
       "      <td>0.551257</td>\n",
       "      <td>0.629834</td>\n",
       "      <td>1034.0</td>\n",
       "    </tr>\n",
       "    <tr>\n",
       "      <th>is not request</th>\n",
       "      <td>0.918865</td>\n",
       "      <td>0.962834</td>\n",
       "      <td>0.940336</td>\n",
       "      <td>4305.0</td>\n",
       "    </tr>\n",
       "    <tr>\n",
       "      <th>is request</th>\n",
       "      <td>0.779614</td>\n",
       "      <td>0.607296</td>\n",
       "      <td>0.682750</td>\n",
       "      <td>932.0</td>\n",
       "    </tr>\n",
       "  </tbody>\n",
       "</table>\n",
       "</div>"
      ],
      "text/plain": [
       "                        precision    recall  f1-score  support\n",
       "is not related           0.648915  0.529364  0.583075   1243.0\n",
       "is related               0.861473  0.910866  0.885481   3994.0\n",
       "is not aid_related       0.784698  0.822399  0.803106   3018.0\n",
       "is aid_related           0.741562  0.693105  0.716515   2219.0\n",
       "is not weather_related   0.891473  0.943621  0.916806   3778.0\n",
       "is weather_related       0.827948  0.702536  0.760104   1459.0\n",
       "is not direct_report     0.895987  0.950987  0.922669   4203.0\n",
       "is direct_report         0.734536  0.551257  0.629834   1034.0\n",
       "is not request           0.918865  0.962834  0.940336   4305.0\n",
       "is request               0.779614  0.607296  0.682750    932.0"
      ]
     },
     "execution_count": 53,
     "metadata": {},
     "output_type": "execute_result"
    }
   ],
   "source": [
    "y_pred_dominant = pipeline_dominant_classes.predict(df_test['message'])\n",
    "y_test_dominant = np.array(y_test[dominant_classes])\n",
    "\n",
    "df_reports = []\n",
    "for i, col in enumerate(dominant_classes):\n",
    "    df_reports.append(classification_report_dataframe(y_test_dominant, y_pred_dominant, i, col))\n",
    "pd.concat(df_reports)"
   ]
  },
  {
   "cell_type": "code",
   "execution_count": 54,
   "metadata": {},
   "outputs": [
    {
     "data": {
      "text/html": [
       "<div>\n",
       "<style scoped>\n",
       "    .dataframe tbody tr th:only-of-type {\n",
       "        vertical-align: middle;\n",
       "    }\n",
       "\n",
       "    .dataframe tbody tr th {\n",
       "        vertical-align: top;\n",
       "    }\n",
       "\n",
       "    .dataframe thead th {\n",
       "        text-align: right;\n",
       "    }\n",
       "</style>\n",
       "<table border=\"1\" class=\"dataframe\">\n",
       "  <thead>\n",
       "    <tr style=\"text-align: right;\">\n",
       "      <th></th>\n",
       "      <th>precision</th>\n",
       "      <th>recall</th>\n",
       "      <th>f1-score</th>\n",
       "      <th>support</th>\n",
       "    </tr>\n",
       "  </thead>\n",
       "  <tbody>\n",
       "    <tr>\n",
       "      <th>is other_aid</th>\n",
       "      <td>0.512755</td>\n",
       "      <td>0.274966</td>\n",
       "      <td>0.357970</td>\n",
       "      <td>731.0</td>\n",
       "    </tr>\n",
       "    <tr>\n",
       "      <th>is food</th>\n",
       "      <td>0.795645</td>\n",
       "      <td>0.799663</td>\n",
       "      <td>0.797649</td>\n",
       "      <td>594.0</td>\n",
       "    </tr>\n",
       "    <tr>\n",
       "      <th>is earthquake</th>\n",
       "      <td>0.888372</td>\n",
       "      <td>0.757937</td>\n",
       "      <td>0.817987</td>\n",
       "      <td>504.0</td>\n",
       "    </tr>\n",
       "    <tr>\n",
       "      <th>is shelter</th>\n",
       "      <td>0.714617</td>\n",
       "      <td>0.640333</td>\n",
       "      <td>0.675439</td>\n",
       "      <td>481.0</td>\n",
       "    </tr>\n",
       "    <tr>\n",
       "      <th>is storm</th>\n",
       "      <td>0.668845</td>\n",
       "      <td>0.655983</td>\n",
       "      <td>0.662352</td>\n",
       "      <td>468.0</td>\n",
       "    </tr>\n",
       "    <tr>\n",
       "      <th>is medical_help</th>\n",
       "      <td>0.549153</td>\n",
       "      <td>0.381176</td>\n",
       "      <td>0.450000</td>\n",
       "      <td>425.0</td>\n",
       "    </tr>\n",
       "    <tr>\n",
       "      <th>is floods</th>\n",
       "      <td>0.803448</td>\n",
       "      <td>0.553444</td>\n",
       "      <td>0.655415</td>\n",
       "      <td>421.0</td>\n",
       "    </tr>\n",
       "    <tr>\n",
       "      <th>is infrastructure_related</th>\n",
       "      <td>0.414286</td>\n",
       "      <td>0.080332</td>\n",
       "      <td>0.134571</td>\n",
       "      <td>361.0</td>\n",
       "    </tr>\n",
       "    <tr>\n",
       "      <th>is water</th>\n",
       "      <td>0.724234</td>\n",
       "      <td>0.769231</td>\n",
       "      <td>0.746055</td>\n",
       "      <td>338.0</td>\n",
       "    </tr>\n",
       "    <tr>\n",
       "      <th>is other_weather</th>\n",
       "      <td>0.561404</td>\n",
       "      <td>0.121212</td>\n",
       "      <td>0.199377</td>\n",
       "      <td>264.0</td>\n",
       "    </tr>\n",
       "    <tr>\n",
       "      <th>is medical_products</th>\n",
       "      <td>0.661654</td>\n",
       "      <td>0.342412</td>\n",
       "      <td>0.451282</td>\n",
       "      <td>257.0</td>\n",
       "    </tr>\n",
       "    <tr>\n",
       "      <th>is transport</th>\n",
       "      <td>0.742268</td>\n",
       "      <td>0.283465</td>\n",
       "      <td>0.410256</td>\n",
       "      <td>254.0</td>\n",
       "    </tr>\n",
       "    <tr>\n",
       "      <th>is death</th>\n",
       "      <td>0.766082</td>\n",
       "      <td>0.517787</td>\n",
       "      <td>0.617925</td>\n",
       "      <td>253.0</td>\n",
       "    </tr>\n",
       "    <tr>\n",
       "      <th>is buildings</th>\n",
       "      <td>0.643243</td>\n",
       "      <td>0.470356</td>\n",
       "      <td>0.543379</td>\n",
       "      <td>253.0</td>\n",
       "    </tr>\n",
       "    <tr>\n",
       "      <th>is other_infrastructure</th>\n",
       "      <td>0.357143</td>\n",
       "      <td>0.041494</td>\n",
       "      <td>0.074349</td>\n",
       "      <td>241.0</td>\n",
       "    </tr>\n",
       "    <tr>\n",
       "      <th>is military</th>\n",
       "      <td>0.606061</td>\n",
       "      <td>0.329670</td>\n",
       "      <td>0.427046</td>\n",
       "      <td>182.0</td>\n",
       "    </tr>\n",
       "    <tr>\n",
       "      <th>is refugees</th>\n",
       "      <td>0.671642</td>\n",
       "      <td>0.250000</td>\n",
       "      <td>0.364372</td>\n",
       "      <td>180.0</td>\n",
       "    </tr>\n",
       "    <tr>\n",
       "      <th>is search_and_rescue</th>\n",
       "      <td>0.763158</td>\n",
       "      <td>0.185897</td>\n",
       "      <td>0.298969</td>\n",
       "      <td>156.0</td>\n",
       "    </tr>\n",
       "    <tr>\n",
       "      <th>is money</th>\n",
       "      <td>0.763636</td>\n",
       "      <td>0.325581</td>\n",
       "      <td>0.456522</td>\n",
       "      <td>129.0</td>\n",
       "    </tr>\n",
       "    <tr>\n",
       "      <th>is cold</th>\n",
       "      <td>0.755556</td>\n",
       "      <td>0.269841</td>\n",
       "      <td>0.397661</td>\n",
       "      <td>126.0</td>\n",
       "    </tr>\n",
       "    <tr>\n",
       "      <th>is electricity</th>\n",
       "      <td>0.564516</td>\n",
       "      <td>0.327103</td>\n",
       "      <td>0.414201</td>\n",
       "      <td>107.0</td>\n",
       "    </tr>\n",
       "    <tr>\n",
       "      <th>is security</th>\n",
       "      <td>0.500000</td>\n",
       "      <td>0.023529</td>\n",
       "      <td>0.044944</td>\n",
       "      <td>85.0</td>\n",
       "    </tr>\n",
       "    <tr>\n",
       "      <th>is missing_people</th>\n",
       "      <td>0.636364</td>\n",
       "      <td>0.087500</td>\n",
       "      <td>0.153846</td>\n",
       "      <td>80.0</td>\n",
       "    </tr>\n",
       "    <tr>\n",
       "      <th>is clothing</th>\n",
       "      <td>0.800000</td>\n",
       "      <td>0.426667</td>\n",
       "      <td>0.556522</td>\n",
       "      <td>75.0</td>\n",
       "    </tr>\n",
       "    <tr>\n",
       "      <th>is aid_centers</th>\n",
       "      <td>1.000000</td>\n",
       "      <td>0.015152</td>\n",
       "      <td>0.029851</td>\n",
       "      <td>66.0</td>\n",
       "    </tr>\n",
       "    <tr>\n",
       "      <th>is fire</th>\n",
       "      <td>0.846154</td>\n",
       "      <td>0.180328</td>\n",
       "      <td>0.297297</td>\n",
       "      <td>61.0</td>\n",
       "    </tr>\n",
       "    <tr>\n",
       "      <th>is hospitals</th>\n",
       "      <td>0.250000</td>\n",
       "      <td>0.016667</td>\n",
       "      <td>0.031250</td>\n",
       "      <td>60.0</td>\n",
       "    </tr>\n",
       "    <tr>\n",
       "      <th>is tools</th>\n",
       "      <td>0.000000</td>\n",
       "      <td>0.000000</td>\n",
       "      <td>0.000000</td>\n",
       "      <td>41.0</td>\n",
       "    </tr>\n",
       "    <tr>\n",
       "      <th>is shops</th>\n",
       "      <td>0.000000</td>\n",
       "      <td>0.000000</td>\n",
       "      <td>0.000000</td>\n",
       "      <td>26.0</td>\n",
       "    </tr>\n",
       "    <tr>\n",
       "      <th>is offer</th>\n",
       "      <td>0.000000</td>\n",
       "      <td>0.000000</td>\n",
       "      <td>0.000000</td>\n",
       "      <td>22.0</td>\n",
       "    </tr>\n",
       "  </tbody>\n",
       "</table>\n",
       "</div>"
      ],
      "text/plain": [
       "                           precision    recall  f1-score  support\n",
       "is other_aid                0.512755  0.274966  0.357970    731.0\n",
       "is food                     0.795645  0.799663  0.797649    594.0\n",
       "is earthquake               0.888372  0.757937  0.817987    504.0\n",
       "is shelter                  0.714617  0.640333  0.675439    481.0\n",
       "is storm                    0.668845  0.655983  0.662352    468.0\n",
       "is medical_help             0.549153  0.381176  0.450000    425.0\n",
       "is floods                   0.803448  0.553444  0.655415    421.0\n",
       "is infrastructure_related   0.414286  0.080332  0.134571    361.0\n",
       "is water                    0.724234  0.769231  0.746055    338.0\n",
       "is other_weather            0.561404  0.121212  0.199377    264.0\n",
       "is medical_products         0.661654  0.342412  0.451282    257.0\n",
       "is transport                0.742268  0.283465  0.410256    254.0\n",
       "is death                    0.766082  0.517787  0.617925    253.0\n",
       "is buildings                0.643243  0.470356  0.543379    253.0\n",
       "is other_infrastructure     0.357143  0.041494  0.074349    241.0\n",
       "is military                 0.606061  0.329670  0.427046    182.0\n",
       "is refugees                 0.671642  0.250000  0.364372    180.0\n",
       "is search_and_rescue        0.763158  0.185897  0.298969    156.0\n",
       "is money                    0.763636  0.325581  0.456522    129.0\n",
       "is cold                     0.755556  0.269841  0.397661    126.0\n",
       "is electricity              0.564516  0.327103  0.414201    107.0\n",
       "is security                 0.500000  0.023529  0.044944     85.0\n",
       "is missing_people           0.636364  0.087500  0.153846     80.0\n",
       "is clothing                 0.800000  0.426667  0.556522     75.0\n",
       "is aid_centers              1.000000  0.015152  0.029851     66.0\n",
       "is fire                     0.846154  0.180328  0.297297     61.0\n",
       "is hospitals                0.250000  0.016667  0.031250     60.0\n",
       "is tools                    0.000000  0.000000  0.000000     41.0\n",
       "is shops                    0.000000  0.000000  0.000000     26.0\n",
       "is offer                    0.000000  0.000000  0.000000     22.0"
      ]
     },
     "execution_count": 54,
     "metadata": {},
     "output_type": "execute_result"
    }
   ],
   "source": [
    "%%capture --no-display\n",
    "\n",
    "y_pred_other = pipeline_other_classes.predict(df_test['message'])\n",
    "y_test_other = np.array(y_test[other_classes])\n",
    "\n",
    "df_reports = []\n",
    "for i, col in enumerate(other_classes):\n",
    "    df_reports.append(classification_report_dataframe(y_test_other, y_pred_other, i, col))\n",
    "report_df = pd.concat(df_reports)\n",
    "report_df[~report_df.index.str.startswith('is not')].sort_values(by='support', ascending=False)"
   ]
  },
  {
   "cell_type": "markdown",
   "metadata": {},
   "source": [
    "Because our Data is unbalanced, we can try to apply some over sampling data techniques.\n",
    "Let's apply some Text Augmentation techniques. Let's apply some EDA (Easy Data Augmentation) techniques."
   ]
  },
  {
   "cell_type": "markdown",
   "metadata": {},
   "source": [
    "First, we can plot our label distribution for those other categories"
   ]
  },
  {
   "cell_type": "code",
   "execution_count": 38,
   "metadata": {},
   "outputs": [],
   "source": [
    "def plot_label_distributions(df_labels):\n",
    "    plt.figure(figsize=(5, 5))\n",
    "\n",
    "    title = 'labels_distribution'\n",
    "    base_color = sb.color_palette()[0]\n",
    "    class_counts = df_labels.sum().sort_values(ascending=False).to_frame().reset_index()\n",
    "    class_counts.columns = ['labels', 'count']\n",
    "    bar_plot = sb.barplot(data=class_counts, y='labels', x='count', color=base_color)\n",
    "    plt.title(title);"
   ]
  },
  {
   "cell_type": "code",
   "execution_count": 39,
   "metadata": {},
   "outputs": [
    {
     "data": {
      "image/png": "[encoded data removed]",
      "text/plain": [
       "<Figure size 500x500 with 1 Axes>"
      ]
     },
     "metadata": {},
     "output_type": "display_data"
    }
   ],
   "source": [
    "plot_label_distributions(y_train[other_classes])"
   ]
  },
  {
   "cell_type": "code",
   "execution_count": 41,
   "metadata": {},
   "outputs": [],
   "source": [
    "import nlpaug.augmenter.char as nac\n",
    "import nlpaug.augmenter.word as naw\n",
    "import nlpaug.augmenter.sentence as nas\n",
    "import nlpaug.flow as naf\n",
    "\n",
    "from nlpaug.util import Action\n",
    "from nlpaug.util.file.download import DownloadUtil\n",
    "# DownloadUtil.download_glove(model_name='glove.6B', dest_dir='./content')"
   ]
  },
  {
   "cell_type": "code",
   "execution_count": 78,
   "metadata": {},
   "outputs": [],
   "source": [
    "text = 'climate change puts the squeeze on olives production'"
   ]
  },
  {
   "cell_type": "markdown",
   "metadata": {},
   "source": [
    "Initialize our Word Augmentation Objects"
   ]
  },
  {
   "cell_type": "code",
   "execution_count": 43,
   "metadata": {},
   "outputs": [],
   "source": [
    "bert_aug = naw.ContextualWordEmbsAug(model_path='bert-base-uncased', action=\"substitute\", stopwords=stop_words)\n",
    "\n",
    "w2v_aug = naw.WordEmbsAug(model_type='glove', model_path='./content/glove.6B.100d.txt', action=\"insert\", stopwords=stop_words)\n",
    "\n",
    "random_swap_aug = naw.random.RandomWordAug(action='swap', stopwords=stop_words)\n",
    "\n",
    "random_delete_aug = naw.random.RandomWordAug(action='delete', stopwords=stop_words)"
   ]
  },
  {
   "cell_type": "code",
   "execution_count": 44,
   "metadata": {},
   "outputs": [],
   "source": [
    "# sentence = 'climate change puts the squeeze on wine production'\n",
    "# aug = naw.random.RandomWordAug(action='swap', aug_p=0.3)\n",
    "# augmented_text = aug.augment(text, n=1)\n",
    "# print('Original text :', text)\n",
    "# print('Augmented text :', augmented_text)"
   ]
  },
  {
   "cell_type": "markdown",
   "metadata": {},
   "source": [
    "Because we're in a multi-label setting, we want to identify the real misrepresented samples. There are possiblities that samples which contain minority labels can also contain majority labels. We will use a mix of techniques from the MLSMOTE paper combined with Text Data Augmentation. It's going to be fun!"
   ]
  },
  {
   "cell_type": "markdown",
   "metadata": {},
   "source": [
    "Let's write a function which calculate the imbalance ratio"
   ]
  },
  {
   "cell_type": "code",
   "execution_count": 45,
   "metadata": {},
   "outputs": [],
   "source": [
    "def get_tail_label(df: pd.DataFrame, ql=[0.05, 1.]) -> list:\n",
    "    \"\"\"\n",
    "    Find the underrepresented targets.\n",
    "    Underrepresented targets are those which are observed less than the median occurance.\n",
    "    Targets beyond a quantile limit are filtered.\n",
    "    \"\"\"\n",
    "    irlbl = df.sum(axis=0)\n",
    "    irlbl = irlbl[(irlbl > irlbl.quantile(ql[0])) & ((irlbl < irlbl.quantile(ql[1])))]  # Filtering\n",
    "    irlbl = irlbl.max() / irlbl\n",
    "    threshold_irlbl = irlbl.median()\n",
    "    tail_label = irlbl[irlbl > threshold_irlbl].index.tolist()\n",
    "    return tail_label"
   ]
  },
  {
   "cell_type": "code",
   "execution_count": 46,
   "metadata": {},
   "outputs": [],
   "source": [
    "def get_minority_samples(X: pd.DataFrame, y: pd.DataFrame, ql=[0.05, 1.]):\n",
    "    \"\"\"\n",
    "    return\n",
    "    X_sub: pandas.DataFrame, the feature vector minority dataframe\n",
    "    y_sub: pandas.DataFrame, the target vector minority dataframe\n",
    "    \"\"\"\n",
    "    tail_labels = get_tail_label(y, ql=ql)\n",
    "    index = y[y[tail_labels].apply(lambda x: (x == 1).any(), axis=1)].index.tolist()\n",
    "    \n",
    "    X_sub = X[X.index.isin(index)].reset_index(drop = True)\n",
    "    y_sub = y[y.index.isin(index)].reset_index(drop = True)\n",
    "    return X_sub, y_sub"
   ]
  },
  {
   "cell_type": "code",
   "execution_count": 47,
   "metadata": {},
   "outputs": [],
   "source": [
    "df_train_minority, _ = get_minority_samples(df_train, y_train)"
   ]
  },
  {
   "cell_type": "markdown",
   "metadata": {},
   "source": [
    "Now we know exactly which samples we need to augment. We need to decide what percent of words to be altered in a sentence, but also the number of augmented sentences per sample. Let's call the first alpha, and the second Naug. According to the litterature, when having more than 5000 data points, the best performance has been obtained wiht alpha=0.1, and Naug=4."
   ]
  },
  {
   "cell_type": "markdown",
   "metadata": {},
   "source": [
    "Regarding the operations that we will be performing, we will opt for a mix of Synonym Replacement, Random Insertion, Random Swap & Random Deletion. All fours have shown to work equally well."
   ]
  },
  {
   "cell_type": "code",
   "execution_count": 65,
   "metadata": {},
   "outputs": [
    {
     "data": {
      "text/html": [
       "<div>\n",
       "<style scoped>\n",
       "    .dataframe tbody tr th:only-of-type {\n",
       "        vertical-align: middle;\n",
       "    }\n",
       "\n",
       "    .dataframe tbody tr th {\n",
       "        vertical-align: top;\n",
       "    }\n",
       "\n",
       "    .dataframe thead th {\n",
       "        text-align: right;\n",
       "    }\n",
       "</style>\n",
       "<table border=\"1\" class=\"dataframe\">\n",
       "  <thead>\n",
       "    <tr style=\"text-align: right;\">\n",
       "      <th></th>\n",
       "      <th>id</th>\n",
       "      <th>message</th>\n",
       "      <th>original</th>\n",
       "      <th>genre</th>\n",
       "      <th>related</th>\n",
       "      <th>request</th>\n",
       "      <th>offer</th>\n",
       "      <th>aid_related</th>\n",
       "      <th>medical_help</th>\n",
       "      <th>medical_products</th>\n",
       "      <th>...</th>\n",
       "      <th>aid_centers</th>\n",
       "      <th>other_infrastructure</th>\n",
       "      <th>weather_related</th>\n",
       "      <th>floods</th>\n",
       "      <th>storm</th>\n",
       "      <th>fire</th>\n",
       "      <th>earthquake</th>\n",
       "      <th>cold</th>\n",
       "      <th>other_weather</th>\n",
       "      <th>direct_report</th>\n",
       "    </tr>\n",
       "  </thead>\n",
       "  <tbody>\n",
       "    <tr>\n",
       "      <th>0</th>\n",
       "      <td>15133</td>\n",
       "      <td>a</td>\n",
       "      <td>NaN</td>\n",
       "      <td>social</td>\n",
       "      <td>1</td>\n",
       "      <td>0</td>\n",
       "      <td>0</td>\n",
       "      <td>1</td>\n",
       "      <td>0</td>\n",
       "      <td>1</td>\n",
       "      <td>...</td>\n",
       "      <td>0</td>\n",
       "      <td>0</td>\n",
       "      <td>1</td>\n",
       "      <td>1</td>\n",
       "      <td>1</td>\n",
       "      <td>0</td>\n",
       "      <td>0</td>\n",
       "      <td>1</td>\n",
       "      <td>0</td>\n",
       "      <td>1</td>\n",
       "    </tr>\n",
       "    <tr>\n",
       "      <th>1</th>\n",
       "      <td>15133</td>\n",
       "      <td>b</td>\n",
       "      <td>NaN</td>\n",
       "      <td>social</td>\n",
       "      <td>1</td>\n",
       "      <td>0</td>\n",
       "      <td>0</td>\n",
       "      <td>1</td>\n",
       "      <td>0</td>\n",
       "      <td>1</td>\n",
       "      <td>...</td>\n",
       "      <td>0</td>\n",
       "      <td>0</td>\n",
       "      <td>1</td>\n",
       "      <td>1</td>\n",
       "      <td>1</td>\n",
       "      <td>0</td>\n",
       "      <td>0</td>\n",
       "      <td>1</td>\n",
       "      <td>0</td>\n",
       "      <td>1</td>\n",
       "    </tr>\n",
       "  </tbody>\n",
       "</table>\n",
       "<p>2 rows × 39 columns</p>\n",
       "</div>"
      ],
      "text/plain": [
       "      id message original   genre  related  request  offer  aid_related  \\\n",
       "0  15133       a      NaN  social        1        0      0            1   \n",
       "1  15133       b      NaN  social        1        0      0            1   \n",
       "\n",
       "   medical_help  medical_products  ...  aid_centers  other_infrastructure  \\\n",
       "0             0                 1  ...            0                     0   \n",
       "1             0                 1  ...            0                     0   \n",
       "\n",
       "   weather_related  floods  storm  fire  earthquake  cold  other_weather  \\\n",
       "0                1       1      1     0           0     1              0   \n",
       "1                1       1      1     0           0     1              0   \n",
       "\n",
       "   direct_report  \n",
       "0              1  \n",
       "1              1  \n",
       "\n",
       "[2 rows x 39 columns]"
      ]
     },
     "execution_count": 65,
     "metadata": {},
     "output_type": "execute_result"
    }
   ],
   "source": [
    "row = df_train_minority.iloc[[1]]\n",
    "augmented_df = pd.concat([row]*8).reset_index(drop=True)\n",
    "row_indexer = augmented_df.iloc[0:2].index\n",
    "augmented_df.loc[row_indexer, 'message'] = ['a', 'b']\n",
    "augmented_df.loc[row_indexer, :]"
   ]
  },
  {
   "cell_type": "code",
   "execution_count": 75,
   "metadata": {},
   "outputs": [],
   "source": [
    "def process_data_point(i, df_minority, n_aug, augmentations, n_aug_per_method):\n",
    "    message = df_minority.iloc[i]['message']\n",
    "\n",
    "    copy_row = df_minority.iloc[[i]]\n",
    "    augmented_sub_df = pd.concat([copy_row] * n_aug).reset_index(drop=True)\n",
    "\n",
    "    slice_idx = 0\n",
    "    for aug in augmentations:\n",
    "        row_indexer = augmented_sub_df.iloc[slice_idx:slice_idx+n_aug_per_method].index\n",
    "        augmented_sub_df.loc[row_indexer, 'message'] = aug.augment(message, n=n_aug_per_method)\n",
    "        slice_idx += n_aug_per_method\n",
    "\n",
    "    return augmented_sub_df"
   ]
  },
  {
   "cell_type": "code",
   "execution_count": 90,
   "metadata": {},
   "outputs": [
    {
     "ename": "ValueError",
     "evalue": "filedescriptor out of range in select()",
     "output_type": "error",
     "traceback": [
      "\u001b[0;31m---------------------------------------------------------------------------\u001b[0m",
      "\u001b[0;31mValueError\u001b[0m                                Traceback (most recent call last)",
      "Cell \u001b[0;32mIn[90], line 1\u001b[0m\n\u001b[0;32m----> 1\u001b[0m \u001b[43mget_ipython\u001b[49m\u001b[43m(\u001b[49m\u001b[43m)\u001b[49m\u001b[38;5;241;43m.\u001b[39;49m\u001b[43msystem\u001b[49m\u001b[43m(\u001b[49m\u001b[38;5;124;43m'\u001b[39;49m\u001b[38;5;124;43mpip install p_tqdm\u001b[39;49m\u001b[38;5;124;43m'\u001b[39;49m\u001b[43m)\u001b[49m\n",
      "File \u001b[0;32m/usr/local/lib/python3.10/site-packages/ipykernel/zmqshell.py:633\u001b[0m, in \u001b[0;36mZMQInteractiveShell.system_piped\u001b[0;34m(self, cmd)\u001b[0m\n\u001b[1;32m    631\u001b[0m         \u001b[38;5;28mself\u001b[39m\u001b[38;5;241m.\u001b[39muser_ns[\u001b[38;5;124m\"\u001b[39m\u001b[38;5;124m_exit_code\u001b[39m\u001b[38;5;124m\"\u001b[39m] \u001b[38;5;241m=\u001b[39m system(cmd)\n\u001b[1;32m    632\u001b[0m \u001b[38;5;28;01melse\u001b[39;00m:\n\u001b[0;32m--> 633\u001b[0m     \u001b[38;5;28mself\u001b[39m\u001b[38;5;241m.\u001b[39muser_ns[\u001b[38;5;124m\"\u001b[39m\u001b[38;5;124m_exit_code\u001b[39m\u001b[38;5;124m\"\u001b[39m] \u001b[38;5;241m=\u001b[39m \u001b[43msystem\u001b[49m\u001b[43m(\u001b[49m\u001b[38;5;28;43mself\u001b[39;49m\u001b[38;5;241;43m.\u001b[39;49m\u001b[43mvar_expand\u001b[49m\u001b[43m(\u001b[49m\u001b[43mcmd\u001b[49m\u001b[43m,\u001b[49m\u001b[43m \u001b[49m\u001b[43mdepth\u001b[49m\u001b[38;5;241;43m=\u001b[39;49m\u001b[38;5;241;43m1\u001b[39;49m\u001b[43m)\u001b[49m\u001b[43m)\u001b[49m\n",
      "File \u001b[0;32m/usr/local/lib/python3.10/site-packages/IPython/utils/_process_posix.py:153\u001b[0m, in \u001b[0;36mProcessHandler.system\u001b[0;34m(self, cmd)\u001b[0m\n\u001b[1;32m    149\u001b[0m flush \u001b[38;5;241m=\u001b[39m sys\u001b[38;5;241m.\u001b[39mstdout\u001b[38;5;241m.\u001b[39mflush\n\u001b[1;32m    150\u001b[0m \u001b[38;5;28;01mwhile\u001b[39;00m \u001b[38;5;28;01mTrue\u001b[39;00m:\n\u001b[1;32m    151\u001b[0m     \u001b[38;5;66;03m# res is the index of the pattern that caused the match, so we\u001b[39;00m\n\u001b[1;32m    152\u001b[0m     \u001b[38;5;66;03m# know whether we've finished (if we matched EOF) or not\u001b[39;00m\n\u001b[0;32m--> 153\u001b[0m     res_idx \u001b[38;5;241m=\u001b[39m \u001b[43mchild\u001b[49m\u001b[38;5;241;43m.\u001b[39;49m\u001b[43mexpect_list\u001b[49m\u001b[43m(\u001b[49m\u001b[43mpatterns\u001b[49m\u001b[43m,\u001b[49m\u001b[43m \u001b[49m\u001b[38;5;28;43mself\u001b[39;49m\u001b[38;5;241;43m.\u001b[39;49m\u001b[43mread_timeout\u001b[49m\u001b[43m)\u001b[49m\n\u001b[1;32m    154\u001b[0m     \u001b[38;5;28mprint\u001b[39m(child\u001b[38;5;241m.\u001b[39mbefore[out_size:]\u001b[38;5;241m.\u001b[39mdecode(enc, \u001b[38;5;124m'\u001b[39m\u001b[38;5;124mreplace\u001b[39m\u001b[38;5;124m'\u001b[39m), end\u001b[38;5;241m=\u001b[39m\u001b[38;5;124m'\u001b[39m\u001b[38;5;124m'\u001b[39m)\n\u001b[1;32m    155\u001b[0m     flush()\n",
      "File \u001b[0;32m/usr/local/lib/python3.10/site-packages/pexpect/spawnbase.py:372\u001b[0m, in \u001b[0;36mSpawnBase.expect_list\u001b[0;34m(self, pattern_list, timeout, searchwindowsize, async_, **kw)\u001b[0m\n\u001b[1;32m    370\u001b[0m     \u001b[38;5;28;01mreturn\u001b[39;00m expect_async(exp, timeout)\n\u001b[1;32m    371\u001b[0m \u001b[38;5;28;01melse\u001b[39;00m:\n\u001b[0;32m--> 372\u001b[0m     \u001b[38;5;28;01mreturn\u001b[39;00m \u001b[43mexp\u001b[49m\u001b[38;5;241;43m.\u001b[39;49m\u001b[43mexpect_loop\u001b[49m\u001b[43m(\u001b[49m\u001b[43mtimeout\u001b[49m\u001b[43m)\u001b[49m\n",
      "File \u001b[0;32m/usr/local/lib/python3.10/site-packages/pexpect/expect.py:169\u001b[0m, in \u001b[0;36mExpecter.expect_loop\u001b[0;34m(self, timeout)\u001b[0m\n\u001b[1;32m    167\u001b[0m     \u001b[38;5;28;01mreturn\u001b[39;00m \u001b[38;5;28mself\u001b[39m\u001b[38;5;241m.\u001b[39mtimeout()\n\u001b[1;32m    168\u001b[0m \u001b[38;5;66;03m# Still have time left, so read more data\u001b[39;00m\n\u001b[0;32m--> 169\u001b[0m incoming \u001b[38;5;241m=\u001b[39m \u001b[43mspawn\u001b[49m\u001b[38;5;241;43m.\u001b[39;49m\u001b[43mread_nonblocking\u001b[49m\u001b[43m(\u001b[49m\u001b[43mspawn\u001b[49m\u001b[38;5;241;43m.\u001b[39;49m\u001b[43mmaxread\u001b[49m\u001b[43m,\u001b[49m\u001b[43m \u001b[49m\u001b[43mtimeout\u001b[49m\u001b[43m)\u001b[49m\n\u001b[1;32m    170\u001b[0m \u001b[38;5;28;01mif\u001b[39;00m \u001b[38;5;28mself\u001b[39m\u001b[38;5;241m.\u001b[39mspawn\u001b[38;5;241m.\u001b[39mdelayafterread \u001b[38;5;129;01mis\u001b[39;00m \u001b[38;5;129;01mnot\u001b[39;00m \u001b[38;5;28;01mNone\u001b[39;00m:\n\u001b[1;32m    171\u001b[0m     time\u001b[38;5;241m.\u001b[39msleep(\u001b[38;5;28mself\u001b[39m\u001b[38;5;241m.\u001b[39mspawn\u001b[38;5;241m.\u001b[39mdelayafterread)\n",
      "File \u001b[0;32m/usr/local/lib/python3.10/site-packages/pexpect/pty_spawn.py:458\u001b[0m, in \u001b[0;36mspawn.read_nonblocking\u001b[0;34m(self, size, timeout)\u001b[0m\n\u001b[1;32m    450\u001b[0m         \u001b[38;5;28;01mreturn\u001b[39;00m select_ignore_interrupts([\u001b[38;5;28mself\u001b[39m\u001b[38;5;241m.\u001b[39mchild_fd], [], [], timeout)[\u001b[38;5;241m0\u001b[39m]\n\u001b[1;32m    452\u001b[0m \u001b[38;5;66;03m# If there is data available to read right now, read as much as\u001b[39;00m\n\u001b[1;32m    453\u001b[0m \u001b[38;5;66;03m# we can. We do this to increase performance if there are a lot\u001b[39;00m\n\u001b[1;32m    454\u001b[0m \u001b[38;5;66;03m# of bytes to be read. This also avoids calling isalive() too\u001b[39;00m\n\u001b[1;32m    455\u001b[0m \u001b[38;5;66;03m# often. See also:\u001b[39;00m\n\u001b[1;32m    456\u001b[0m \u001b[38;5;66;03m# * https://github.com/pexpect/pexpect/pull/304\u001b[39;00m\n\u001b[1;32m    457\u001b[0m \u001b[38;5;66;03m# * http://trac.sagemath.org/ticket/10295\u001b[39;00m\n\u001b[0;32m--> 458\u001b[0m \u001b[38;5;28;01mif\u001b[39;00m \u001b[43mselect\u001b[49m\u001b[43m(\u001b[49m\u001b[38;5;241;43m0\u001b[39;49m\u001b[43m)\u001b[49m:\n\u001b[1;32m    459\u001b[0m     \u001b[38;5;28;01mtry\u001b[39;00m:\n\u001b[1;32m    460\u001b[0m         incoming \u001b[38;5;241m=\u001b[39m \u001b[38;5;28msuper\u001b[39m(spawn, \u001b[38;5;28mself\u001b[39m)\u001b[38;5;241m.\u001b[39mread_nonblocking(size)\n",
      "File \u001b[0;32m/usr/local/lib/python3.10/site-packages/pexpect/pty_spawn.py:450\u001b[0m, in \u001b[0;36mspawn.read_nonblocking.<locals>.select\u001b[0;34m(timeout)\u001b[0m\n\u001b[1;32m    449\u001b[0m \u001b[38;5;28;01mdef\u001b[39;00m \u001b[38;5;21mselect\u001b[39m(timeout):\n\u001b[0;32m--> 450\u001b[0m     \u001b[38;5;28;01mreturn\u001b[39;00m \u001b[43mselect_ignore_interrupts\u001b[49m\u001b[43m(\u001b[49m\u001b[43m[\u001b[49m\u001b[38;5;28;43mself\u001b[39;49m\u001b[38;5;241;43m.\u001b[39;49m\u001b[43mchild_fd\u001b[49m\u001b[43m]\u001b[49m\u001b[43m,\u001b[49m\u001b[43m \u001b[49m\u001b[43m[\u001b[49m\u001b[43m]\u001b[49m\u001b[43m,\u001b[49m\u001b[43m \u001b[49m\u001b[43m[\u001b[49m\u001b[43m]\u001b[49m\u001b[43m,\u001b[49m\u001b[43m \u001b[49m\u001b[43mtimeout\u001b[49m\u001b[43m)\u001b[49m[\u001b[38;5;241m0\u001b[39m]\n",
      "File \u001b[0;32m/usr/local/lib/python3.10/site-packages/pexpect/utils.py:143\u001b[0m, in \u001b[0;36mselect_ignore_interrupts\u001b[0;34m(iwtd, owtd, ewtd, timeout)\u001b[0m\n\u001b[1;32m    141\u001b[0m \u001b[38;5;28;01mwhile\u001b[39;00m \u001b[38;5;28;01mTrue\u001b[39;00m:\n\u001b[1;32m    142\u001b[0m     \u001b[38;5;28;01mtry\u001b[39;00m:\n\u001b[0;32m--> 143\u001b[0m         \u001b[38;5;28;01mreturn\u001b[39;00m \u001b[43mselect\u001b[49m\u001b[38;5;241;43m.\u001b[39;49m\u001b[43mselect\u001b[49m\u001b[43m(\u001b[49m\u001b[43miwtd\u001b[49m\u001b[43m,\u001b[49m\u001b[43m \u001b[49m\u001b[43mowtd\u001b[49m\u001b[43m,\u001b[49m\u001b[43m \u001b[49m\u001b[43mewtd\u001b[49m\u001b[43m,\u001b[49m\u001b[43m \u001b[49m\u001b[43mtimeout\u001b[49m\u001b[43m)\u001b[49m\n\u001b[1;32m    144\u001b[0m     \u001b[38;5;28;01mexcept\u001b[39;00m \u001b[38;5;167;01mInterruptedError\u001b[39;00m:\n\u001b[1;32m    145\u001b[0m         err \u001b[38;5;241m=\u001b[39m sys\u001b[38;5;241m.\u001b[39mexc_info()[\u001b[38;5;241m1\u001b[39m]\n",
      "\u001b[0;31mValueError\u001b[0m: filedescriptor out of range in select()"
     ]
    }
   ],
   "source": [
    "!pip install p_tqdm"
   ]
  },
  {
   "cell_type": "code",
   "execution_count": 85,
   "metadata": {},
   "outputs": [
    {
     "ename": "ModuleNotFoundError",
     "evalue": "No module named 'p_tqdm'",
     "output_type": "error",
     "traceback": [
      "\u001b[0;31m---------------------------------------------------------------------------\u001b[0m",
      "\u001b[0;31mModuleNotFoundError\u001b[0m                       Traceback (most recent call last)",
      "Cell \u001b[0;32mIn[85], line 1\u001b[0m\n\u001b[0;32m----> 1\u001b[0m \u001b[38;5;28;01mfrom\u001b[39;00m \u001b[38;5;21;01mp_tqdm\u001b[39;00m \u001b[38;5;28;01mimport\u001b[39;00m p_map\n",
      "\u001b[0;31mModuleNotFoundError\u001b[0m: No module named 'p_tqdm'"
     ]
    }
   ],
   "source": [
    "from p_tqdm import p_map"
   ]
  },
  {
   "cell_type": "code",
   "execution_count": 78,
   "metadata": {},
   "outputs": [],
   "source": [
    "\n",
    "\n",
    "def augment_minority_samples(df_minority, alpha=0.1, n_aug=4, augmentations=[bert_aug, w2v_aug, random_swap_aug, random_delete_aug]):\n",
    "    n_aug_per_method = len(augmentations) // n_aug\n",
    "    for i in range(len(augmentations)):\n",
    "        augmentations[i].aug_p = alpha\n",
    "    \n",
    "    with mp.Pool(mp.cpu_count()) as p:\n",
    "        with tqdm(total=df_minority.shape[0]) as pbar:\n",
    "            aug_df_l = p.imap(process_data_point, [(i, df_minority, n_aug, augmentations, n_aug_per_method) for i in range(df_minority.shape[0])])\n",
    "\n",
    "    return pd.concat(aug_df_l).reset_index(drop=True)"
   ]
  },
  {
   "cell_type": "code",
   "execution_count": 80,
   "metadata": {},
   "outputs": [],
   "source": [
    "# df_minority_augmented = augment_minority_samples(df_train_minority)"
   ]
  },
  {
   "cell_type": "code",
   "execution_count": 83,
   "metadata": {},
   "outputs": [],
   "source": []
  },
  {
   "cell_type": "code",
   "execution_count": null,
   "metadata": {},
   "outputs": [],
   "source": []
  },
  {
   "cell_type": "code",
   "execution_count": null,
   "metadata": {},
   "outputs": [],
   "source": []
  },
  {
   "cell_type": "code",
   "execution_count": null,
   "metadata": {},
   "outputs": [],
   "source": []
  },
  {
   "cell_type": "code",
   "execution_count": null,
   "metadata": {},
   "outputs": [],
   "source": []
  },
  {
   "cell_type": "code",
   "execution_count": null,
   "metadata": {},
   "outputs": [],
   "source": []
  },
  {
   "cell_type": "code",
   "execution_count": null,
   "metadata": {},
   "outputs": [],
   "source": []
  },
  {
   "cell_type": "code",
   "execution_count": null,
   "metadata": {},
   "outputs": [],
   "source": []
  },
  {
   "cell_type": "code",
   "execution_count": null,
   "metadata": {},
   "outputs": [],
   "source": []
  },
  {
   "cell_type": "code",
   "execution_count": null,
   "metadata": {},
   "outputs": [],
   "source": []
  },
  {
   "cell_type": "code",
   "execution_count": null,
   "metadata": {},
   "outputs": [],
   "source": []
  },
  {
   "cell_type": "code",
   "execution_count": null,
   "metadata": {},
   "outputs": [],
   "source": []
  },
  {
   "cell_type": "code",
   "execution_count": null,
   "metadata": {},
   "outputs": [],
   "source": []
  },
  {
   "cell_type": "code",
   "execution_count": null,
   "metadata": {},
   "outputs": [],
   "source": []
  },
  {
   "cell_type": "code",
   "execution_count": 80,
   "metadata": {},
   "outputs": [],
   "source": [
    "# title = 'Multiple categories per message'\n",
    "# plt.figure(figsize=(10, 8))\n",
    "# count_labels_per_row = classes_df.sum(axis=1).to_frame(name='count_label')\n",
    "# count_plot = sb.countplot(data=count_labels_per_row, y='count_label', color=base_color);\n",
    "# plt.title(title);\n",
    "# save_figure(count_plot.get_figure(), title)"
   ]
  },
  {
   "cell_type": "code",
   "execution_count": null,
   "metadata": {},
   "outputs": [],
   "source": [
    "# class MLsmoteExtractor(BaseEstimator, TransformerMixin):\n",
    "    \n",
    "#     def __init__(self, n_sample, n_neighbors):\n",
    "#         self.n_sample = n_sample\n",
    "#         self.n_neighbors = n_neighbors\n",
    "    \n",
    "#     def fit(self, X, y):\n",
    "#         self.indices = nearest_neighbour(X, self.n_neighbors)\n",
    "#         return self\n",
    "    \n",
    "#     def transform(self, X, y):\n",
    "#         X_sub, y_sub = get_minority_samples(pd.DataFrame(X.toarray()), pd.DataFrame(y)) \n",
    "#         X_res, y_res = MLSMOTE(X_sub, y_sub, self.indices, self.n_sample)\n",
    "#         return np.vstack((X, np.array(X_res))), np.vstack((y, np.array(y_res)))"
   ]
  },
  {
   "cell_type": "code",
   "execution_count": 12,
   "metadata": {},
   "outputs": [],
   "source": [
    "# remove column with 0 data point\n",
    "\n",
    "# df_train = df_train.drop('child_alone', axis=1)\n",
    "\n",
    "# category_colnames = ['related', 'request', 'offer', 'aid_related', 'medical_help', 'medical_products', \n",
    "#                      'search_and_rescue', 'security', 'military', 'water', 'food', 'shelter', \n",
    "#                      'clothing', 'money', 'missing_people', 'refugees', 'death', 'other_aid', 'infrastructure_related', \n",
    "#                      'transport', 'buildings', 'electricity', 'tools', 'hospitals', 'shops', 'aid_centers', \n",
    "#                      'other_infrastructure', 'weather_related', 'floods', 'storm', 'fire', 'earthquake', 'cold', \n",
    "#                      'other_weather', 'direct_report']\n",
    "# base_categories = ['related', 'request', 'aid_related', 'water', 'food', 'offer']\n",
    "# specific_categories = list(set(category_colnames) - set(base_categories))\n",
    "\n",
    "# # preprocess train dataset\n",
    "# df_train['message'] = df_train['message'].apply(lambda x: [word for word in x if word not in ['http', 'co', '000', 'bit', 'ly', 'u', 'would', 'like', 'let', 'know', 'tell', 'port', 'au', 'prince', 'haiti', 'sri', 'lanka']])\n",
    "# for col in specific_categories:\n",
    "#     index = df_train[df_train[col] == 1].index\n",
    "#     df_train.loc[index, 'message'] = df_train.loc[index, 'message'].apply(lambda x: [word for word in x if word not in ['water', 'food', 'please', 'help', 'need']])\n",
    "    \n",
    "# df_train['message'] = df_train['message'].apply(lambda x: ' '.join([word for word in x]))\n",
    "# df_test['message'] = df_test['message'].apply(lambda x: ' '.join([word for word in x]))"
   ]
  },
  {
   "cell_type": "markdown",
   "metadata": {},
   "source": [
    "### 4. Train pipeline\n",
    "- Split data into train and test sets\n",
    "- Train pipeline"
   ]
  },
  {
   "cell_type": "code",
   "execution_count": null,
   "metadata": {},
   "outputs": [],
   "source": []
  },
  {
   "cell_type": "markdown",
   "metadata": {},
   "source": [
    "### 5. Test your model\n",
    "Report the f1 score, precision and recall for each output category of the dataset. You can do this by iterating through the columns and calling sklearn's `classification_report` on each."
   ]
  },
  {
   "cell_type": "code",
   "execution_count": null,
   "metadata": {},
   "outputs": [],
   "source": []
  },
  {
   "cell_type": "markdown",
   "metadata": {},
   "source": [
    "### 6. Improve your model\n",
    "Use grid search to find better parameters. "
   ]
  },
  {
   "cell_type": "code",
   "execution_count": null,
   "metadata": {},
   "outputs": [],
   "source": [
    "parameters = \n",
    "\n",
    "cv = "
   ]
  },
  {
   "cell_type": "markdown",
   "metadata": {},
   "source": [
    "### 7. Test your model\n",
    "Show the accuracy, precision, and recall of the tuned model.  \n",
    "\n",
    "Since this project focuses on code quality, process, and  pipelines, there is no minimum performance metric needed to pass. However, make sure to fine tune your models for accuracy, precision and recall to make your project stand out - especially for your portfolio!"
   ]
  },
  {
   "cell_type": "code",
   "execution_count": null,
   "metadata": {},
   "outputs": [],
   "source": []
  },
  {
   "cell_type": "markdown",
   "metadata": {},
   "source": [
    "### 8. Try improving your model further. Here are a few ideas:\n",
    "* try other machine learning algorithms\n",
    "* add other features besides the TF-IDF"
   ]
  },
  {
   "cell_type": "code",
   "execution_count": null,
   "metadata": {},
   "outputs": [],
   "source": []
  },
  {
   "cell_type": "markdown",
   "metadata": {},
   "source": [
    "### 9. Export your model as a pickle file"
   ]
  },
  {
   "cell_type": "code",
   "execution_count": null,
   "metadata": {},
   "outputs": [],
   "source": []
  },
  {
   "cell_type": "markdown",
   "metadata": {},
   "source": [
    "### 10. Use this notebook to complete `train.py`\n",
    "Use the template file attached in the Resources folder to write a script that runs the steps above to create a database and export a model based on a new dataset specified by the user."
   ]
  },
  {
   "cell_type": "code",
   "execution_count": null,
   "metadata": {},
   "outputs": [],
   "source": []
  }
 ],
 "metadata": {
  "instance_type": "ml.m5.4xlarge",
  "kernelspec": {
   "display_name": "Python 3 (Base Python 3.0)",
   "language": "python",
   "name": "python3__SAGEMAKER_INTERNAL__arn:aws:sagemaker:us-east-1:081325390199:image/sagemaker-base-python-310-v1"
  },
  "language_info": {
   "codemirror_mode": {
    "name": "ipython",
    "version": 3
   },
   "file_extension": ".py",
   "mimetype": "text/x-python",
   "name": "python",
   "nbconvert_exporter": "python",
   "pygments_lexer": "ipython3",
   "version": "3.10.8"
  }
 },
 "nbformat": 4,
 "nbformat_minor": 4
}
